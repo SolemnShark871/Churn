{
  "cells": [
    {
      "cell_type": "markdown",
      "metadata": {
        "id": "view-in-github",
        "colab_type": "text"
      },
      "source": [
        "<a href=\"https://colab.research.google.com/github/SolemnShark871/Churn/blob/main/LogReg.ipynb\" target=\"_parent\"><img src=\"https://colab.research.google.com/assets/colab-badge.svg\" alt=\"Open In Colab\"/></a>"
      ]
    },
    {
      "cell_type": "code",
      "execution_count": null,
      "metadata": {
        "colab": {
          "base_uri": "https://localhost:8080/"
        },
        "id": "9yS_XJhq1xwz",
        "outputId": "fb1e5086-0a1d-4aa2-9d7f-47162b448521"
      },
      "outputs": [
        {
          "output_type": "stream",
          "name": "stdout",
          "text": [
            "Mounted at /content/drive\n"
          ]
        },
        {
          "output_type": "execute_result",
          "data": {
            "text/plain": [
              "['personas_retiradas.csv',\n",
              " 'non_retired_people.csv',\n",
              " 'retired_people.csv',\n",
              " 'Datasets_Churn.ipynb',\n",
              " 'ML models.ipynb',\n",
              " 'Images',\n",
              " 'Copy of Spotify challenge.ipynb',\n",
              " 'not_scaled_not_pca_merged.csv',\n",
              " 'pca_merged_scaled.csv',\n",
              " 'not_scaled_not_lambda_merged.csv',\n",
              " 'standarised_not_pca_merged.csv',\n",
              " 'pca_merged_standarised.csv',\n",
              " 'standarised_not_lambda_not_pca_merged.csv',\n",
              " 'pca_unbiased.csv',\n",
              " 'Data_exploration.ipynb',\n",
              " 'LogReg.ipynb',\n",
              " 'NN model.ipynb',\n",
              " 'SVM_Model.ipynb']"
            ]
          },
          "metadata": {},
          "execution_count": 1
        }
      ],
      "source": [
        "# !pip install pandas-profiling==2.7.1\n",
        "## General packages\n",
        "import pandas as pd\n",
        "import numpy as np\n",
        "import os\n",
        "import math\n",
        "import seaborn as sn\n",
        "from google.colab import drive\n",
        "from pandas_profiling import ProfileReport\n",
        "import matplotlib as mpl\n",
        "import matplotlib.pyplot as plt\n",
        "\n",
        "## Machine learning packages\n",
        "from sklearn.utils import shuffle\n",
        "from sklearn.preprocessing import StandardScaler, MinMaxScaler\n",
        "from sklearn import metrics\n",
        "from sklearn.metrics import f1_score, roc_auc_score, silhouette_score, confusion_matrix, recall_score, precision_score\n",
        "from sklearn.metrics import classification_report, accuracy_score, plot_confusion_matrix, ConfusionMatrixDisplay\n",
        "from sklearn.linear_model import LogisticRegression\n",
        "from sklearn.model_selection import GridSearchCV, train_test_split # Revisar esta librería.\n",
        "from sklearn.neural_network import MLPClassifier\n",
        "from sklearn.cluster import KMeans \n",
        "from sklearn.tree import DecisionTreeClassifier\n",
        "from sklearn import tree\n",
        "\n",
        "from IPython.display import Image  \n",
        "from sklearn.tree import export_graphviz\n",
        "import graphviz\n",
        "import pydotplus\n",
        "\n",
        "## Neural networks packages\n",
        "import tensorflow as tf\n",
        "from tensorflow.keras.initializers import HeNormal, HeUniform, GlorotNormal, GlorotUniform\n",
        "from tensorflow.keras.optimizers import SGD, Adam\n",
        "from keras import layers, models\n",
        "from keras.layers import Dense, Dropout\n",
        "from keras.models import Sequential\n",
        "from tensorflow.keras.utils import to_categorical\n",
        "from keras.utils.vis_utils import plot_model\n",
        "from keras.constraints import maxnorm\n",
        "from tensorflow.keras.wrappers.scikit_learn import KerasClassifier\n",
        "\n",
        "## Validación\n",
        "from sklearn.pipeline import Pipeline, FeatureUnion\n",
        "\n",
        "drive.mount('/content/drive', force_remount = True)\n",
        "os.chdir('/content/drive/MyDrive/Churn') #Thomas & Favio & Juan\n",
        "\n",
        "os.listdir(\"./\")"
      ]
    },
    {
      "cell_type": "markdown",
      "metadata": {
        "id": "CVA_E6HFjpO8"
      },
      "source": [
        "# ML models"
      ]
    },
    {
      "cell_type": "markdown",
      "metadata": {
        "id": "qlmtJbjlbSfh"
      },
      "source": [
        "## Logistic regression"
      ]
    },
    {
      "cell_type": "markdown",
      "metadata": {
        "id": "MJtV-gwtbXYj"
      },
      "source": [
        "### Data inporting"
      ]
    },
    {
      "cell_type": "code",
      "execution_count": null,
      "metadata": {
        "colab": {
          "base_uri": "https://localhost:8080/",
          "height": 317
        },
        "id": "l2ZrzbeIj0Mu",
        "outputId": "e5cb2d79-ccc5-4115-c9ee-f07674b781aa"
      },
      "outputs": [
        {
          "output_type": "execute_result",
          "data": {
            "text/html": [
              "\n",
              "  <div id=\"df-35b3fc92-6c12-48ff-a7a0-e7fb656d484d\">\n",
              "    <div class=\"colab-df-container\">\n",
              "      <div>\n",
              "<style scoped>\n",
              "    .dataframe tbody tr th:only-of-type {\n",
              "        vertical-align: middle;\n",
              "    }\n",
              "\n",
              "    .dataframe tbody tr th {\n",
              "        vertical-align: top;\n",
              "    }\n",
              "\n",
              "    .dataframe thead th {\n",
              "        text-align: right;\n",
              "    }\n",
              "</style>\n",
              "<table border=\"1\" class=\"dataframe\">\n",
              "  <thead>\n",
              "    <tr style=\"text-align: right;\">\n",
              "      <th></th>\n",
              "      <th>AC_TP</th>\n",
              "      <th>ADM_TP</th>\n",
              "      <th>AI_TP</th>\n",
              "      <th>AP_TP</th>\n",
              "      <th>CO_TP</th>\n",
              "      <th>CU_TP</th>\n",
              "      <th>HD_TP</th>\n",
              "      <th>IN_TP</th>\n",
              "      <th>NE_TP</th>\n",
              "      <th>OP_TP</th>\n",
              "      <th>PD_TP</th>\n",
              "      <th>PM_TP</th>\n",
              "      <th>PR_TP</th>\n",
              "      <th>SE_TP</th>\n",
              "      <th>SM_TP</th>\n",
              "      <th>SO_TP</th>\n",
              "      <th>TD_TP</th>\n",
              "      <th>ASIGNACIONES_FACTURADAS</th>\n",
              "      <th>ASIGNACIONES_NO_FACTURADAS</th>\n",
              "      <th>AC_HR</th>\n",
              "      <th>ADM_HR</th>\n",
              "      <th>AI_HR</th>\n",
              "      <th>AP_HR</th>\n",
              "      <th>CO_HR</th>\n",
              "      <th>CU_HR</th>\n",
              "      <th>HD_HR</th>\n",
              "      <th>IN_HR</th>\n",
              "      <th>NE_HR</th>\n",
              "      <th>OP_HR</th>\n",
              "      <th>PD_HR</th>\n",
              "      <th>PM_HR</th>\n",
              "      <th>PR_HR</th>\n",
              "      <th>SE_HR</th>\n",
              "      <th>SM_HR</th>\n",
              "      <th>SO_HR</th>\n",
              "      <th>TD_HR</th>\n",
              "      <th>.NET</th>\n",
              "      <th>.NET Core</th>\n",
              "      <th>ANGULAR</th>\n",
              "      <th>AWS</th>\n",
              "      <th>...</th>\n",
              "      <th>8</th>\n",
              "      <th>9</th>\n",
              "      <th>28</th>\n",
              "      <th>31</th>\n",
              "      <th>35</th>\n",
              "      <th>41</th>\n",
              "      <th>45</th>\n",
              "      <th>56</th>\n",
              "      <th>59</th>\n",
              "      <th>AC_PN</th>\n",
              "      <th>ADM_PN</th>\n",
              "      <th>AI_PN</th>\n",
              "      <th>AP_PN</th>\n",
              "      <th>CO_PN</th>\n",
              "      <th>HD_PN</th>\n",
              "      <th>IN_PN</th>\n",
              "      <th>NE_PN</th>\n",
              "      <th>OP_PN</th>\n",
              "      <th>PD_PN</th>\n",
              "      <th>PM_PN</th>\n",
              "      <th>SE_PN</th>\n",
              "      <th>SM_PN</th>\n",
              "      <th>SO_PN</th>\n",
              "      <th>TD_PN</th>\n",
              "      <th>ADM_RS</th>\n",
              "      <th>AP_RS</th>\n",
              "      <th>CO_RS</th>\n",
              "      <th>HD_RS</th>\n",
              "      <th>IN_RS</th>\n",
              "      <th>NE_RS</th>\n",
              "      <th>OP_RS</th>\n",
              "      <th>PD_RS</th>\n",
              "      <th>PM_RS</th>\n",
              "      <th>SE_RS</th>\n",
              "      <th>SM_RS</th>\n",
              "      <th>SO_RS</th>\n",
              "      <th>EDAD</th>\n",
              "      <th>GENERO</th>\n",
              "      <th>TIEMPO_EMP</th>\n",
              "      <th>LABEL</th>\n",
              "    </tr>\n",
              "  </thead>\n",
              "  <tbody>\n",
              "    <tr>\n",
              "      <th>0</th>\n",
              "      <td>-0.200282</td>\n",
              "      <td>-0.219063</td>\n",
              "      <td>-0.10101</td>\n",
              "      <td>-0.496739</td>\n",
              "      <td>-0.195882</td>\n",
              "      <td>-0.025777</td>\n",
              "      <td>-0.073078</td>\n",
              "      <td>-0.194041</td>\n",
              "      <td>-0.183814</td>\n",
              "      <td>-0.325751</td>\n",
              "      <td>-0.17187</td>\n",
              "      <td>0.212467</td>\n",
              "      <td>-0.110393</td>\n",
              "      <td>-0.108789</td>\n",
              "      <td>-0.479787</td>\n",
              "      <td>0.13770</td>\n",
              "      <td>-0.032492</td>\n",
              "      <td>-0.514053</td>\n",
              "      <td>-0.178687</td>\n",
              "      <td>-0.039203</td>\n",
              "      <td>-0.677819</td>\n",
              "      <td>-0.080089</td>\n",
              "      <td>-0.624733</td>\n",
              "      <td>-0.192155</td>\n",
              "      <td>-0.025777</td>\n",
              "      <td>-0.048189</td>\n",
              "      <td>-0.154248</td>\n",
              "      <td>-0.19314</td>\n",
              "      <td>-0.520025</td>\n",
              "      <td>-0.140103</td>\n",
              "      <td>-0.237256</td>\n",
              "      <td>-0.057693</td>\n",
              "      <td>-0.101167</td>\n",
              "      <td>-0.540884</td>\n",
              "      <td>7.931246</td>\n",
              "      <td>-0.025777</td>\n",
              "      <td>-0.383045</td>\n",
              "      <td>-0.20007</td>\n",
              "      <td>-0.380659</td>\n",
              "      <td>-0.232068</td>\n",
              "      <td>...</td>\n",
              "      <td>-0.025777</td>\n",
              "      <td>-0.025777</td>\n",
              "      <td>-0.025777</td>\n",
              "      <td>-0.025777</td>\n",
              "      <td>-0.025777</td>\n",
              "      <td>-0.025777</td>\n",
              "      <td>-0.025777</td>\n",
              "      <td>-0.025777</td>\n",
              "      <td>-0.025777</td>\n",
              "      <td>-0.052142</td>\n",
              "      <td>-0.175121</td>\n",
              "      <td>-0.052672</td>\n",
              "      <td>-0.399244</td>\n",
              "      <td>-0.065226</td>\n",
              "      <td>-0.073078</td>\n",
              "      <td>-0.133157</td>\n",
              "      <td>-0.119094</td>\n",
              "      <td>-0.305282</td>\n",
              "      <td>-0.114162</td>\n",
              "      <td>2.884840</td>\n",
              "      <td>-0.079466</td>\n",
              "      <td>-0.367138</td>\n",
              "      <td>-0.098722</td>\n",
              "      <td>-0.032492</td>\n",
              "      <td>-0.175894</td>\n",
              "      <td>-0.394910</td>\n",
              "      <td>-0.057356</td>\n",
              "      <td>-0.070097</td>\n",
              "      <td>-0.098588</td>\n",
              "      <td>-0.140187</td>\n",
              "      <td>-0.270758</td>\n",
              "      <td>-0.102972</td>\n",
              "      <td>-0.075437</td>\n",
              "      <td>-0.055179</td>\n",
              "      <td>-0.382135</td>\n",
              "      <td>-0.0446</td>\n",
              "      <td>1.807278</td>\n",
              "      <td>-0.634220</td>\n",
              "      <td>4.178023</td>\n",
              "      <td>1</td>\n",
              "    </tr>\n",
              "    <tr>\n",
              "      <th>1</th>\n",
              "      <td>2.084749</td>\n",
              "      <td>1.246632</td>\n",
              "      <td>-0.10101</td>\n",
              "      <td>0.293844</td>\n",
              "      <td>1.760340</td>\n",
              "      <td>-0.025777</td>\n",
              "      <td>-0.073078</td>\n",
              "      <td>-0.194041</td>\n",
              "      <td>-0.183814</td>\n",
              "      <td>0.017193</td>\n",
              "      <td>-0.17187</td>\n",
              "      <td>-0.065289</td>\n",
              "      <td>-0.110393</td>\n",
              "      <td>-0.108789</td>\n",
              "      <td>-0.244349</td>\n",
              "      <td>0.69742</td>\n",
              "      <td>-0.032492</td>\n",
              "      <td>-0.119340</td>\n",
              "      <td>1.631210</td>\n",
              "      <td>-0.039203</td>\n",
              "      <td>0.838080</td>\n",
              "      <td>-0.080089</td>\n",
              "      <td>-0.274805</td>\n",
              "      <td>2.863650</td>\n",
              "      <td>-0.025777</td>\n",
              "      <td>-0.048189</td>\n",
              "      <td>-0.154248</td>\n",
              "      <td>-0.19314</td>\n",
              "      <td>0.761099</td>\n",
              "      <td>-0.140103</td>\n",
              "      <td>-0.085454</td>\n",
              "      <td>-0.057693</td>\n",
              "      <td>-0.101167</td>\n",
              "      <td>-0.534314</td>\n",
              "      <td>-0.184370</td>\n",
              "      <td>-0.025777</td>\n",
              "      <td>-0.014911</td>\n",
              "      <td>-0.20007</td>\n",
              "      <td>-0.380659</td>\n",
              "      <td>-0.232068</td>\n",
              "      <td>...</td>\n",
              "      <td>-0.025777</td>\n",
              "      <td>38.794329</td>\n",
              "      <td>-0.025777</td>\n",
              "      <td>-0.025777</td>\n",
              "      <td>-0.025777</td>\n",
              "      <td>-0.025777</td>\n",
              "      <td>-0.025777</td>\n",
              "      <td>-0.025777</td>\n",
              "      <td>-0.025777</td>\n",
              "      <td>-0.052142</td>\n",
              "      <td>-0.104729</td>\n",
              "      <td>-0.052672</td>\n",
              "      <td>-0.211447</td>\n",
              "      <td>-0.065226</td>\n",
              "      <td>-0.073078</td>\n",
              "      <td>-0.133157</td>\n",
              "      <td>-0.119094</td>\n",
              "      <td>-0.305282</td>\n",
              "      <td>-0.114162</td>\n",
              "      <td>-0.157135</td>\n",
              "      <td>-0.079466</td>\n",
              "      <td>-0.367138</td>\n",
              "      <td>1.717158</td>\n",
              "      <td>-0.032492</td>\n",
              "      <td>5.230148</td>\n",
              "      <td>0.078924</td>\n",
              "      <td>-0.057356</td>\n",
              "      <td>-0.070097</td>\n",
              "      <td>-0.098588</td>\n",
              "      <td>-0.140187</td>\n",
              "      <td>-0.270758</td>\n",
              "      <td>-0.102972</td>\n",
              "      <td>-0.075437</td>\n",
              "      <td>-0.055179</td>\n",
              "      <td>-0.382135</td>\n",
              "      <td>-0.0446</td>\n",
              "      <td>1.561953</td>\n",
              "      <td>1.576741</td>\n",
              "      <td>2.955760</td>\n",
              "      <td>1</td>\n",
              "    </tr>\n",
              "    <tr>\n",
              "      <th>2</th>\n",
              "      <td>-0.200282</td>\n",
              "      <td>0.163292</td>\n",
              "      <td>-0.10101</td>\n",
              "      <td>-0.299094</td>\n",
              "      <td>-0.195882</td>\n",
              "      <td>-0.025777</td>\n",
              "      <td>-0.073078</td>\n",
              "      <td>-0.194041</td>\n",
              "      <td>-0.183814</td>\n",
              "      <td>-0.325751</td>\n",
              "      <td>-0.17187</td>\n",
              "      <td>1.045736</td>\n",
              "      <td>-0.110393</td>\n",
              "      <td>-0.108789</td>\n",
              "      <td>-0.479787</td>\n",
              "      <td>-0.14216</td>\n",
              "      <td>-0.032492</td>\n",
              "      <td>-0.514053</td>\n",
              "      <td>-0.242193</td>\n",
              "      <td>-0.039203</td>\n",
              "      <td>2.930039</td>\n",
              "      <td>-0.080089</td>\n",
              "      <td>-0.624733</td>\n",
              "      <td>-0.192155</td>\n",
              "      <td>-0.025777</td>\n",
              "      <td>-0.048189</td>\n",
              "      <td>-0.154248</td>\n",
              "      <td>-0.19314</td>\n",
              "      <td>-0.520025</td>\n",
              "      <td>-0.140103</td>\n",
              "      <td>0.019087</td>\n",
              "      <td>-0.057693</td>\n",
              "      <td>-0.101167</td>\n",
              "      <td>-0.540884</td>\n",
              "      <td>-0.184370</td>\n",
              "      <td>-0.025777</td>\n",
              "      <td>-0.383045</td>\n",
              "      <td>-0.20007</td>\n",
              "      <td>0.027655</td>\n",
              "      <td>1.236398</td>\n",
              "      <td>...</td>\n",
              "      <td>-0.025777</td>\n",
              "      <td>-0.025777</td>\n",
              "      <td>-0.025777</td>\n",
              "      <td>-0.025777</td>\n",
              "      <td>-0.025777</td>\n",
              "      <td>-0.025777</td>\n",
              "      <td>-0.025777</td>\n",
              "      <td>-0.025777</td>\n",
              "      <td>-0.025777</td>\n",
              "      <td>-0.052142</td>\n",
              "      <td>0.003912</td>\n",
              "      <td>-0.052672</td>\n",
              "      <td>-0.080805</td>\n",
              "      <td>-0.065226</td>\n",
              "      <td>-0.073078</td>\n",
              "      <td>-0.133157</td>\n",
              "      <td>-0.119094</td>\n",
              "      <td>-0.305282</td>\n",
              "      <td>-0.114162</td>\n",
              "      <td>-0.052239</td>\n",
              "      <td>-0.079466</td>\n",
              "      <td>-0.367138</td>\n",
              "      <td>-0.098722</td>\n",
              "      <td>-0.032492</td>\n",
              "      <td>-0.175894</td>\n",
              "      <td>0.006026</td>\n",
              "      <td>-0.057356</td>\n",
              "      <td>-0.070097</td>\n",
              "      <td>-0.098588</td>\n",
              "      <td>-0.140187</td>\n",
              "      <td>-0.270758</td>\n",
              "      <td>-0.102972</td>\n",
              "      <td>-0.075437</td>\n",
              "      <td>-0.055179</td>\n",
              "      <td>-0.382135</td>\n",
              "      <td>-0.0446</td>\n",
              "      <td>0.948640</td>\n",
              "      <td>-0.634220</td>\n",
              "      <td>4.015054</td>\n",
              "      <td>1</td>\n",
              "    </tr>\n",
              "    <tr>\n",
              "      <th>3</th>\n",
              "      <td>-0.200282</td>\n",
              "      <td>0.322607</td>\n",
              "      <td>-0.10101</td>\n",
              "      <td>1.282073</td>\n",
              "      <td>2.151584</td>\n",
              "      <td>-0.025777</td>\n",
              "      <td>-0.073078</td>\n",
              "      <td>-0.194041</td>\n",
              "      <td>-0.183814</td>\n",
              "      <td>0.531609</td>\n",
              "      <td>-0.17187</td>\n",
              "      <td>-0.343046</td>\n",
              "      <td>-0.110393</td>\n",
              "      <td>-0.108789</td>\n",
              "      <td>3.758100</td>\n",
              "      <td>-0.14216</td>\n",
              "      <td>-0.032492</td>\n",
              "      <td>1.854226</td>\n",
              "      <td>1.059663</td>\n",
              "      <td>-0.039203</td>\n",
              "      <td>-0.396007</td>\n",
              "      <td>-0.080089</td>\n",
              "      <td>0.538652</td>\n",
              "      <td>0.256030</td>\n",
              "      <td>-0.025777</td>\n",
              "      <td>-0.048189</td>\n",
              "      <td>-0.154248</td>\n",
              "      <td>-0.19314</td>\n",
              "      <td>-0.318826</td>\n",
              "      <td>-0.140103</td>\n",
              "      <td>-0.247376</td>\n",
              "      <td>-0.057693</td>\n",
              "      <td>-0.101167</td>\n",
              "      <td>1.416854</td>\n",
              "      <td>-0.184370</td>\n",
              "      <td>-0.025777</td>\n",
              "      <td>1.825759</td>\n",
              "      <td>-0.20007</td>\n",
              "      <td>-0.380659</td>\n",
              "      <td>-0.232068</td>\n",
              "      <td>...</td>\n",
              "      <td>-0.025777</td>\n",
              "      <td>-0.025777</td>\n",
              "      <td>38.794329</td>\n",
              "      <td>-0.025777</td>\n",
              "      <td>-0.025777</td>\n",
              "      <td>-0.025777</td>\n",
              "      <td>-0.025777</td>\n",
              "      <td>-0.025777</td>\n",
              "      <td>-0.025777</td>\n",
              "      <td>-0.052142</td>\n",
              "      <td>-0.055698</td>\n",
              "      <td>-0.052672</td>\n",
              "      <td>0.319284</td>\n",
              "      <td>-0.065226</td>\n",
              "      <td>-0.073078</td>\n",
              "      <td>-0.133157</td>\n",
              "      <td>-0.119094</td>\n",
              "      <td>-0.188555</td>\n",
              "      <td>-0.114162</td>\n",
              "      <td>-0.157135</td>\n",
              "      <td>-0.079466</td>\n",
              "      <td>1.150859</td>\n",
              "      <td>-0.098722</td>\n",
              "      <td>-0.032492</td>\n",
              "      <td>-0.175894</td>\n",
              "      <td>-0.103320</td>\n",
              "      <td>-0.057356</td>\n",
              "      <td>-0.070097</td>\n",
              "      <td>-0.098588</td>\n",
              "      <td>-0.140187</td>\n",
              "      <td>0.962845</td>\n",
              "      <td>-0.102972</td>\n",
              "      <td>-0.075437</td>\n",
              "      <td>-0.055179</td>\n",
              "      <td>4.281920</td>\n",
              "      <td>-0.0446</td>\n",
              "      <td>0.825977</td>\n",
              "      <td>-0.634220</td>\n",
              "      <td>2.358209</td>\n",
              "      <td>1</td>\n",
              "    </tr>\n",
              "    <tr>\n",
              "      <th>4</th>\n",
              "      <td>-0.200282</td>\n",
              "      <td>-0.569555</td>\n",
              "      <td>-0.10101</td>\n",
              "      <td>-0.496739</td>\n",
              "      <td>-0.195882</td>\n",
              "      <td>-0.025777</td>\n",
              "      <td>-0.073078</td>\n",
              "      <td>-0.194041</td>\n",
              "      <td>-0.183814</td>\n",
              "      <td>-0.325751</td>\n",
              "      <td>-0.17187</td>\n",
              "      <td>-0.343046</td>\n",
              "      <td>-0.110393</td>\n",
              "      <td>-0.108789</td>\n",
              "      <td>-0.479787</td>\n",
              "      <td>-0.14216</td>\n",
              "      <td>-0.032492</td>\n",
              "      <td>-0.645624</td>\n",
              "      <td>-0.369203</td>\n",
              "      <td>0.126899</td>\n",
              "      <td>2.521268</td>\n",
              "      <td>-0.080089</td>\n",
              "      <td>-0.624733</td>\n",
              "      <td>-0.192155</td>\n",
              "      <td>-0.025777</td>\n",
              "      <td>-0.048189</td>\n",
              "      <td>-0.154248</td>\n",
              "      <td>-0.19314</td>\n",
              "      <td>-0.515346</td>\n",
              "      <td>-0.140103</td>\n",
              "      <td>-0.156295</td>\n",
              "      <td>-0.057693</td>\n",
              "      <td>-0.101167</td>\n",
              "      <td>-0.540884</td>\n",
              "      <td>0.532905</td>\n",
              "      <td>-0.025777</td>\n",
              "      <td>-0.383045</td>\n",
              "      <td>-0.20007</td>\n",
              "      <td>-0.380659</td>\n",
              "      <td>-0.232068</td>\n",
              "      <td>...</td>\n",
              "      <td>-0.025777</td>\n",
              "      <td>-0.025777</td>\n",
              "      <td>-0.025777</td>\n",
              "      <td>-0.025777</td>\n",
              "      <td>-0.025777</td>\n",
              "      <td>-0.025777</td>\n",
              "      <td>38.794329</td>\n",
              "      <td>-0.025777</td>\n",
              "      <td>-0.025777</td>\n",
              "      <td>-0.052142</td>\n",
              "      <td>-0.228221</td>\n",
              "      <td>-0.052672</td>\n",
              "      <td>-0.399244</td>\n",
              "      <td>-0.065226</td>\n",
              "      <td>-0.073078</td>\n",
              "      <td>-0.133157</td>\n",
              "      <td>-0.119094</td>\n",
              "      <td>-0.305282</td>\n",
              "      <td>-0.114162</td>\n",
              "      <td>-0.157135</td>\n",
              "      <td>-0.079466</td>\n",
              "      <td>-0.367138</td>\n",
              "      <td>-0.098722</td>\n",
              "      <td>-0.032492</td>\n",
              "      <td>-0.175894</td>\n",
              "      <td>-0.394910</td>\n",
              "      <td>-0.057356</td>\n",
              "      <td>-0.070097</td>\n",
              "      <td>-0.098588</td>\n",
              "      <td>-0.140187</td>\n",
              "      <td>-0.270758</td>\n",
              "      <td>-0.102972</td>\n",
              "      <td>-0.075437</td>\n",
              "      <td>-0.055179</td>\n",
              "      <td>-0.382135</td>\n",
              "      <td>-0.0446</td>\n",
              "      <td>0.703315</td>\n",
              "      <td>-0.634220</td>\n",
              "      <td>3.770602</td>\n",
              "      <td>1</td>\n",
              "    </tr>\n",
              "  </tbody>\n",
              "</table>\n",
              "<p>5 rows × 436 columns</p>\n",
              "</div>\n",
              "      <button class=\"colab-df-convert\" onclick=\"convertToInteractive('df-35b3fc92-6c12-48ff-a7a0-e7fb656d484d')\"\n",
              "              title=\"Convert this dataframe to an interactive table.\"\n",
              "              style=\"display:none;\">\n",
              "        \n",
              "  <svg xmlns=\"http://www.w3.org/2000/svg\" height=\"24px\"viewBox=\"0 0 24 24\"\n",
              "       width=\"24px\">\n",
              "    <path d=\"M0 0h24v24H0V0z\" fill=\"none\"/>\n",
              "    <path d=\"M18.56 5.44l.94 2.06.94-2.06 2.06-.94-2.06-.94-.94-2.06-.94 2.06-2.06.94zm-11 1L8.5 8.5l.94-2.06 2.06-.94-2.06-.94L8.5 2.5l-.94 2.06-2.06.94zm10 10l.94 2.06.94-2.06 2.06-.94-2.06-.94-.94-2.06-.94 2.06-2.06.94z\"/><path d=\"M17.41 7.96l-1.37-1.37c-.4-.4-.92-.59-1.43-.59-.52 0-1.04.2-1.43.59L10.3 9.45l-7.72 7.72c-.78.78-.78 2.05 0 2.83L4 21.41c.39.39.9.59 1.41.59.51 0 1.02-.2 1.41-.59l7.78-7.78 2.81-2.81c.8-.78.8-2.07 0-2.86zM5.41 20L4 18.59l7.72-7.72 1.47 1.35L5.41 20z\"/>\n",
              "  </svg>\n",
              "      </button>\n",
              "      \n",
              "  <style>\n",
              "    .colab-df-container {\n",
              "      display:flex;\n",
              "      flex-wrap:wrap;\n",
              "      gap: 12px;\n",
              "    }\n",
              "\n",
              "    .colab-df-convert {\n",
              "      background-color: #E8F0FE;\n",
              "      border: none;\n",
              "      border-radius: 50%;\n",
              "      cursor: pointer;\n",
              "      display: none;\n",
              "      fill: #1967D2;\n",
              "      height: 32px;\n",
              "      padding: 0 0 0 0;\n",
              "      width: 32px;\n",
              "    }\n",
              "\n",
              "    .colab-df-convert:hover {\n",
              "      background-color: #E2EBFA;\n",
              "      box-shadow: 0px 1px 2px rgba(60, 64, 67, 0.3), 0px 1px 3px 1px rgba(60, 64, 67, 0.15);\n",
              "      fill: #174EA6;\n",
              "    }\n",
              "\n",
              "    [theme=dark] .colab-df-convert {\n",
              "      background-color: #3B4455;\n",
              "      fill: #D2E3FC;\n",
              "    }\n",
              "\n",
              "    [theme=dark] .colab-df-convert:hover {\n",
              "      background-color: #434B5C;\n",
              "      box-shadow: 0px 1px 3px 1px rgba(0, 0, 0, 0.15);\n",
              "      filter: drop-shadow(0px 1px 2px rgba(0, 0, 0, 0.3));\n",
              "      fill: #FFFFFF;\n",
              "    }\n",
              "  </style>\n",
              "\n",
              "      <script>\n",
              "        const buttonEl =\n",
              "          document.querySelector('#df-35b3fc92-6c12-48ff-a7a0-e7fb656d484d button.colab-df-convert');\n",
              "        buttonEl.style.display =\n",
              "          google.colab.kernel.accessAllowed ? 'block' : 'none';\n",
              "\n",
              "        async function convertToInteractive(key) {\n",
              "          const element = document.querySelector('#df-35b3fc92-6c12-48ff-a7a0-e7fb656d484d');\n",
              "          const dataTable =\n",
              "            await google.colab.kernel.invokeFunction('convertToInteractive',\n",
              "                                                     [key], {});\n",
              "          if (!dataTable) return;\n",
              "\n",
              "          const docLinkHtml = 'Like what you see? Visit the ' +\n",
              "            '<a target=\"_blank\" href=https://colab.research.google.com/notebooks/data_table.ipynb>data table notebook</a>'\n",
              "            + ' to learn more about interactive tables.';\n",
              "          element.innerHTML = '';\n",
              "          dataTable['output_type'] = 'display_data';\n",
              "          await google.colab.output.renderOutput(dataTable, element);\n",
              "          const docLink = document.createElement('div');\n",
              "          docLink.innerHTML = docLinkHtml;\n",
              "          element.appendChild(docLink);\n",
              "        }\n",
              "      </script>\n",
              "    </div>\n",
              "  </div>\n",
              "  "
            ],
            "text/plain": [
              "      AC_TP    ADM_TP    AI_TP     AP_TP  ...      EDAD    GENERO  TIEMPO_EMP  LABEL\n",
              "0 -0.200282 -0.219063 -0.10101 -0.496739  ...  1.807278 -0.634220    4.178023      1\n",
              "1  2.084749  1.246632 -0.10101  0.293844  ...  1.561953  1.576741    2.955760      1\n",
              "2 -0.200282  0.163292 -0.10101 -0.299094  ...  0.948640 -0.634220    4.015054      1\n",
              "3 -0.200282  0.322607 -0.10101  1.282073  ...  0.825977 -0.634220    2.358209      1\n",
              "4 -0.200282 -0.569555 -0.10101 -0.496739  ...  0.703315 -0.634220    3.770602      1\n",
              "\n",
              "[5 rows x 436 columns]"
            ]
          },
          "metadata": {},
          "execution_count": 29
        }
      ],
      "source": [
        "#Inport the csv with the dataset\n",
        "df_lambda = pd.read_csv('standarised_not_lambda_not_pca_merged.csv', index_col = [0])\n",
        "df_lambda.head()"
      ]
    },
    {
      "cell_type": "code",
      "execution_count": null,
      "metadata": {
        "id": "kv76T9rwbh2X"
      },
      "outputs": [],
      "source": [
        "#Creating the training, testing and validation subsets\n",
        "X = df_lambda.drop(['LABEL'], axis = 1)\n",
        "y = df_lambda['LABEL']\n",
        "\n",
        "#80% Train, 20% Test, 20% Validation\n",
        "X_train, X_test, y_train, y_test = train_test_split(X, y, test_size = 0.2, random_state = 1234, stratify = y)\n",
        "X_train, X_val, y_train, y_val = train_test_split(X_train, y_train, test_size = 0.2, random_state = 1234, stratify = y_train)"
      ]
    },
    {
      "cell_type": "code",
      "execution_count": null,
      "metadata": {
        "colab": {
          "base_uri": "https://localhost:8080/"
        },
        "id": "cvrKq0K4bint",
        "outputId": "ef38a01d-29c9-4291-ed47-f8d17e93a1f5"
      },
      "outputs": [
        {
          "output_type": "execute_result",
          "data": {
            "text/plain": [
              "AC_TP      ADM_TP     AI_TP     AP_TP      CO_TP      CU_TP      HD_TP      IN_TP      NE_TP      OP_TP      PD_TP     PM_TP      PR_TP      SE_TP      SM_TP      SO_TP     TD_TP      ASIGNACIONES_FACTURADAS  ASIGNACIONES_NO_FACTURADAS  AC_HR      ADM_HR     AI_HR      AP_HR      CO_HR      CU_HR      HD_HR      IN_HR      NE_HR     OP_HR      PD_HR      PM_HR      PR_HR      SE_HR      SM_HR      SO_HR     TD_HR      .NET       .NET Core  ANGULAR    AWS        Activemq  Android / Java  Angular    Azure      Azure DevOps  BOOTSTRAP  BUSINESS OBJECTS  C#         C++        CLOUDERA   Cloudera   Cobol      DAX        Drupal     ECLIPSE    EXCEL      FLUTTER    FORMS      FORMS 3.0   GIT        Ionic / Angular  JBPM       JEE        Java       Java JSF   Java Spring  Boot  Javascript  Jboss Fuse-ESB  KOTLIN     MICROSOFT PROJECT  Microsoft Azure  MySQL      NODE JS    NO_APLICA  Next.Js    ODI        ODV        ORACLE     ORACLE 11  ORACLE 8I  ORACLE 9I  ORACLE DB  Oracle Forms  PL/SQL     Power Builder  PowerBI    Python     React      React Native  SAS       SPRING BOOT  SQL        SQL DEVELOPER  SQL SERVER  TABLEAU    WEBLOGIC   iOS / Objetive C  ACTCOM     ADMB      ADMBD      ADMON      ADMSER     ADMSO      ANAID      ANAJU      ANAPC      ANASPLA    ANCAPA     ANCON      ANCOP      ANDES     ANDIAG     ANDIS      ANDOC      ANEMPA     ANLDA      ANMER      ANNEG      ANPACC     ANPERM     ANPLA      ANPPRD     ANPRCL     ANPRD      ANPREN    ANREV     ANSEG      APACE      APAJU      APASU      APAVA      APCAD      APCAL      APCLI      APCOS      APDOC      APEJE      APGHU      APPCM      APPLA      APPMA     APREV      APSEG      APSTA      AQAJU      AQCAN      AQCON      AQDOC      AQESC      AQEST      AQEVA     AQOPC      AQREQ      AQREV      ARCH       AREAS      ASCLI      ASCRE      ASEJE      ASPIL      ASPLA      ASREV      ASSAN      ASSEG      ATEINC     ATESOL     AUAJU      AUCON      AUEJE      AUPLA      AUPRE      AUSENC     AUSENC2    AUTOEST    BACKUP    BAN        BDAADT     BDABKP     BDAESP     BDAFAP     BDAFBD     BDASG     BDINC      CADOC      CAPEX      CAPIN      CAPRO      CART       CERT       CFBD       CFCLT      CFMON      CFSER      CFSO       COACHING   COAEC      COAJU      COCOD      COCODM     COCON      CODOC      COINT      COMIG       COMPE      COMPRAS    COMPRES    CONTAB    COPRU      COREIN     COREV      COVAL      DELIM      DESCU     DFAM       DIAGP      DIAJU      DIAPL      DIAPLM     DIARQ      DIBDD      DIPLA     DIREV      DISE       DOCTEC     EJECUR     EJEPLA     ELACON     ELADOC     ELAPRO     ELECT      EMPALME    ENTRE     ERAJU      ERCON      ERDOC       ERENT      ERFAC      ERFUN      ERMER      ERMVC      ERREQ      ERREV      ERVIS      ESEST      ESREV      ESSEG      ESTIMA    EXTRA      FACT       FLUJO      FTP        GARINS     GESARE     GESBCK     GESCAMB    GESCON     GESDISP    GESEST     GESEVT     GESFAC     GESFAPRO   GESPRO2    GESPROB    GESSEG     GESSLA     GHEXT      GPOTR      GPPLA     GPPRO      GPSEG      GPVER      HACOM      HACOT      HADIS      HADTE      HAINS      HAINV      HAMON     HAPCO      HAPIN      HAPUN      HARTE      HTML_y     IMPLEMENTAR  INCAP      INDUC      INFCUR     INFGER    INFO       INGLES     INSOAD     INSOCLT    INSOSA     INSOSER    INSOSO     INSSW      INTER      INTSOAD    LIBRE      LICIT      LICLAC     LICMAT     LICNRE     LICPAT     LICREM     LIQNOM     LLAMVAR    LOGCUR     MAANA      MADIS      MANTE      MAPLA      MAREC      MAREV      MEDIR      MENSAJ     MERANA     MERBUS     MERMAT     MERREU     MIGAS      MIGBD      MIGSER     MMAJU      MMDES      MMENS      MMEST      MMREV      MMSEL      MONPRO     MOVIL      PAGOS      PERM       PLAFUN     PLANEA     PLAOPE     PPROCLI    PRACE      PRAJU      PRANA      PRCON      PRDIS      PREPCUR    PRESCUR    PRESUP     PRESUPU    PREVLAB    PREVPRE  PRINS      PROGRA     PROPO      PROPUE     PRPLA      PRREG      PRREV      PRSIS      PVCLI     PVCON      QAUX       QUEST      QUIN       REDES     REGPRO     REREQ      REUCLI     REUVAR    REVCON     SEGCON     SEGCONT    SELPERS   SERCLI    SOCAP      SOCIN      SOEFU      SOPAR      SOPER      SOSIN      TECAP      TECON      TEINT      TEPLA     TEREV      TIMU       TRCAP     TRCON      TRIBUT     TRINS      TRINSM     TRINT      TRMIG      TRREV     VAC        VENPRO     VISCLI     6          7          8          9          28         31         35         41         45         56         59          AC_PN      ADM_PN     AI_PN      AP_PN      CO_PN      HD_PN      IN_PN      NE_PN      OP_PN      PD_PN      PM_PN      SE_PN      SM_PN      SO_PN      TD_PN      ADM_RS     AP_RS       CO_RS      HD_RS      IN_RS      NE_RS      OP_RS      PD_RS      PM_RS      SE_RS      SM_RS      SO_RS    EDAD       GENERO     TIEMPO_EMP\n",
              " 8.939842   0.354470  -0.10101   2.863240   2.151584  -0.025777  -0.073078  -0.194041  -0.183814   4.303994  -0.17187   0.212467  -0.110393  -0.108789   3.522662  -0.14216  -0.032492   1.196371                 2.298014                    1.234251  -0.234490  -0.080089   0.660874   0.534448  -0.025777  -0.048189  -0.154248  -0.19314   0.304892  -0.140103  -0.070274  -0.057693  -0.101167   0.468956  -0.18437  -0.025777   4.770832  -0.200070  -0.380659  -0.232068  -0.14658  -0.088243       -0.207727  -0.103725  -0.056337     -0.176469  -0.135201         -0.135201  -0.131501  -0.077537  -0.123616  -0.173639  -0.106728  -0.150826  -0.175315  -0.043993  -0.156137   0.336987   12.640805  -0.267556  -0.077408        -0.168871   2.346686  -0.384823  -0.185548  -0.135933          -0.173639   -0.14658        -0.082926  -0.043993          -0.165418        -0.173639  -0.172331   0.888078  -0.077408  -0.082515  -0.103643  -0.340428  -0.241447  -0.200778  -0.133711  -0.114707  -0.073078      0.707176  -0.173639      -0.139725  -0.137149  -0.190667  -0.14658      -0.07398  -0.300097    -0.025777  -0.123001      -0.309236   -0.080859  -0.169252  -0.088243         -0.025777  -0.03526  -0.133688  -0.122444  -0.031167  -0.062732  -0.036229  -0.059527  -0.025777  -0.067123  -0.051809  -0.053396  -0.040113  -0.07287  -0.027395  -0.058373  -0.052405  -0.039855  -0.052982  -0.057732  -0.060852  -0.025777  -0.025777  -0.033731  -0.036403  -0.035607  -0.046913  -0.05027  -0.06905  -0.067692  -0.077237   1.698853  -0.062658  -0.182907   4.480769  -0.047585  -0.150827  -0.061126   5.901656   0.783612  -0.148734  -0.052101   1.655589   6.50698  -0.103016   4.469888  -0.038127  -0.070274  -0.051662  -0.072308  -0.097732  -0.167974  -0.068625  -0.07345  -0.040189  -0.092807  -0.087097  -0.034759  -0.045186  -0.059143  -0.080000  -0.337679  -0.054764   0.344764  -0.088001  -0.034593  -0.269614  -0.084555  -0.042028   3.190441  -0.063997   0.772187  -0.060337   1.594361  -0.025777  -0.031264  -0.287881  -0.03836  -0.045629  -0.052637  -0.040163  -0.050925  -0.037272  -0.062869  -0.03521  -0.044685   0.760112   0.206930  -0.156178  -0.193229  -0.032063   0.300351  -0.028745  -0.056405  -0.043353  -0.051837  -0.044625  -0.031086  -0.112667  -0.369621  -0.722302  -0.067746  -0.373487  -0.315735  -0.083771  -0.173584   -0.091586  -0.036399  -0.025777  -0.06978  -0.368875  -0.062843  -0.233349  -0.069149  -0.053488  -0.04798  -0.690403  -0.061769  -0.251369  -0.347354  -0.094491  -0.134884  -0.106292  -0.07973  -0.158441  -0.044048  -0.053663  -0.044234  -0.025777  -0.031737  -0.073151   0.309678  -0.192996  -0.499633  -0.03857  -0.195226  -0.058963  -0.113268   -0.451540  -0.097844  -0.077956  -0.161184  -0.062271  -0.214742  -0.201770  -0.081063  -0.266315  -0.173076  -0.091529  -0.03574  -0.034971  -0.031387  -0.048866  -0.031936  -0.025777  -0.025777  -0.052162  -0.056313  -0.025777  -0.041695  -0.039392  -0.045429  -0.030706  -0.032612  -0.030806  -0.040828  -0.029934  -0.035969  -0.035757  -0.039241  -0.04163  -0.038528  -0.039008  -0.036495  -0.025777  -0.035599  -0.046487  -0.060191  -0.054631  -0.052418  -0.02736  -0.055353  -0.031406  -0.034998  -0.031734  -0.036324  -0.031299     0.358541  -0.397451  -0.050285  -0.04257   0.086371  -0.050665  -0.026836  -0.041647  -0.026681  -0.050046  -0.025777  -0.053495  -0.044083  -0.050525   0.607464  -0.036558  -0.082126  -0.108731  -0.061427  -0.132929  -0.218385  -0.025777  -0.043902  -0.036002  -0.042372  -0.053332  -0.109729  -0.061261  -0.047712  -0.056438  -0.025777  -0.037336  -0.047265  -0.080668  -0.078324  -0.066459  -0.030831  -0.055587  -0.033252  -0.033689  -0.046013  -0.025777  -0.027033  -0.045181  -0.034545  -0.054059  -0.043566  -0.040801   0.141167  -0.025777  -0.065869  -0.040404  -0.045445  -0.128019  -0.172755  -0.151550  -0.088073  -0.171173  -0.068674  -0.058599  -0.036377  -0.040078  -0.041262  -0.031   -0.065839  -0.047732  -0.062489  -0.034952  -0.153950  -0.051028  -0.089803  -0.214488  -0.02797  -0.115137  -0.025777  -0.025777  -0.087646  -0.04362  -0.034522  -0.072026  -0.047015  -0.05699  -0.034055  -0.039231  -0.026941  -0.08119  -0.04279  -0.064062  -0.040476  -0.033136  -0.045597  -0.047863  -0.047533  -0.104506  -0.143316  -0.064185  -0.03236  -0.077172  -0.208040  -0.17121  -0.191238  -0.026198  -0.200812  -0.046455  -0.038857  -0.124611  -0.08971   0.955064  -0.054052   1.101146  -0.025777  -0.025777  -0.025777  -0.025777  -0.025777  -0.025777  -0.025777  -0.025777  -0.025777  -0.025777   38.794329  -0.052142  -0.035760  -0.052672   3.030094  -0.065226  -0.073078  -0.133157  -0.119094  -0.238581  -0.114162  -0.157135  -0.079466   0.189715  -0.098722  -0.032492  -0.175894   11.341597   0.891847  -0.070097  -0.098588  -0.140187  -0.270758  -0.102972  -0.075437  -0.055179   0.697962  -0.0446   0.335327  -0.634220   2.656984     1\n",
              "-0.200282  -0.378377  -0.10101  -0.299094  -0.195882  -0.025777  -0.073078  -0.194041  -0.183814  -0.325751  -0.17187  -0.343046  -0.110393  -0.108789  -0.479787  -0.14216  -0.032492  -0.645624                -0.178687                   -0.039203   0.759005  -0.080089  -0.114548  -0.192155  -0.025777  -0.048189  -0.154248  -0.19314  -0.520025  -0.140103  -0.247376  -0.057693  -0.101167  -0.540884  -0.18437  -0.025777  -0.383045  -0.200070  -0.380659  -0.232068  -0.14658  -0.088243       -0.207727  -0.103725  -0.056337     -0.176469  -0.135201         -0.135201  -0.131501  -0.077537  -0.123616  -0.173639  -0.106728  -0.150826  -0.175315  -0.043993  -0.156137  -0.331659  -0.146775   -0.267556  -0.077408        -0.168871  -0.409814  -0.384823  -0.185548  -0.135933          -0.173639   -0.14658        -0.082926  -0.043993          -0.165418        -0.173639  -0.172331   0.270510  -0.077408  -0.082515  -0.103643  -0.340428  -0.241447  -0.200778  -0.133711  -0.114707  -0.073078     -0.403131  -0.173639      -0.139725  -0.137149  -0.190667  -0.14658      -0.07398  -0.300097    -0.025777  -0.123001      -0.309236   -0.080859  -0.169252  -0.088243         -0.025777  -0.03526  -0.133688  -0.122444  -0.031167  -0.062732  -0.036229  -0.059527  -0.025777  -0.067123  -0.051809  -0.053396  -0.040113  -0.07287  -0.027395  -0.058373  -0.052405  -0.039855  -0.052982  -0.057732  -0.060852  -0.025777  -0.025777  -0.033731  -0.036403  -0.035607  -0.046913  -0.05027  -0.06905  -0.067692  -0.077237  -0.122262  -0.062658  -0.182907  -0.249640  -0.047585  -0.150827  -0.061126  -0.117044  -0.271297  -0.148734  -0.052101  -0.222767  -0.17415  -0.103016  -0.228457  -0.038127  -0.070274  -0.051662  -0.072308  -0.097732  -0.167974  -0.068625  -0.07345  -0.040189  -0.092807  -0.087097  -0.034759  -0.045186  -0.122507   0.505264  -0.337679  -0.054764  -0.145711  -0.098774  -0.034593  -0.269614  -0.084555  -0.042028  -0.128413  -0.063997  -0.103854  -0.060337  -0.075792  -0.025777  -0.031264  -0.184469  -0.03836  -0.045629  -0.052637  -0.040163  -0.050925  -0.037272  -0.062869  -0.03521  -0.044685  -0.086968  -0.136396   1.564870  -0.338624  -0.032063  -0.053124  -0.028745  -0.056405  -0.043353  -0.051837  -0.044625  -0.031086  -0.112667  -0.369621  -0.047268  -0.067746  -0.140348  -0.101674  -0.083771  -0.173584   -0.091586  -0.036399  -0.025777  -0.06978  -0.368875  -0.062843  -0.233349  -0.069149  -0.053488  -0.04798  -0.690403  -0.061769  -0.251369  -0.347354  -0.094491  -0.134884  -0.106292  -0.07973  -0.158441  -0.044048  -0.053663  -0.044234  -0.025777  -0.031737  -0.073151  -0.110369   1.518698   5.156469  -0.03857  -0.195226  -0.058963  -0.113268   -0.451540  -0.097844  -0.077956  -0.161184  -0.062271  -0.214742  -0.201770  -0.081063  -0.266315  -0.173076  -0.091529  -0.03574  -0.034971  -0.031387  -0.048866  -0.031936  -0.025777  -0.025777  -0.052162  -0.056313  -0.025777  -0.041695  -0.039392  -0.045429  -0.030706  -0.032612  -0.030806  -0.040828  -0.029934  -0.035969  -0.035757  -0.039241  -0.04163  -0.038528  -0.039008  -0.036495  -0.025777  -0.035599  -0.046487  -0.060191  -0.054631  -0.052418  -0.02736  -0.055353  -0.031406  -0.034998  -0.031734  -0.036324  -0.031299    -0.406143   0.066752  -0.050285  -0.04257  -0.134394  -0.050665  -0.026836  -0.041647  -0.026681  -0.050046  -0.025777  -0.053495  -0.044083  -0.050525   0.221967  -0.077547  -0.082126  -0.108731  -0.061427  -0.132929  -0.218385  -0.025777  -0.043902  -0.036002  -0.042372  -0.053332  -0.109729  -0.061261  -0.047712  -0.056438  -0.025777  -0.037336  -0.047265  -0.080668  -0.078324  -0.066459  -0.030831  -0.055587  -0.033252  -0.033689  -0.046013  -0.025777  -0.027033  -0.045181  -0.034545  -0.054059  -0.043566  -0.040801   0.909314  -0.025777  -0.065869  -0.040404  -0.045445  -0.128019  -0.172755  -0.151550  -0.088073  -0.171173  -0.068674  -0.058599  -0.036377  -0.040078  -0.041262  -0.031   -0.065839  -0.047732  -0.062489  -0.034952  -0.153950  -0.051028  -0.089803  -0.214488  -0.02797  -0.115137  -0.025777  -0.025777  -0.087646  -0.04362  -0.034522  -0.072026  -0.047015  -0.05699  -0.034055  -0.039231  -0.026941  -0.08119  -0.04279  -0.064062  -0.040476  -0.033136  -0.045597  -0.047863  -0.047533  -0.104506  -0.143316  -0.064185  -0.03236  -0.077172  -0.208040  -0.17121  -0.191238  -0.026198  -0.200812  -0.046455  -0.038857  -0.124611  -0.08971  -0.902813  -0.054052  -0.095995  -0.025777  -0.025777  -0.025777  -0.025777  -0.025777  -0.025777  -0.025777  -0.025777  -0.025777  -0.025777  -0.025777   -0.052142  -0.226797  -0.052672  -0.399244  -0.065226  -0.073078  -0.133157  -0.119094  -0.305282  -0.114162  -0.157135  -0.079466  -0.367138  -0.098722  -0.032492  -0.175894  -0.394910   -0.057356  -0.070097  -0.098588  -0.140187  -0.270758  -0.102972  -0.075437  -0.055179  -0.382135  -0.0446  -1.136625  -0.634220  -0.575223     1\n",
              "           -0.282789  -0.10101   0.689136  -0.195882  -0.025777  -0.073078  -0.194041  -0.183814  -0.325751  -0.17187  -0.065289  -0.110393  -0.108789  -0.244349  -0.14216  -0.032492  -0.514053                -0.083430                   -0.039203  -0.623981  -0.080089   0.907852  -0.192155  -0.025777  -0.048189  -0.154248  -0.19314  -0.520025  -0.140103  -0.242316  -0.057693  -0.101167  -0.540884  -0.18437  -0.025777  -0.014911  -0.200070   0.027655  -0.232068  -0.14658  -0.088243       -0.207727  -0.103725  -0.056337     -0.176469   3.500741          3.500741  -0.131501  -0.077537  -0.123616  -0.173639  -0.106728  -0.150826  -0.175315  -0.043993  -0.156137  -0.331659  -0.146775   -0.267556  -0.077408        -0.168871  -0.134164   0.121328  -0.185548  -0.135933          -0.173639   -0.14658        -0.082926  -0.043993          -0.165418        -0.173639  -0.172331  -0.347057  -0.077408  -0.082515  -0.103643  -0.010515  -0.241447  -0.200778  -0.133711  -0.114707   13.683932    -0.181070  -0.173639      -0.139725  -0.137149  -0.190667  -0.14658      -0.07398  -0.300097    -0.025777  -0.123001       0.543712   -0.080859  -0.169252  -0.088243         -0.025777  -0.03526  -0.133688  -0.122444  -0.031167  -0.062732  -0.036229  -0.059527  -0.025777  -0.067123  -0.051809  -0.053396  -0.040113  -0.07287  -0.027395  -0.058373  -0.052405  -0.039855  -0.052982  -0.057732  -0.060852  -0.025777  -0.025777  -0.033731  -0.036403  -0.035607  -0.046913  -0.05027  -0.06905  -0.067692  -0.077237  -0.122262  -0.062658  -0.182907  -0.249640  -0.047585  -0.150827  -0.061126  -0.117044  -0.271297  -0.148734  -0.052101  -0.222767  -0.17415  -0.103016  -0.228457  -0.038127  -0.070274  -0.051662  -0.072308  -0.097732  -0.167974  -0.068625  -0.07345  -0.040189  -0.092807  -0.087097  -0.034759  -0.045186  -0.122507  -0.080000  -0.308439  -0.054764  -0.145711  -0.131095  -0.034593  -0.269614  -0.084555  -0.042028  -0.128413  -0.063997  -0.103854  -0.060337  -0.075792  -0.025777  -0.031264   0.477363  -0.03836  -0.045629  -0.052637  -0.040163  -0.050925  -0.037272  -0.062869  -0.03521  -0.044685  -0.086968  -0.136396   5.557701   0.359275  -0.032063  -0.053124  -0.028745  -0.056405  -0.043353  -0.051837  -0.044625  -0.031086  -0.112667  -0.369621  -0.090580  -0.067746  -0.373487  -0.315735  -0.083771  -0.173584   -0.091586  -0.036399  -0.025777  -0.06978  -0.368875  -0.062843  -0.233349  -0.069149  -0.053488  -0.04798  -0.690403  -0.061769  -0.251369  -0.347354  -0.094491  -0.134884  -0.106292  -0.07973  -0.158441  -0.044048  -0.053663  -0.044234  -0.025777  -0.031737  -0.073151  -0.110369  -0.192996  -0.499633  -0.03857  -0.195226  -0.058963   10.643058  -0.451540  -0.097844  -0.077956  -0.161184  -0.062271  -0.163414  -0.201770  -0.081063  -0.266315  -0.173076  -0.091529  -0.03574  -0.034971  -0.031387  -0.048866  -0.031936  -0.025777  -0.025777  -0.052162  -0.056313  -0.025777  -0.041695  -0.039392  -0.045429  -0.030706  -0.032612  -0.030806  -0.040828  -0.029934  -0.035969  -0.035757  -0.039241  -0.04163  -0.038528  -0.039008  -0.036495  -0.025777  -0.035599  -0.046487  -0.060191  -0.054631  -0.052418  -0.02736  -0.055353  -0.031406  -0.034998  -0.031734  -0.036324  -0.031299    -0.406143   1.169233  -0.050285  -0.04257  -0.134394   1.528094  -0.026836  -0.041647  -0.026681  -0.050046  -0.025777  -0.053495  -0.044083  -0.050525  -0.549025  -0.077547  -0.082126  -0.108731  -0.061427  -0.132929  -0.218385  -0.025777  -0.043902  -0.036002  -0.042372  -0.053332  -0.109729  -0.061261  -0.047712  -0.056438  -0.025777  -0.037336  -0.047265  -0.080668  -0.078324  -0.066459  -0.030831  -0.055587  -0.033252  -0.033689  -0.046013  -0.025777  -0.027033  -0.045181  -0.034545  -0.054059  -0.043566  -0.040801  -0.733667  -0.025777  -0.065869  -0.040404  -0.045445  -0.128019  -0.172755  -0.151550  -0.088073  -0.171173  -0.068674  -0.058599  -0.036377  -0.040078  -0.041262  -0.031   -0.065839  -0.047732  -0.062489  -0.034952  -0.153950  -0.051028  -0.089803  -0.214488  -0.02797  -0.115137  -0.025777  -0.025777  -0.087646  -0.04362  -0.034522  -0.072026  -0.047015  -0.05699  -0.034055  -0.039231  -0.026941  -0.08119  -0.04279  -0.064062  -0.040476  -0.033136  -0.045597  -0.047863  -0.047533  -0.104506  -0.143316  -0.064185  -0.03236  -0.077172  -0.208040  -0.17121  -0.191238  -0.026198  -0.200812  -0.046455  -0.038857  -0.124611  -0.08971  -0.902813  -0.054052  -0.095995  -0.025777  -0.025777  -0.025777  -0.025777  -0.025777  -0.025777  -0.025777  -0.025777  -0.025777  -0.025777  -0.025777   -0.052142  -0.076246  -0.052672  -0.399244  -0.065226  -0.073078  -0.133157  -0.119094  -0.305282  -0.114162  -0.157135  -0.079466  -0.328997  -0.098722  -0.032492  -0.175894  -0.394910   -0.057356  -0.070097  -0.098588  -0.140187  -0.270758  -0.102972  -0.075437  -0.055179  -0.333040  -0.0446  -1.013962  -0.634220  -0.602384     1\n",
              "                                 0.293844  -0.195882  -0.025777  -0.073078  -0.194041  -0.183814  -0.325751  -0.17187  -0.343046  -0.110393  -0.108789  -0.244349  -0.14216  -0.032492  -0.645624                -0.051677                   -0.039203  -0.541540  -0.080089   0.426066  -0.192155  -0.025777  -0.048189  -0.154248  -0.19314  -0.520025  -0.140103  -0.247376  -0.057693  -0.101167   1.025494  -0.18437  -0.025777  -0.383045  -0.200070  -0.380659  -0.232068  -0.14658  -0.088243       -0.207727  -0.103725  -0.056337     -0.176469  -0.135201         -0.135201  -0.131501  -0.077537  -0.123616  -0.173639  -0.106728  -0.150826  -0.175315  -0.043993  -0.156137  -0.331659  -0.146775   -0.267556  -0.077408        -0.168871  -0.409814  -0.384823  -0.185548  -0.135933          -0.173639   -0.14658        -0.082926  -0.043993          -0.165418        -0.173639  -0.172331  -0.347057  -0.077408  -0.082515  -0.103643  -0.340428  -0.241447  -0.200778  -0.133711  -0.114707  -0.073078      0.485114  -0.173639      -0.139725  -0.137149  -0.190667  -0.14658      -0.07398  -0.300097    -0.025777  -0.123001      -0.309236   -0.080859  -0.169252  -0.088243         -0.025777  -0.03526  -0.133688  -0.122444  -0.031167  -0.062732  -0.036229  -0.059527  -0.025777  -0.067123  -0.051809  -0.053396  -0.040113  -0.07287  -0.027395  -0.058373  -0.052405  -0.039855  -0.052982  -0.057732  -0.060852  -0.025777  -0.025777  -0.033731  -0.036403  -0.035607  -0.046913  -0.05027  -0.06905  -0.067692  -0.077237  -0.122262  -0.062658  -0.182907  -0.249640  -0.047585  -0.150827  -0.061126  -0.117044  -0.265049  -0.148734  -0.052101  -0.222767  -0.17415  -0.103016  -0.223329  -0.038127  -0.070274  -0.051662  -0.072308  -0.097732  -0.167974  -0.068625  -0.07345  -0.040189  -0.092807  -0.087097  -0.034759  -0.045186  -0.122507  -0.080000  -0.337679  -0.054764  -0.145711  -0.131095  -0.034593  -0.269614  -0.084555  -0.042028  -0.128413  -0.063997  -0.103854  -0.060337  -0.075792  -0.025777  -0.031264  -0.122423  -0.03836  -0.045629  -0.052637  -0.040163  -0.050925  -0.037272  -0.062869  -0.03521  -0.044685  -0.038563  -0.136396   0.342926  -0.202922  -0.032063  -0.053124  -0.028745  -0.056405  -0.043353  -0.051837  -0.044625  -0.031086  -0.112667   0.759111   0.754531  -0.067746  -0.373487   2.919875  -0.083771  -0.173584   -0.091586  -0.036399  -0.025777  -0.06978   0.598995  -0.062843  -0.233349  -0.069149  -0.053488  -0.04798  -0.690403  -0.061769  -0.026300   0.999561  -0.094491   0.123205  -0.106292  -0.07973  -0.158441  -0.044048   0.018500  -0.044234  -0.025777  -0.031737  -0.073151  -0.110369  -0.192996  -0.435962  -0.03857  -0.195226  -0.058963  -0.113268   -0.240891  -0.097844  -0.077956  -0.161184  -0.062271  -0.214742  -0.201770  -0.081063  -0.266315  -0.173076  -0.091529  -0.03574  -0.034971  -0.031387  -0.048866  -0.031936  -0.025777  -0.025777  -0.052162  -0.056313  -0.025777  -0.041695  -0.039392  -0.045429  -0.030706  -0.032612  -0.030806  -0.040828  -0.029934  -0.035969  -0.035757  -0.039241  -0.04163  -0.038528  -0.039008  -0.036495  -0.025777  -0.035599  -0.046487  -0.060191  -0.054631  -0.052418  -0.02736  -0.055353  -0.031406  -0.034998  -0.031734  -0.036324  -0.031299    -0.062035   0.530955  -0.050285  -0.04257  -0.134394  -0.050665  -0.026836  -0.041647  -0.026681  -0.050046  -0.025777  -0.053495  -0.044083  -0.050525  -0.163529  -0.077547  -0.082126  -0.108731  -0.061427  -0.132929  -0.218385  -0.025777  -0.043902  -0.036002  -0.042372  -0.053332  -0.109729  -0.061261  -0.047712  -0.056438  -0.025777  -0.037336  -0.047265  -0.080668  -0.078324  -0.066459  -0.030831  -0.055587  -0.033252  -0.033689  -0.046013  -0.025777  -0.027033  -0.045181  -0.034545  -0.054059  -0.043566  -0.040801  -0.733667  -0.025777  -0.065869  -0.040404  -0.045445  -0.128019  -0.172755  -0.151550  -0.017284  -0.171173  -0.068674  -0.058599  -0.036377  -0.040078  -0.041262  -0.031   -0.065839  -0.047732  -0.062489  -0.034952  -0.019314  -0.051028  -0.089803  -0.203215  -0.02797  -0.115137  -0.025777  -0.025777  -0.087646  -0.04362  -0.034522  -0.072026  -0.047015  -0.05699  -0.034055  -0.039231  -0.026941  -0.08119  -0.04279  -0.064062  -0.040476  -0.033136  -0.045597  -0.047863  -0.047533   1.525859   1.388563  -0.064185  -0.03236   2.349558  -0.208040  -0.17121  -0.191238  -0.026198   1.753440  -0.046455  -0.038857  -0.124611  -0.08971  -0.615687  -0.054052  -0.095995  -0.025777  -0.025777  -0.025777  -0.025777  -0.025777  -0.025777  -0.025777  -0.025777  -0.025777  -0.025777  -0.025777   -0.052142  -0.189159  -0.052672  -0.301262  -0.065226  -0.073078  -0.133157  -0.119094  -0.305282  -0.114162  -0.157135  -0.079466  -0.367138  -0.098722  -0.032492  -0.175894  -0.103320   -0.057356  -0.070097  -0.098588  -0.140187  -0.270758  -0.102972  -0.075437  -0.055179  -0.283944  -0.0446  -0.032661  -0.634220  -0.493739     1\n",
              "                                 0.096198   1.760340  -0.025777  -0.073078  -0.194041  -0.183814   0.017193  -0.17187  -0.343046  -0.110393  -0.108789  -0.479787  -0.14216  -0.032492  -0.514053                 0.107086                   -0.039203  -0.455314  -0.080089  -0.184878   1.247469  -0.025777  -0.048189  -0.154248  -0.19314   1.117643  -0.140103  -0.247376  -0.057693  -0.101167  -0.540884  -0.18437  -0.025777   0.353223  -0.200070  -0.380659  -0.232068  -0.14658  -0.088243       -0.207727  -0.103725  -0.056337     -0.176469  -0.135201         -0.135201  -0.131501  -0.077537  -0.123616  -0.173639  -0.106728  -0.150826  -0.175315  -0.043993  -0.156137  -0.331659  -0.146775   -0.267556  -0.077408        -0.168871   0.141486  -0.384823  -0.185548  -0.135933          -0.173639   -0.14658        -0.082926  -0.043993          -0.165418        -0.173639  -0.172331   1.093934  -0.077408  -0.082515  -0.103643  -0.340428  -0.241447  -0.200778  -0.133711  -0.114707  -0.073078     -0.181070  -0.173639      -0.139725  -0.137149  -0.190667  -0.14658      -0.07398  -0.300097    -0.025777  -0.123001      -0.309236   -0.080859  -0.169252  -0.088243         -0.025777  -0.03526  -0.133688  -0.122444  -0.031167  -0.062732  -0.036229  -0.059527  -0.025777  -0.067123  -0.051809  -0.053396  -0.040113  -0.07287  -0.027395  -0.058373  -0.052405  -0.039855  -0.052982  -0.057732  -0.060852  -0.025777  -0.025777  -0.033731  -0.036403  -0.035607  -0.046913  -0.05027  -0.06905  -0.067692  -0.077237  -0.122262  -0.062658  -0.182907  -0.249640  -0.047585  -0.150827  -0.061126  -0.117044  -0.268173  -0.148734  -0.052101  -0.222767  -0.17415  -0.103016  -0.228457  -0.038127  -0.070274  -0.051662  -0.072308  -0.097732  -0.167974  -0.068625  -0.07345  -0.040189  -0.092807  -0.087097  -0.034759  -0.045186  -0.122507  -0.080000  -0.337679  -0.054764  -0.145711  -0.131095  -0.034593  -0.269614  -0.084555  -0.042028  -0.128413  -0.063997  -0.103854  -0.060337  -0.075792  -0.025777  -0.031264   1.904441  -0.03836  -0.045629  -0.052637  -0.040163  -0.050925  -0.037272  -0.062869  -0.03521  -0.044685  -0.086968  -0.136396   0.205242   0.126642  -0.032063  -0.053124  -0.028745  -0.056405  -0.043353  -0.051837  -0.044625  -0.031086  -0.112667   0.432851  -0.650467  -0.067746  -0.373487   0.301748  -0.083771   18.588005  -0.091586  -0.036399  -0.025777  -0.06978  -0.341611  -0.062843  -0.233349  -0.069149  -0.053488  -0.04798  -0.690403  -0.061769  -0.251369  -0.347354  -0.094491  -0.134884  -0.106292  -0.07973  -0.158441  -0.044048  -0.053663  -0.044234  -0.025777  -0.031737  -0.073151  -0.110369  -0.192996   0.391760  -0.03857  -0.195226  -0.058963  -0.113268   -0.333758  -0.097844  -0.077956  -0.161184  -0.062271  -0.214742  -0.201770  -0.081063  -0.266315  -0.173076  -0.091529  -0.03574  -0.034971  -0.031387  -0.048866  -0.031936  -0.025777  -0.025777  -0.052162  -0.056313  -0.025777  -0.041695  -0.039392  -0.045429  -0.030706  -0.032612  -0.030806  -0.040828  -0.029934  -0.035969  -0.035757  -0.039241  -0.04163  -0.038528  -0.039008  -0.036495  -0.025777  -0.035599  -0.046487  -0.060191  -0.054631  -0.052418  -0.02736  -0.055353  -0.031406  -0.034998  -0.031734  -0.036324  -0.031299     0.492360   0.182803  -0.050285  -0.04257  -0.134394  -0.050665  -0.026836  -0.041647  -0.026681  -0.050046  -0.025777  -0.053495  -0.044083  -0.050525  -0.163529  -0.077547  -0.082126  -0.108731  -0.061427  -0.132929  -0.218385  -0.025777  -0.043902  -0.036002  -0.042372  -0.053332  -0.109729  -0.061261  -0.047712  -0.056438  -0.025777  -0.037336  -0.047265  -0.080668  -0.078324  -0.066459  -0.030831  -0.055587  -0.033252  -0.033689  -0.046013  -0.025777  -0.027033  -0.045181  -0.034545  -0.054059  -0.043566  -0.040801  -0.349593  -0.025777  -0.065869  -0.040404  -0.045445  -0.128019  -0.106342  -0.151550  -0.088073  -0.171173  -0.068674  -0.058599  -0.036377  -0.040078  -0.041262  -0.031   -0.065839  -0.047732  -0.062489  -0.034952  -0.153950  -0.051028  -0.089803  -0.191943  -0.02797  -0.115137  -0.025777  -0.025777  -0.087646  -0.04362  -0.034522  -0.072026  -0.047015  -0.05699  -0.034055  -0.039231  -0.026941  -0.08119  -0.04279  -0.064062  -0.040476  -0.033136  -0.045597  -0.047863  -0.047533  -0.104506  -0.143316  -0.064185  -0.03236  -0.077172   0.313146  -0.17121  -0.191238  -0.026198  -0.165601  -0.046455  -0.038857  -0.124611  -0.08971  -0.396119  -0.054052  -0.095995  -0.025777  -0.025777  -0.025777  -0.025777  -0.025777  -0.025777  -0.025777  -0.025777  -0.025777  -0.025777  -0.025777   -0.052142  -0.186718  -0.052672  -0.129796  -0.065226  -0.073078  -0.133157  -0.119094  -0.305282  -0.114162  -0.157135  -0.079466  -0.367138  -0.098722  -0.032492  -0.175894   0.261168   -0.057356  -0.070097  -0.098588  -0.140187  -0.270758  -0.102972  -0.075437  -0.055179  -0.382135  -0.0446   0.090001  -0.634220  -0.548062     1\n",
              "                                                                                                                                                                                                                                                                                                                                                                                                                                                                                                                                                                                                                                                                                                                                                                                                                                                                                                                                                                                                                                                                                                                                                                                                                                                                                                                                                                                                                                                                                                                                                                                                                                                                                                                                                                                                                                                                                                                                                                                                                                                                                                                                                                                                                                                                                                                                                                                                                                                                                                                                                                                                                                                                                                                                                                                                                                                                                                                                                                                                                                                                                                                                                                                                                                                                                                                                                                                                                                                                                                                                                                                                                                                                                                                                                                                                                                                                                                                                                                                                                                                                                                                                                                                                                                                                                                                                                                                                                                                                                                                                                                                                                                                                                                                                                                                                                                                                                                                                                                                                                                                               ..\n",
              "            0.099566  -0.10101   0.293844  -0.195882  -0.025777  -0.073078  -0.194041  -0.183814  -0.325751  -0.17187  -0.065289  -0.110393  -0.108789  -0.008911  -0.14216  -0.032492   0.012231                -0.178687                   -0.039203  -0.466670  -0.080089   0.640081  -0.192155  -0.025777  -0.048189  -0.154248  -0.19314  -0.520025  -0.140103  -0.242316  -0.057693  -0.101167   1.703101  -0.18437  -0.025777  -0.014911  -0.200070   1.660911  -0.232068  -0.14658  -0.088243       -0.207727  -0.103725  -0.056337      4.234522   3.500741          3.500741   3.994356  -0.077537  -0.123616  -0.173639  -0.106728  -0.150826  -0.175315  -0.043993  -0.156137  -0.331659  -0.146775   -0.267556  -0.077408        -0.168871   0.968436   1.639783  -0.185548  -0.135933          -0.173639   -0.14658        -0.082926  -0.043993          -0.165418        -0.173639  -0.172331  -0.347057  -0.077408  -0.082515  -0.103643  -0.010515   4.543020  -0.200778  -0.133711  -0.114707  -0.073078     -0.403131  -0.173639      -0.139725  -0.137149  -0.190667  -0.14658      -0.07398   3.010863    -0.025777  -0.123001       0.543712   -0.080859  -0.169252  -0.088243         -0.025777  -0.03526  -0.133688  -0.122444  -0.031167  -0.062732  -0.036229  -0.059527  -0.025777  -0.067123  -0.051809  -0.053396  -0.040113  -0.07287  -0.027395  -0.058373  -0.052405  -0.039855  -0.052982  -0.057732  -0.060852  -0.025777  -0.025777  -0.033731  -0.036403  -0.035607  -0.046913  -0.05027  -0.06905  -0.067692  -0.077237  -0.122262  -0.062658  -0.182907  -0.249640  -0.047585  -0.150827  -0.061126  -0.117044  -0.271297  -0.148734  -0.052101  -0.222767  -0.17415  -0.103016  -0.228457  -0.038127  -0.070274  -0.051662  -0.072308  -0.097732  -0.167974   2.354707  -0.07345   0.343804  -0.045900  -0.087097  -0.034759  -0.045186  -0.122507  -0.080000  -0.318759  -0.054764  -0.145711  -0.131095  -0.034593  -0.259975  -0.084555  -0.042028  -0.128413  -0.063997  -0.103854  -0.060337  -0.075792  -0.025777  -0.031264   0.125765  -0.03836  -0.045629  -0.052637  -0.040163  -0.050925  -0.037272  -0.062869  -0.03521  -0.044685  -0.086968  -0.136396  -0.422940  -0.105991  -0.032063  -0.053124  -0.028745  -0.056405  -0.043353  -0.051837  -0.044625  -0.031086  -0.112667  -0.091010   1.647181  -0.067746  -0.186976   1.265021   0.005623  -0.173584   -0.091586  -0.036399  -0.025777  -0.06978   0.012820  -0.062843   1.471124  -0.069149  -0.053488  -0.04798   1.607697  -0.061769  -0.251369  -0.066258  -0.094491  -0.134884  -0.106292  -0.07973  -0.071868  -0.044048  -0.053663  -0.044234  -0.025777  -0.031737  -0.073151  -0.110369  -0.192996   0.030958  -0.03857  -0.195226  -0.058963  -0.113268    1.106805  -0.097844  -0.077956  -0.161184  -0.062271  -0.214742  -0.201770  -0.081063  -0.266315  -0.173076  -0.091529  -0.03574  -0.034971  -0.031387  -0.048866  -0.031936  -0.025777  -0.025777  -0.052162  -0.056313  -0.025777  -0.041695  -0.039392  -0.045429  -0.030706  -0.032612  -0.030806  -0.040828  -0.029934  -0.035969  -0.035757  -0.039241  -0.04163  -0.038528  -0.039008  -0.036495  -0.025777  -0.035599  -0.046487  -0.060191  -0.054631  -0.052418  -0.02736  -0.055353  -0.031406  -0.034998  -0.031734  -0.036324  -0.031299    -0.406143  -0.397451  -0.050285  -0.04257  -0.134394  -0.050665  -0.026836  -0.041647  -0.026681  -0.050046  -0.025777  -0.053495  -0.044083  -0.050525  -0.163529  -0.077547  -0.082126  -0.108731  -0.061427  -0.132929  -0.218385  -0.025777  -0.043902  -0.036002  -0.042372  -0.053332  -0.109729  -0.061261  -0.047712  -0.056438  -0.025777  -0.037336  -0.047265  -0.080668  -0.078324  -0.066459  -0.030831  -0.055587  -0.033252  -0.033689  -0.046013  -0.025777  -0.027033  -0.045181  -0.034545  -0.054059  -0.043566  -0.040801  -0.562967  -0.025777  -0.065869  -0.040404  -0.045445  -0.128019  -0.172755  -0.151550  -0.088073  -0.171173  -0.068674  -0.058599  -0.036377  -0.040078  -0.041262  -0.031   -0.065839  -0.047732  -0.062489  -0.034952  -0.153950  -0.051028  -0.089803  -0.214488  -0.02797  -0.115137  -0.025777  -0.025777  -0.087646  -0.04362  -0.034522  -0.072026  -0.047015  -0.05699  -0.034055  -0.039231  -0.026941  -0.08119  -0.04279  -0.064062  -0.040476  -0.033136  -0.045597  -0.047863  -0.047533  -0.104506  -0.143316  -0.064185  -0.03236  -0.077172  -0.208040  -0.17121  -0.191238  -0.026198  -0.200812  -0.046455  -0.038857  -0.124611  -0.08971   1.259080  -0.054052  -0.095995  -0.025777  -0.025777  -0.025777  -0.025777  -0.025777  -0.025777  -0.025777  -0.025777  -0.025777  -0.025777  -0.025777   -0.052142   0.168907  -0.052672   1.527717  -0.065226  -0.073078  -0.133157  -0.119094  -0.305282  -0.114162  -0.157135  -0.079466   0.334650  -0.098722  -0.032492  -0.175894   1.937812   -0.057356  -0.070097  -0.098588  -0.140187  -0.270758  -0.102972  -0.075437  -0.055179   0.207009  -0.0446   0.090001  -0.634220   0.321103     1\n",
              "                                                                                                                       -0.343046  -0.110393  -0.108789   0.226527  -0.14216  -0.032492   0.275373                -0.210440                   -0.039203  -0.472559  -0.080089   1.097483  -0.192155  -0.025777  -0.048189  -0.154248  -0.19314  -0.520025  -0.140103  -0.232196  -0.057693  -0.101167   1.651445  -0.18437  -0.025777  -0.383045  -0.200070   1.252597   1.236398  -0.14658  -0.088243        1.590183  -0.103725  -0.056337      4.234522  -0.135201         -0.135201  -0.131501  -0.077537  -0.123616   1.629809  -0.106728  -0.150826  -0.175315  -0.043993  -0.156137   1.674277  -0.146775    0.949784  -0.077408        -0.168871   0.968436   2.145934   1.402152  -0.135933           1.629809   -0.14658        -0.082926  -0.043993          -0.165418         1.629809  -0.172331  -0.347057  -0.077408  -0.082515  -0.103643  -0.010515   5.739137  -0.200778  -0.133711  -0.114707  -0.073078      0.263053   1.629809      -0.139725  -0.137149  -0.190667  -0.14658      -0.07398   3.838603    -0.025777  -0.123001      -0.309236   -0.080859  -0.169252  -0.088243         -0.025777  -0.03526  -0.133688  -0.122444  -0.031167  -0.062732  -0.036229  -0.059527  -0.025777  -0.067123  -0.051809  -0.053396  -0.040113  -0.07287  -0.027395  -0.058373  -0.052405  -0.039855  -0.052982  -0.057732  -0.060852  -0.025777  -0.025777  -0.033731  -0.036403  -0.035607  -0.046913  -0.05027  -0.06905  -0.067692  -0.077237  -0.122262  -0.062658  -0.182907  -0.249640  -0.047585  -0.150827  -0.061126  -0.117044  -0.271297  -0.148734  -0.052101  -0.222767  -0.17415  -0.103016  -0.210510  -0.038127  -0.070274  -0.051662  -0.072308  -0.025945  -0.167974  -0.068625  -0.07345  -0.040189  -0.092807  -0.087097  -0.034759  -0.045186  -0.122507  -0.080000  -0.261998  -0.054764  -0.145711  -0.131095  -0.034593  -0.136793  -0.084555  -0.042028  -0.128413  -0.063997  -0.103854  -0.060337  -0.075792  -0.025777  -0.031264  -0.163787  -0.03836  -0.045629  -0.052637  -0.040163  -0.050925  -0.037272  -0.062869  -0.03521  -0.044685  -0.086968  -0.136396  -0.285257  -0.338624  -0.032063  -0.053124  -0.028745  -0.056405  -0.043353  -0.051837  -0.044625  -0.031086  -0.112667   1.200674   2.437846  -0.067746  -0.210290   0.791617   0.206759  -0.173584   -0.091586  -0.036399  -0.025777  -0.06978  -0.368875  -0.062843  -0.126819  -0.069149  -0.053488  -0.04798   1.607697  -0.061769  -0.251369  -0.347354  -0.094491  -0.079579  -0.106292  -0.07973  -0.158441  -0.044048  -0.053663  -0.044234  -0.025777  -0.031737  -0.073151  -0.110369  -0.192996   0.052182  -0.03857  -0.195226  -0.058963  -0.113268   -0.200121  -0.097844  -0.077956  -0.161184  -0.062271  -0.214742  -0.201770  -0.081063  -0.025308  -0.173076  -0.091529  -0.03574  -0.034971  -0.031387  -0.048866  -0.031936  -0.025777  -0.025777  -0.052162  -0.056313  -0.025777  -0.041695  -0.039392  -0.045429  -0.030706  -0.032612  -0.030806  -0.040828  -0.029934  -0.035969  -0.035757  -0.039241  -0.04163  -0.038528  -0.039008  -0.036495  -0.025777  -0.035599  -0.046487  -0.060191  -0.054631  -0.052418  -0.02736  -0.055353  -0.031406  -0.034998  -0.031734  -0.036324  -0.031299     0.205604  -0.397451  -0.050285  -0.04257  -0.134394  -0.050665  -0.026836  -0.041647  -0.026681  -0.050046  -0.025777  -0.053495  -0.044083  -0.050525  -0.549025  -0.077547  -0.082126  -0.108731  -0.061427  -0.132929  -0.218385  -0.025777  -0.043902  -0.036002  -0.042372  -0.053332  -0.109729  -0.061261  -0.047712  -0.056438  -0.025777  -0.037336  -0.047265  -0.080668  -0.078324  -0.066459  -0.030831  -0.055587  -0.033252  -0.033689  -0.046013  -0.025777  -0.027033  -0.045181  -0.034545  -0.054059  -0.043566  -0.040801   0.461228  -0.025777  -0.065869  -0.040404  -0.045445  -0.044036  -0.172755   0.419853   0.018111  -0.117042  -0.068674  -0.058599  -0.036377  -0.040078  -0.041262  -0.031   -0.065839  -0.047732  -0.062489  -0.034952  -0.153950  -0.051028  -0.089803  -0.170807  -0.02797  -0.115137  -0.025777  -0.025777  -0.087646  -0.04362  -0.034522  -0.072026  -0.047015  -0.05699  -0.034055  -0.039231  -0.026941  -0.08119  -0.04279  -0.064062  -0.040476  -0.033136  -0.045597  -0.047863  -0.047533  -0.104506  -0.143316  -0.064185  -0.03236  -0.077172   1.176360  -0.17121  -0.081922  -0.026198   0.098487  -0.046455  -0.038857  -0.124611  -0.08971   0.313252  -0.054052  -0.095995  -0.025777  -0.025777  -0.025777  -0.025777  -0.025777  -0.025777  -0.025777  -0.025777  -0.025777  -0.025777  -0.025777   -0.052142   0.033005  -0.052672   1.527717  -0.065226  -0.073078  -0.133157  -0.119094  -0.305282  -0.114162  -0.157135  -0.079466   0.845734  -0.098722  -0.032492  -0.175894   1.937812   -0.057356  -0.070097  -0.098588  -0.140187  -0.270758  -0.102972  -0.075437  -0.055179   0.108818  -0.0446   3.156567  -0.634220  -0.167802     1\n",
              "                                 0.096198  -0.195882  -0.025777  -0.073078  -0.194041  -0.183814   0.017193  -0.17187  -0.065289  -0.110393  -0.108789  -0.244349  -0.14216  -0.032492   0.012231                -0.178687                   -0.039203  -0.386753  -0.080089   1.165481  -0.192155  -0.025777  -0.048189  -0.154248  -0.19314   1.142910  -0.140103  -0.247376  -0.057693  -0.101167  -0.540884  -0.18437  -0.025777   0.353223  -0.200070   0.844283  -0.232068  -0.14658  -0.088243       -0.207727  -0.103725  -0.056337     -0.176469  -0.135201         -0.135201  -0.131501  -0.077537  -0.123616  -0.173639  -0.106728  -0.150826  -0.175315  -0.043993   2.456557   0.336987  -0.146775   -0.267556  -0.077408        -0.168871  -0.409814   0.121328  -0.185548  -0.135933          -0.173639   -0.14658        -0.082926  -0.043993          -0.165418        -0.173639  -0.172331  -0.347057  -0.077408  -0.082515  -0.103643  -0.340428  -0.241447  -0.200778  -0.133711  -0.114707  -0.073078     -0.403131  -0.173639      -0.139725  -0.137149  -0.190667  -0.14658      -0.07398  -0.300097    -0.025777  -0.123001      -0.309236   -0.080859  -0.169252  -0.088243         -0.025777  -0.03526  -0.133688  -0.122444  -0.031167  -0.062732  -0.036229  -0.059527  -0.025777  -0.067123  -0.051809  -0.053396  -0.040113  -0.07287  -0.027395  -0.058373  -0.052405  -0.039855  -0.052982  -0.057732  -0.060852  -0.025777  -0.025777  -0.033731  -0.036403  -0.035607  -0.046913  -0.05027  -0.06905  -0.067692  -0.077237  -0.122262  -0.062658  -0.182907   0.148710  -0.047585  -0.150827  -0.061126  -0.117044  -0.271297  -0.148734  -0.052101   0.018048  -0.17415  -0.103016  -0.228457  -0.038127  -0.070274  -0.051662  -0.072308  -0.025945  -0.167974  -0.068625  -0.07345  -0.040189  -0.092807  -0.087097  -0.034759  -0.045186  -0.122507  -0.024261  -0.315319  -0.054764  -0.145711  -0.131095  -0.034593  -0.231059  -0.084555  -0.042028  -0.128413  -0.063997  -0.103854  -0.060337  -0.075792  -0.025777  -0.031264  -0.101740  -0.03836  -0.045629  -0.052637  -0.040163  -0.050925  -0.037272  -0.062869  -0.03521  -0.044685  -0.086968  -0.136396   0.489215  -0.164150  -0.032063  -0.053124  -0.028745  -0.056405  -0.043353  -0.051837  -0.044625  -0.031086  -0.112667   0.712676   0.859114   0.015334  -0.047092   0.128852  -0.039074  -0.173584   -0.091586  -0.036399  -0.025777  -0.06978   0.489939  -0.062843   1.172842  -0.069149  -0.053488  -0.04798   1.607697  -0.061769   0.423836   0.495932  -0.094491  -0.134884  -0.106292  -0.07973  -0.158441  -0.044048  -0.053663  -0.044234  -0.025777  -0.031737  -0.073151  -0.110369  -0.192996   0.752562  -0.03857  -0.195226   0.249899   1.231273    1.448826   3.404971  -0.077956  -0.161184  -0.062271  -0.214742  -0.054789  -0.081063   2.770380  -0.051882  -0.091529  -0.03574  -0.034971  -0.031387  -0.048866  -0.031936  -0.025777  -0.025777  -0.052162  -0.056313  -0.025777  -0.041695  -0.039392  -0.045429  -0.030706  -0.032612  -0.030806  -0.040828  -0.029934  -0.035969  -0.035757  -0.039241  -0.04163  -0.038528  -0.039008  -0.036495  -0.025777  -0.035599  -0.046487  -0.060191  -0.054631  -0.052418  -0.02736  -0.055353  -0.031406  -0.034998  -0.031734  -0.036324  -0.031299    -0.406143  -0.397451  -0.050285  -0.04257  -0.134394  -0.050665  -0.026836  -0.041647  -0.026681  -0.050046  -0.025777  -0.053495  -0.044083  -0.050525  -0.163529  -0.077547  -0.082126  -0.108731  -0.061427  -0.132929  -0.218385  -0.025777  -0.043902  -0.036002  -0.042372  -0.053332  -0.109729  -0.061261  -0.047712  -0.056438  -0.025777  -0.037336  -0.047265  -0.080668  -0.078324  -0.066459  -0.030831  -0.055587  -0.033252  -0.033689  -0.046013  -0.025777  -0.027033  -0.045181  -0.034545  -0.054059  -0.043566  -0.040801  -0.733667  -0.025777  -0.065869  -0.040404  -0.045445  -0.128019  -0.172755  -0.151550  -0.088073  -0.171173  -0.068674  -0.058599  -0.036377  -0.040078  -0.041262  -0.031   -0.065839  -0.047732  -0.062489  -0.034952  -0.153950  -0.051028  -0.089803  -0.214488  -0.02797  -0.115137  -0.025777  -0.025777  -0.087646  -0.04362  -0.034522  -0.072026  -0.047015  -0.05699  -0.034055  -0.039231  -0.026941  -0.08119  -0.04279  -0.064062  -0.040476  -0.033136  -0.045597  -0.047863  -0.047533  -0.104506  -0.143316   0.681207  -0.03236  -0.077172   0.508591  -0.17121  -0.191238  -0.026198  -0.200812  -0.046455  -0.038857  -0.124611  -0.08971   1.123962  -0.054052  -0.095995  -0.025777  -0.025777  -0.025777  -0.025777  -0.025777  -0.025777  -0.025777  -0.025777  -0.025777  -0.025777  -0.025777   -0.052142   0.104821  -0.052672   0.196808  -0.065226  -0.073078  -0.133157  -0.119094   1.595704  -0.114162  -0.157135  -0.079466   0.197344  -0.098722  -0.032492  -0.175894   0.151822   -0.057356  -0.070097  -0.098588  -0.140187   0.626408  -0.102972  -0.075437  -0.055179  -0.382135  -0.0446  -1.013962  -0.634220  -0.113479     1\n",
              "                                                                                                  -0.154279  -0.17187  -0.065289  -0.110393   0.772050  -0.479787  -0.14216  -0.032492  -0.119340                -0.146935                   -0.039203  -0.366850  -0.080089   1.718895  -0.192155  -0.025777  -0.048189  -0.154248  -0.19314   0.479420  -0.140103  -0.217016  -0.057693   1.294023  -0.540884  -0.18437  -0.025777  -0.383045   1.936848   0.027655   1.236398  -0.14658  -0.088243       -0.207727  -0.103725  -0.056337     -0.176469  -0.135201         -0.135201  -0.131501  -0.077537  -0.123616  -0.173639  -0.106728  -0.150826  -0.175315  -0.043993  -0.156137  -0.331659  -0.146775    0.949784  -0.077408        -0.168871  -0.409814  -0.384823  -0.185548   2.522700          -0.173639   -0.14658        -0.082926  -0.043993           2.456887        -0.173639   1.057670  -0.347057  -0.077408  -0.082515  -0.103643  -0.340428  -0.241447  -0.200778  -0.133711  -0.114707  -0.073078     -0.403131  -0.173639      -0.139725  -0.137149   4.261190  -0.14658      -0.07398   0.527643    -0.025777  -0.123001       0.543712   -0.080859  -0.169252  -0.088243         -0.025777  -0.03526  -0.133688  -0.122444  -0.031167  -0.062732  -0.036229  -0.059527  -0.025777  -0.067123  -0.051809  -0.053396  -0.040113  -0.07287  -0.027395  -0.058373  -0.052405  -0.039855  -0.052982  -0.057732  -0.060852  -0.025777  -0.025777  -0.033731  -0.036403  -0.035607  -0.046913  -0.05027  -0.06905  -0.067692  -0.077237  -0.122262  -0.062658  -0.182907  -0.249640  -0.047585  -0.150827  -0.061126  -0.117044  -0.271297  -0.148734  -0.052101  -0.222767  -0.17415  -0.103016  -0.228457  -0.038127  -0.070274  -0.051662  -0.072308   0.979072  -0.167974  -0.068625  -0.07345  -0.040189  -0.092807  -0.087097  -0.034759  -0.045186  -0.122507  -0.080000  -0.288383  -0.054764  -0.145711  -0.131095  -0.034593  -0.211782  -0.084555  -0.042028  -0.128413  -0.063997  -0.103854  -0.060337  -0.075792  -0.025777  -0.031264  -0.287881  -0.03836  -0.045629  -0.052637  -0.040163  -0.050925  -0.037272  -0.062869  -0.03521  -0.044685  -0.086968   5.562828   0.480610  -0.338624  -0.032063  -0.053124  -0.028745  -0.056405  -0.043353  -0.051837  -0.044625  -0.031086  -0.112667   2.229392   0.583396  -0.067746   1.794710  -0.019343  -0.083771  -0.127824   -0.091586  -0.036399  -0.025777  -0.06978   0.598995  -0.062843  -0.105513  -0.069149  -0.053488  -0.04798   1.607697  -0.061769  -0.251369   0.097714  -0.094491  -0.134884  -0.106292  -0.07973  -0.158441  -0.044048  -0.053663  -0.044234  -0.025777  -0.031737  -0.073151  -0.110369  -0.192996   4.275688  -0.03857  -0.114032  -0.058963  -0.113268    0.375199  -0.097844   0.092585  -0.161184  -0.062271  -0.124918  -0.201770  -0.081063   1.211865   0.311701  -0.091529  -0.03574  -0.034971  -0.031387  -0.048866  -0.031936  -0.025777  -0.025777  -0.052162  -0.056313  -0.025777  -0.041695  -0.039392  -0.045429  -0.030706  -0.032612  -0.030806  -0.040828  -0.029934  -0.035969  -0.035757  -0.039241  -0.04163  -0.038528  -0.039008  -0.036495  -0.025777  -0.035599  -0.046487  -0.060191  -0.054631  -0.052418  -0.02736  -0.055353  -0.031406  -0.034998  -0.031734  -0.036324  -0.031299     0.205604  -0.397451  -0.050285  -0.04257  -0.134394  -0.050665  -0.026836  -0.041647  -0.026681  -0.050046  -0.025777  -0.053495  -0.044083  -0.050525  -0.163529  -0.077547  -0.082126  -0.108731  -0.061427  -0.132929  -0.218385  -0.025777  -0.043902  -0.036002  -0.042372  -0.053332  -0.109729  -0.061261  -0.047712  -0.056438  -0.025777  -0.037336  -0.047265  -0.080668  -0.078324  -0.066459  -0.030831  -0.055587  -0.033252  -0.033689  -0.046013  -0.025777  -0.027033  -0.045181  -0.034545  -0.054059  -0.043566  -0.040801   0.973326  -0.025777  -0.065869  -0.040404  -0.045445  -0.128019  -0.172755  -0.151550  -0.088073  -0.171173  -0.068674  -0.058599  -0.036377  -0.040078  -0.041262  -0.031   -0.065839  -0.047732  -0.062489  -0.034952  -0.153950  -0.051028  -0.089803  -0.214488  -0.02797  -0.115137  -0.025777  -0.025777  -0.087646  -0.04362  -0.034522  -0.072026  -0.047015  -0.05699  -0.034055  -0.039231  -0.026941  -0.08119  -0.04279  -0.064062  -0.040476  -0.033136  -0.045597  -0.047863  -0.047533  -0.104506  -0.143316  -0.064185  -0.03236  -0.077172  -0.208040  -0.17121  -0.191238  -0.026198  -0.200812  -0.046455  -0.038857  -0.124611  -0.08971   0.718607  -0.054052  -0.095995  -0.025777  -0.025777  -0.025777  -0.025777  -0.025777  -0.025777  -0.025777  -0.025777  -0.025777  -0.025777  -0.025777   -0.052142   0.033005  -0.052672   0.719374  -0.065226  -0.073078  -0.133157  -0.119094  -0.155204  -0.114162  -0.157135  -0.079466  -0.367138  -0.098722  -0.032492  -0.175894   0.625656   -0.057356  -0.070097  -0.098588  -0.140187  -0.158613  -0.102972  -0.075437  -0.055179  -0.382135  -0.0446  -0.523312   1.576741   0.076651     1\n",
              "           -0.569555  -0.10101  -0.496739  -0.195882  -0.025777  -0.073078  -0.194041  -0.183814  -0.325751  -0.17187  -0.343046  -0.110393  -0.108789  -0.479787  -0.14216  -0.032492  -0.645624                -0.369203                   -0.039203  -0.724928  -0.080089  -0.624733  -0.192155  -0.025777  -0.048189  -0.154248  -0.19314  -0.520025  -0.140103  -0.247376  -0.057693  -0.101167  -0.540884  -0.18437  -0.025777  -0.383045  -0.200070  -0.380659  -0.232068  -0.14658  -0.088243       -0.207727  -0.103725  -0.056337     -0.176469  -0.135201         -0.135201  -0.131501  -0.077537  -0.123616  -0.173639  -0.106728  -0.150826  -0.175315  -0.043993  -0.156137  -0.331659  -0.146775   -0.267556  -0.077408        -0.168871  -0.409814  -0.384823  -0.185548  -0.135933          -0.173639   -0.14658        -0.082926  -0.043993          -0.165418        -0.173639  -0.172331  -0.347057  -0.077408  -0.082515  -0.103643  -0.340428  -0.241447  -0.200778  -0.133711  -0.114707  -0.073078     -0.403131  -0.173639      -0.139725  -0.137149  -0.190667  -0.14658      -0.07398  -0.300097    -0.025777  -0.123001      -0.309236   -0.080859  -0.169252  -0.088243         -0.025777  -0.03526  -0.133688  -0.122444  -0.031167  -0.062732  -0.036229  -0.059527  -0.025777  -0.067123  -0.051809  -0.053396  -0.040113  -0.07287  -0.027395  -0.058373  -0.052405  -0.039855  -0.052982  -0.057732  -0.060852  -0.025777  -0.025777  -0.033731  -0.036403  -0.035607  -0.046913  -0.05027  -0.06905  -0.067692  -0.077237  -0.122262  -0.062658  -0.182907  -0.249640  -0.047585  -0.150827  -0.061126  -0.117044  -0.271297  -0.148734  -0.052101  -0.222767  -0.17415  -0.103016  -0.228457  -0.038127  -0.070274  -0.051662  -0.072308  -0.097732  -0.167974  -0.068625  -0.07345  -0.040189  -0.092807  -0.087097  -0.034759  -0.045186  -0.122507  -0.080000  -0.337679  -0.054764  -0.145711  -0.131095  -0.034593  -0.269614  -0.084555  -0.042028  -0.128413  -0.063997  -0.103854  -0.060337  -0.075792  -0.025777  -0.031264  -0.287881  -0.03836  -0.045629  -0.052637  -0.040163  -0.050925  -0.037272  -0.062869  -0.03521  -0.044685  -0.086968  -0.136396  -0.422940  -0.338624  -0.032063  -0.053124  -0.028745  -0.056405  -0.043353  -0.051837  -0.044625  -0.031086  -0.112667  -0.369621  -0.722302  -0.067746  -0.373487  -0.315735  -0.083771  -0.173584   -0.091586  -0.036399  -0.025777  -0.06978  -0.368875  -0.062843  -0.233349  -0.069149  -0.053488  -0.04798  -0.690403  -0.061769  -0.251369  -0.347354  -0.094491  -0.134884  -0.106292  -0.07973  -0.158441  -0.044048  -0.053663  -0.044234  -0.025777  -0.031737  -0.073151  -0.110369  -0.192996  -0.499633  -0.03857  -0.195226  -0.058963  -0.113268   -0.451540  -0.097844  -0.077956  -0.161184  -0.062271  -0.214742  -0.201770  -0.081063  -0.266315  -0.173076  -0.091529  -0.03574  -0.034971  -0.031387  -0.048866  -0.031936  -0.025777  -0.025777  -0.052162  -0.056313  -0.025777  -0.041695  -0.039392  -0.045429  -0.030706  -0.032612  -0.030806  -0.040828  -0.029934  -0.035969  -0.035757  -0.039241  -0.04163  -0.038528  -0.039008  -0.036495  -0.025777  -0.035599  -0.046487  -0.060191  -0.054631  -0.052418  -0.02736  -0.055353  -0.031406  -0.034998  -0.031734  -0.036324  -0.031299    -0.406143  -0.397451  -0.050285  -0.04257  -0.134394  -0.050665  -0.026836  -0.041647  -0.026681  -0.050046  -0.025777  -0.053495  -0.044083  -0.050525  -0.549025  -0.077547  -0.082126  -0.108731  -0.061427  -0.132929  -0.218385  -0.025777  -0.043902  -0.036002  -0.042372  -0.053332  -0.109729  -0.061261  -0.047712  -0.056438  -0.025777  -0.037336  -0.047265  -0.080668  -0.078324  -0.066459  -0.030831  -0.055587  -0.033252  -0.033689  -0.046013  -0.025777  -0.027033  -0.045181  -0.034545  -0.054059  -0.043566  -0.040801  -0.733667  -0.025777  -0.065869  -0.040404  -0.045445  -0.128019  -0.172755  -0.151550  -0.088073  -0.171173  -0.068674  -0.058599  -0.036377  -0.040078  -0.041262  -0.031   -0.065839  -0.047732  -0.062489  -0.034952  -0.153950  -0.051028  -0.089803  -0.214488  -0.02797  -0.115137  -0.025777  -0.025777  -0.087646  -0.04362  -0.034522  -0.072026  -0.047015  -0.05699  -0.034055  -0.039231  -0.026941  -0.08119  -0.04279  -0.064062  -0.040476  -0.033136  -0.045597  -0.047863  -0.047533  -0.104506  -0.143316  -0.064185  -0.03236  -0.077172  -0.208040  -0.17121  -0.191238  -0.026198  -0.200812  -0.046455  -0.038857  -0.124611  -0.08971  -0.902813  -0.054052  -0.095995  -0.025777  -0.025777  -0.025777  -0.025777  -0.025777  -0.025777  -0.025777  -0.025777  -0.025777  -0.025777  -0.025777   -0.052142  -0.228221  -0.052672  -0.399244  -0.065226  -0.073078  -0.133157  -0.119094  -0.305282  -0.114162  -0.157135  -0.079466  -0.367138  -0.098722  -0.032492  -0.175894  -0.394910   -0.057356  -0.070097  -0.098588  -0.140187  -0.270758  -0.102972  -0.075437  -0.055179  -0.382135  -0.0446  -1.749938  -0.634220  -0.548062     1\n",
              "Length: 963, dtype: int64"
            ]
          },
          "metadata": {},
          "execution_count": 32
        }
      ],
      "source": [
        "X_train.value_counts()"
      ]
    },
    {
      "cell_type": "code",
      "execution_count": null,
      "metadata": {
        "colab": {
          "base_uri": "https://localhost:8080/"
        },
        "id": "hzzNkPUtbi-P",
        "outputId": "8acd149b-d27b-4c53-83a0-958c5b584f0c"
      },
      "outputs": [
        {
          "output_type": "execute_result",
          "data": {
            "text/plain": [
              "count    963.000000\n",
              "mean       0.643821\n",
              "std        0.479118\n",
              "min        0.000000\n",
              "25%        0.000000\n",
              "50%        1.000000\n",
              "75%        1.000000\n",
              "max        1.000000\n",
              "Name: LABEL, dtype: float64"
            ]
          },
          "metadata": {},
          "execution_count": 33
        }
      ],
      "source": [
        "y_train.describe()"
      ]
    },
    {
      "cell_type": "code",
      "execution_count": null,
      "metadata": {
        "id": "xgZve7HVbjP6"
      },
      "outputs": [],
      "source": [
        ""
      ]
    },
    {
      "cell_type": "markdown",
      "metadata": {
        "id": "eeXHyLASbqaK"
      },
      "source": [
        "### Model building"
      ]
    },
    {
      "cell_type": "code",
      "execution_count": null,
      "metadata": {
        "id": "_JdI-SLPbwzQ"
      },
      "outputs": [],
      "source": [
        "#Logistic regression parameters to tune\n",
        "grid_param = {\"penalty\": [\"l1\", \"l2\", \"elasticnet\", \"none\"],\n",
        "              \"C\": [0.1, 1, 10, 100],\n",
        "              \"solver\": [\"newton-cg\", \"lbfgs\", \"liblinear\"], #\"saga\", \"sag\"],\n",
        "              \"max_iter\": [500]\n",
        "              }\n",
        "\n",
        "log_reg = LogisticRegression()\n",
        "search_grid = GridSearchCV(estimator = log_reg, param_grid = grid_param, n_jobs = -1, cv = 5, \n",
        "                           verbose = 3, return_train_score = True, scoring = \"accuracy\")"
      ]
    },
    {
      "cell_type": "code",
      "execution_count": null,
      "metadata": {
        "colab": {
          "base_uri": "https://localhost:8080/"
        },
        "id": "A7rXE9YPbxkR",
        "outputId": "bcb3f800-6d87-41e5-a9ba-584c57ebbdbe"
      },
      "outputs": [
        {
          "output_type": "stream",
          "name": "stdout",
          "text": [
            "Fitting 5 folds for each of 48 candidates, totalling 240 fits\n"
          ]
        },
        {
          "output_type": "stream",
          "name": "stderr",
          "text": [
            "/usr/local/lib/python3.7/dist-packages/sklearn/model_selection/_validation.py:372: FitFailedWarning: \n",
            "120 fits failed out of a total of 240.\n",
            "The score on these train-test partitions for these parameters will be set to nan.\n",
            "If these failures are not expected, you can try to debug them by setting error_score='raise'.\n",
            "\n",
            "Below are more details about the failures:\n",
            "--------------------------------------------------------------------------------\n",
            "20 fits failed with the following error:\n",
            "Traceback (most recent call last):\n",
            "  File \"/usr/local/lib/python3.7/dist-packages/sklearn/model_selection/_validation.py\", line 681, in _fit_and_score\n",
            "    estimator.fit(X_train, y_train, **fit_params)\n",
            "  File \"/usr/local/lib/python3.7/dist-packages/sklearn/linear_model/_logistic.py\", line 1461, in fit\n",
            "    solver = _check_solver(self.solver, self.penalty, self.dual)\n",
            "  File \"/usr/local/lib/python3.7/dist-packages/sklearn/linear_model/_logistic.py\", line 449, in _check_solver\n",
            "    % (solver, penalty)\n",
            "ValueError: Solver newton-cg supports only 'l2' or 'none' penalties, got l1 penalty.\n",
            "\n",
            "--------------------------------------------------------------------------------\n",
            "20 fits failed with the following error:\n",
            "Traceback (most recent call last):\n",
            "  File \"/usr/local/lib/python3.7/dist-packages/sklearn/model_selection/_validation.py\", line 681, in _fit_and_score\n",
            "    estimator.fit(X_train, y_train, **fit_params)\n",
            "  File \"/usr/local/lib/python3.7/dist-packages/sklearn/linear_model/_logistic.py\", line 1461, in fit\n",
            "    solver = _check_solver(self.solver, self.penalty, self.dual)\n",
            "  File \"/usr/local/lib/python3.7/dist-packages/sklearn/linear_model/_logistic.py\", line 449, in _check_solver\n",
            "    % (solver, penalty)\n",
            "ValueError: Solver lbfgs supports only 'l2' or 'none' penalties, got l1 penalty.\n",
            "\n",
            "--------------------------------------------------------------------------------\n",
            "20 fits failed with the following error:\n",
            "Traceback (most recent call last):\n",
            "  File \"/usr/local/lib/python3.7/dist-packages/sklearn/model_selection/_validation.py\", line 681, in _fit_and_score\n",
            "    estimator.fit(X_train, y_train, **fit_params)\n",
            "  File \"/usr/local/lib/python3.7/dist-packages/sklearn/linear_model/_logistic.py\", line 1461, in fit\n",
            "    solver = _check_solver(self.solver, self.penalty, self.dual)\n",
            "  File \"/usr/local/lib/python3.7/dist-packages/sklearn/linear_model/_logistic.py\", line 449, in _check_solver\n",
            "    % (solver, penalty)\n",
            "ValueError: Solver newton-cg supports only 'l2' or 'none' penalties, got elasticnet penalty.\n",
            "\n",
            "--------------------------------------------------------------------------------\n",
            "20 fits failed with the following error:\n",
            "Traceback (most recent call last):\n",
            "  File \"/usr/local/lib/python3.7/dist-packages/sklearn/model_selection/_validation.py\", line 681, in _fit_and_score\n",
            "    estimator.fit(X_train, y_train, **fit_params)\n",
            "  File \"/usr/local/lib/python3.7/dist-packages/sklearn/linear_model/_logistic.py\", line 1461, in fit\n",
            "    solver = _check_solver(self.solver, self.penalty, self.dual)\n",
            "  File \"/usr/local/lib/python3.7/dist-packages/sklearn/linear_model/_logistic.py\", line 449, in _check_solver\n",
            "    % (solver, penalty)\n",
            "ValueError: Solver lbfgs supports only 'l2' or 'none' penalties, got elasticnet penalty.\n",
            "\n",
            "--------------------------------------------------------------------------------\n",
            "20 fits failed with the following error:\n",
            "Traceback (most recent call last):\n",
            "  File \"/usr/local/lib/python3.7/dist-packages/sklearn/model_selection/_validation.py\", line 681, in _fit_and_score\n",
            "    estimator.fit(X_train, y_train, **fit_params)\n",
            "  File \"/usr/local/lib/python3.7/dist-packages/sklearn/linear_model/_logistic.py\", line 1461, in fit\n",
            "    solver = _check_solver(self.solver, self.penalty, self.dual)\n",
            "  File \"/usr/local/lib/python3.7/dist-packages/sklearn/linear_model/_logistic.py\", line 459, in _check_solver\n",
            "    solver\n",
            "ValueError: Only 'saga' solver supports elasticnet penalty, got solver=liblinear.\n",
            "\n",
            "--------------------------------------------------------------------------------\n",
            "20 fits failed with the following error:\n",
            "Traceback (most recent call last):\n",
            "  File \"/usr/local/lib/python3.7/dist-packages/sklearn/model_selection/_validation.py\", line 681, in _fit_and_score\n",
            "    estimator.fit(X_train, y_train, **fit_params)\n",
            "  File \"/usr/local/lib/python3.7/dist-packages/sklearn/linear_model/_logistic.py\", line 1461, in fit\n",
            "    solver = _check_solver(self.solver, self.penalty, self.dual)\n",
            "  File \"/usr/local/lib/python3.7/dist-packages/sklearn/linear_model/_logistic.py\", line 464, in _check_solver\n",
            "    raise ValueError(\"penalty='none' is not supported for the liblinear solver\")\n",
            "ValueError: penalty='none' is not supported for the liblinear solver\n",
            "\n",
            "  warnings.warn(some_fits_failed_message, FitFailedWarning)\n",
            "/usr/local/lib/python3.7/dist-packages/sklearn/model_selection/_search.py:972: UserWarning: One or more of the test scores are non-finite: [       nan        nan 0.82764465 0.82349957 0.82349957 0.81102655\n",
            "        nan        nan        nan 0.75181887 0.76746546        nan\n",
            "        nan        nan 0.82455743 0.81310989 0.81310989 0.79856434\n",
            "        nan        nan        nan 0.75181887 0.76746546        nan\n",
            "        nan        nan 0.81208441 0.79027958 0.79027958 0.7830041\n",
            "        nan        nan        nan 0.75181887 0.76746546        nan\n",
            "        nan        nan 0.7601576  0.78093696 0.78093696 0.77468156\n",
            "        nan        nan        nan 0.75181887 0.76746546        nan]\n",
            "  category=UserWarning,\n",
            "/usr/local/lib/python3.7/dist-packages/sklearn/model_selection/_search.py:972: UserWarning: One or more of the train scores are non-finite: [       nan        nan 0.86033251 0.92108141 0.92108141 0.91848468\n",
            "        nan        nan        nan 1.         0.99792376        nan\n",
            "        nan        nan 0.94159011 0.94782017 0.94782017 0.94574326\n",
            "        nan        nan        nan 1.         0.99792376        nan\n",
            "        nan        nan 0.9732609  0.96910876 0.96910876 0.96832988\n",
            "        nan        nan        nan 1.         0.99792376        nan\n",
            "        nan        nan 0.97949029 0.97923358 0.97923358 0.97871444\n",
            "        nan        nan        nan 1.         0.99792376        nan]\n",
            "  category=UserWarning,\n"
          ]
        }
      ],
      "source": [
        "search_results = search_grid.fit(X_train.values, y_train.values)"
      ]
    },
    {
      "cell_type": "code",
      "execution_count": null,
      "metadata": {
        "colab": {
          "base_uri": "https://localhost:8080/"
        },
        "id": "Av4cS2vlbx3m",
        "outputId": "097e2b92-a15e-4125-dcd2-0201132c5ba1"
      },
      "outputs": [
        {
          "output_type": "execute_result",
          "data": {
            "text/plain": [
              "{'C': 0.1, 'max_iter': 500, 'penalty': 'l1', 'solver': 'liblinear'}"
            ]
          },
          "metadata": {},
          "execution_count": 36
        }
      ],
      "source": [
        "#Grid search results\n",
        "search_results.best_params_"
      ]
    },
    {
      "cell_type": "code",
      "execution_count": null,
      "metadata": {
        "colab": {
          "base_uri": "https://localhost:8080/"
        },
        "id": "loPWjJpqby6S",
        "outputId": "70b9f8f0-54da-40ab-edc6-4524177af866"
      },
      "outputs": [
        {
          "output_type": "stream",
          "name": "stdout",
          "text": [
            "[LibLinear]"
          ]
        },
        {
          "output_type": "stream",
          "name": "stderr",
          "text": [
            "/usr/local/lib/python3.7/dist-packages/sklearn/linear_model/_logistic.py:1526: UserWarning: 'n_jobs' > 1 does not have any effect when 'solver' is set to 'liblinear'. Got 'n_jobs' = 2.\n",
            "  \" = {}.\".format(effective_n_jobs(self.n_jobs))\n"
          ]
        },
        {
          "output_type": "execute_result",
          "data": {
            "text/plain": [
              "LogisticRegression(C=0.1, max_iter=500, n_jobs=-1, penalty='l1',\n",
              "                   solver='liblinear', verbose=3)"
            ]
          },
          "metadata": {},
          "execution_count": 37
        }
      ],
      "source": [
        "#Build the model with the best parameters\n",
        "lr = LogisticRegression(C = 0.1, penalty = 'l1', solver = 'liblinear', max_iter = 500, verbose = 3, n_jobs = -1)\n",
        "lr.fit(X_train.values, y_train.values)"
      ]
    },
    {
      "cell_type": "markdown",
      "metadata": {
        "id": "r0TXwysZb0EC"
      },
      "source": [
        "### Graphs"
      ]
    },
    {
      "cell_type": "code",
      "execution_count": null,
      "metadata": {
        "colab": {
          "base_uri": "https://localhost:8080/"
        },
        "id": "XO2sHYTsb3d9",
        "outputId": "4e6798e0-7703-4d2b-d7bb-de3cf1d803d3"
      },
      "outputs": [
        {
          "output_type": "stream",
          "name": "stdout",
          "text": [
            "Accuracy: 82.12%\n"
          ]
        }
      ],
      "source": [
        "#Get the accuracy score for the performance\n",
        "lr_score = lr.score(X_test.values, y_test.values)\n",
        "print(f'Accuracy: {round(lr_score*100, 2)}%')"
      ]
    },
    {
      "cell_type": "code",
      "execution_count": null,
      "metadata": {
        "colab": {
          "base_uri": "https://localhost:8080/"
        },
        "id": "0BVHRMz0b3-K",
        "outputId": "5508a26d-a8f5-4cd8-a2c9-fdf7d3ee0527"
      },
      "outputs": [
        {
          "output_type": "stream",
          "name": "stdout",
          "text": [
            "Expected output:  Retired \n",
            "Predicted output:  Retired \n",
            "Index:  [101]\n"
          ]
        }
      ],
      "source": [
        "#Predict with the test set\n",
        "index = np.random.randint(0, y_test.shape)\n",
        "y_output = y_test.values[index]\n",
        "prediction = lr.predict(X_test.values[index])\n",
        "print('Expected output: ', 'Non retired' if y_output == 0 else 'Retired',\n",
        "      '\\nPredicted output: ', 'Non retired' if prediction == 0 else 'Retired',\n",
        "      '\\nIndex: ', index)"
      ]
    },
    {
      "cell_type": "code",
      "execution_count": null,
      "metadata": {
        "colab": {
          "base_uri": "https://localhost:8080/",
          "height": 206
        },
        "id": "C_BBsvT3b5p0",
        "outputId": "c6dd263a-a25c-43e4-f433-3e74bd33105e"
      },
      "outputs": [
        {
          "output_type": "execute_result",
          "data": {
            "text/html": [
              "<style  type=\"text/css\" >\n",
              "#T_c2d89750_6fc9_11ec_9685_0242ac1c0002row0_col0,#T_c2d89750_6fc9_11ec_9685_0242ac1c0002row0_col1,#T_c2d89750_6fc9_11ec_9685_0242ac1c0002row0_col2,#T_c2d89750_6fc9_11ec_9685_0242ac1c0002row2_col3{\n",
              "            background-color:  #0b0405;\n",
              "            color:  #f1f1f1;\n",
              "        }#T_c2d89750_6fc9_11ec_9685_0242ac1c0002row0_col3{\n",
              "            background-color:  #3e5095;\n",
              "            color:  #f1f1f1;\n",
              "        }#T_c2d89750_6fc9_11ec_9685_0242ac1c0002row1_col0,#T_c2d89750_6fc9_11ec_9685_0242ac1c0002row1_col1,#T_c2d89750_6fc9_11ec_9685_0242ac1c0002row1_col2,#T_c2d89750_6fc9_11ec_9685_0242ac1c0002row3_col3,#T_c2d89750_6fc9_11ec_9685_0242ac1c0002row4_col3{\n",
              "            background-color:  #def5e5;\n",
              "            color:  #000000;\n",
              "        }#T_c2d89750_6fc9_11ec_9685_0242ac1c0002row1_col3,#T_c2d89750_6fc9_11ec_9685_0242ac1c0002row2_col1,#T_c2d89750_6fc9_11ec_9685_0242ac1c0002row4_col0,#T_c2d89750_6fc9_11ec_9685_0242ac1c0002row4_col1,#T_c2d89750_6fc9_11ec_9685_0242ac1c0002row4_col2{\n",
              "            background-color:  #36a3ab;\n",
              "            color:  #000000;\n",
              "        }#T_c2d89750_6fc9_11ec_9685_0242ac1c0002row2_col0{\n",
              "            background-color:  #3eb4ad;\n",
              "            color:  #000000;\n",
              "        }#T_c2d89750_6fc9_11ec_9685_0242ac1c0002row2_col2{\n",
              "            background-color:  #39acac;\n",
              "            color:  #000000;\n",
              "        }#T_c2d89750_6fc9_11ec_9685_0242ac1c0002row3_col0,#T_c2d89750_6fc9_11ec_9685_0242ac1c0002row3_col1,#T_c2d89750_6fc9_11ec_9685_0242ac1c0002row3_col2{\n",
              "            background-color:  #357ba3;\n",
              "            color:  #000000;\n",
              "        }</style><table id=\"T_c2d89750_6fc9_11ec_9685_0242ac1c0002\" class=\"dataframe\"><thead>    <tr>        <th class=\"blank level0\" ></th>        <th class=\"col_heading level0 col0\" >precision</th>        <th class=\"col_heading level0 col1\" >recall</th>        <th class=\"col_heading level0 col2\" >f1-score</th>        <th class=\"col_heading level0 col3\" >support</th>    </tr></thead><tbody>\n",
              "                <tr>\n",
              "                        <th id=\"T_c2d89750_6fc9_11ec_9685_0242ac1c0002level0_row0\" class=\"row_heading level0 row0\" >non retired</th>\n",
              "                        <td id=\"T_c2d89750_6fc9_11ec_9685_0242ac1c0002row0_col0\" class=\"data row0 col0\" >0.800000</td>\n",
              "                        <td id=\"T_c2d89750_6fc9_11ec_9685_0242ac1c0002row0_col1\" class=\"data row0 col1\" >0.666667</td>\n",
              "                        <td id=\"T_c2d89750_6fc9_11ec_9685_0242ac1c0002row0_col2\" class=\"data row0 col2\" >0.727273</td>\n",
              "                        <td id=\"T_c2d89750_6fc9_11ec_9685_0242ac1c0002row0_col3\" class=\"data row0 col3\" >108.000000</td>\n",
              "            </tr>\n",
              "            <tr>\n",
              "                        <th id=\"T_c2d89750_6fc9_11ec_9685_0242ac1c0002level0_row1\" class=\"row_heading level0 row1\" >retired</th>\n",
              "                        <td id=\"T_c2d89750_6fc9_11ec_9685_0242ac1c0002row1_col0\" class=\"data row1 col0\" >0.830189</td>\n",
              "                        <td id=\"T_c2d89750_6fc9_11ec_9685_0242ac1c0002row1_col1\" class=\"data row1 col1\" >0.907216</td>\n",
              "                        <td id=\"T_c2d89750_6fc9_11ec_9685_0242ac1c0002row1_col2\" class=\"data row1 col2\" >0.866995</td>\n",
              "                        <td id=\"T_c2d89750_6fc9_11ec_9685_0242ac1c0002row1_col3\" class=\"data row1 col3\" >194.000000</td>\n",
              "            </tr>\n",
              "            <tr>\n",
              "                        <th id=\"T_c2d89750_6fc9_11ec_9685_0242ac1c0002level0_row2\" class=\"row_heading level0 row2\" >accuracy</th>\n",
              "                        <td id=\"T_c2d89750_6fc9_11ec_9685_0242ac1c0002row2_col0\" class=\"data row2 col0\" >0.821192</td>\n",
              "                        <td id=\"T_c2d89750_6fc9_11ec_9685_0242ac1c0002row2_col1\" class=\"data row2 col1\" >0.821192</td>\n",
              "                        <td id=\"T_c2d89750_6fc9_11ec_9685_0242ac1c0002row2_col2\" class=\"data row2 col2\" >0.821192</td>\n",
              "                        <td id=\"T_c2d89750_6fc9_11ec_9685_0242ac1c0002row2_col3\" class=\"data row2 col3\" >0.821192</td>\n",
              "            </tr>\n",
              "            <tr>\n",
              "                        <th id=\"T_c2d89750_6fc9_11ec_9685_0242ac1c0002level0_row3\" class=\"row_heading level0 row3\" >macro avg</th>\n",
              "                        <td id=\"T_c2d89750_6fc9_11ec_9685_0242ac1c0002row3_col0\" class=\"data row3 col0\" >0.815094</td>\n",
              "                        <td id=\"T_c2d89750_6fc9_11ec_9685_0242ac1c0002row3_col1\" class=\"data row3 col1\" >0.786942</td>\n",
              "                        <td id=\"T_c2d89750_6fc9_11ec_9685_0242ac1c0002row3_col2\" class=\"data row3 col2\" >0.797134</td>\n",
              "                        <td id=\"T_c2d89750_6fc9_11ec_9685_0242ac1c0002row3_col3\" class=\"data row3 col3\" >302.000000</td>\n",
              "            </tr>\n",
              "            <tr>\n",
              "                        <th id=\"T_c2d89750_6fc9_11ec_9685_0242ac1c0002level0_row4\" class=\"row_heading level0 row4\" >weighted avg</th>\n",
              "                        <td id=\"T_c2d89750_6fc9_11ec_9685_0242ac1c0002row4_col0\" class=\"data row4 col0\" >0.819393</td>\n",
              "                        <td id=\"T_c2d89750_6fc9_11ec_9685_0242ac1c0002row4_col1\" class=\"data row4 col1\" >0.821192</td>\n",
              "                        <td id=\"T_c2d89750_6fc9_11ec_9685_0242ac1c0002row4_col2\" class=\"data row4 col2\" >0.817028</td>\n",
              "                        <td id=\"T_c2d89750_6fc9_11ec_9685_0242ac1c0002row4_col3\" class=\"data row4 col3\" >302.000000</td>\n",
              "            </tr>\n",
              "    </tbody></table>"
            ],
            "text/plain": [
              "<pandas.io.formats.style.Styler at 0x7f257b02dc10>"
            ]
          },
          "metadata": {},
          "execution_count": 40
        }
      ],
      "source": [
        "labels = [0, 1]\n",
        "y_predict = lr.predict(X_test.values)\n",
        "report = classification_report(y_test.values, y_predict, zero_division = 0, output_dict = True, labels = labels)\n",
        "df_report = pd.DataFrame.from_dict(report, orient = 'columns').T\n",
        "df_report.rename(index = {'0': 'non retired', '1': 'retired'}, inplace = True)\n",
        "cmap = sn.color_palette('mako', as_cmap = True)\n",
        "df_image = df_report.style.background_gradient(cmap = cmap)\n",
        "df_image\n",
        "#dfi.export(df_image, RESULTS_PATH + 'classification_report.png')\n",
        "#df_report[['precision', 'recall', 'f1-score']].style.applymap(lambda v: 'background: green' if (v > 0.5) else '')"
      ]
    },
    {
      "cell_type": "code",
      "execution_count": null,
      "metadata": {
        "colab": {
          "base_uri": "https://localhost:8080/",
          "height": 586
        },
        "id": "ZngSh0vrb6Pz",
        "outputId": "7605d201-c8ef-4295-9b54-edaedd949ffb"
      },
      "outputs": [
        {
          "output_type": "display_data",
          "data": {
            "image/png": "[encoded data removed]",
            "text/plain": [
              "<Figure size 576x576 with 4 Axes>"
            ]
          },
          "metadata": {}
        }
      ],
      "source": [
        "# Confusion matrix plot\n",
        "#y_predict = np.zeros(y_predicted.shape[0])\n",
        "#for i in range(y_predicted.shape[0]):\n",
        "#    y_predict[i] = y_predicted[i,:].argmax() \n",
        "    \n",
        "y_expect = y_test.values\n",
        "labels = [0, 1]\n",
        "str_labels = ['Non retired', 'Retired']\n",
        "cm = confusion_matrix(y_expect, y_predict, labels = labels)\n",
        "df_cm = pd.DataFrame(cm, index = str_labels, columns = str_labels)\n",
        "\n",
        "fig = plt.figure(figsize = (8, 8))\n",
        "ax = fig.add_subplot(2, 1, 1)\n",
        "ax.set_title('Confusion Matrix (Percentage)')\n",
        "sn.set(font_scale = 0.8)\n",
        "percentage = df_cm/df_cm.sum()\n",
        "ax = sn.heatmap(percentage.replace(np.nan, 0), annot = True, fmt = '.2%', cmap = 'mako')\n",
        "ax.set_xlabel('Predicted label')\n",
        "ax.set_ylabel('Expected label')\n",
        "\n",
        "ax = fig.add_subplot(2, 1, 2)\n",
        "ax.set_title('Confusion Matrix (Number)')\n",
        "ax = sn.heatmap(df_cm, annot = True, fmt = 'd', cmap = 'crest')\n",
        "ax.set_xlabel('Predicted label')\n",
        "ax.set_ylabel('Expected label')\n",
        "fig.tight_layout()\n",
        "plt.show()\n",
        "\n",
        "#ax.figure.savefig(RESULTS_PATH + 'confusionMatrix1.png')\n",
        "#disp = ConfusionMatrixDisplay(confusion_matrix = cm, display_labels = labels)\n",
        "#disp.plot()"
      ]
    },
    {
      "cell_type": "markdown",
      "metadata": {
        "id": "PW9QbutGb7dy"
      },
      "source": [
        "### Results"
      ]
    },
    {
      "cell_type": "code",
      "execution_count": null,
      "metadata": {
        "id": "jOo5vNqpb9WK"
      },
      "outputs": [],
      "source": [
        ""
      ]
    },
    {
      "cell_type": "code",
      "execution_count": null,
      "metadata": {
        "id": "awayDgxCb-T2"
      },
      "outputs": [],
      "source": [
        ""
      ]
    },
    {
      "cell_type": "markdown",
      "metadata": {
        "id": "VRf7-YqFcK13"
      },
      "source": [
        "### Metrics"
      ]
    },
    {
      "cell_type": "code",
      "execution_count": null,
      "metadata": {
        "id": "KvijFAdkcNlZ"
      },
      "outputs": [],
      "source": [
        ""
      ]
    },
    {
      "cell_type": "code",
      "execution_count": null,
      "metadata": {
        "id": "7SvGr8KacPTu"
      },
      "outputs": [],
      "source": [
        ""
      ]
    },
    {
      "cell_type": "markdown",
      "metadata": {
        "id": "Tfpowl8rcP8n"
      },
      "source": [
        "### End"
      ]
    },
    {
      "cell_type": "markdown",
      "metadata": {
        "id": "Y1_34Pe9yGA0"
      },
      "source": [
        "## Logistic regression"
      ]
    },
    {
      "cell_type": "markdown",
      "metadata": {
        "id": "3NPDgvcByGA3"
      },
      "source": [
        "### Data inporting"
      ]
    },
    {
      "cell_type": "code",
      "execution_count": null,
      "metadata": {
        "colab": {
          "base_uri": "https://localhost:8080/",
          "height": 299
        },
        "id": "RjQvNMS1yGA4",
        "outputId": "37e90779-dd21-42c5-c9b7-f1ac36f44fbd"
      },
      "outputs": [
        {
          "output_type": "execute_result",
          "data": {
            "text/html": [
              "\n",
              "  <div id=\"df-911b1ee6-81cb-4be3-a4da-610961449847\">\n",
              "    <div class=\"colab-df-container\">\n",
              "      <div>\n",
              "<style scoped>\n",
              "    .dataframe tbody tr th:only-of-type {\n",
              "        vertical-align: middle;\n",
              "    }\n",
              "\n",
              "    .dataframe tbody tr th {\n",
              "        vertical-align: top;\n",
              "    }\n",
              "\n",
              "    .dataframe thead th {\n",
              "        text-align: right;\n",
              "    }\n",
              "</style>\n",
              "<table border=\"1\" class=\"dataframe\">\n",
              "  <thead>\n",
              "    <tr style=\"text-align: right;\">\n",
              "      <th></th>\n",
              "      <th>0</th>\n",
              "      <th>1</th>\n",
              "      <th>2</th>\n",
              "      <th>3</th>\n",
              "      <th>4</th>\n",
              "      <th>5</th>\n",
              "      <th>6</th>\n",
              "      <th>7</th>\n",
              "      <th>8</th>\n",
              "      <th>9</th>\n",
              "      <th>10</th>\n",
              "      <th>11</th>\n",
              "      <th>12</th>\n",
              "      <th>13</th>\n",
              "      <th>14</th>\n",
              "      <th>15</th>\n",
              "      <th>16</th>\n",
              "      <th>17</th>\n",
              "      <th>18</th>\n",
              "      <th>19</th>\n",
              "      <th>20</th>\n",
              "      <th>21</th>\n",
              "      <th>22</th>\n",
              "      <th>23</th>\n",
              "      <th>24</th>\n",
              "      <th>25</th>\n",
              "      <th>26</th>\n",
              "      <th>27</th>\n",
              "      <th>28</th>\n",
              "      <th>29</th>\n",
              "      <th>30</th>\n",
              "      <th>31</th>\n",
              "      <th>32</th>\n",
              "      <th>33</th>\n",
              "      <th>34</th>\n",
              "      <th>35</th>\n",
              "      <th>36</th>\n",
              "      <th>37</th>\n",
              "      <th>38</th>\n",
              "      <th>39</th>\n",
              "      <th>...</th>\n",
              "      <th>211</th>\n",
              "      <th>212</th>\n",
              "      <th>213</th>\n",
              "      <th>214</th>\n",
              "      <th>215</th>\n",
              "      <th>216</th>\n",
              "      <th>217</th>\n",
              "      <th>218</th>\n",
              "      <th>219</th>\n",
              "      <th>220</th>\n",
              "      <th>221</th>\n",
              "      <th>222</th>\n",
              "      <th>223</th>\n",
              "      <th>224</th>\n",
              "      <th>225</th>\n",
              "      <th>226</th>\n",
              "      <th>227</th>\n",
              "      <th>228</th>\n",
              "      <th>229</th>\n",
              "      <th>230</th>\n",
              "      <th>231</th>\n",
              "      <th>232</th>\n",
              "      <th>233</th>\n",
              "      <th>234</th>\n",
              "      <th>235</th>\n",
              "      <th>236</th>\n",
              "      <th>237</th>\n",
              "      <th>238</th>\n",
              "      <th>239</th>\n",
              "      <th>240</th>\n",
              "      <th>241</th>\n",
              "      <th>242</th>\n",
              "      <th>243</th>\n",
              "      <th>244</th>\n",
              "      <th>245</th>\n",
              "      <th>246</th>\n",
              "      <th>247</th>\n",
              "      <th>248</th>\n",
              "      <th>249</th>\n",
              "      <th>LABEL</th>\n",
              "    </tr>\n",
              "  </thead>\n",
              "  <tbody>\n",
              "    <tr>\n",
              "      <th>747</th>\n",
              "      <td>0.031118</td>\n",
              "      <td>-0.003853</td>\n",
              "      <td>-0.011866</td>\n",
              "      <td>0.018601</td>\n",
              "      <td>0.033736</td>\n",
              "      <td>-0.005494</td>\n",
              "      <td>-0.010979</td>\n",
              "      <td>-0.004350</td>\n",
              "      <td>-0.008491</td>\n",
              "      <td>-0.004044</td>\n",
              "      <td>0.003058</td>\n",
              "      <td>0.003363</td>\n",
              "      <td>-0.019239</td>\n",
              "      <td>-0.011645</td>\n",
              "      <td>-0.020476</td>\n",
              "      <td>0.011623</td>\n",
              "      <td>-0.004313</td>\n",
              "      <td>-0.000922</td>\n",
              "      <td>0.018945</td>\n",
              "      <td>0.031860</td>\n",
              "      <td>-0.012596</td>\n",
              "      <td>0.026967</td>\n",
              "      <td>0.009459</td>\n",
              "      <td>0.041253</td>\n",
              "      <td>0.000337</td>\n",
              "      <td>-0.045333</td>\n",
              "      <td>-0.022955</td>\n",
              "      <td>0.047356</td>\n",
              "      <td>-0.021057</td>\n",
              "      <td>-0.011200</td>\n",
              "      <td>0.042616</td>\n",
              "      <td>-0.025583</td>\n",
              "      <td>-0.028408</td>\n",
              "      <td>-0.021588</td>\n",
              "      <td>0.002124</td>\n",
              "      <td>-0.030334</td>\n",
              "      <td>-0.004672</td>\n",
              "      <td>0.013303</td>\n",
              "      <td>0.009297</td>\n",
              "      <td>0.011553</td>\n",
              "      <td>...</td>\n",
              "      <td>0.019369</td>\n",
              "      <td>-0.017773</td>\n",
              "      <td>0.055143</td>\n",
              "      <td>-0.016110</td>\n",
              "      <td>-0.064757</td>\n",
              "      <td>-0.073149</td>\n",
              "      <td>0.007010</td>\n",
              "      <td>0.009655</td>\n",
              "      <td>-0.004546</td>\n",
              "      <td>-0.041909</td>\n",
              "      <td>-0.031722</td>\n",
              "      <td>0.001862</td>\n",
              "      <td>-0.028077</td>\n",
              "      <td>-0.018691</td>\n",
              "      <td>-0.010342</td>\n",
              "      <td>-0.028026</td>\n",
              "      <td>0.046765</td>\n",
              "      <td>-0.023055</td>\n",
              "      <td>0.003414</td>\n",
              "      <td>0.010596</td>\n",
              "      <td>-0.047592</td>\n",
              "      <td>-0.024576</td>\n",
              "      <td>0.013610</td>\n",
              "      <td>-0.033772</td>\n",
              "      <td>-0.048985</td>\n",
              "      <td>0.021626</td>\n",
              "      <td>0.019472</td>\n",
              "      <td>0.003585</td>\n",
              "      <td>-0.021219</td>\n",
              "      <td>0.019429</td>\n",
              "      <td>0.036189</td>\n",
              "      <td>-0.021999</td>\n",
              "      <td>-0.000178</td>\n",
              "      <td>-0.042560</td>\n",
              "      <td>-0.012701</td>\n",
              "      <td>0.004586</td>\n",
              "      <td>0.005243</td>\n",
              "      <td>0.040577</td>\n",
              "      <td>0.009950</td>\n",
              "      <td>1</td>\n",
              "    </tr>\n",
              "    <tr>\n",
              "      <th>1316</th>\n",
              "      <td>-0.016303</td>\n",
              "      <td>-0.001187</td>\n",
              "      <td>0.003726</td>\n",
              "      <td>-0.008985</td>\n",
              "      <td>0.005879</td>\n",
              "      <td>0.002926</td>\n",
              "      <td>0.007836</td>\n",
              "      <td>-0.003121</td>\n",
              "      <td>-0.006686</td>\n",
              "      <td>-0.001131</td>\n",
              "      <td>0.006543</td>\n",
              "      <td>-0.003919</td>\n",
              "      <td>0.003270</td>\n",
              "      <td>-0.000580</td>\n",
              "      <td>0.002373</td>\n",
              "      <td>0.002159</td>\n",
              "      <td>0.000052</td>\n",
              "      <td>-0.000881</td>\n",
              "      <td>-0.001427</td>\n",
              "      <td>-0.012090</td>\n",
              "      <td>0.000573</td>\n",
              "      <td>-0.005820</td>\n",
              "      <td>-0.007604</td>\n",
              "      <td>-0.003316</td>\n",
              "      <td>-0.001462</td>\n",
              "      <td>-0.007192</td>\n",
              "      <td>-0.000611</td>\n",
              "      <td>-0.000608</td>\n",
              "      <td>-0.005052</td>\n",
              "      <td>-0.000180</td>\n",
              "      <td>0.015975</td>\n",
              "      <td>-0.001644</td>\n",
              "      <td>0.000741</td>\n",
              "      <td>0.007508</td>\n",
              "      <td>0.009801</td>\n",
              "      <td>0.013718</td>\n",
              "      <td>0.008082</td>\n",
              "      <td>-0.005065</td>\n",
              "      <td>0.019270</td>\n",
              "      <td>-0.004759</td>\n",
              "      <td>...</td>\n",
              "      <td>-0.008615</td>\n",
              "      <td>-0.003489</td>\n",
              "      <td>-0.021904</td>\n",
              "      <td>0.033599</td>\n",
              "      <td>0.011564</td>\n",
              "      <td>-0.001809</td>\n",
              "      <td>0.010554</td>\n",
              "      <td>-0.025474</td>\n",
              "      <td>-0.019840</td>\n",
              "      <td>-0.007292</td>\n",
              "      <td>-0.004327</td>\n",
              "      <td>0.006783</td>\n",
              "      <td>-0.006779</td>\n",
              "      <td>0.010027</td>\n",
              "      <td>-0.012686</td>\n",
              "      <td>0.004801</td>\n",
              "      <td>-0.008030</td>\n",
              "      <td>-0.008941</td>\n",
              "      <td>-0.021905</td>\n",
              "      <td>0.009931</td>\n",
              "      <td>-0.020245</td>\n",
              "      <td>-0.012941</td>\n",
              "      <td>-0.001704</td>\n",
              "      <td>0.011402</td>\n",
              "      <td>-0.001268</td>\n",
              "      <td>0.006296</td>\n",
              "      <td>-0.014958</td>\n",
              "      <td>-0.008104</td>\n",
              "      <td>0.011017</td>\n",
              "      <td>0.018719</td>\n",
              "      <td>0.030700</td>\n",
              "      <td>-0.013505</td>\n",
              "      <td>-0.001509</td>\n",
              "      <td>0.014471</td>\n",
              "      <td>0.007839</td>\n",
              "      <td>0.021143</td>\n",
              "      <td>0.001272</td>\n",
              "      <td>0.010410</td>\n",
              "      <td>0.007295</td>\n",
              "      <td>0</td>\n",
              "    </tr>\n",
              "    <tr>\n",
              "      <th>1361</th>\n",
              "      <td>0.014932</td>\n",
              "      <td>-0.004766</td>\n",
              "      <td>0.008003</td>\n",
              "      <td>-0.000712</td>\n",
              "      <td>0.013841</td>\n",
              "      <td>-0.013318</td>\n",
              "      <td>-0.027135</td>\n",
              "      <td>0.000811</td>\n",
              "      <td>-0.035305</td>\n",
              "      <td>0.065424</td>\n",
              "      <td>-0.008593</td>\n",
              "      <td>0.007759</td>\n",
              "      <td>0.030770</td>\n",
              "      <td>0.041065</td>\n",
              "      <td>0.037136</td>\n",
              "      <td>-0.005233</td>\n",
              "      <td>0.008501</td>\n",
              "      <td>0.014370</td>\n",
              "      <td>-0.009594</td>\n",
              "      <td>0.010161</td>\n",
              "      <td>-0.003037</td>\n",
              "      <td>-0.013271</td>\n",
              "      <td>-0.039381</td>\n",
              "      <td>-0.009662</td>\n",
              "      <td>-0.014552</td>\n",
              "      <td>-0.007745</td>\n",
              "      <td>-0.009387</td>\n",
              "      <td>-0.002472</td>\n",
              "      <td>0.002183</td>\n",
              "      <td>-0.003069</td>\n",
              "      <td>0.027628</td>\n",
              "      <td>-0.005477</td>\n",
              "      <td>-0.001515</td>\n",
              "      <td>0.024060</td>\n",
              "      <td>-0.001291</td>\n",
              "      <td>0.021617</td>\n",
              "      <td>0.003013</td>\n",
              "      <td>-0.015203</td>\n",
              "      <td>-0.007885</td>\n",
              "      <td>-0.013418</td>\n",
              "      <td>...</td>\n",
              "      <td>-0.007142</td>\n",
              "      <td>-0.038025</td>\n",
              "      <td>-0.009068</td>\n",
              "      <td>-0.010500</td>\n",
              "      <td>-0.006222</td>\n",
              "      <td>0.018688</td>\n",
              "      <td>-0.010502</td>\n",
              "      <td>-0.010069</td>\n",
              "      <td>-0.016253</td>\n",
              "      <td>-0.005338</td>\n",
              "      <td>-0.000777</td>\n",
              "      <td>0.010455</td>\n",
              "      <td>0.000602</td>\n",
              "      <td>0.007105</td>\n",
              "      <td>-0.013949</td>\n",
              "      <td>0.028996</td>\n",
              "      <td>-0.007629</td>\n",
              "      <td>-0.004710</td>\n",
              "      <td>-0.013989</td>\n",
              "      <td>0.004434</td>\n",
              "      <td>0.002766</td>\n",
              "      <td>0.033340</td>\n",
              "      <td>-0.041802</td>\n",
              "      <td>-0.023806</td>\n",
              "      <td>0.029329</td>\n",
              "      <td>0.023717</td>\n",
              "      <td>-0.019865</td>\n",
              "      <td>-0.007484</td>\n",
              "      <td>-0.005090</td>\n",
              "      <td>0.004732</td>\n",
              "      <td>0.004636</td>\n",
              "      <td>0.013462</td>\n",
              "      <td>-0.008810</td>\n",
              "      <td>0.021628</td>\n",
              "      <td>-0.011522</td>\n",
              "      <td>-0.023228</td>\n",
              "      <td>-0.000628</td>\n",
              "      <td>-0.002695</td>\n",
              "      <td>0.002805</td>\n",
              "      <td>0</td>\n",
              "    </tr>\n",
              "    <tr>\n",
              "      <th>924</th>\n",
              "      <td>-0.016974</td>\n",
              "      <td>-0.000849</td>\n",
              "      <td>0.001470</td>\n",
              "      <td>-0.015320</td>\n",
              "      <td>0.005249</td>\n",
              "      <td>0.002551</td>\n",
              "      <td>0.013925</td>\n",
              "      <td>-0.011034</td>\n",
              "      <td>-0.012120</td>\n",
              "      <td>-0.004383</td>\n",
              "      <td>0.013050</td>\n",
              "      <td>-0.011838</td>\n",
              "      <td>-0.000352</td>\n",
              "      <td>0.008503</td>\n",
              "      <td>0.002403</td>\n",
              "      <td>0.002772</td>\n",
              "      <td>-0.001211</td>\n",
              "      <td>-0.000085</td>\n",
              "      <td>-0.009225</td>\n",
              "      <td>-0.013477</td>\n",
              "      <td>-0.007370</td>\n",
              "      <td>-0.001977</td>\n",
              "      <td>-0.005429</td>\n",
              "      <td>0.007428</td>\n",
              "      <td>0.003846</td>\n",
              "      <td>-0.022259</td>\n",
              "      <td>0.006405</td>\n",
              "      <td>-0.007271</td>\n",
              "      <td>-0.013599</td>\n",
              "      <td>0.021655</td>\n",
              "      <td>-0.005885</td>\n",
              "      <td>-0.004706</td>\n",
              "      <td>-0.000309</td>\n",
              "      <td>-0.009926</td>\n",
              "      <td>-0.002277</td>\n",
              "      <td>-0.005726</td>\n",
              "      <td>0.001415</td>\n",
              "      <td>-0.010554</td>\n",
              "      <td>0.005684</td>\n",
              "      <td>-0.001971</td>\n",
              "      <td>...</td>\n",
              "      <td>0.003523</td>\n",
              "      <td>-0.010234</td>\n",
              "      <td>0.021910</td>\n",
              "      <td>-0.003193</td>\n",
              "      <td>-0.024411</td>\n",
              "      <td>-0.001097</td>\n",
              "      <td>0.013476</td>\n",
              "      <td>0.001164</td>\n",
              "      <td>-0.002744</td>\n",
              "      <td>0.011789</td>\n",
              "      <td>-0.022519</td>\n",
              "      <td>-0.001323</td>\n",
              "      <td>0.009323</td>\n",
              "      <td>-0.012012</td>\n",
              "      <td>-0.012991</td>\n",
              "      <td>0.004734</td>\n",
              "      <td>0.006111</td>\n",
              "      <td>-0.006611</td>\n",
              "      <td>-0.019104</td>\n",
              "      <td>-0.033366</td>\n",
              "      <td>0.031863</td>\n",
              "      <td>0.006658</td>\n",
              "      <td>-0.000310</td>\n",
              "      <td>-0.025879</td>\n",
              "      <td>-0.014433</td>\n",
              "      <td>-0.020640</td>\n",
              "      <td>0.039183</td>\n",
              "      <td>-0.016570</td>\n",
              "      <td>0.008189</td>\n",
              "      <td>-0.002759</td>\n",
              "      <td>-0.038814</td>\n",
              "      <td>0.024968</td>\n",
              "      <td>0.019006</td>\n",
              "      <td>-0.027812</td>\n",
              "      <td>-0.011288</td>\n",
              "      <td>-0.029843</td>\n",
              "      <td>0.025593</td>\n",
              "      <td>0.029448</td>\n",
              "      <td>-0.004519</td>\n",
              "      <td>1</td>\n",
              "    </tr>\n",
              "    <tr>\n",
              "      <th>503</th>\n",
              "      <td>0.024928</td>\n",
              "      <td>0.017659</td>\n",
              "      <td>-0.038065</td>\n",
              "      <td>0.049302</td>\n",
              "      <td>0.000026</td>\n",
              "      <td>0.029062</td>\n",
              "      <td>0.018498</td>\n",
              "      <td>0.018247</td>\n",
              "      <td>-0.019246</td>\n",
              "      <td>-0.039370</td>\n",
              "      <td>0.036256</td>\n",
              "      <td>0.009989</td>\n",
              "      <td>0.063191</td>\n",
              "      <td>-0.033191</td>\n",
              "      <td>-0.018588</td>\n",
              "      <td>-0.031532</td>\n",
              "      <td>0.004225</td>\n",
              "      <td>-0.025755</td>\n",
              "      <td>0.022520</td>\n",
              "      <td>-0.033296</td>\n",
              "      <td>0.009671</td>\n",
              "      <td>-0.010561</td>\n",
              "      <td>-0.031798</td>\n",
              "      <td>-0.000131</td>\n",
              "      <td>-0.025632</td>\n",
              "      <td>-0.022915</td>\n",
              "      <td>0.000289</td>\n",
              "      <td>-0.008800</td>\n",
              "      <td>0.038730</td>\n",
              "      <td>-0.011514</td>\n",
              "      <td>-0.003864</td>\n",
              "      <td>-0.015652</td>\n",
              "      <td>-0.024730</td>\n",
              "      <td>0.032867</td>\n",
              "      <td>-0.013330</td>\n",
              "      <td>0.028741</td>\n",
              "      <td>-0.018883</td>\n",
              "      <td>-0.013822</td>\n",
              "      <td>-0.033954</td>\n",
              "      <td>-0.037028</td>\n",
              "      <td>...</td>\n",
              "      <td>-0.012566</td>\n",
              "      <td>0.007562</td>\n",
              "      <td>0.019678</td>\n",
              "      <td>-0.025340</td>\n",
              "      <td>0.027589</td>\n",
              "      <td>0.020521</td>\n",
              "      <td>0.025750</td>\n",
              "      <td>-0.003001</td>\n",
              "      <td>0.000837</td>\n",
              "      <td>0.027213</td>\n",
              "      <td>0.010297</td>\n",
              "      <td>0.007678</td>\n",
              "      <td>0.049040</td>\n",
              "      <td>0.000989</td>\n",
              "      <td>0.020195</td>\n",
              "      <td>0.017292</td>\n",
              "      <td>-0.030031</td>\n",
              "      <td>0.000116</td>\n",
              "      <td>-0.035205</td>\n",
              "      <td>-0.014208</td>\n",
              "      <td>-0.036548</td>\n",
              "      <td>0.031512</td>\n",
              "      <td>-0.069569</td>\n",
              "      <td>-0.036498</td>\n",
              "      <td>-0.021156</td>\n",
              "      <td>-0.009861</td>\n",
              "      <td>0.033884</td>\n",
              "      <td>-0.053056</td>\n",
              "      <td>-0.033474</td>\n",
              "      <td>-0.016476</td>\n",
              "      <td>0.025177</td>\n",
              "      <td>-0.002126</td>\n",
              "      <td>-0.054852</td>\n",
              "      <td>0.003853</td>\n",
              "      <td>-0.041929</td>\n",
              "      <td>0.005138</td>\n",
              "      <td>-0.025263</td>\n",
              "      <td>-0.087686</td>\n",
              "      <td>-0.018138</td>\n",
              "      <td>1</td>\n",
              "    </tr>\n",
              "  </tbody>\n",
              "</table>\n",
              "<p>5 rows × 251 columns</p>\n",
              "</div>\n",
              "      <button class=\"colab-df-convert\" onclick=\"convertToInteractive('df-911b1ee6-81cb-4be3-a4da-610961449847')\"\n",
              "              title=\"Convert this dataframe to an interactive table.\"\n",
              "              style=\"display:none;\">\n",
              "        \n",
              "  <svg xmlns=\"http://www.w3.org/2000/svg\" height=\"24px\"viewBox=\"0 0 24 24\"\n",
              "       width=\"24px\">\n",
              "    <path d=\"M0 0h24v24H0V0z\" fill=\"none\"/>\n",
              "    <path d=\"M18.56 5.44l.94 2.06.94-2.06 2.06-.94-2.06-.94-.94-2.06-.94 2.06-2.06.94zm-11 1L8.5 8.5l.94-2.06 2.06-.94-2.06-.94L8.5 2.5l-.94 2.06-2.06.94zm10 10l.94 2.06.94-2.06 2.06-.94-2.06-.94-.94-2.06-.94 2.06-2.06.94z\"/><path d=\"M17.41 7.96l-1.37-1.37c-.4-.4-.92-.59-1.43-.59-.52 0-1.04.2-1.43.59L10.3 9.45l-7.72 7.72c-.78.78-.78 2.05 0 2.83L4 21.41c.39.39.9.59 1.41.59.51 0 1.02-.2 1.41-.59l7.78-7.78 2.81-2.81c.8-.78.8-2.07 0-2.86zM5.41 20L4 18.59l7.72-7.72 1.47 1.35L5.41 20z\"/>\n",
              "  </svg>\n",
              "      </button>\n",
              "      \n",
              "  <style>\n",
              "    .colab-df-container {\n",
              "      display:flex;\n",
              "      flex-wrap:wrap;\n",
              "      gap: 12px;\n",
              "    }\n",
              "\n",
              "    .colab-df-convert {\n",
              "      background-color: #E8F0FE;\n",
              "      border: none;\n",
              "      border-radius: 50%;\n",
              "      cursor: pointer;\n",
              "      display: none;\n",
              "      fill: #1967D2;\n",
              "      height: 32px;\n",
              "      padding: 0 0 0 0;\n",
              "      width: 32px;\n",
              "    }\n",
              "\n",
              "    .colab-df-convert:hover {\n",
              "      background-color: #E2EBFA;\n",
              "      box-shadow: 0px 1px 2px rgba(60, 64, 67, 0.3), 0px 1px 3px 1px rgba(60, 64, 67, 0.15);\n",
              "      fill: #174EA6;\n",
              "    }\n",
              "\n",
              "    [theme=dark] .colab-df-convert {\n",
              "      background-color: #3B4455;\n",
              "      fill: #D2E3FC;\n",
              "    }\n",
              "\n",
              "    [theme=dark] .colab-df-convert:hover {\n",
              "      background-color: #434B5C;\n",
              "      box-shadow: 0px 1px 3px 1px rgba(0, 0, 0, 0.15);\n",
              "      filter: drop-shadow(0px 1px 2px rgba(0, 0, 0, 0.3));\n",
              "      fill: #FFFFFF;\n",
              "    }\n",
              "  </style>\n",
              "\n",
              "      <script>\n",
              "        const buttonEl =\n",
              "          document.querySelector('#df-911b1ee6-81cb-4be3-a4da-610961449847 button.colab-df-convert');\n",
              "        buttonEl.style.display =\n",
              "          google.colab.kernel.accessAllowed ? 'block' : 'none';\n",
              "\n",
              "        async function convertToInteractive(key) {\n",
              "          const element = document.querySelector('#df-911b1ee6-81cb-4be3-a4da-610961449847');\n",
              "          const dataTable =\n",
              "            await google.colab.kernel.invokeFunction('convertToInteractive',\n",
              "                                                     [key], {});\n",
              "          if (!dataTable) return;\n",
              "\n",
              "          const docLinkHtml = 'Like what you see? Visit the ' +\n",
              "            '<a target=\"_blank\" href=https://colab.research.google.com/notebooks/data_table.ipynb>data table notebook</a>'\n",
              "            + ' to learn more about interactive tables.';\n",
              "          element.innerHTML = '';\n",
              "          dataTable['output_type'] = 'display_data';\n",
              "          await google.colab.output.renderOutput(dataTable, element);\n",
              "          const docLink = document.createElement('div');\n",
              "          docLink.innerHTML = docLinkHtml;\n",
              "          element.appendChild(docLink);\n",
              "        }\n",
              "      </script>\n",
              "    </div>\n",
              "  </div>\n",
              "  "
            ],
            "text/plain": [
              "             0         1         2  ...       248       249  LABEL\n",
              "747   0.031118 -0.003853 -0.011866  ...  0.040577  0.009950      1\n",
              "1316 -0.016303 -0.001187  0.003726  ...  0.010410  0.007295      0\n",
              "1361  0.014932 -0.004766  0.008003  ... -0.002695  0.002805      0\n",
              "924  -0.016974 -0.000849  0.001470  ...  0.029448 -0.004519      1\n",
              "503   0.024928  0.017659 -0.038065  ... -0.087686 -0.018138      1\n",
              "\n",
              "[5 rows x 251 columns]"
            ]
          },
          "metadata": {},
          "execution_count": 17
        }
      ],
      "source": [
        "#Inport the csv with the dataset\n",
        "df_lambda = pd.read_csv('pca_unbiased.csv', index_col = [0])\n",
        "df_lambda.head()"
      ]
    },
    {
      "cell_type": "code",
      "execution_count": null,
      "metadata": {
        "id": "jPu_AK8-yGA5"
      },
      "outputs": [],
      "source": [
        "#Creating the training, testing and validation subsets\n",
        "X = df_lambda.drop(['LABEL'], axis = 1)\n",
        "y = df_lambda['LABEL']\n",
        "\n",
        "#80% Train, 20% Test, 20% Validation\n",
        "X_train, X_test, y_train, y_test = train_test_split(X, y, test_size = 0.2, random_state = 1234, stratify = y)\n",
        "X_train, X_val, y_train, y_val = train_test_split(X_train, y_train, test_size = 0.2, random_state = 1234, stratify = y_train)"
      ]
    },
    {
      "cell_type": "code",
      "execution_count": null,
      "metadata": {
        "colab": {
          "base_uri": "https://localhost:8080/"
        },
        "id": "yqllSAMXyGA7",
        "outputId": "6dd26063-33e5-4afa-a6f4-49db5a2f5fbe"
      },
      "outputs": [
        {
          "output_type": "execute_result",
          "data": {
            "text/plain": [
              "0          1          2          3          4          5          6          7          8          9          10         11         12         13         14         15         16         17         18         19         20         21         22         23         24         25         26         27         28         29         30         31         32         33         34         35         36         37         38         39         40         41         42         43         44         45         46         47         48         49         50         51         52         53         54         55         56         57         58         59         60         61         62         63         64         65         66         67         68         69         70         71         72         73         74         75         76         77         78         79         80         81         82         83         84         85         86         87         88         89         90         91         92         93         94         95         96         97         98         99         100        101        102        103        104        105        106        107        108        109        110        111        112        113        114        115        116        117        118        119        120        121        122        123        124        125        126        127        128        129        130        131        132        133        134        135        136        137        138        139        140        141        142        143        144        145        146        147        148        149        150        151        152        153        154        155        156        157        158        159        160        161        162        163        164        165        166        167        168        169        170        171        172        173        174        175        176        177        178        179        180        181        182        183        184        185        186        187        188        189        190        191        192        193        194        195        196        197        198        199        200        201        202        203        204        205        206        207        208        209        210        211        212        213        214        215        216        217        218        219        220        221        222        223        224        225        226        227        228        229        230        231        232        233        234        235        236        237        238        239        240        241        242        243        244        245        246        247        248        249      \n",
              "-0.015100  -0.001534   0.004968  -0.007161   0.005818   0.002313   0.004814  -0.000263  -0.004719   0.000772   0.003603  -0.002315   0.003352  -0.002951   0.001458  -0.000727   0.000434  -0.000436  -0.000889  -0.009236   0.002401  -0.005584  -0.005727  -0.002845  -0.002065  -0.003343  -0.000053  -0.000377  -0.003062   0.001212   0.014867  -0.002483  -0.000929   0.005743   0.005044   0.011435   0.005380  -0.003883   0.013570  -0.003933   0.007058  -0.007774   0.009299   0.007728   0.005946  -0.003683  -0.008527  -0.005640   0.004464  -0.000529  -0.001097  -0.000505   0.010852   0.016564  -0.000287  -0.001890   0.004319  -0.001073  -0.002235  -0.001635   0.009764   0.007866  -0.003370   0.005448   0.004331  -0.007526  -0.000466   0.008268   0.008611   0.009207   0.000361   0.000461  -0.004167   0.003163   0.010160   0.002363   0.000962   0.003548  -0.003108  -0.000265  -0.017006  -0.000316   0.003443   0.003481  -0.000194  -0.019812   0.015542  -0.014256  -0.004514  -0.008043   0.008062   0.019867   0.008039  -0.010243   0.008438   0.004382   0.005543   0.008758   0.007466   0.018432   0.028674  -0.011077  -0.004841   0.001622  -0.013615  -0.001701  -0.000991  -0.000803  -0.003061  -0.001916  -0.002810  -0.005427   0.005178  -0.005974   0.006911   0.003327  -0.006457   0.013373  -0.026618  -0.005239   0.002330  -0.014001   0.006806  -0.009855  -0.016797  -0.010154   0.008978   0.008173  -0.014306  -0.000234   0.009567  -0.005060   0.004545   0.019149   0.017565  -0.018611   0.009417  -0.003685   0.015409  -0.007107  -0.004063   0.010266   0.001713   0.015022   0.013015  -0.006656   0.014290  -0.002471   0.003555   0.007202   0.004002   0.002396   0.005946  -0.002343   0.003971   0.002270   0.004020  -0.009382  -0.000929  -0.003738  -0.000301  -0.023740   0.010704   0.000559   0.007891   0.005347  -0.013389   0.004653  -0.002488  -0.001136  -0.002294  -0.004038   0.011350  -0.012853  -0.002834  -0.006158  -0.000585   0.014029  -0.010484   0.009278   0.008372  -0.010924   0.001083   0.003043   0.004617  -0.005310  -0.006239  -0.001495   0.005541   0.004070  -0.005405  -0.004273   0.002578   0.001668  -0.005025  -0.002394  -0.003553   0.002038  -0.006519   0.003642  -0.007396  -0.002570   0.017199  -0.007843  -0.004850   0.004226  -0.008045   0.011712   0.007219  -0.011932   0.003511  -0.006335  -0.003512  -0.013374   0.024014   0.004382   0.000370   0.004260  -0.019340  -0.017115  -0.004539   0.006736   0.000065  -0.010498   0.005237  -0.000840   0.002016  -0.008341  -0.009316  -0.004568   0.009287  -0.014970  -0.005167  -0.005184   0.007902  -0.000986   0.007422  -0.009382  -0.000488   0.000737   0.011274   0.012579  -0.006472  -0.018413   0.005326   0.006892   0.006665  -0.011362  -0.001035  -0.004351    2\n",
              "-0.012529  -0.001767   0.004672  -0.004449   0.007208   0.000817  -0.000362   0.003628   0.000157   0.003092  -0.002225   0.001380   0.003186  -0.007721  -0.001218  -0.004735  -0.000669  -0.002052   0.002489  -0.006563   0.003161  -0.004594  -0.003752  -0.003328  -0.002678   0.001133  -0.002102   0.002940  -0.002563   0.000506   0.015999  -0.007762  -0.002095   0.011796  -0.005386   0.011102   0.003604  -0.006028  -0.001439  -0.005963  -0.000998   0.001382  -0.006585   0.008327   0.001471  -0.006612  -0.004342  -0.006373   0.001343   0.006684   0.002290   0.005353  -0.001274   0.005609  -0.009085  -0.007983  -0.000433   0.003667  -0.001391   0.007062   0.001785  -0.003851  -0.001196   0.004320   0.000588   0.005058   0.002869  -0.002356   0.002043   0.001674  -0.003794   0.003703  -0.001721   0.000096  -0.002115   0.009724   0.004558  -0.001022  -0.007463  -0.002490  -0.008211  -0.010588  -0.005088   0.010601   0.006103   0.005315  -0.012315  -0.003202  -0.000086  -0.001206   0.001294  -0.008076   0.004138   0.004674   0.013164  -0.000282   0.000621  -0.004112  -0.002711   0.000270  -0.003203   0.010029   0.003238   0.004117   0.006615   0.003013   0.003600   0.005978  -0.000711   0.003332  -0.007024  -0.003502  -0.005976  -0.002029  -0.008256   0.011006   0.005987  -0.002821   0.008197  -0.000528   0.001091   0.004938  -0.000623  -0.009854   0.014971   0.012089   0.000532   0.009690   0.006979   0.008670   0.001930  -0.010377  -0.008166  -0.015289   0.005631  -0.008418  -0.004245  -0.005562  -0.008741  -0.000945  -0.003665  -0.004616  -0.002013   0.003536   0.000835   0.006812   0.003744   0.003431   0.008836  -0.007582  -0.015941  -0.007777  -0.000061  -0.012533  -0.002483   0.002493   0.001262  -0.004755  -0.022104   0.007152   0.005030  -0.005336   0.002360   0.014269   0.005727   0.004115   0.009432   0.003274   0.003316   0.000967   0.003499   0.016000   0.005424   0.016571   0.004356  -0.001556   0.008532  -0.004395  -0.010096   0.012042  -0.012269  -0.000041   0.006242  -0.012697   0.000094  -0.008950   0.012432  -0.004862  -0.027725   0.011980   0.000891  -0.001665  -0.003646   0.001539   0.009851   0.007512  -0.000276   0.007446   0.004490  -0.004656   0.003982  -0.001087   0.014015  -0.016670   0.006374  -0.007013   0.011342   0.010468  -0.010960  -0.003881   0.005263  -0.000722   0.001512   0.018946  -0.001142  -0.000351  -0.011426   0.004186  -0.007135  -0.008820  -0.008853   0.004460  -0.004371  -0.012246  -0.009495  -0.001534  -0.006428   0.000145  -0.001673  -0.006250   0.008259   0.004289  -0.007358   0.008676   0.003612  -0.008547  -0.001229  -0.011297   0.018301   0.006250   0.011002  -0.000772   0.014816   0.008046  -0.000257   0.005441  -0.009219  -0.012737  -0.005679  -0.001264    2\n",
              "-0.010916   0.027877   0.000343   0.011279  -0.028844   0.034845   0.058907   0.050586   0.030889   0.052096  -0.036679   0.003010  -0.027532   0.021053   0.004808   0.010160  -0.002167   0.003628   0.002773   0.010988   0.004266   0.014349   0.016685   0.015825  -0.041857  -0.004260  -0.000765  -0.010332  -0.001868   0.002179  -0.003552   0.012267   0.003838   0.000760   0.005784  -0.016914   0.004763   0.005765   0.009006   0.001857  -0.018605  -0.003561  -0.009197  -0.013945  -0.011212   0.006261  -0.008702   0.021734   0.011934   0.001237  -0.001458   0.000536   0.007244  -0.000722  -0.007542  -0.019940  -0.015336   0.005161  -0.004188   0.003430   0.007283  -0.000372  -0.002710  -0.002463   0.001487   0.003173   0.001030   0.006680  -0.003627  -0.004973   0.003614  -0.012833  -0.004601   0.002263  -0.009541   0.000790  -0.017505   0.007161   0.012087  -0.007716   0.004653   0.001794  -0.003640  -0.008941   0.011604  -0.007957   0.009084   0.003871   0.005710  -0.005469  -0.008805   0.012929  -0.022229   0.003050   0.002937   0.005954   0.011160  -0.009196  -0.008756  -0.005386  -0.011359  -0.006968   0.003820  -0.009467   0.009595   0.002903   0.003380  -0.008368  -0.011748   0.006771   0.015056  -0.016768   0.003178   0.001073   0.004104   0.008870   0.017962  -0.002810   0.004133  -0.004831   0.005808   0.002086  -0.003642   0.008981  -0.013826  -0.002344   0.007534  -0.014286  -0.008959   0.009807  -0.013146  -0.002766  -0.000488  -0.003877  -0.011532  -0.009043   0.008273   0.009316   0.005609   0.003487   0.001370   0.001137   0.006260   0.003208  -0.003168  -0.001443  -0.008642  -0.005589   0.006058   0.001441  -0.000133   0.003620  -0.005814   0.013297   0.012350   0.010875  -0.001682  -0.008427   0.006238   0.008858  -0.011626   0.000892   0.007598   0.015026   0.000189   0.006583   0.006114   0.032856   0.004950  -0.003636  -0.015021  -0.000964  -0.005807  -0.003655  -0.005692   0.006772  -0.001387   0.003398   0.015600   0.000875   0.002823  -0.020331  -0.004798  -0.017166   0.030244  -0.002376  -0.005449   0.002031   0.006538  -0.006950  -0.011390  -0.013207  -0.005789   0.011337   0.000677  -0.000565   0.009275   0.001613   0.021995   0.001920  -0.006259  -0.002178   0.008067   0.004984   0.005839   0.003515   0.010935  -0.009311  -0.003941   0.004115   0.009333  -0.005619  -0.006381   0.021674  -0.003571  -0.012727   0.023673   0.016343  -0.019120  -0.003258   0.014734   0.007405   0.001307  -0.005621  -0.007822   0.006081  -0.010245  -0.020710   0.002863  -0.023259   0.008227  -0.023524   0.003256  -0.002372  -0.016718  -0.006117  -0.020751   0.003132  -0.010156   0.018466   0.004250   0.013374   0.005998  -0.009880  -0.025114   0.026251   0.012416  -0.001740   0.003491  -0.000673    1\n",
              "-0.010626  -0.001246   0.005476  -0.004311   0.005063   0.002273  -0.000045   0.003239  -0.002621   0.004016   0.000246  -0.000236   0.005210  -0.003940   0.000944  -0.004011   0.000263   0.000458  -0.001010  -0.005779   0.001895  -0.002367  -0.005363  -0.003109  -0.005661   0.003811   0.001715   0.003330   0.000135  -0.000964   0.002007   0.002251  -0.001854   0.000071  -0.004709   0.005382  -0.003690  -0.002433  -0.003327  -0.002189   0.002591  -0.003698  -0.002757   0.006490   0.005360   0.005153   0.000831  -0.001651   0.003367   0.000409   0.002471  -0.001878  -0.003366   0.001941  -0.000261  -0.002022   0.007711   0.011024   0.000204   0.001234  -0.006588  -0.002916  -0.002272   0.001489  -0.000345   0.004768  -0.000020   0.001951  -0.002940  -0.006731   0.002562   0.002302  -0.000011  -0.002909  -0.001122  -0.000118   0.001265   0.001226  -0.004543   0.000010   0.006159  -0.002385  -0.004904   0.002909  -0.004663   0.003418  -0.002589   0.000321  -0.009126   0.001311  -0.012921  -0.008239  -0.008155   0.003982  -0.005387   0.007862  -0.009977   0.005734  -0.003348   0.004084  -0.003684   0.008998   0.003167   0.000398   0.006942  -0.008270  -0.000222  -0.001498   0.007928   0.001928  -0.000180   0.003730  -0.007400   0.001762   0.000296   0.000934   0.001664  -0.000287   0.006088  -0.001617  -0.002604   0.000961  -0.003101  -0.000279  -0.009671  -0.002497   0.009695  -0.002444   0.000636  -0.003761  -0.001536  -0.000366  -0.002320   0.001061  -0.001874   0.007605   0.000446   0.002530  -0.002955   0.000030   0.000461   0.000105  -0.000678  -0.006175  -0.005618  -0.001428   0.000704  -0.001148  -0.002007   0.003445  -0.001597   0.002565  -0.000915   0.002469  -0.007971  -0.003301  -0.004546   0.001402   0.003980   0.003959   0.003753   0.003232  -0.001024  -0.003978  -0.004217   0.007979   0.002109   0.002771   0.002116   0.005387  -0.000229  -0.006019  -0.003364  -0.003940  -0.001532   0.000809  -0.010073   0.003238  -0.001516  -0.002881   0.001370   0.003911   0.001500   0.000126   0.007735  -0.002907  -0.002663  -0.001266   0.010506  -0.000338  -0.002495  -0.000558   0.004566  -0.007647  -0.001672   0.007200   0.000533   0.000349  -0.004156  -0.002344  -0.002195  -0.006858  -0.001737   0.013019   0.003317  -0.000892  -0.001807   0.012494   0.006623  -0.011019   0.003991  -0.010595   0.008162  -0.001642  -0.001628  -0.010673   0.001358   0.001625   0.002020  -0.003030   0.004678   0.000624  -0.006210  -0.002703  -0.003477  -0.001236  -0.016110   0.013781   0.001059   0.005474   0.011032  -0.010311   0.004641   0.018358   0.001493   0.000180   0.008914  -0.002896   0.006736   0.001475   0.007423   0.001078  -0.003611  -0.002467   0.004742   0.011922   0.010751  -0.013665   0.002240   0.011658    1\n",
              "-0.010643   0.021613   0.002593   0.009413   0.001226   0.024007   0.041524   0.025259  -0.000707   0.021655  -0.001374  -0.005533  -0.015388   0.006080  -0.008598   0.003870  -0.006727  -0.001298   0.001579  -0.003809   0.002880  -0.006673   0.013370   0.003610   0.014510  -0.011029   0.002352  -0.038563   0.013481  -0.012618   0.038087  -0.020932   0.001273   0.015560   0.025544   0.022545   0.013593  -0.024161   0.007247  -0.004168  -0.006359   0.022872  -0.041512  -0.021900  -0.003483  -0.007977   0.005376  -0.015720  -0.016310   0.003188  -0.006684   0.005991  -0.022183  -0.017904  -0.003890  -0.015520  -0.026021  -0.009079  -0.013879   0.020483   0.013299  -0.001293   0.014594  -0.014153  -0.019198  -0.002688   0.004754  -0.028036   0.010116   0.016364  -0.004834  -0.021153   0.001551   0.002862   0.003224  -0.011263  -0.010293  -0.010664  -0.017686   0.007031  -0.000957   0.014797   0.017643   0.005534   0.036404   0.040624  -0.019365   0.010959  -0.010723  -0.007528   0.025818  -0.017886  -0.004326  -0.000647   0.027705   0.002259  -0.007738   0.010082  -0.006980   0.011510  -0.018944  -0.043192  -0.013837   0.038114   0.009603   0.006685  -0.013572   0.019910  -0.038959   0.001442  -0.043216   0.001610  -0.011601   0.011268   0.013253   0.023643   0.018562   0.017147   0.056117  -0.003854  -0.019252   0.047837   0.008649  -0.026058   0.008038   0.014244   0.024401   0.014206  -0.039569   0.044934   0.002129   0.027193   0.006178   0.007666   0.006134  -0.001657  -0.024799  -0.028431  -0.035146   0.023647   0.004207   0.002089  -0.005656  -0.001876  -0.010838   0.009170   0.038155   0.015526  -0.006928   0.017381  -0.024368   0.018214  -0.030550   0.002266   0.019867   0.017557   0.018850  -0.018352  -0.011572   0.004814  -0.024910   0.022115   0.016610   0.002622  -0.011168   0.016521  -0.031464   0.052209  -0.011441   0.005277   0.010575  -0.031250  -0.006370   0.014029   0.008687   0.019942   0.024881  -0.015516  -0.002585  -0.000916  -0.000329   0.024101   0.001035  -0.005220  -0.020251   0.050843   0.017338   0.028916   0.018196  -0.032149   0.006410  -0.001883  -0.011947   0.006400  -0.051896   0.011621  -0.056233  -0.051875   0.008605  -0.015209   0.028148  -0.038785  -0.043418  -0.021552   0.033534   0.054287   0.018135   0.027767  -0.018326   0.039541   0.045392   0.003191  -0.008779   0.002789  -0.014784   0.047357   0.044335   0.011930   0.026709  -0.009585   0.045553   0.020132   0.025926  -0.024999   0.021673   0.034388  -0.029234   0.037319  -0.025079  -0.052849  -0.007603  -0.067347  -0.031810   0.016904  -0.006362   0.093745   0.020697   0.025008  -0.067670   0.033461  -0.073931   0.023644  -0.072401   0.055799  -0.062670  -0.058717   0.013356  -0.013829   0.055493   0.049793    1\n",
              "                                                                                                                                                                                                                                                                                                                                                                                                                                                                                                                                                                                                                                                                                                                                                                                                                                                                                                                                                                                                                                                                                                                                                                                                                                                                                                                                                                                                                                                                                                                                                                                                                                                                                                                                                                                                                                                                                                                                                                                                                                                                                                                                                                                                                                                                                                                                                                                                                                                                                                                                                                                                                                                                                                                                                                                                                                                               ..\n",
              " 0.000781   0.000344  -0.012011   0.006103  -0.012774  -0.008099  -0.011740   0.002012   0.009810  -0.003334  -0.010449   0.005283   0.002569  -0.010040  -0.000117  -0.005204  -0.000632   0.004526  -0.003174   0.010014  -0.007224  -0.000378   0.008617  -0.000565   0.004614   0.008123   0.000029  -0.007329  -0.006394   0.008088   0.001291  -0.002409   0.011095   0.003947   0.002702  -0.004214  -0.007238   0.003693   0.000897   0.008915  -0.009619  -0.001310  -0.005943   0.000180  -0.016415  -0.004727  -0.009751   0.010434   0.004214   0.007416   0.007545  -0.000745   0.011395   0.007470  -0.003209  -0.003561  -0.003569  -0.001317  -0.002774   0.003620   0.000408  -0.001895   0.000053   0.001208   0.005237   0.010318  -0.004317  -0.001242  -0.008053   0.004609   0.007936   0.003468   0.009622  -0.011057   0.014555   0.004659  -0.005080   0.004381   0.001759   0.002329   0.004436  -0.004666   0.004194   0.005560   0.004343   0.005488   0.006014   0.003422  -0.010401   0.015305   0.000965   0.009849   0.010397  -0.001992  -0.009443  -0.010602   0.011904  -0.014694  -0.002263   0.012336   0.006972  -0.007453   0.002695  -0.006061   0.002315  -0.021700  -0.009850   0.009602   0.000763  -0.005924  -0.008536  -0.008032   0.009241   0.008501   0.012844  -0.008913  -0.011870   0.003510  -0.008875  -0.000197   0.006144  -0.006438  -0.011153   0.001292   0.001756   0.001166  -0.020061  -0.004600   0.015062  -0.003267  -0.000711   0.007435   0.000462   0.002453  -0.003954   0.002676   0.005385   0.002715   0.003612  -0.002139   0.004346  -0.008993   0.007842   0.004135  -0.003143   0.003786  -0.017051   0.002747  -0.001280  -0.015246  -0.011766   0.000003  -0.006153  -0.000195   0.016231   0.013304   0.006208  -0.003593  -0.010788  -0.003168   0.001442   0.001959   0.009367  -0.002821  -0.017247   0.009431   0.005086  -0.001765   0.007263   0.005254  -0.013217   0.004088   0.003002   0.003101  -0.002307  -0.008013   0.005405   0.001840   0.004826   0.008651  -0.001818   0.022552   0.004898   0.003203  -0.026995   0.011312  -0.011374   0.013240   0.000297   0.001211  -0.017075   0.007078  -0.005571  -0.005844  -0.004016  -0.012101  -0.014253  -0.005181   0.000982   0.006178  -0.018890   0.005504   0.032266   0.000933  -0.010616   0.008082  -0.016665  -0.019441   0.011909  -0.017820  -0.005510   0.006256  -0.006187   0.019885  -0.022448  -0.005432  -0.007039   0.020672  -0.005598  -0.008713  -0.009363   0.008341   0.007948   0.005068  -0.004899  -0.005613  -0.007293  -0.015095  -0.005099   0.014301  -0.024335   0.005569   0.027429  -0.005857   0.027567   0.001674   0.006464  -0.013536   0.024435   0.007870   0.009439   0.004450   0.017055   0.010829   0.001699   0.005451   0.009013   0.004183   0.002395   0.036418    1\n",
              " 0.000780  -0.001639   0.000760  -0.003485  -0.000271  -0.007130  -0.008656   0.002489   0.002458   0.008262  -0.006804   0.002169  -0.003158  -0.004193  -0.006650  -0.001498   0.007905  -0.000430  -0.005813   0.002529   0.007645   0.011426   0.007506   0.000719   0.004829   0.004733  -0.003152   0.002283   0.000529  -0.004999  -0.013823   0.009012  -0.000559  -0.018329  -0.007833  -0.009236  -0.014112   0.007985  -0.010598   0.019427  -0.004118   0.002895   0.009060   0.008602   0.000201   0.002883   0.003637   0.005193   0.006060  -0.002250   0.003444  -0.008801   0.005116  -0.006872  -0.006600   0.010651  -0.002653   0.002432  -0.005600   0.007706  -0.017380   0.003768  -0.002940  -0.004305   0.008010  -0.009804   0.010162   0.003712  -0.010142  -0.010655  -0.010837   0.018041  -0.002429   0.010110  -0.030102   0.001253   0.004611   0.003472  -0.008263   0.005446   0.009515   0.006499   0.008195   0.007203  -0.000013  -0.007061  -0.006957  -0.003806   0.011094   0.001844  -0.012960  -0.008207  -0.021494   0.010106   0.009968  -0.001788   0.000800  -0.033041  -0.003462  -0.027837   0.020336  -0.019784  -0.021986  -0.014575  -0.003850  -0.003100   0.008793  -0.000131   0.005858   0.016311  -0.011833   0.027042  -0.002441  -0.013240   0.004286   0.006581   0.003862   0.014575  -0.013444   0.000418   0.009590  -0.002001  -0.001343  -0.000538   0.009230  -0.003310   0.008887  -0.025879   0.005574   0.014594  -0.000941   0.006127   0.007499   0.004271   0.003241   0.004471  -0.001403   0.005873  -0.000573   0.012688  -0.000866   0.000072   0.004622   0.002446   0.015493  -0.005249   0.001994   0.006665   0.001165   0.000775  -0.002488  -0.018070   0.011271   0.009111   0.007545   0.013080   0.004604  -0.008229  -0.020796   0.021451  -0.004580  -0.002490   0.002676  -0.009486   0.001066  -0.018700  -0.013764   0.000698  -0.005019  -0.012935   0.019547  -0.002573  -0.020330   0.012043  -0.012008  -0.003878  -0.011887  -0.000617   0.010838   0.011835  -0.003938  -0.032744   0.006007   0.011361   0.003140   0.004817   0.007205   0.007865   0.008751   0.012691   0.000631  -0.002089   0.021633   0.003866  -0.035027  -0.012038   0.002922   0.010459   0.016387   0.001728   0.006542   0.007644  -0.006864  -0.003778  -0.007271   0.028223   0.014241   0.012095  -0.000532   0.006390   0.016776  -0.021822   0.009306  -0.025675  -0.017204  -0.014192  -0.007757   0.008303   0.013163  -0.034413   0.002743  -0.028917   0.013692   0.024941   0.032687  -0.008113   0.014789   0.020555  -0.030275  -0.043016   0.032025  -0.030773   0.038991   0.001692  -0.007819  -0.014232   0.027924  -0.031563   0.005779  -0.000585   0.005937  -0.023238   0.005419  -0.011126  -0.014575  -0.027515  -0.011169  -0.004230   0.018322  -0.001332    1\n",
              " 0.000772   0.000685  -0.014243   0.000559  -0.011551  -0.017703  -0.011735  -0.000869   0.013733   0.003177  -0.018152   0.003184  -0.014295  -0.004485  -0.004274   0.002601   0.000849  -0.001579   0.004836   0.013176  -0.002676  -0.000261   0.007253   0.004192   0.007272   0.000368  -0.003321   0.002341  -0.001161   0.006124  -0.008076  -0.006293  -0.004333   0.005663  -0.003367  -0.000414  -0.006824   0.004906  -0.000893  -0.010020   0.000381  -0.001911   0.006375  -0.002613  -0.007104  -0.000065   0.005264  -0.007689  -0.006818  -0.002367   0.003557   0.010219   0.001824   0.002458   0.007833   0.010951  -0.015100  -0.004117   0.003508  -0.006373   0.007542   0.002241  -0.001408  -0.004387   0.022047  -0.002038   0.003956  -0.006565  -0.012158   0.008580  -0.003737  -0.003113   0.009403  -0.007383   0.004697  -0.003523  -0.000418   0.017256  -0.001671   0.005245  -0.001457  -0.000805  -0.004768  -0.011177   0.001203  -0.011623   0.015045  -0.008545   0.015983   0.012652  -0.003210   0.002737  -0.005458  -0.016621  -0.016395   0.005852   0.015777  -0.012689  -0.014881  -0.010702  -0.006318  -0.020784  -0.000871   0.002738   0.002187  -0.006134   0.000089  -0.012450   0.007152  -0.007715   0.005827   0.005515   0.007411   0.007915  -0.008916  -0.001350  -0.002318  -0.005409  -0.010598   0.003931  -0.009459  -0.006585  -0.002412  -0.003683   0.006141  -0.001319  -0.010478   0.021485  -0.003890   0.003481  -0.005823  -0.005640  -0.003125  -0.001678  -0.001244   0.013505  -0.000336   0.007936   0.004717  -0.001578   0.000706   0.004388   0.001873   0.005570   0.003735   0.003511   0.012483   0.004546  -0.008559  -0.000647  -0.009623  -0.006893   0.010878   0.004117   0.001717   0.007031   0.011295  -0.001242   0.017240  -0.007969   0.008576   0.015484   0.006977  -0.013806  -0.001617  -0.002390   0.011246   0.003044  -0.000421   0.005778   0.002025  -0.004558   0.012625  -0.001686   0.019304   0.011812  -0.016191  -0.010918  -0.006398   0.003641  -0.019585   0.009738  -0.007953   0.002023  -0.001573   0.010709  -0.010220   0.011491  -0.010966   0.029827   0.012602   0.007223   0.006691   0.008307   0.017587   0.000762  -0.012313  -0.018952   0.006902  -0.003771   0.005101  -0.001713   0.015734   0.019948   0.001884  -0.009729   0.008361   0.006471  -0.011601   0.021694  -0.013697  -0.011543  -0.001980  -0.014457   0.006046   0.016664  -0.009280  -0.014161   0.003673  -0.003669   0.006144   0.012195   0.001823   0.006218  -0.021769  -0.013536   0.007368   0.008176  -0.001681  -0.004809  -0.007914   0.002813   0.002631  -0.002324   0.015468  -0.007438  -0.003179   0.004282   0.001882  -0.003229   0.014385   0.000606  -0.004481  -0.006743  -0.008328   0.002394   0.004964   0.019874   0.014803   0.023774    1\n",
              " 0.000764  -0.001943  -0.002445  -0.003372  -0.016576  -0.008720  -0.008856  -0.000798   0.007028   0.004192  -0.010645   0.003484   0.004358   0.001808   0.008095  -0.003186   0.003520   0.001523  -0.005966   0.001323   0.005853  -0.002604   0.000991  -0.005617  -0.001076   0.011901  -0.004029   0.000255  -0.008963   0.013618  -0.005232   0.010699  -0.002287  -0.012254   0.010798  -0.011392   0.000211   0.004637   0.005597   0.012349  -0.001274   0.004965   0.005678  -0.007368   0.001112   0.007303   0.008028   0.005210  -0.005607  -0.006273   0.008932  -0.003803   0.000250   0.012589   0.003980  -0.000963  -0.000363   0.002892   0.001063   0.000121  -0.021057   0.007046  -0.010195   0.009856  -0.010138  -0.018778  -0.001535   0.005168  -0.010586   0.003155   0.008665   0.003906  -0.005024   0.004533   0.010839   0.003740  -0.005900   0.000609   0.006286  -0.011839   0.008489   0.003397   0.000544  -0.002240   0.000902  -0.008177  -0.007574  -0.002825   0.000118   0.008664  -0.013279   0.002637   0.004950  -0.006118  -0.004738  -0.001710   0.009985   0.002235   0.008659  -0.005853  -0.023715  -0.022686   0.017349  -0.021790  -0.014490  -0.000238   0.008110   0.009843  -0.012176  -0.005839   0.001955   0.007317   0.002946   0.009822  -0.017314   0.013373   0.000932   0.002622   0.023609  -0.020162   0.017985  -0.004682   0.005523  -0.005710   0.029827   0.012439  -0.009765  -0.013039   0.007944   0.021857   0.028058   0.010193   0.000145   0.007348   0.019343   0.016022  -0.001029  -0.016645  -0.001799  -0.025138   0.012531   0.003916  -0.011118   0.008580   0.000008  -0.004057   0.008669  -0.035733  -0.000848   0.005043  -0.001257   0.020951   0.001991   0.001159  -0.005789   0.013156   0.005151  -0.001012  -0.001097   0.011685   0.000973  -0.005350   0.001748  -0.008636   0.000427  -0.006489  -0.006813  -0.004107   0.007346  -0.007940  -0.003802  -0.006522  -0.003540   0.005615  -0.005640  -0.010568  -0.015665   0.020757   0.011251   0.001671  -0.028399  -0.001976  -0.003125  -0.003161   0.005413   0.014552  -0.002921   0.011477  -0.013696  -0.020784   0.006965   0.010025  -0.002009   0.000731  -0.005090   0.009314  -0.003282   0.013973   0.005665  -0.001837  -0.025971  -0.031187   0.006853   0.015904  -0.002991   0.007710   0.013533  -0.012880   0.024014   0.000528  -0.014204  -0.002599  -0.034237  -0.004845   0.002390  -0.000826  -0.007899  -0.018015  -0.031318  -0.013284  -0.004712  -0.002908   0.001330   0.013526   0.000713   0.031485  -0.003284  -0.004485   0.020016   0.007839  -0.000353   0.002134   0.010442  -0.010756  -0.015027   0.005808   0.017696   0.014726   0.000536   0.011378  -0.008278  -0.005573   0.031801  -0.009635  -0.023359   0.005402  -0.004893  -0.009453  -0.018015   0.004819    1\n",
              "-0.221902  -0.361026   0.241607   0.505413  -0.051925  -0.154416   0.185273  -0.278844   0.006520   0.074123  -0.219035   0.006983   0.229315   0.166806  -0.392576   0.036879  -0.177986  -0.005283  -0.026695   0.022427   0.007448  -0.022578   0.003803  -0.021252  -0.002671   0.009394   0.008417   0.034540   0.051424   0.021563   0.012907   0.003637   0.017421   0.011476  -0.004220  -0.010368  -0.015557   0.002541   0.019046   0.024149   0.012458  -0.011541   0.002846  -0.023869   0.005579  -0.002705   0.017782   0.009587   0.009708   0.006190   0.000559  -0.009972  -0.010752   0.006297   0.018574  -0.004374  -0.028621  -0.031429  -0.013768  -0.031303  -0.009142   0.009491  -0.018541   0.003643  -0.017381  -0.022944  -0.013374  -0.007035   0.008319  -0.032344   0.017753   0.007723   0.000975   0.003225  -0.028365  -0.013685  -0.007444   0.010396  -0.010558  -0.004368   0.012685   0.002324   0.015597  -0.007879   0.003804   0.000550   0.023160  -0.023173   0.030860  -0.026698  -0.034345  -0.056402   0.023234  -0.014484  -0.010837   0.012535   0.026629   0.001177   0.028383   0.013024  -0.015490   0.022665  -0.009233   0.003542   0.012137  -0.005298  -0.007938   0.004972   0.024674  -0.003148  -0.004963  -0.003661  -0.002771  -0.022890   0.013554  -0.012797   0.004345  -0.004394  -0.003207   0.012370  -0.018786  -0.002424   0.004241   0.008995   0.004787   0.000929   0.011204  -0.000976   0.003632  -0.008744   0.000705   0.010273   0.014548   0.004860  -0.002306   0.014163   0.000483  -0.005152   0.008137  -0.008116   0.006423  -0.005587   0.001593  -0.000206  -0.003099   0.000357  -0.008303   0.001582   0.002758   0.000168  -0.007360  -0.000458  -0.007150  -0.000737  -0.005729   0.001542  -0.009484  -0.002211   0.000564   0.008633   0.001933  -0.005878   0.004139   0.000125  -0.004968   0.006951  -0.005938  -0.015560   0.003589  -0.006684  -0.001710   0.000038  -0.001436   0.009698   0.013597  -0.002988  -0.013226   0.001924   0.004865   0.003539   0.012034   0.013267  -0.002709  -0.016114   0.018009  -0.002193  -0.022582  -0.008847  -0.009022   0.006131  -0.004594   0.002418   0.010701   0.011612  -0.017562  -0.008085   0.002148  -0.002347  -0.001424   0.007897   0.008643  -0.004433  -0.006124   0.001281   0.002433   0.000259  -0.015180  -0.002899  -0.006427  -0.011273  -0.003780   0.000831   0.003798   0.001171   0.012271   0.004366  -0.000076   0.007366  -0.000467  -0.001107   0.002738  -0.010947  -0.001770   0.004694  -0.007230   0.006539   0.008441   0.008357   0.002608  -0.006185   0.002243  -0.005509   0.007593   0.008344  -0.003769   0.000471   0.006007   0.002194   0.000204   0.006625   0.005911   0.011585  -0.002971  -0.009221  -0.002323   0.005151   0.008542   0.000782  -0.006778  -0.000484    1\n",
              "Length: 961, dtype: int64"
            ]
          },
          "metadata": {},
          "execution_count": 19
        }
      ],
      "source": [
        "X_train.value_counts()"
      ]
    },
    {
      "cell_type": "code",
      "execution_count": null,
      "metadata": {
        "colab": {
          "base_uri": "https://localhost:8080/"
        },
        "id": "63qpuITyyGA8",
        "outputId": "59580076-032f-45f2-a062-fa0b71d300b2"
      },
      "outputs": [
        {
          "output_type": "execute_result",
          "data": {
            "text/plain": [
              "count    963.000000\n",
              "mean       0.643821\n",
              "std        0.479118\n",
              "min        0.000000\n",
              "25%        0.000000\n",
              "50%        1.000000\n",
              "75%        1.000000\n",
              "max        1.000000\n",
              "Name: LABEL, dtype: float64"
            ]
          },
          "metadata": {},
          "execution_count": 20
        }
      ],
      "source": [
        "y_train.describe()"
      ]
    },
    {
      "cell_type": "code",
      "execution_count": null,
      "metadata": {
        "id": "O7OvN0ehyGA9"
      },
      "outputs": [],
      "source": [
        ""
      ]
    },
    {
      "cell_type": "markdown",
      "metadata": {
        "id": "CN_9PWgVyGA-"
      },
      "source": [
        "### Model building"
      ]
    },
    {
      "cell_type": "code",
      "execution_count": null,
      "metadata": {
        "id": "iZd59nHAyGA_"
      },
      "outputs": [],
      "source": [
        "#Logistic regression parameters to tune\n",
        "grid_param = {\"penalty\": [\"l1\", \"l2\", \"elasticnet\", \"none\"],\n",
        "              \"C\": [0.1, 1, 10, 100],\n",
        "              \"solver\": [\"newton-cg\", \"lbfgs\", \"liblinear\"], #\"saga\", \"sag\"],\n",
        "              \"max_iter\": [500]\n",
        "              }\n",
        "\n",
        "log_reg = LogisticRegression()\n",
        "search_grid = GridSearchCV(estimator = log_reg, param_grid = grid_param, n_jobs = -1, cv = 5, \n",
        "                           verbose = 3, return_train_score = True, scoring = \"accuracy\")"
      ]
    },
    {
      "cell_type": "code",
      "execution_count": null,
      "metadata": {
        "colab": {
          "base_uri": "https://localhost:8080/"
        },
        "id": "RATKm2VwyGBA",
        "outputId": "eeeb1f68-ef6b-42a2-c96b-26bc1d491e6c"
      },
      "outputs": [
        {
          "output_type": "stream",
          "name": "stdout",
          "text": [
            "Fitting 5 folds for each of 48 candidates, totalling 240 fits\n"
          ]
        },
        {
          "output_type": "stream",
          "name": "stderr",
          "text": [
            "/usr/local/lib/python3.7/dist-packages/sklearn/model_selection/_validation.py:372: FitFailedWarning: \n",
            "120 fits failed out of a total of 240.\n",
            "The score on these train-test partitions for these parameters will be set to nan.\n",
            "If these failures are not expected, you can try to debug them by setting error_score='raise'.\n",
            "\n",
            "Below are more details about the failures:\n",
            "--------------------------------------------------------------------------------\n",
            "20 fits failed with the following error:\n",
            "Traceback (most recent call last):\n",
            "  File \"/usr/local/lib/python3.7/dist-packages/sklearn/model_selection/_validation.py\", line 681, in _fit_and_score\n",
            "    estimator.fit(X_train, y_train, **fit_params)\n",
            "  File \"/usr/local/lib/python3.7/dist-packages/sklearn/linear_model/_logistic.py\", line 1461, in fit\n",
            "    solver = _check_solver(self.solver, self.penalty, self.dual)\n",
            "  File \"/usr/local/lib/python3.7/dist-packages/sklearn/linear_model/_logistic.py\", line 449, in _check_solver\n",
            "    % (solver, penalty)\n",
            "ValueError: Solver newton-cg supports only 'l2' or 'none' penalties, got l1 penalty.\n",
            "\n",
            "--------------------------------------------------------------------------------\n",
            "20 fits failed with the following error:\n",
            "Traceback (most recent call last):\n",
            "  File \"/usr/local/lib/python3.7/dist-packages/sklearn/model_selection/_validation.py\", line 681, in _fit_and_score\n",
            "    estimator.fit(X_train, y_train, **fit_params)\n",
            "  File \"/usr/local/lib/python3.7/dist-packages/sklearn/linear_model/_logistic.py\", line 1461, in fit\n",
            "    solver = _check_solver(self.solver, self.penalty, self.dual)\n",
            "  File \"/usr/local/lib/python3.7/dist-packages/sklearn/linear_model/_logistic.py\", line 449, in _check_solver\n",
            "    % (solver, penalty)\n",
            "ValueError: Solver lbfgs supports only 'l2' or 'none' penalties, got l1 penalty.\n",
            "\n",
            "--------------------------------------------------------------------------------\n",
            "20 fits failed with the following error:\n",
            "Traceback (most recent call last):\n",
            "  File \"/usr/local/lib/python3.7/dist-packages/sklearn/model_selection/_validation.py\", line 681, in _fit_and_score\n",
            "    estimator.fit(X_train, y_train, **fit_params)\n",
            "  File \"/usr/local/lib/python3.7/dist-packages/sklearn/linear_model/_logistic.py\", line 1461, in fit\n",
            "    solver = _check_solver(self.solver, self.penalty, self.dual)\n",
            "  File \"/usr/local/lib/python3.7/dist-packages/sklearn/linear_model/_logistic.py\", line 449, in _check_solver\n",
            "    % (solver, penalty)\n",
            "ValueError: Solver newton-cg supports only 'l2' or 'none' penalties, got elasticnet penalty.\n",
            "\n",
            "--------------------------------------------------------------------------------\n",
            "20 fits failed with the following error:\n",
            "Traceback (most recent call last):\n",
            "  File \"/usr/local/lib/python3.7/dist-packages/sklearn/model_selection/_validation.py\", line 681, in _fit_and_score\n",
            "    estimator.fit(X_train, y_train, **fit_params)\n",
            "  File \"/usr/local/lib/python3.7/dist-packages/sklearn/linear_model/_logistic.py\", line 1461, in fit\n",
            "    solver = _check_solver(self.solver, self.penalty, self.dual)\n",
            "  File \"/usr/local/lib/python3.7/dist-packages/sklearn/linear_model/_logistic.py\", line 449, in _check_solver\n",
            "    % (solver, penalty)\n",
            "ValueError: Solver lbfgs supports only 'l2' or 'none' penalties, got elasticnet penalty.\n",
            "\n",
            "--------------------------------------------------------------------------------\n",
            "20 fits failed with the following error:\n",
            "Traceback (most recent call last):\n",
            "  File \"/usr/local/lib/python3.7/dist-packages/sklearn/model_selection/_validation.py\", line 681, in _fit_and_score\n",
            "    estimator.fit(X_train, y_train, **fit_params)\n",
            "  File \"/usr/local/lib/python3.7/dist-packages/sklearn/linear_model/_logistic.py\", line 1461, in fit\n",
            "    solver = _check_solver(self.solver, self.penalty, self.dual)\n",
            "  File \"/usr/local/lib/python3.7/dist-packages/sklearn/linear_model/_logistic.py\", line 459, in _check_solver\n",
            "    solver\n",
            "ValueError: Only 'saga' solver supports elasticnet penalty, got solver=liblinear.\n",
            "\n",
            "--------------------------------------------------------------------------------\n",
            "20 fits failed with the following error:\n",
            "Traceback (most recent call last):\n",
            "  File \"/usr/local/lib/python3.7/dist-packages/sklearn/model_selection/_validation.py\", line 681, in _fit_and_score\n",
            "    estimator.fit(X_train, y_train, **fit_params)\n",
            "  File \"/usr/local/lib/python3.7/dist-packages/sklearn/linear_model/_logistic.py\", line 1461, in fit\n",
            "    solver = _check_solver(self.solver, self.penalty, self.dual)\n",
            "  File \"/usr/local/lib/python3.7/dist-packages/sklearn/linear_model/_logistic.py\", line 464, in _check_solver\n",
            "    raise ValueError(\"penalty='none' is not supported for the liblinear solver\")\n",
            "ValueError: penalty='none' is not supported for the liblinear solver\n",
            "\n",
            "  warnings.warn(some_fits_failed_message, FitFailedWarning)\n",
            "/usr/local/lib/python3.7/dist-packages/sklearn/model_selection/_search.py:972: UserWarning: One or more of the test scores are non-finite: [       nan        nan 0.64382556 0.64382556 0.64382556 0.64382556\n",
            "        nan        nan        nan 0.7041073  0.75080959        nan\n",
            "        nan        nan 0.68743523 0.64382556 0.64382556 0.64382556\n",
            "        nan        nan        nan 0.7041073  0.75080959        nan\n",
            "        nan        nan 0.81100497 0.76947863 0.76947863 0.76947863\n",
            "        nan        nan        nan 0.7041073  0.75080959        nan\n",
            "        nan        nan 0.79857513 0.79756585 0.79756585 0.79756585\n",
            "        nan        nan        nan 0.7041073  0.75080959        nan]\n",
            "  category=UserWarning,\n",
            "/usr/local/lib/python3.7/dist-packages/sklearn/model_selection/_search.py:972: UserWarning: One or more of the train scores are non-finite: [       nan        nan 0.64382165 0.64382165 0.64382165 0.64382165\n",
            "        nan        nan        nan 0.99844257 0.96962589        nan\n",
            "        nan        nan 0.70119393 0.65057187 0.65057187 0.65109067\n",
            "        nan        nan        nan 0.99844257 0.96962589        nan\n",
            "        nan        nan 0.90082773 0.83333199 0.83333199 0.83359173\n",
            "        nan        nan        nan 0.99844257 0.96962589        nan\n",
            "        nan        nan 0.94210858 0.90784072 0.90784072 0.90758098\n",
            "        nan        nan        nan 0.99844257 0.96962589        nan]\n",
            "  category=UserWarning,\n"
          ]
        }
      ],
      "source": [
        "search_results = search_grid.fit(X_train.values, y_train.values)"
      ]
    },
    {
      "cell_type": "code",
      "execution_count": null,
      "metadata": {
        "colab": {
          "base_uri": "https://localhost:8080/"
        },
        "id": "Ea8tKN6eyGBA",
        "outputId": "7b3f6e70-cde6-44e7-81ea-6a9bb9573fe4"
      },
      "outputs": [
        {
          "output_type": "execute_result",
          "data": {
            "text/plain": [
              "{'C': 10, 'max_iter': 500, 'penalty': 'l1', 'solver': 'liblinear'}"
            ]
          },
          "metadata": {},
          "execution_count": 23
        }
      ],
      "source": [
        "#Grid search results\n",
        "search_results.best_params_"
      ]
    },
    {
      "cell_type": "code",
      "execution_count": null,
      "metadata": {
        "colab": {
          "base_uri": "https://localhost:8080/"
        },
        "id": "Tozx8XGyyGBB",
        "outputId": "000809bd-7688-4306-a826-d07a3499f047"
      },
      "outputs": [
        {
          "output_type": "stream",
          "name": "stdout",
          "text": [
            "[LibLinear]"
          ]
        },
        {
          "output_type": "stream",
          "name": "stderr",
          "text": [
            "/usr/local/lib/python3.7/dist-packages/sklearn/linear_model/_logistic.py:1526: UserWarning: 'n_jobs' > 1 does not have any effect when 'solver' is set to 'liblinear'. Got 'n_jobs' = 2.\n",
            "  \" = {}.\".format(effective_n_jobs(self.n_jobs))\n"
          ]
        },
        {
          "output_type": "execute_result",
          "data": {
            "text/plain": [
              "LogisticRegression(C=10, max_iter=500, n_jobs=-1, penalty='l1',\n",
              "                   solver='liblinear', verbose=3)"
            ]
          },
          "metadata": {},
          "execution_count": 24
        }
      ],
      "source": [
        "#Build the model with the best parameters\n",
        "lr = LogisticRegression(C = 10, penalty = 'l1', solver = 'liblinear', max_iter = 500, verbose = 3, n_jobs = -1)\n",
        "lr.fit(X_train.values, y_train.values)"
      ]
    },
    {
      "cell_type": "markdown",
      "metadata": {
        "id": "r8Kb6EEdyGBD"
      },
      "source": [
        "### Graphs"
      ]
    },
    {
      "cell_type": "code",
      "execution_count": null,
      "metadata": {
        "colab": {
          "base_uri": "https://localhost:8080/"
        },
        "id": "Z5Z3SzNuyGBD",
        "outputId": "eaf57edd-8761-480e-a5f0-e9ea70576c4a"
      },
      "outputs": [
        {
          "output_type": "stream",
          "name": "stdout",
          "text": [
            "Accuracy: 80.13%\n"
          ]
        }
      ],
      "source": [
        "#Get the accuracy score for the performance\n",
        "lr_score = lr.score(X_test.values, y_test.values)\n",
        "print(f'Accuracy: {round(lr_score*100, 2)}%')"
      ]
    },
    {
      "cell_type": "code",
      "execution_count": null,
      "metadata": {
        "colab": {
          "base_uri": "https://localhost:8080/"
        },
        "id": "zqPP02n5yGBE",
        "outputId": "ade9f785-04e7-4b45-8a23-642058e305bd"
      },
      "outputs": [
        {
          "output_type": "stream",
          "name": "stdout",
          "text": [
            "Expected output:  Retired \n",
            "Predicted output:  Retired \n",
            "Index:  [207]\n"
          ]
        }
      ],
      "source": [
        "#Predict with the test set\n",
        "index = np.random.randint(0, y_test.shape)\n",
        "y_output = y_test.values[index]\n",
        "prediction = lr.predict(X_test.values[index])\n",
        "print('Expected output: ', 'Non retired' if y_output == 0 else 'Retired',\n",
        "      '\\nPredicted output: ', 'Non retired' if prediction == 0 else 'Retired',\n",
        "      '\\nIndex: ', index)"
      ]
    },
    {
      "cell_type": "code",
      "execution_count": null,
      "metadata": {
        "colab": {
          "base_uri": "https://localhost:8080/",
          "height": 206
        },
        "id": "kznUX0_eyGBE",
        "outputId": "9781c979-730c-44bf-85a8-4f0cf8f7839e"
      },
      "outputs": [
        {
          "output_type": "execute_result",
          "data": {
            "text/html": [
              "<style  type=\"text/css\" >\n",
              "#T_2dd5c080_6fc7_11ec_9685_0242ac1c0002row0_col0,#T_2dd5c080_6fc7_11ec_9685_0242ac1c0002row0_col1,#T_2dd5c080_6fc7_11ec_9685_0242ac1c0002row0_col2,#T_2dd5c080_6fc7_11ec_9685_0242ac1c0002row2_col3{\n",
              "            background-color:  #0b0405;\n",
              "            color:  #f1f1f1;\n",
              "        }#T_2dd5c080_6fc7_11ec_9685_0242ac1c0002row0_col3{\n",
              "            background-color:  #3e5095;\n",
              "            color:  #f1f1f1;\n",
              "        }#T_2dd5c080_6fc7_11ec_9685_0242ac1c0002row1_col0,#T_2dd5c080_6fc7_11ec_9685_0242ac1c0002row1_col1,#T_2dd5c080_6fc7_11ec_9685_0242ac1c0002row1_col2,#T_2dd5c080_6fc7_11ec_9685_0242ac1c0002row3_col3,#T_2dd5c080_6fc7_11ec_9685_0242ac1c0002row4_col3{\n",
              "            background-color:  #def5e5;\n",
              "            color:  #000000;\n",
              "        }#T_2dd5c080_6fc7_11ec_9685_0242ac1c0002row1_col3,#T_2dd5c080_6fc7_11ec_9685_0242ac1c0002row2_col1,#T_2dd5c080_6fc7_11ec_9685_0242ac1c0002row4_col0,#T_2dd5c080_6fc7_11ec_9685_0242ac1c0002row4_col1,#T_2dd5c080_6fc7_11ec_9685_0242ac1c0002row4_col2{\n",
              "            background-color:  #36a3ab;\n",
              "            color:  #000000;\n",
              "        }#T_2dd5c080_6fc7_11ec_9685_0242ac1c0002row2_col0{\n",
              "            background-color:  #39abac;\n",
              "            color:  #000000;\n",
              "        }#T_2dd5c080_6fc7_11ec_9685_0242ac1c0002row2_col2{\n",
              "            background-color:  #37a6ac;\n",
              "            color:  #000000;\n",
              "        }#T_2dd5c080_6fc7_11ec_9685_0242ac1c0002row3_col0,#T_2dd5c080_6fc7_11ec_9685_0242ac1c0002row3_col2{\n",
              "            background-color:  #357ba3;\n",
              "            color:  #000000;\n",
              "        }#T_2dd5c080_6fc7_11ec_9685_0242ac1c0002row3_col1{\n",
              "            background-color:  #357aa2;\n",
              "            color:  #000000;\n",
              "        }</style><table id=\"T_2dd5c080_6fc7_11ec_9685_0242ac1c0002\" class=\"dataframe\"><thead>    <tr>        <th class=\"blank level0\" ></th>        <th class=\"col_heading level0 col0\" >precision</th>        <th class=\"col_heading level0 col1\" >recall</th>        <th class=\"col_heading level0 col2\" >f1-score</th>        <th class=\"col_heading level0 col3\" >support</th>    </tr></thead><tbody>\n",
              "                <tr>\n",
              "                        <th id=\"T_2dd5c080_6fc7_11ec_9685_0242ac1c0002level0_row0\" class=\"row_heading level0 row0\" >non retired</th>\n",
              "                        <td id=\"T_2dd5c080_6fc7_11ec_9685_0242ac1c0002row0_col0\" class=\"data row0 col0\" >0.740000</td>\n",
              "                        <td id=\"T_2dd5c080_6fc7_11ec_9685_0242ac1c0002row0_col1\" class=\"data row0 col1\" >0.685185</td>\n",
              "                        <td id=\"T_2dd5c080_6fc7_11ec_9685_0242ac1c0002row0_col2\" class=\"data row0 col2\" >0.711538</td>\n",
              "                        <td id=\"T_2dd5c080_6fc7_11ec_9685_0242ac1c0002row0_col3\" class=\"data row0 col3\" >108.000000</td>\n",
              "            </tr>\n",
              "            <tr>\n",
              "                        <th id=\"T_2dd5c080_6fc7_11ec_9685_0242ac1c0002level0_row1\" class=\"row_heading level0 row1\" >retired</th>\n",
              "                        <td id=\"T_2dd5c080_6fc7_11ec_9685_0242ac1c0002row1_col0\" class=\"data row1 col0\" >0.831683</td>\n",
              "                        <td id=\"T_2dd5c080_6fc7_11ec_9685_0242ac1c0002row1_col1\" class=\"data row1 col1\" >0.865979</td>\n",
              "                        <td id=\"T_2dd5c080_6fc7_11ec_9685_0242ac1c0002row1_col2\" class=\"data row1 col2\" >0.848485</td>\n",
              "                        <td id=\"T_2dd5c080_6fc7_11ec_9685_0242ac1c0002row1_col3\" class=\"data row1 col3\" >194.000000</td>\n",
              "            </tr>\n",
              "            <tr>\n",
              "                        <th id=\"T_2dd5c080_6fc7_11ec_9685_0242ac1c0002level0_row2\" class=\"row_heading level0 row2\" >accuracy</th>\n",
              "                        <td id=\"T_2dd5c080_6fc7_11ec_9685_0242ac1c0002row2_col0\" class=\"data row2 col0\" >0.801325</td>\n",
              "                        <td id=\"T_2dd5c080_6fc7_11ec_9685_0242ac1c0002row2_col1\" class=\"data row2 col1\" >0.801325</td>\n",
              "                        <td id=\"T_2dd5c080_6fc7_11ec_9685_0242ac1c0002row2_col2\" class=\"data row2 col2\" >0.801325</td>\n",
              "                        <td id=\"T_2dd5c080_6fc7_11ec_9685_0242ac1c0002row2_col3\" class=\"data row2 col3\" >0.801325</td>\n",
              "            </tr>\n",
              "            <tr>\n",
              "                        <th id=\"T_2dd5c080_6fc7_11ec_9685_0242ac1c0002level0_row3\" class=\"row_heading level0 row3\" >macro avg</th>\n",
              "                        <td id=\"T_2dd5c080_6fc7_11ec_9685_0242ac1c0002row3_col0\" class=\"data row3 col0\" >0.785842</td>\n",
              "                        <td id=\"T_2dd5c080_6fc7_11ec_9685_0242ac1c0002row3_col1\" class=\"data row3 col1\" >0.775582</td>\n",
              "                        <td id=\"T_2dd5c080_6fc7_11ec_9685_0242ac1c0002row3_col2\" class=\"data row3 col2\" >0.780012</td>\n",
              "                        <td id=\"T_2dd5c080_6fc7_11ec_9685_0242ac1c0002row3_col3\" class=\"data row3 col3\" >302.000000</td>\n",
              "            </tr>\n",
              "            <tr>\n",
              "                        <th id=\"T_2dd5c080_6fc7_11ec_9685_0242ac1c0002level0_row4\" class=\"row_heading level0 row4\" >weighted avg</th>\n",
              "                        <td id=\"T_2dd5c080_6fc7_11ec_9685_0242ac1c0002row4_col0\" class=\"data row4 col0\" >0.798896</td>\n",
              "                        <td id=\"T_2dd5c080_6fc7_11ec_9685_0242ac1c0002row4_col1\" class=\"data row4 col1\" >0.801325</td>\n",
              "                        <td id=\"T_2dd5c080_6fc7_11ec_9685_0242ac1c0002row4_col2\" class=\"data row4 col2\" >0.799511</td>\n",
              "                        <td id=\"T_2dd5c080_6fc7_11ec_9685_0242ac1c0002row4_col3\" class=\"data row4 col3\" >302.000000</td>\n",
              "            </tr>\n",
              "    </tbody></table>"
            ],
            "text/plain": [
              "<pandas.io.formats.style.Styler at 0x7f257ab5a3d0>"
            ]
          },
          "metadata": {},
          "execution_count": 27
        }
      ],
      "source": [
        "labels = [0, 1]\n",
        "y_predict = lr.predict(X_test.values)\n",
        "report = classification_report(y_test.values, y_predict, zero_division = 0, output_dict = True, labels = labels)\n",
        "df_report = pd.DataFrame.from_dict(report, orient = 'columns').T\n",
        "df_report.rename(index = {'0': 'non retired', '1': 'retired'}, inplace = True)\n",
        "cmap = sn.color_palette('mako', as_cmap = True)\n",
        "df_image = df_report.style.background_gradient(cmap = cmap)\n",
        "df_image\n",
        "#dfi.export(df_image, RESULTS_PATH + 'classification_report.png')\n",
        "#df_report[['precision', 'recall', 'f1-score']].style.applymap(lambda v: 'background: green' if (v > 0.5) else '')"
      ]
    },
    {
      "cell_type": "code",
      "execution_count": null,
      "metadata": {
        "colab": {
          "base_uri": "https://localhost:8080/",
          "height": 586
        },
        "id": "oUTPsMF0yGBF",
        "outputId": "d969d17b-c8e3-4327-9f9d-75a32d36b523"
      },
      "outputs": [
        {
          "output_type": "display_data",
          "data": {
            "image/png": "[encoded data removed]",
            "text/plain": [
              "<Figure size 576x576 with 4 Axes>"
            ]
          },
          "metadata": {}
        }
      ],
      "source": [
        "# Confusion matrix plot\n",
        "#y_predict = np.zeros(y_predicted.shape[0])\n",
        "#for i in range(y_predicted.shape[0]):\n",
        "#    y_predict[i] = y_predicted[i,:].argmax() \n",
        "    \n",
        "y_expect = y_test.values\n",
        "labels = [0, 1]\n",
        "str_labels = ['Non retired', 'Retired']\n",
        "cm = confusion_matrix(y_expect, y_predict, labels = labels)\n",
        "df_cm = pd.DataFrame(cm, index = str_labels, columns = str_labels)\n",
        "\n",
        "fig = plt.figure(figsize = (8, 8))\n",
        "ax = fig.add_subplot(2, 1, 1)\n",
        "ax.set_title('Confusion Matrix (Percentage)')\n",
        "sn.set(font_scale = 0.8)\n",
        "percentage = df_cm/df_cm.sum()\n",
        "ax = sn.heatmap(percentage.replace(np.nan, 0), annot = True, fmt = '.2%', cmap = 'mako')\n",
        "ax.set_xlabel('Predicted label')\n",
        "ax.set_ylabel('Expected label')\n",
        "\n",
        "ax = fig.add_subplot(2, 1, 2)\n",
        "ax.set_title('Confusion Matrix (Number)')\n",
        "ax = sn.heatmap(df_cm, annot = True, fmt = 'd', cmap = 'crest')\n",
        "ax.set_xlabel('Predicted label')\n",
        "ax.set_ylabel('Expected label')\n",
        "fig.tight_layout()\n",
        "plt.show()\n",
        "\n",
        "#ax.figure.savefig(RESULTS_PATH + 'confusionMatrix1.png')\n",
        "#disp = ConfusionMatrixDisplay(confusion_matrix = cm, display_labels = labels)\n",
        "#disp.plot()"
      ]
    },
    {
      "cell_type": "markdown",
      "metadata": {
        "id": "pmJJuJpFyGBG"
      },
      "source": [
        "### Results"
      ]
    },
    {
      "cell_type": "code",
      "execution_count": null,
      "metadata": {
        "id": "nlQJH0U5yGBG"
      },
      "outputs": [],
      "source": [
        ""
      ]
    },
    {
      "cell_type": "code",
      "execution_count": null,
      "metadata": {
        "id": "l9gBruhcyGBG"
      },
      "outputs": [],
      "source": [
        ""
      ]
    },
    {
      "cell_type": "markdown",
      "metadata": {
        "id": "fQg4BT8oyGBH"
      },
      "source": [
        "### Metrics"
      ]
    },
    {
      "cell_type": "code",
      "execution_count": null,
      "metadata": {
        "id": "Xc74fj4QyGBH"
      },
      "outputs": [],
      "source": [
        ""
      ]
    },
    {
      "cell_type": "code",
      "execution_count": null,
      "metadata": {
        "id": "1hv7YwERyGBI"
      },
      "outputs": [],
      "source": [
        ""
      ]
    },
    {
      "cell_type": "markdown",
      "metadata": {
        "id": "zY91hJWTyGBI"
      },
      "source": [
        "### End"
      ]
    },
    {
      "cell_type": "markdown",
      "metadata": {
        "id": "zbpJsucPwo8s"
      },
      "source": [
        "## Logistic regression"
      ]
    },
    {
      "cell_type": "markdown",
      "metadata": {
        "id": "WxGbTbpAwo8v"
      },
      "source": [
        "### Data inporting"
      ]
    },
    {
      "cell_type": "code",
      "execution_count": null,
      "metadata": {
        "colab": {
          "base_uri": "https://localhost:8080/",
          "height": 317
        },
        "id": "gLNvGj8Xwo8w",
        "outputId": "95468150-10ff-4671-e69a-4ba4eddb6773"
      },
      "outputs": [
        {
          "output_type": "execute_result",
          "data": {
            "text/html": [
              "\n",
              "  <div id=\"df-41060bb2-1fb4-4970-a667-8e383d497a93\">\n",
              "    <div class=\"colab-df-container\">\n",
              "      <div>\n",
              "<style scoped>\n",
              "    .dataframe tbody tr th:only-of-type {\n",
              "        vertical-align: middle;\n",
              "    }\n",
              "\n",
              "    .dataframe tbody tr th {\n",
              "        vertical-align: top;\n",
              "    }\n",
              "\n",
              "    .dataframe thead th {\n",
              "        text-align: right;\n",
              "    }\n",
              "</style>\n",
              "<table border=\"1\" class=\"dataframe\">\n",
              "  <thead>\n",
              "    <tr style=\"text-align: right;\">\n",
              "      <th></th>\n",
              "      <th>AC_TP</th>\n",
              "      <th>ADM_TP</th>\n",
              "      <th>AI_TP</th>\n",
              "      <th>AP_TP</th>\n",
              "      <th>CO_TP</th>\n",
              "      <th>CU_TP</th>\n",
              "      <th>HD_TP</th>\n",
              "      <th>IN_TP</th>\n",
              "      <th>NE_TP</th>\n",
              "      <th>OP_TP</th>\n",
              "      <th>PD_TP</th>\n",
              "      <th>PM_TP</th>\n",
              "      <th>PR_TP</th>\n",
              "      <th>SE_TP</th>\n",
              "      <th>SM_TP</th>\n",
              "      <th>SO_TP</th>\n",
              "      <th>TD_TP</th>\n",
              "      <th>ASIGNACIONES_FACTURADAS</th>\n",
              "      <th>ASIGNACIONES_NO_FACTURADAS</th>\n",
              "      <th>AC_HR</th>\n",
              "      <th>ADM_HR</th>\n",
              "      <th>AI_HR</th>\n",
              "      <th>AP_HR</th>\n",
              "      <th>CO_HR</th>\n",
              "      <th>CU_HR</th>\n",
              "      <th>HD_HR</th>\n",
              "      <th>IN_HR</th>\n",
              "      <th>NE_HR</th>\n",
              "      <th>OP_HR</th>\n",
              "      <th>PD_HR</th>\n",
              "      <th>PM_HR</th>\n",
              "      <th>PR_HR</th>\n",
              "      <th>SE_HR</th>\n",
              "      <th>SM_HR</th>\n",
              "      <th>SO_HR</th>\n",
              "      <th>TD_HR</th>\n",
              "      <th>.NET</th>\n",
              "      <th>.NET Core</th>\n",
              "      <th>ANGULAR</th>\n",
              "      <th>AWS</th>\n",
              "      <th>...</th>\n",
              "      <th>8</th>\n",
              "      <th>9</th>\n",
              "      <th>28</th>\n",
              "      <th>31</th>\n",
              "      <th>35</th>\n",
              "      <th>41</th>\n",
              "      <th>45</th>\n",
              "      <th>56</th>\n",
              "      <th>59</th>\n",
              "      <th>AC_PN</th>\n",
              "      <th>ADM_PN</th>\n",
              "      <th>AI_PN</th>\n",
              "      <th>AP_PN</th>\n",
              "      <th>CO_PN</th>\n",
              "      <th>HD_PN</th>\n",
              "      <th>IN_PN</th>\n",
              "      <th>NE_PN</th>\n",
              "      <th>OP_PN</th>\n",
              "      <th>PD_PN</th>\n",
              "      <th>PM_PN</th>\n",
              "      <th>SE_PN</th>\n",
              "      <th>SM_PN</th>\n",
              "      <th>SO_PN</th>\n",
              "      <th>TD_PN</th>\n",
              "      <th>ADM_RS</th>\n",
              "      <th>AP_RS</th>\n",
              "      <th>CO_RS</th>\n",
              "      <th>HD_RS</th>\n",
              "      <th>IN_RS</th>\n",
              "      <th>NE_RS</th>\n",
              "      <th>OP_RS</th>\n",
              "      <th>PD_RS</th>\n",
              "      <th>PM_RS</th>\n",
              "      <th>SE_RS</th>\n",
              "      <th>SM_RS</th>\n",
              "      <th>SO_RS</th>\n",
              "      <th>EDAD</th>\n",
              "      <th>GENERO</th>\n",
              "      <th>TIEMPO_EMP</th>\n",
              "      <th>LABEL</th>\n",
              "    </tr>\n",
              "  </thead>\n",
              "  <tbody>\n",
              "    <tr>\n",
              "      <th>288</th>\n",
              "      <td>0</td>\n",
              "      <td>0</td>\n",
              "      <td>0</td>\n",
              "      <td>0</td>\n",
              "      <td>0</td>\n",
              "      <td>0</td>\n",
              "      <td>0</td>\n",
              "      <td>0</td>\n",
              "      <td>0</td>\n",
              "      <td>0</td>\n",
              "      <td>0</td>\n",
              "      <td>0</td>\n",
              "      <td>0</td>\n",
              "      <td>0</td>\n",
              "      <td>0</td>\n",
              "      <td>0</td>\n",
              "      <td>0</td>\n",
              "      <td>0</td>\n",
              "      <td>0</td>\n",
              "      <td>0.0</td>\n",
              "      <td>0.00</td>\n",
              "      <td>0.0</td>\n",
              "      <td>0.0</td>\n",
              "      <td>0.0</td>\n",
              "      <td>0</td>\n",
              "      <td>0.0</td>\n",
              "      <td>0.0</td>\n",
              "      <td>0.00</td>\n",
              "      <td>0.00</td>\n",
              "      <td>0.0</td>\n",
              "      <td>0.0</td>\n",
              "      <td>0.0</td>\n",
              "      <td>0.0</td>\n",
              "      <td>0.0</td>\n",
              "      <td>0.0</td>\n",
              "      <td>0.0</td>\n",
              "      <td>0</td>\n",
              "      <td>0</td>\n",
              "      <td>0</td>\n",
              "      <td>0</td>\n",
              "      <td>...</td>\n",
              "      <td>0.0</td>\n",
              "      <td>0.0</td>\n",
              "      <td>0.0</td>\n",
              "      <td>0.0</td>\n",
              "      <td>0.0</td>\n",
              "      <td>0.0</td>\n",
              "      <td>0.0</td>\n",
              "      <td>0.0</td>\n",
              "      <td>0.0</td>\n",
              "      <td>0</td>\n",
              "      <td>0</td>\n",
              "      <td>0</td>\n",
              "      <td>0</td>\n",
              "      <td>0</td>\n",
              "      <td>0</td>\n",
              "      <td>0</td>\n",
              "      <td>0</td>\n",
              "      <td>0</td>\n",
              "      <td>0</td>\n",
              "      <td>0</td>\n",
              "      <td>0</td>\n",
              "      <td>0</td>\n",
              "      <td>0</td>\n",
              "      <td>0</td>\n",
              "      <td>0</td>\n",
              "      <td>0</td>\n",
              "      <td>0</td>\n",
              "      <td>0</td>\n",
              "      <td>0</td>\n",
              "      <td>0</td>\n",
              "      <td>0</td>\n",
              "      <td>0</td>\n",
              "      <td>0</td>\n",
              "      <td>0</td>\n",
              "      <td>0</td>\n",
              "      <td>0</td>\n",
              "      <td>50</td>\n",
              "      <td>1</td>\n",
              "      <td>5</td>\n",
              "      <td>1</td>\n",
              "    </tr>\n",
              "    <tr>\n",
              "      <th>492</th>\n",
              "      <td>0</td>\n",
              "      <td>13</td>\n",
              "      <td>0</td>\n",
              "      <td>0</td>\n",
              "      <td>0</td>\n",
              "      <td>0</td>\n",
              "      <td>0</td>\n",
              "      <td>0</td>\n",
              "      <td>4</td>\n",
              "      <td>0</td>\n",
              "      <td>0</td>\n",
              "      <td>0</td>\n",
              "      <td>0</td>\n",
              "      <td>0</td>\n",
              "      <td>0</td>\n",
              "      <td>0</td>\n",
              "      <td>0</td>\n",
              "      <td>4</td>\n",
              "      <td>3</td>\n",
              "      <td>0.0</td>\n",
              "      <td>48.50</td>\n",
              "      <td>0.0</td>\n",
              "      <td>0.0</td>\n",
              "      <td>0.0</td>\n",
              "      <td>0</td>\n",
              "      <td>0.0</td>\n",
              "      <td>0.0</td>\n",
              "      <td>1971.18</td>\n",
              "      <td>0.00</td>\n",
              "      <td>0.0</td>\n",
              "      <td>0.0</td>\n",
              "      <td>0.0</td>\n",
              "      <td>0.0</td>\n",
              "      <td>0.0</td>\n",
              "      <td>0.0</td>\n",
              "      <td>0.0</td>\n",
              "      <td>0</td>\n",
              "      <td>0</td>\n",
              "      <td>0</td>\n",
              "      <td>0</td>\n",
              "      <td>...</td>\n",
              "      <td>0.0</td>\n",
              "      <td>0.0</td>\n",
              "      <td>0.0</td>\n",
              "      <td>0.0</td>\n",
              "      <td>0.0</td>\n",
              "      <td>0.0</td>\n",
              "      <td>0.0</td>\n",
              "      <td>0.0</td>\n",
              "      <td>0.0</td>\n",
              "      <td>0</td>\n",
              "      <td>496</td>\n",
              "      <td>0</td>\n",
              "      <td>0</td>\n",
              "      <td>0</td>\n",
              "      <td>0</td>\n",
              "      <td>0</td>\n",
              "      <td>0</td>\n",
              "      <td>0</td>\n",
              "      <td>0</td>\n",
              "      <td>0</td>\n",
              "      <td>0</td>\n",
              "      <td>0</td>\n",
              "      <td>0</td>\n",
              "      <td>0</td>\n",
              "      <td>0</td>\n",
              "      <td>0</td>\n",
              "      <td>0</td>\n",
              "      <td>0</td>\n",
              "      <td>0</td>\n",
              "      <td>0</td>\n",
              "      <td>0</td>\n",
              "      <td>0</td>\n",
              "      <td>0</td>\n",
              "      <td>0</td>\n",
              "      <td>0</td>\n",
              "      <td>0</td>\n",
              "      <td>25</td>\n",
              "      <td>0</td>\n",
              "      <td>22</td>\n",
              "      <td>1</td>\n",
              "    </tr>\n",
              "    <tr>\n",
              "      <th>1061</th>\n",
              "      <td>0</td>\n",
              "      <td>18</td>\n",
              "      <td>0</td>\n",
              "      <td>0</td>\n",
              "      <td>0</td>\n",
              "      <td>0</td>\n",
              "      <td>0</td>\n",
              "      <td>0</td>\n",
              "      <td>0</td>\n",
              "      <td>2</td>\n",
              "      <td>0</td>\n",
              "      <td>0</td>\n",
              "      <td>0</td>\n",
              "      <td>0</td>\n",
              "      <td>0</td>\n",
              "      <td>0</td>\n",
              "      <td>0</td>\n",
              "      <td>2</td>\n",
              "      <td>3</td>\n",
              "      <td>0.0</td>\n",
              "      <td>129.00</td>\n",
              "      <td>0.0</td>\n",
              "      <td>0.0</td>\n",
              "      <td>0.0</td>\n",
              "      <td>0</td>\n",
              "      <td>0.0</td>\n",
              "      <td>0.0</td>\n",
              "      <td>0.00</td>\n",
              "      <td>1826.00</td>\n",
              "      <td>0.0</td>\n",
              "      <td>0.0</td>\n",
              "      <td>0.0</td>\n",
              "      <td>0.0</td>\n",
              "      <td>0.0</td>\n",
              "      <td>0.0</td>\n",
              "      <td>0.0</td>\n",
              "      <td>0</td>\n",
              "      <td>0</td>\n",
              "      <td>1</td>\n",
              "      <td>0</td>\n",
              "      <td>...</td>\n",
              "      <td>0.0</td>\n",
              "      <td>0.0</td>\n",
              "      <td>0.0</td>\n",
              "      <td>0.0</td>\n",
              "      <td>0.0</td>\n",
              "      <td>0.0</td>\n",
              "      <td>0.0</td>\n",
              "      <td>0.0</td>\n",
              "      <td>0.0</td>\n",
              "      <td>0</td>\n",
              "      <td>1244</td>\n",
              "      <td>0</td>\n",
              "      <td>0</td>\n",
              "      <td>0</td>\n",
              "      <td>0</td>\n",
              "      <td>0</td>\n",
              "      <td>0</td>\n",
              "      <td>96</td>\n",
              "      <td>0</td>\n",
              "      <td>0</td>\n",
              "      <td>0</td>\n",
              "      <td>0</td>\n",
              "      <td>0</td>\n",
              "      <td>0</td>\n",
              "      <td>0</td>\n",
              "      <td>0</td>\n",
              "      <td>0</td>\n",
              "      <td>0</td>\n",
              "      <td>0</td>\n",
              "      <td>0</td>\n",
              "      <td>5</td>\n",
              "      <td>0</td>\n",
              "      <td>0</td>\n",
              "      <td>0</td>\n",
              "      <td>0</td>\n",
              "      <td>0</td>\n",
              "      <td>30</td>\n",
              "      <td>0</td>\n",
              "      <td>57</td>\n",
              "      <td>0</td>\n",
              "    </tr>\n",
              "    <tr>\n",
              "      <th>1500</th>\n",
              "      <td>0</td>\n",
              "      <td>4</td>\n",
              "      <td>0</td>\n",
              "      <td>0</td>\n",
              "      <td>0</td>\n",
              "      <td>0</td>\n",
              "      <td>0</td>\n",
              "      <td>0</td>\n",
              "      <td>0</td>\n",
              "      <td>0</td>\n",
              "      <td>0</td>\n",
              "      <td>0</td>\n",
              "      <td>0</td>\n",
              "      <td>0</td>\n",
              "      <td>0</td>\n",
              "      <td>0</td>\n",
              "      <td>0</td>\n",
              "      <td>0</td>\n",
              "      <td>4</td>\n",
              "      <td>0.0</td>\n",
              "      <td>68.00</td>\n",
              "      <td>0.0</td>\n",
              "      <td>0.0</td>\n",
              "      <td>0.0</td>\n",
              "      <td>0</td>\n",
              "      <td>0.0</td>\n",
              "      <td>0.0</td>\n",
              "      <td>0.00</td>\n",
              "      <td>0.00</td>\n",
              "      <td>0.0</td>\n",
              "      <td>0.0</td>\n",
              "      <td>0.0</td>\n",
              "      <td>0.0</td>\n",
              "      <td>0.0</td>\n",
              "      <td>0.0</td>\n",
              "      <td>0.0</td>\n",
              "      <td>0</td>\n",
              "      <td>0</td>\n",
              "      <td>0</td>\n",
              "      <td>0</td>\n",
              "      <td>...</td>\n",
              "      <td>0.0</td>\n",
              "      <td>0.0</td>\n",
              "      <td>0.0</td>\n",
              "      <td>0.0</td>\n",
              "      <td>0.0</td>\n",
              "      <td>0.0</td>\n",
              "      <td>0.0</td>\n",
              "      <td>0.0</td>\n",
              "      <td>0.0</td>\n",
              "      <td>0</td>\n",
              "      <td>201</td>\n",
              "      <td>0</td>\n",
              "      <td>0</td>\n",
              "      <td>0</td>\n",
              "      <td>0</td>\n",
              "      <td>0</td>\n",
              "      <td>0</td>\n",
              "      <td>0</td>\n",
              "      <td>0</td>\n",
              "      <td>0</td>\n",
              "      <td>0</td>\n",
              "      <td>0</td>\n",
              "      <td>0</td>\n",
              "      <td>0</td>\n",
              "      <td>0</td>\n",
              "      <td>0</td>\n",
              "      <td>0</td>\n",
              "      <td>0</td>\n",
              "      <td>0</td>\n",
              "      <td>0</td>\n",
              "      <td>0</td>\n",
              "      <td>0</td>\n",
              "      <td>0</td>\n",
              "      <td>0</td>\n",
              "      <td>0</td>\n",
              "      <td>0</td>\n",
              "      <td>29</td>\n",
              "      <td>0</td>\n",
              "      <td>1</td>\n",
              "      <td>0</td>\n",
              "    </tr>\n",
              "    <tr>\n",
              "      <th>313</th>\n",
              "      <td>0</td>\n",
              "      <td>18</td>\n",
              "      <td>0</td>\n",
              "      <td>0</td>\n",
              "      <td>1</td>\n",
              "      <td>0</td>\n",
              "      <td>0</td>\n",
              "      <td>0</td>\n",
              "      <td>0</td>\n",
              "      <td>4</td>\n",
              "      <td>0</td>\n",
              "      <td>0</td>\n",
              "      <td>0</td>\n",
              "      <td>0</td>\n",
              "      <td>0</td>\n",
              "      <td>0</td>\n",
              "      <td>0</td>\n",
              "      <td>1</td>\n",
              "      <td>10</td>\n",
              "      <td>0.0</td>\n",
              "      <td>146.25</td>\n",
              "      <td>0.0</td>\n",
              "      <td>281.5</td>\n",
              "      <td>0.0</td>\n",
              "      <td>0</td>\n",
              "      <td>0.0</td>\n",
              "      <td>0.0</td>\n",
              "      <td>0.00</td>\n",
              "      <td>1590.25</td>\n",
              "      <td>0.0</td>\n",
              "      <td>0.0</td>\n",
              "      <td>0.0</td>\n",
              "      <td>0.0</td>\n",
              "      <td>0.0</td>\n",
              "      <td>0.0</td>\n",
              "      <td>0.0</td>\n",
              "      <td>0</td>\n",
              "      <td>0</td>\n",
              "      <td>0</td>\n",
              "      <td>0</td>\n",
              "      <td>...</td>\n",
              "      <td>0.0</td>\n",
              "      <td>0.0</td>\n",
              "      <td>0.0</td>\n",
              "      <td>0.0</td>\n",
              "      <td>0.0</td>\n",
              "      <td>0.0</td>\n",
              "      <td>0.0</td>\n",
              "      <td>0.0</td>\n",
              "      <td>0.0</td>\n",
              "      <td>0</td>\n",
              "      <td>117</td>\n",
              "      <td>0</td>\n",
              "      <td>0</td>\n",
              "      <td>0</td>\n",
              "      <td>0</td>\n",
              "      <td>0</td>\n",
              "      <td>0</td>\n",
              "      <td>0</td>\n",
              "      <td>0</td>\n",
              "      <td>0</td>\n",
              "      <td>0</td>\n",
              "      <td>0</td>\n",
              "      <td>0</td>\n",
              "      <td>0</td>\n",
              "      <td>0</td>\n",
              "      <td>0</td>\n",
              "      <td>0</td>\n",
              "      <td>0</td>\n",
              "      <td>0</td>\n",
              "      <td>0</td>\n",
              "      <td>0</td>\n",
              "      <td>0</td>\n",
              "      <td>0</td>\n",
              "      <td>0</td>\n",
              "      <td>0</td>\n",
              "      <td>0</td>\n",
              "      <td>24</td>\n",
              "      <td>1</td>\n",
              "      <td>11</td>\n",
              "      <td>1</td>\n",
              "    </tr>\n",
              "  </tbody>\n",
              "</table>\n",
              "<p>5 rows × 436 columns</p>\n",
              "</div>\n",
              "      <button class=\"colab-df-convert\" onclick=\"convertToInteractive('df-41060bb2-1fb4-4970-a667-8e383d497a93')\"\n",
              "              title=\"Convert this dataframe to an interactive table.\"\n",
              "              style=\"display:none;\">\n",
              "        \n",
              "  <svg xmlns=\"http://www.w3.org/2000/svg\" height=\"24px\"viewBox=\"0 0 24 24\"\n",
              "       width=\"24px\">\n",
              "    <path d=\"M0 0h24v24H0V0z\" fill=\"none\"/>\n",
              "    <path d=\"M18.56 5.44l.94 2.06.94-2.06 2.06-.94-2.06-.94-.94-2.06-.94 2.06-2.06.94zm-11 1L8.5 8.5l.94-2.06 2.06-.94-2.06-.94L8.5 2.5l-.94 2.06-2.06.94zm10 10l.94 2.06.94-2.06 2.06-.94-2.06-.94-.94-2.06-.94 2.06-2.06.94z\"/><path d=\"M17.41 7.96l-1.37-1.37c-.4-.4-.92-.59-1.43-.59-.52 0-1.04.2-1.43.59L10.3 9.45l-7.72 7.72c-.78.78-.78 2.05 0 2.83L4 21.41c.39.39.9.59 1.41.59.51 0 1.02-.2 1.41-.59l7.78-7.78 2.81-2.81c.8-.78.8-2.07 0-2.86zM5.41 20L4 18.59l7.72-7.72 1.47 1.35L5.41 20z\"/>\n",
              "  </svg>\n",
              "      </button>\n",
              "      \n",
              "  <style>\n",
              "    .colab-df-container {\n",
              "      display:flex;\n",
              "      flex-wrap:wrap;\n",
              "      gap: 12px;\n",
              "    }\n",
              "\n",
              "    .colab-df-convert {\n",
              "      background-color: #E8F0FE;\n",
              "      border: none;\n",
              "      border-radius: 50%;\n",
              "      cursor: pointer;\n",
              "      display: none;\n",
              "      fill: #1967D2;\n",
              "      height: 32px;\n",
              "      padding: 0 0 0 0;\n",
              "      width: 32px;\n",
              "    }\n",
              "\n",
              "    .colab-df-convert:hover {\n",
              "      background-color: #E2EBFA;\n",
              "      box-shadow: 0px 1px 2px rgba(60, 64, 67, 0.3), 0px 1px 3px 1px rgba(60, 64, 67, 0.15);\n",
              "      fill: #174EA6;\n",
              "    }\n",
              "\n",
              "    [theme=dark] .colab-df-convert {\n",
              "      background-color: #3B4455;\n",
              "      fill: #D2E3FC;\n",
              "    }\n",
              "\n",
              "    [theme=dark] .colab-df-convert:hover {\n",
              "      background-color: #434B5C;\n",
              "      box-shadow: 0px 1px 3px 1px rgba(0, 0, 0, 0.15);\n",
              "      filter: drop-shadow(0px 1px 2px rgba(0, 0, 0, 0.3));\n",
              "      fill: #FFFFFF;\n",
              "    }\n",
              "  </style>\n",
              "\n",
              "      <script>\n",
              "        const buttonEl =\n",
              "          document.querySelector('#df-41060bb2-1fb4-4970-a667-8e383d497a93 button.colab-df-convert');\n",
              "        buttonEl.style.display =\n",
              "          google.colab.kernel.accessAllowed ? 'block' : 'none';\n",
              "\n",
              "        async function convertToInteractive(key) {\n",
              "          const element = document.querySelector('#df-41060bb2-1fb4-4970-a667-8e383d497a93');\n",
              "          const dataTable =\n",
              "            await google.colab.kernel.invokeFunction('convertToInteractive',\n",
              "                                                     [key], {});\n",
              "          if (!dataTable) return;\n",
              "\n",
              "          const docLinkHtml = 'Like what you see? Visit the ' +\n",
              "            '<a target=\"_blank\" href=https://colab.research.google.com/notebooks/data_table.ipynb>data table notebook</a>'\n",
              "            + ' to learn more about interactive tables.';\n",
              "          element.innerHTML = '';\n",
              "          dataTable['output_type'] = 'display_data';\n",
              "          await google.colab.output.renderOutput(dataTable, element);\n",
              "          const docLink = document.createElement('div');\n",
              "          docLink.innerHTML = docLinkHtml;\n",
              "          element.appendChild(docLink);\n",
              "        }\n",
              "      </script>\n",
              "    </div>\n",
              "  </div>\n",
              "  "
            ],
            "text/plain": [
              "      AC_TP  ADM_TP  AI_TP  AP_TP  ...  EDAD  GENERO  TIEMPO_EMP  LABEL\n",
              "288       0       0      0      0  ...    50       1           5      1\n",
              "492       0      13      0      0  ...    25       0          22      1\n",
              "1061      0      18      0      0  ...    30       0          57      0\n",
              "1500      0       4      0      0  ...    29       0           1      0\n",
              "313       0      18      0      0  ...    24       1          11      1\n",
              "\n",
              "[5 rows x 436 columns]"
            ]
          },
          "metadata": {},
          "execution_count": 2
        }
      ],
      "source": [
        "#Inport the csv with the dataset\n",
        "df_lambda = pd.read_csv('not_scaled_not_lambda_merged.csv', index_col = [0])\n",
        "df_lambda.head()"
      ]
    },
    {
      "cell_type": "code",
      "execution_count": null,
      "metadata": {
        "id": "vVdlCbJKwo8y"
      },
      "outputs": [],
      "source": [
        "#Creating the training, testing and validation subsets\n",
        "X = df_lambda.drop(['LABEL'], axis = 1)\n",
        "y = df_lambda['LABEL']\n",
        "\n",
        "#80% Train, 20% Test, 20% Validation\n",
        "X_train, X_test, y_train, y_test = train_test_split(X, y, test_size = 0.2, random_state = 1234, stratify = y)\n",
        "X_train, X_val, y_train, y_val = train_test_split(X_train, y_train, test_size = 0.2, random_state = 1234, stratify = y_train)"
      ]
    },
    {
      "cell_type": "code",
      "execution_count": null,
      "metadata": {
        "colab": {
          "base_uri": "https://localhost:8080/"
        },
        "id": "Jg43SQlMwo80",
        "outputId": "8327008b-83d6-48cf-cb51-80a4f1a32596"
      },
      "outputs": [
        {
          "output_type": "execute_result",
          "data": {
            "text/plain": [
              "AC_TP  ADM_TP  AI_TP  AP_TP  CO_TP  CU_TP  HD_TP  IN_TP  NE_TP  OP_TP  PD_TP  PM_TP  PR_TP  SE_TP  SM_TP  SO_TP  TD_TP  ASIGNACIONES_FACTURADAS  ASIGNACIONES_NO_FACTURADAS  AC_HR  ADM_HR   AI_HR  AP_HR   CO_HR  CU_HR  HD_HR  IN_HR  NE_HR  OP_HR    PD_HR  PM_HR  PR_HR  SE_HR  SM_HR   SO_HR  TD_HR  .NET  .NET Core  ANGULAR  AWS  Activemq  Android / Java  Angular  Azure  Azure DevOps  BOOTSTRAP  BUSINESS OBJECTS  C#  C++  CLOUDERA  Cloudera  Cobol  DAX  Drupal  ECLIPSE  EXCEL  FLUTTER  FORMS  FORMS 3.0  GIT  Ionic / Angular  JBPM  JEE  Java  Java JSF  Java Spring  Boot  Javascript  Jboss Fuse-ESB  KOTLIN  MICROSOFT PROJECT  Microsoft Azure  MySQL  NODE JS  NO_APLICA  Next.Js  ODI  ODV  ORACLE  ORACLE 11  ORACLE 8I  ORACLE 9I  ORACLE DB  Oracle Forms  PL/SQL  Power Builder  PowerBI  Python  React  React Native  SAS  SPRING BOOT  SQL  SQL DEVELOPER  SQL SERVER  TABLEAU  WEBLOGIC  iOS / Objetive C  ACTCOM  ADMB  ADMBD  ADMON  ADMSER  ADMSO  ANAID  ANAJU  ANAPC  ANASPLA  ANCAPA  ANCON  ANCOP  ANDES  ANDIAG  ANDIS  ANDOC  ANEMPA  ANLDA  ANMER  ANNEG  ANPACC  ANPERM  ANPLA  ANPPRD  ANPRCL  ANPRD  ANPREN  ANREV  ANSEG  APACE  APAJU  APASU  APAVA  APCAD  APCAL  APCLI  APCOS  APDOC  APEJE  APGHU  APPCM  APPLA  APPMA  APREV  APSEG  APSTA  AQAJU  AQCAN  AQCON  AQDOC  AQESC  AQEST  AQEVA  AQOPC  AQREQ  AQREV  ARCH  AREAS  ASCLI  ASCRE  ASEJE  ASPIL  ASPLA  ASREV  ASSAN  ASSEG   ATEINC  ATESOL  AUAJU  AUCON  AUEJE  AUPLA  AUPRE  AUSENC  AUSENC2  AUTOEST  BACKUP  BAN  BDAADT  BDABKP  BDAESP  BDAFAP  BDAFBD  BDASG  BDINC  CADOC  CAPEX  CAPIN   CAPRO  CART  CERT  CFBD  CFCLT  CFMON  CFSER  CFSO  COACHING  COAEC  COAJU  COCOD    COCODM  COCON  CODOC  COINT  COMIG  COMPE  COMPRAS  COMPRES  CONTAB  COPRU  COREIN  COREV  COVAL  DELIM  DESCU  DFAM   DIAGP  DIAJU  DIAPL  DIAPLM  DIARQ  DIBDD  DIPLA  DIREV  DISE  DOCTEC  EJECUR  EJEPLA  ELACON  ELADOC  ELAPRO  ELECT  EMPALME  ENTRE  ERAJU   ERCON  ERDOC  ERENT   ERFAC  ERFUN  ERMER  ERMVC  ERREQ   ERREV  ERVIS  ESEST  ESREV  ESSEG  ESTIMA  EXTRA  FACT  FLUJO  FTP  GARINS  GESARE  GESBCK  GESCAMB  GESCON  GESDISP  GESEST  GESEVT  GESFAC  GESFAPRO  GESPRO2  GESPROB  GESSEG  GESSLA  GHEXT  GPOTR  GPPLA  GPPRO  GPSEG  GPVER  HACOM  HACOT  HADIS  HADTE  HAINS  HAINV  HAMON  HAPCO  HAPIN  HAPUN  HARTE  HTML_y  IMPLEMENTAR  INCAP  INDUC  INFCUR  INFGER  INFO  INGLES  INSOAD  INSOCLT  INSOSA  INSOSER  INSOSO  INSSW  INTER  INTSOAD  LIBRE  LICIT  LICLAC  LICMAT  LICNRE  LICPAT  LICREM  LIQNOM  LLAMVAR  LOGCUR  MAANA  MADIS  MANTE  MAPLA  MAREC  MAREV  MEDIR  MENSAJ  MERANA  MERBUS  MERMAT  MERREU  MIGAS  MIGBD  MIGSER  MMAJU  MMDES  MMENS  MMEST  MMREV  MMSEL  MONPRO  MOVIL  PAGOS  PERM  PLAFUN  PLANEA  PLAOPE  PPROCLI  PRACE  PRAJU  PRANA  PRCON  PRDIS   PREPCUR  PRESCUR  PRESUP  PRESUPU  PREVLAB  PREVPRE  PRINS  PROGRA  PROPO  PROPUE  PRPLA  PRREG  PRREV  PRSIS   PVCLI  PVCON  QAUX  QUEST  QUIN  REDES  REGPRO  REREQ  REUCLI  REUVAR  REVCON  SEGCON  SEGCONT  SELPERS  SERCLI  SOCAP  SOCIN  SOEFU  SOPAR  SOPER  SOSIN  TECAP  TECON  TEINT  TEPLA  TEREV  TIMU   TRCAP  TRCON  TRIBUT  TRINS  TRINSM  TRINT  TRMIG  TRREV  VAC    VENPRO  VISCLI  6    7    8    9    28   31   35   41   45   56   59   AC_PN  ADM_PN  AI_PN  AP_PN  CO_PN  HD_PN  IN_PN  NE_PN  OP_PN  PD_PN  PM_PN  SE_PN  SM_PN  SO_PN  TD_PN  ADM_RS  AP_RS  CO_RS  HD_RS  IN_RS  NE_RS  OP_RS  PD_RS  PM_RS  SE_RS  SM_RS  SO_RS  EDAD  GENERO  TIEMPO_EMP\n",
              "0      2       0      0      0      0      0      0      0      0      0      0      0      0      0      0      0      0                        1                           0.0    17.00    0.0    263.0   0.0    0      0.0    0.0    0.0    0.00     0.0    0.0    0.0    0.0    0.00    0.0    0.0    0     0          0        0    0         0               0        0      0             0          0                 0   0    0         0         0      0    0       0        0      0        0      0          0    0                0     0    0     0         0                  0           0               0       0                  0                0      0        0          0        0    0    0       0          0          0          0          0             0       0              0        0       0      0             0    0            0    0              0           0        0         0                 0.0     0.0   0.0    0.0    0.0     0.0    0.0    0.0    0.0    0.0      0       0      0.0    0.0    0.0     0.0    0.0    0.0     0.0    0.0    0.0    0       0       0.0    0       0.0     0.0    0.0     0.0    0.0    0.0    0.0    0.0    0.0    0.0    0.0    0.00   0.0    0.0    0.00   0.0    0.0    0.0    0.0    0.00   0.0    0.0    0.0    0.0    0.0    0.0    0.00   0.0    0.0    0.0    0.00   0.0    0.0   0.0    0.0    0.0    0.00   0.0    0.0    0.0    0      0.00    0.0     0.0     0.0    0.0    0.0    0.0    0.0    0       0        0.0      0.0     0.0  0.0     0.0     0.0     0.0     0.0     0.0    0.0    0.0    0.0    263.00  1.0    0.0   0.0   0.0   0.0    0.0    0.0    0.0   0.0       0.0    0.0    0.00     0.0     0.0    0.0    0.0    0.0    0.0    0.0      0.0      0.0     0.0    0.0     0.0    0.0    0.0    0.0    0      0.0    0.0    0.0    0.0     0.0    0.0    0.0    0.0    0.0   0.0     0.0     0       0.0     0.0     0.0     0.0    0.0      0.0    0.00    0.0    0.0    0.00    0.0    0.0    0.0    0.0    0.00    0.0    0.0    0.0    0.0    0.0    0.0     0.0    0.0   0.0    0.0  0       0       0.0     0.0      0.0     0.0      0       0.0     0.0     0.0       0.0      0.0      0.0     0       0.0    0.0    0.0    0      0.0    0.0    0.0    0.0    0      0.0    0.0    0.0    0.0    0.0    0.0    0.0    0.0    0.0     0.0          0.0    16.0   0.0     0.0     0.0   0.0     0.0     0        0       0.0      0       0.0    0.0    0.0      0.0    0.0    0.0     0.0     0       0       0.0     0       0.0      0.0     0.0    0.0    0.0    0.0    0.0    0.0    0      0.0     0.0     0.0     0.0     0.0     0.0    0.0    0.0     0      0.0    0      0.0    0.0    0      0.0     0.0    0.0    0.0   0.0     0.0     0.0     0.0      0.0    0.0    0.0    0.0    0.00    0.0      0.0      0.0     0.0      0.0      0.0      0.0    0.0     0.0    0.0     0.0    0.0    0.0    0.00    0.0    0.0    0.0   0.0    0.0   0.0    0.0     0.0    0.0     0.0     0.0     0       0.0      0.0      0.0     0.0    0.0    0.0    0.0    0.0    0.0    0.0    0.0    0.0    0      0.0    0.0    0.0    0.0    0.0     0.0    0.0     0      0.0    0.0    0.0    0.0     0.0     0.0  0.0  0.0  0.0  0.0  0.0  0.0  0.0  0.0  0.0  0.0  0      0       0      0      0      0      0      0      0      0      0      0      0      0      0      0       0      0      0      0      0      0      0      0      0      0      0      23    0       2             2\n",
              "5      72      0      1      9      0      0      0      3      0      0      9      2      0      15     0      0      18                       74                          4.5    472.00   0.0    458.5   229.0  0      0.0    0.0    196.0  0.00     0.0    58.0   0.0    0.0    575.25  0.0    0.0    14    0          0        0    0         0               0        0      0             0          0                 0   0    0         1         0      1    0       0        0      0        0      0          0    0                0     0    0     0         0                  0           0               0       0                  0                0      0        19         0        0    1    0       0          14         0          0          0             13      0              1        1       0      0             0    0            0    0              0           0        0         0                 0.0     0.0   0.0    0.0    0.0     0.0    0.0    0.0    0.0    0.0      0       0      0.0    0.0    0.0     0.0    0.0    0.0     0.0    0.0    0.0    0       0       0.0    0       0.0     0.0    0.0     0.0    0.0    0.0    32.0   0.0    0.0    0.0    0.0    0.00   0.0    0.0    30.00  0.0    0.0    0.0    0.0    0.00   4.5    0.0    0.0    0.0    0.0    0.0    0.00   0.0    0.0    0.0    0.00   0.0    0.0   0.0    0.0    0.0    5.00   0.0    0.0    0.0    0      0.00    0.0     0.0     0.0    0.0    0.0    0.0    0.0    0       0        256.0    0.0     0.0  0.0     0.0     0.0     0.0     0.0     0.0    0.0    0.0    0.0    2.50    78.0   0.0   0.0   0.0   0.0    0.0    0.0    0.0   0.0       0.0    0.0    129.50   0.0     0.5    77.5   0.0    0.0    0.0    0.0      0.0      0.0     4.0    0.0     0.0    0.0    0.0    0.0    0      0.0    0.0    28.5   0.0     0.0    0.0    0.0    0.0    0.0   0.0     0.0     0       0.0     0.0     0.0     0.0    26.0     0.0    121.75  0.0    0.0    293.25  0.0    0.0    0.0    0.0    315.75  2.0    0.0    0.0    0.0    16.0   0.0     0.0    0.0   0.0    0.0  0       0       0.0     0.0      0.0     0.0      0       0.0     0.0     0.0       0.0      0.0      0.0     0       0.0    0.0    0.0    0      0.0    0.0    0.0    0.0    0      0.0    0.0    0.0    0.0    0.0    0.0    0.0    0.0    0.0     0.0          176.0  0.0    0.0     0.0     0.0   0.0     0.0     0        0       0.0      0       0.0    0.0    0.0      12.0   0.0    0.0     0.0     0       0       40.0    0       0.0      0.0     0.0    0.0    0.0    0.0    0.0    0.0    0      0.0     0.0     0.0     0.0     0.0     0.0    0.0    0.0     0      0.0    0      0.0    0.0    0      0.0     0.0    0.0    18.0  0.0     0.0     0.0     0.0      0.0    0.0    0.0    9.5    0.00    36.0     0.0      0.0     0.0      0.0      0.0      0.0    0.0     0.0    0.0     0.0    0.0    0.0    4.00    0.0    0.0    0.0   0.0    0.0   0.0    0.0     0.0    0.0     0.0     0.0     0       0.0      0.0      0.0     0.0    0.0    0.0    0.0    0.0    0.0    0.0    4.5    0.0    0      0.0    102.5  0.0    0.0    0.0     0.0    0.0     0      0.0    0.0    168.0  0.0     0.0     0.0  0.0  0.0  0.0  0.0  0.0  0.0  0.0  0.0  0.0  0.0  55     3910    0      3      0      0      0      0      0      0      0      0      78     0      0      0       1      0      0      0      0      0      0      0      0      79     0      28    1       33            1\n",
              "0      9       0      1      0      0      0      0      0      0      0      0      0      0      0      0      0      1                        5                           0.0    146.00   0.0    412.5   0.0    0      0.0    0.0    0.0    0.00     0.0    0.0    0.0    0.0    0.00    0.0    0.0    1     0          0        0    0         0               1        0      0             0          0                 0   0    0         0         0      0    0       0        0      0        0      0          0    0                0     0    1     0         0                  0           0               0       0                  0                0      0        0          0        0    0    0       0          0          0          0          0             0       0              0        0       0      0             0    0            0    0              1           0        0         0                 0.0     0.0   0.0    0.0    0.0     0.0    0.0    0.0    0.0    0.0      0       0      0.0    0.0    0.0     0.0    0.0    0.0     0.0    0.0    0.0    0       0       0.0    0       0.0     0.0    0.0     0.0    0.0    0.0    0.0    0.0    0.0    0.0    0.0    0.00   0.0    0.0    0.00   0.0    0.0    0.0    0.0    0.00   0.0    0.0    0.0    0.0    0.0    1.5    6.50   0.0    0.0    1.0    14.25  0.0    0.0   0.0    0.0    0.0    0.00   0.0    0.0    0.0    0      74.33   0.0     0.0     0.0    0.0    0.0    0.0    0.0    0       0        2.0      0.0     0.0  0.0     0.0     0.0     0.0     0.0     0.0    0.0    0.0    0.0    0.00    136.0  0.0   0.0   0.0   0.0    0.0    0.0    0.0   0.0       4.0    6.0    152.42   0.0     12.0   0.0    0.0    0.0    0.0    0.0      0.0      0.0     0.0    0.0     1.0    0.0    0.0    0.0    0      0.0    12.5   35.0   0.0     0.0    0.0    0.0    1.0    0.0   0.0     0.0     0       0.0     0.0     0.0     0.0    0.0      0.0    47.50   0.0    3.0    0.00    0.0    0.0    0.0    0.0    0.00    0.0    2.5    18.0   0.0    6.0    0.0     0.0    0.0   0.0    0.0  0       0       0.0     0.0      0.0     0.0      0       0.0     0.0     0.0       0.0      0.0      0.0     0       0.0    0.0    0.0    0      0.0    0.0    0.0    0.0    0      0.0    0.0    0.0    0.0    0.0    0.0    0.0    0.0    0.0     0.0          0.0    14.0   0.0     0.0     0.0   0.0     0.0     0        0       0.0      0       0.0    0.0    0.0      0.0    0.0    0.0     0.0     0       0       0.0     0       0.0      0.0     0.0    0.0    0.0    0.0    0.0    0.0    0      0.0     0.0     0.0     0.0     0.0     0.0    0.0    0.0     0      0.0    0      0.0    0.0    0      0.0     0.0    0.0    3.0   0.0     0.0     0.0     0.0      0.0    0.0    0.0    0.0    0.00    0.0      0.0      0.0     0.0      0.0      0.0      0.0    0.0     0.0    0.0     0.0    0.0    0.0    0.00    0.0    0.0    0.0   0.0    0.0   0.0    0.0     0.0    0.0     0.0     0.0     0       0.0      0.0      0.0     0.0    0.0    0.0    0.0    0.0    0.0    0.0    0.0    0.0    0      0.0    0.0    0.0    5.0    0.0     0.0    0.0     0      0.0    0.0    0.0    0.0     0.0     0.0  0.0  0.0  0.0  0.0  0.0  0.0  0.0  0.0  0.0  0.0  0      510     0      37     0      0      0      0      0      0      0      0      0      0      0      0       3      0      0      0      0      0      0      0      0      0      0      25    1       3             1\n",
              "       10      0      0      0      0      0      0      0      0      0      0      0      0      0      0      0      0                        2                           0.0    1360.00  0.0    0.0     0.0    0      0.0    0.0    0.0    0.00     0.0    3.0    0.0    0.0    0.00    0.0    0.0    0     0          0        0    0         0               0        0      0             0          0                 0   0    0         0         0      0    0       0        0      0        0      0          0    0                0     0    0     0         0                  0           0               0       0                  0                0      0        0          0        0    0    0       0          0          0          0          0             0       0              0        0       0      0             0    0            0    0              0           0        0         0                 0.0     0.0   0.0    0.0    0.0     0.0    0.0    0.0    0.0    0.0      0       0      0.0    0.0    0.0     0.0    0.0    0.0     0.0    0.0    0.0    0       0       0.0    0       0.0     0.0    0.0     0.0    0.0    0.0    0.0    0.0    0.0    0.0    0.0    0.00   0.0    0.0    0.00   0.0    0.0    0.0    0.0    0.00   0.0    0.0    0.0    0.0    0.0    0.0    0.00   0.0    0.0    0.0    0.00   0.0    0.0   0.0    0.0    0.0    6.50   0.0    0.0    0.0    0      198.00  0.0     0.0     0.0    0.0    0.0    0.0    0.0    0       0        0.0      0.0     0.0  0.0     0.0     0.0     0.0     0.0     0.0    0.0    0.0    0.0    0.00    1.0    0.0   0.0   0.0   0.0    0.0    0.0    0.0   0.0       0.0    0.0    0.00     0.0     0.0    0.0    0.0    0.0    0.0    0.0      0.0      0.0     0.0    0.0     0.0    0.0    0.0    0.0    8      0.0    0.0    0.0    0.0     0.0    0.0    0.0    0.0    0.0   0.0     0.0     0       0.0     0.0     0.0     0.0    0.0      0.0    0.00    0.0    0.0    0.00    0.0    0.0    0.0    0.0    0.00    0.0    0.0    0.0    0.0    0.0    0.0     0.0    0.0   0.0    0.0  0       0       0.0     0.0      0.0     0.0      0       0.0     0.0     0.0       0.0      0.0      0.0     0       0.0    0.0    0.0    0      0.0    0.0    0.0    0.0    0      0.0    0.0    0.0    0.0    0.0    0.0    0.0    0.0    0.0     0.0          0.0    0.0    0.0     0.0     0.0   0.0     0.0     0        0       0.0      0       0.0    0.0    0.0      0.0    0.0    0.0     0.0     0       0       0.0     0       0.0      0.0     0.0    0.0    0.0    0.0    0.0    0.0    0      0.0     0.0     0.0     1149.5  0.0     0.0    0.0    0.0     0      0.0    0      0.0    0.0    0      0.0     0.0    0.0    0.0   0.0     0.0     0.0     0.0      0.0    0.0    0.0    0.0    0.00    0.0      0.0      0.0     0.0      0.0      0.0      0.0    0.0     0.0    0.0     0.0    0.0    0.0    0.00    0.0    0.0    0.0   0.0    0.0   0.0    0.0     0.0    0.0     0.0     0.0     0       0.0      0.0      0.0     0.0    0.0    0.0    0.0    0.0    0.0    0.0    0.0    0.0    0      0.0    0.0    0.0    0.0    0.0     0.0    0.0     0      0.0    0.0    0.0    0.0     0.0     0.0  0.0  0.0  0.0  0.0  0.0  0.0  0.0  0.0  0.0  0.0  0      1101    0      0      0      0      0      0      0      0      0      0      0      0      0      0       0      0      0      0      0      0      0      0      0      0      0      22    1       9             1\n",
              "       9       0      6      0      0      0      0      0      5      0      1      0      0      2      0      0      10                       7                           0.0    120.00   0.0    1108.0  66.0   0      0.0    0.0    0.0    581.00   0.0    6.0    0.0    0.0    56.00   0.0    0.0    1     0          0        0    0         0               0        0      0             0          0                 0   0    0         0         0      0    0       0        0      0        0      0          0    0                0     0    0     0         0                  0           0               0       0                  0                0      0        1          0        0    0    0       0          0          0          0          0             11      0              0        0       0      0             0    0            0    0              0           0        0         0                 0.0     0.0   0.0    0.0    0.0     0.0    0.0    0.0    0.0    0.0      0       0      0.0    0.0    0.0     0.0    0.0    0.0     0.0    0.0    0.0    0       0       0.0    0       0.0     0.0    0.0     0.0    0.0    0.0    0.0    0.0    0.0    0.0    0.0    0.00   0.0    0.0    6.00   0.0    0.0    0.0    0.0    0.00   7.0    0.0    0.0    0.0    0.0    0.0    0.00   0.0    0.0    0.0    0.00   0.0    0.0   0.0    0.0    0.0    0.00   0.0    0.0    0.0    0      0.00    0.0     0.0     0.0    0.0    0.0    0.0    0.0    0       0        50.0     0.0     0.0  0.0     0.0     0.0     0.0     0.0     0.0    0.0    0.0    0.0    0.00    30.5   0.0   0.0   0.0   0.0    0.0    0.0    0.0   0.0       6.0    293.5  766.50   0.0     13.0   73.5   0.0    0.0    0.0    0.0      0.0      0.0     192.0  0.0     3.0    0.0    0.0    0.0    0      0.0    41.5   71.5   0.0     3.0    0.0    0.0    5.0    0.0   0.0     0.0     0       0.0     0.0     0.0     0.0    44.5     0.0    0.00    0.0    0.0    53.00   0.0    0.0    0.0    0.0    0.00    16.0   0.0    4.0    0.0    0.0    0.0     0.0    0.0   0.0    0.0  0       0       0.0     0.0      0.0     0.0      0       0.0     0.0     0.0       0.0      0.0      0.0     0       0.0    0.0    0.0    0      0.0    0.0    0.0    0.0    0      0.0    0.0    0.0    0.0    0.0    0.0    0.0    0.0    0.0     0.0          56.0   0.0    0.0     0.0     0.0   0.0     0.0     0        0       0.0      0       0.0    0.0    0.0      20.0   0.0    0.0     0.0     0       0       0.0     0       0.0      0.0     0.0    0.0    0.0    0.0    0.0    0.0    0      0.0     0.0     0.0     0.0     0.0     0.0    0.0    0.0     0      0.0    0      0.0    0.0    0      0.0     0.0    0.0    36.5  0.0     0.0     0.0     0.0      0.0    13.0   0.0    0.0    0.00    0.0      0.0      0.0     0.0      0.0      0.0      0.0    0.0     0.0    0.0     0.0    0.0    0.0    8.00    0.0    0.0    0.0   0.0    0.0   0.0    0.0     0.0    0.0     0.0     0.0     0       0.0      0.0      0.0     0.0    0.0    0.0    0.0    0.0    0.0    0.0    0.0    0.0    0      0.0    0.0    0.0    27.0   0.0     49.0   0.0     0      0.0    0.0    48.0   0.0     0.0     0.0  0.0  0.0  0.0  0.0  0.0  0.0  0.0  0.0  0.0  0.0  0      0       0      49     0      0      0      0      35     0      0      0      0      0      0      0       32     0      0      0      0      4      0      0      0      0      0      23    1       17            1\n",
              "                                                                                                                                                                                                                                                                                                                                                                                                                                                                                                                                                                                                                                                                                                                                                                                                                                                                                                                                                                                                                                                                                                                                                                                                                                                                                                                                                                                                                                                                                                                                                                                                                                                                                                                                                                                                                                                                                                                                                                                                                                                                                                                                                                                                                                                                                                                                                                                                                                                                                                                                                                                                                                                                                                                                                                                                                                                                                                                                                                                                                                                                                                                                                                                                                                                                                                                                                                                                                                                                                                                       ..\n",
              "       21      0      0      0      0      0      0      0      12     1      1      0      0      1      0      0      7                        9                           0.0    157.25   0.0    0.0     0.0    0      0.0    0.0    0.0    1243.98  53.5   1.0    0.0    0.0    541.00  0.0    0.0    1     0          1        0    0         0               0        0      0             0          0                 0   0    0         0         0      0    0       0        0      0        7      0          0    0                0     1    2     0         0                  0           0               0       0                  0                0      0        0          0        0    0    5       0          0          0          0          0             4       0              0        0       0      0             0    1            0    0              0           0        0         0                 0.0     0.0   0.0    0.0    0.0     0.0    0.0    0.0    0.0    0.0      0       0      0.0    0.0    0.0     0.0    0.0    0.0     0.0    0.0    0.0    0       0       0.0    0       0.0     0.0    0.0     0.0    0.0    0.0    0.0    0.0    0.0    2.0    0.0    11.25  0.0    0.0    4.25   0.0    0.0    9.0    0.0    0.00   2.0    0.0    0.0    0.0    13.0   3.0    19.98  0.0    0.0    35.0   86.25  7.0    0.0   0.0    0.0    0.0    0.00   0.0    0.0    0.0    0      1.50    0.0     0.0     0.0    0.0    0.0    0.0    0.0    0       0        138.0    0.0     0.0  0.0     0.0     0.0     0.0     0.0     0.0    0.0    0.0    0.0    17.75   2.0    0.0   0.0   0.0   0.0    0.0    0.0    0.0   0.0       0.0    6.0    764.25   8.5     102.0  107.0  0.0    76.5   0.0    0.0      0.0      0.0     32.5   0.0     2.5    0.0    0.0    0.0    0      0.0    14.0   44.5   7.5     56.0   0.0    0.0    2.0    0.0   0.0     0.0     0       0.0     0.0     0.0     0.0    62.0     0.0    19.00   0.0    0.0    22.00   14.5   0.0    0.0    0.0    61.50   6.5    0.0    10.5   0.0    0.0    0.0     0.0    0.0   0.0    0.0  0       0       0.0     0.0      0.0     0.0      0       0.0     0.0     0.0       0.0      0.0      0.0     0       0.0    0.0    0.0    0      0.0    0.0    0.0    0.0    0      0.0    0.0    0.0    0.0    0.0    0.0    0.0    0.0    0.0     0.0          0.0    1.0    0.0     0.0     0.0   0.0     0.0     0        0       0.0      0       0.0    0.0    0.0      9.0    0.0    0.0     0.0     0       0       40.0    0       0.0      0.0     0.0    0.0    0.0    0.0    0.0    0.0    0      0.0     0.0     0.0     0.0     0.0     0.0    0.0    0.0     0      0.0    0      0.0    0.0    0      0.0     0.0    0.0    36.0  0.0     0.0     0.0     0.0      0.0    15.0   0.0    0.0    0.00    0.0      0.0      0.0     0.0      0.0      0.0      0.0    0.0     0.0    0.0     0.0    0.0    0.0    32.50   0.0    0.5    0.0   0.0    0.0   0.0    0.0     0.0    0.0     0.0     0.0     0       0.0      0.0      0.0     0.0    0.0    0.0    0.0    0.0    0.0    0.0    0.0    0.0    0      0.0    9.5    0.0    0.0    0.0     0.0    0.0     0      34.0   0.0    48.0   0.0     0.0     0.0  0.0  0.0  0.0  0.0  0.0  0.0  0.0  0.0  0.0  0.0  0      373     0      0      0      0      0      0      230    8      15     0      54     0      0      0       0      0      0      0      0      35     5      0      0      8      0      46    0       16            1\n",
              "                                                                       0      1      0      0      3      0      0      13                       6                           0.0    105.17   0.0    0.0     0.0    0      0.0    0.0    0.0    1125.67  0.0    1.0    0.0    0.0    733.33  0.0    0.0    5     0          4        0    0         0               0        0      0             0          0                 0   0    0         0         0      0    0       0        0      4        3      0          1    0                0     3    2     0         0                  0           0               0       0                  0                0      0        1          0        0    0    7       0          0          0          0          0             5       0              0        0       0      0             0    0            0    0              0           0        0         0                 0.0     0.0   0.0    0.0    0.0     0.0    0.0    0.0    0.0    0.0      0       0      0.0    0.0    0.0     0.0    0.0    0.0     0.0    0.0    0.0    0       0       0.0    0       0.0     0.0    0.0     0.0    0.0    0.0    17.5   0.0    0.0    3.0    0.0    0.00   0.0    0.0    0.00   0.0    0.0    11.5   1.0    66.01  0.5    0.0    0.0    0.0    0.0    0.0    0.00   0.0    0.0    3.0    0.00   8.5    0.0   0.0    0.0    0.0    5.17   0.0    0.0    0.0    0      1.00    0.0     0.0     0.0    0.0    0.0    0.0    0.0    0       0        112.0    0.0     0.0  0.0     0.0     0.0     0.0     0.0     0.0    0.0    0.0    0.0    4.67    1.0    0.0   0.0   0.0   0.0    0.0    0.0    0.0   0.0       0.0    0.0    0.00     0.0     0.0    6.0    0.0    0.0    0.0    0.0      0.0      0.0     0.0    0.0     0.0    0.0    0.0    0.0    0      10.0   0.0    0.0    0.0     0.0    2.5    0.0    0.0    0.0   0.0     0.0     0       0.0     0.0     0.0     0.0    34.0     0.0    6.00    0.0    2.5    2.00    0.0    3.0    0.0    0.0    76.00   22.5   0.0    0.0    0.0    0.0    0.0     0.0    0.0   0.0    0.0  0       0       0.0     0.0      0.0     0.0      0       0.0     0.0     0.0       0.0      0.0      0.0     0       0.0    0.0    0.0    0      0.0    0.0    0.0    0.0    0      0.0    0.0    0.0    0.0    0.0    0.0    0.0    0.0    0.0     0.0          48.0   0.0    0.0     0.0     0.0   0.0     0.0     0        0       0.0      0       0.0    0.0    0.0      2.0    0.0    0.0     0.0     0       0       0.0     0       0.0      0.0     0.0    0.0    0.0    0.0    0.0    0.0    0      0.0     0.0     0.0     0.0     0.0     0.0    0.0    0.0     0      0.0    0      0.0    0.0    0      0.0     0.0    0.0    5.5   0.0     0.0     0.0     0.0      18.0   0.0    4.5    27.0   305.99  0.0      0.0      0.0     0.0      0.0      0.0      0.0    0.0     0.0    0.0     94.0   0.0    22.0   975.83  0.0    0.0    0.0   0.0    0.0   0.0    0.0     0.0    0.0     0.0     0.0     0       0.0      0.0      0.0     0.0    0.0    0.0    0.0    0.0    0.0    0.0    0.0    0.0    0      0.0    22.5   0.0    0.0    0.0     0.0    0.0     0      0.0    0.5    40.0   0.0     0.0     0.0  0.0  0.0  0.0  0.0  0.0  0.0  0.0  0.0  0.0  0.0  0      864     0      0      0      0      0      0      216    0      32     0      59     0      0      0       0      0      0      0      0      15     0      0      0      10     0      26    0       30            1\n",
              "                                                                5      2      1      0      0      0      0      0      6                        3                           0.0    113.50   0.0    0.0     0.0    0      0.0    0.0    0.0    1962.00  12.0   0.0    0.0    0.0    0.00    0.0    0.0    0     0          0        0    0         0               0        0      0             0          0                 0   0    0         0         0      0    0       0        0      0        0      0          0    0                0     0    0     0         0                  0           0               0       0                  0                0      0        0          0        0    0    0       0          0          0          0          0             0       0              0        0       0      0             0    0            0    0              0           0        0         0                 0.0     0.0   0.0    0.0    0.0     0.0    0.0    0.0    0.0    0.0      0       0      0.0    0.0    0.0     0.0    0.0    0.0     0.0    0.0    0.0    0       0       0.0    0       0.0     0.0    0.0     0.0    0.0    0.0    0.0    0.0    0.0    0.0    0.0    0.00   0.0    0.0    0.00   0.0    0.0    10.5   0.0    0.00   0.0    0.0    0.0    0.0    0.0    0.0    0.00   0.0    0.0    0.0    0.00   0.0    0.0   0.0    0.0    0.0    2.00   0.0    0.0    0.0    0      0.00    0.0     0.0     0.0    0.0    0.0    0.0    0.0    0       0        0.0      0.0     0.0  0.0     0.0     0.0     0.0     0.0     0.0    0.0    0.0    0.0    12.00   0.0    0.0   0.0   0.0   0.0    0.0    0.0    0.0   0.0       0.0    3.0    1044.50  0.0     145.0  188.0  0.0    0.0    0.0    0.0      0.0      0.0     47.0   0.0     0.0    0.0    0.0    0.0    16     0.0    0.0    0.0    0.0     0.0    0.0    0.0    0.0    0.0   0.0     0.0     0       0.0     0.0     0.0     0.0    30.0     0.0    0.00    0.0    0.0    363.50  0.0    0.0    0.0    0.0    13.00   0.0    0.0    0.0    0.0    0.0    0.0     0.0    0.0   0.0    0.0  0       0       0.0     0.0      0.0     0.0      0       0.0     0.0     0.0       0.0      0.0      0.0     0       0.0    0.0    0.0    0      0.0    0.0    0.0    0.0    0      0.0    0.0    0.0    0.0    0.0    0.0    0.0    0.0    0.0     0.0          0.0    0.0    0.0     0.0     0.0   0.0     0.0     0        0       0.0      0       0.0    0.0    0.0      0.0    0.0    0.0     0.0     0       0       0.0     0       0.0      0.0     0.0    0.0    0.0    0.0    0.0    0.0    0      0.0     0.0     0.0     0.0     0.0     0.0    0.0    0.0     0      0.0    0      0.0    0.0    0      0.0     0.0    0.0    42.5  0.0     0.0     0.0     0.0      0.0    0.0    0.0    73.5   0.00    0.0      0.0      0.0     0.0      0.0      0.0      0.0    0.0     0.0    0.0     0.0    0.0    0.0    17.00   0.0    0.0    0.0   0.0    0.0   0.0    0.0     0.0    0.0     0.0     0.0     0       0.0      0.0      0.0     0.0    0.0    0.0    0.0    0.0    0.0    0.0    0.0    0.0    0      0.0    0.0    0.0    0.0    0.0     0.0    0.0     0      0.0    0.0    80.0   0.0     0.0     0.0  0.0  0.0  0.0  0.0  0.0  0.0  0.0  0.0  0.0  0.0  0      2660    0      0      0      0      0      0      37     0      0      0      0      0      0      0       0      0      0      0      0      0      0      0      0      0      0      38    0       26            1\n",
              "                                                                4      0      0      0      0      0      0      0      4                        2                           0.0    109.00   0.0    0.0     0.0    0      0.0    0.0    0.0    1967.50  0.0    0.0    0.0    0.0    0.00    0.0    0.0    0     0          0        0    0         0               0        0      0             0          0                 0   0    0         0         0      0    0       0        0      0        0      0          0    0                0     0    0     0         0                  0           0               0       0                  0                0      0        0          0        0    0    0       0          0          0          0          0             0       0              0        0       0      0             0    0            0    0              0           0        0         0                 0.0     0.0   0.0    0.0    0.0     0.0    0.0    0.0    0.0    0.0      0       0      0.0    0.0    0.0     0.0    0.0    0.0     0.0    0.0    0.0    0       0       0.0    0       0.0     0.0    0.0     0.0    0.0    0.0    0.0    0.0    0.0    0.0    0.0    0.00   0.0    0.0    0.00   0.0    0.0    0.0    0.0    0.00   0.0    0.0    0.0    0.0    0.0    0.0    0.00   0.0    0.0    0.0    0.00   3.0    0.0   0.0    0.0    0.0    0.50   0.0    0.0    0.0    0      0.00    0.0     0.0     0.0    0.0    0.0    0.0    0.0    0       0        0.0      0.0     0.0  0.0     0.0     0.0     0.0     0.0     0.0    0.0    0.0    0.0    11.50   0.0    0.0   0.0   0.0   0.0    0.0    0.0    0.0   0.0       0.0    0.0    1613.50  0.0     0.0    0.0    0.0    0.0    0.0    0.0      0.0      0.0     0.0    0.0     0.0    0.0    0.0    0.0    16     0.0    0.0    0.0    0.0     5.0    13.0   0.0    0.0    0.0   0.0     0.0     0       0.0     0.0     0.0     0.0    0.0      0.0    0.00    0.0    0.0    253.00  0.0    0.0    1.0    0.0    0.00    3.0    0.0    57.0   0.0    0.0    0.0     0.0    0.0   0.0    0.0  0       0       0.0     0.0      0.0     0.0      0       0.0     0.0     0.0       0.0      0.0      0.0     0       0.0    0.0    0.0    0      0.0    0.0    0.0    0.0    0      0.0    0.0    0.0    0.0    0.0    0.0    0.0    0.0    0.0     0.0          48.0   0.0    0.0     0.0     0.0   0.0     0.0     0        0       0.0      0       0.0    0.0    0.0      1.0    0.0    0.0     0.0     0       0       0.0     0       0.0      0.0     0.0    0.0    0.0    0.0    0.0    0.0    0      0.0     0.0     0.0     0.0     0.0     0.0    0.0    0.0     0      0.0    0      0.0    0.0    0      0.0     0.0    0.0    0.0   0.0     0.0     0.0     0.0      0.0    0.0    0.0    0.0    2.00    0.0      0.0      0.0     0.0      0.0      0.0      0.0    0.0     0.0    0.0     3.0    0.0    0.0    0.00    0.0    0.0    0.0   0.0    0.0   0.0    0.0     0.0    0.0     0.0     0.0     0       0.0      0.0      0.0     0.0    0.0    0.0    0.0    0.0    0.0    0.0    0.0    0.0    0      0.0    0.0    0.0    0.0    0.0     0.0    0.0     0      0.0    14.0   32.0   0.0     0.0     0.0  0.0  0.0  0.0  0.0  0.0  0.0  0.0  0.0  0.0  0.0  0      1699    0      0      0      0      0      0      20     0      0      0      0      0      0      0       0      0      0      0      0      0      0      0      0      0      0      29    0       25            1\n",
              "       0       0      0      0      0      0      0      0      0      0      0      0      0      0      0      0      0                        0                           0.0    0.00     0.0    0.0     0.0    0      0.0    0.0    0.0    0.00     0.0    0.0    0.0    0.0    0.00    0.0    0.0    0     0          0        0    0         0               0        0      0             0          0                 0   0    0         0         0      0    0       0        0      0        0      0          0    0                0     0    0     0         0                  0           0               0       0                  0                0      0        0          0        0    0    0       0          0          0          0          0             0       0              0        0       0      0             0    0            0    0              0           0        0         0                 0.0     0.0   0.0    0.0    0.0     0.0    0.0    0.0    0.0    0.0      0       0      0.0    0.0    0.0     0.0    0.0    0.0     0.0    0.0    0.0    0       0       0.0    0       0.0     0.0    0.0     0.0    0.0    0.0    0.0    0.0    0.0    0.0    0.0    0.00   0.0    0.0    0.00   0.0    0.0    0.0    0.0    0.00   0.0    0.0    0.0    0.0    0.0    0.0    0.00   0.0    0.0    0.0    0.00   0.0    0.0   0.0    0.0    0.0    0.00   0.0    0.0    0.0    0      0.00    0.0     0.0     0.0    0.0    0.0    0.0    0.0    0       0        0.0      0.0     0.0  0.0     0.0     0.0     0.0     0.0     0.0    0.0    0.0    0.0    0.00    0.0    0.0   0.0   0.0   0.0    0.0    0.0    0.0   0.0       0.0    0.0    0.00     0.0     0.0    0.0    0.0    0.0    0.0    0.0      0.0      0.0     0.0    0.0     0.0    0.0    0.0    0.0    0      0.0    0.0    0.0    0.0     0.0    0.0    0.0    0.0    0.0   0.0     0.0     0       0.0     0.0     0.0     0.0    0.0      0.0    0.00    0.0    0.0    0.00    0.0    0.0    0.0    0.0    0.00    0.0    0.0    0.0    0.0    0.0    0.0     0.0    0.0   0.0    0.0  0       0       0.0     0.0      0.0     0.0      0       0.0     0.0     0.0       0.0      0.0      0.0     0       0.0    0.0    0.0    0      0.0    0.0    0.0    0.0    0      0.0    0.0    0.0    0.0    0.0    0.0    0.0    0.0    0.0     0.0          0.0    0.0    0.0     0.0     0.0   0.0     0.0     0        0       0.0      0       0.0    0.0    0.0      0.0    0.0    0.0     0.0     0       0       0.0     0       0.0      0.0     0.0    0.0    0.0    0.0    0.0    0.0    0      0.0     0.0     0.0     0.0     0.0     0.0    0.0    0.0     0      0.0    0      0.0    0.0    0      0.0     0.0    0.0    0.0   0.0     0.0     0.0     0.0      0.0    0.0    0.0    0.0    0.00    0.0      0.0      0.0     0.0      0.0      0.0      0.0    0.0     0.0    0.0     0.0    0.0    0.0    0.00    0.0    0.0    0.0   0.0    0.0   0.0    0.0     0.0    0.0     0.0     0.0     0       0.0      0.0      0.0     0.0    0.0    0.0    0.0    0.0    0.0    0.0    0.0    0.0    0      0.0    0.0    0.0    0.0    0.0     0.0    0.0     0      0.0    0.0    0.0    0.0     0.0     0.0  0.0  0.0  0.0  0.0  0.0  0.0  0.0  0.0  0.0  0.0  0      0       0      0      0      0      0      0      0      0      0      0      0      0      0      0       0      0      0      0      0      0      0      0      0      0      0      17    0       7             1\n",
              "Length: 962, dtype: int64"
            ]
          },
          "metadata": {},
          "execution_count": 4
        }
      ],
      "source": [
        "X_train.value_counts()"
      ]
    },
    {
      "cell_type": "code",
      "execution_count": null,
      "metadata": {
        "colab": {
          "base_uri": "https://localhost:8080/"
        },
        "id": "FS3VRGOAwo80",
        "outputId": "60901de0-1260-47aa-850f-5832fcdf41f6"
      },
      "outputs": [
        {
          "output_type": "execute_result",
          "data": {
            "text/plain": [
              "count    963.000000\n",
              "mean       0.643821\n",
              "std        0.479118\n",
              "min        0.000000\n",
              "25%        0.000000\n",
              "50%        1.000000\n",
              "75%        1.000000\n",
              "max        1.000000\n",
              "Name: LABEL, dtype: float64"
            ]
          },
          "metadata": {},
          "execution_count": 5
        }
      ],
      "source": [
        "y_train.describe()"
      ]
    },
    {
      "cell_type": "code",
      "execution_count": null,
      "metadata": {
        "id": "DTCnCe9Jwo81"
      },
      "outputs": [],
      "source": [
        ""
      ]
    },
    {
      "cell_type": "markdown",
      "metadata": {
        "id": "0Ie-q1iOwo82"
      },
      "source": [
        "### Model building"
      ]
    },
    {
      "cell_type": "code",
      "execution_count": null,
      "metadata": {
        "id": "2Cwy404two82"
      },
      "outputs": [],
      "source": [
        "#Logistic regression parameters to tune\n",
        "grid_param = {\"penalty\": [\"l1\", \"l2\", \"elasticnet\", \"none\"],\n",
        "              \"C\": [0.1, 1, 10, 100],\n",
        "              \"solver\": [\"newton-cg\", \"lbfgs\", \"liblinear\"], #\"saga\", \"sag\"],\n",
        "              \"max_iter\": [500]\n",
        "              }\n",
        "\n",
        "log_reg = LogisticRegression()\n",
        "search_grid = GridSearchCV(estimator = log_reg, param_grid = grid_param, n_jobs = -1, cv = 5, \n",
        "                           verbose = 3, return_train_score = True, scoring = \"accuracy\")"
      ]
    },
    {
      "cell_type": "code",
      "execution_count": null,
      "metadata": {
        "id": "bo_c_e6two83",
        "colab": {
          "base_uri": "https://localhost:8080/"
        },
        "outputId": "37e97cd6-bbe9-4327-d3e9-3e40d4e4619e"
      },
      "outputs": [
        {
          "output_type": "stream",
          "name": "stdout",
          "text": [
            "Fitting 5 folds for each of 48 candidates, totalling 240 fits\n"
          ]
        },
        {
          "output_type": "stream",
          "name": "stderr",
          "text": [
            "/usr/local/lib/python3.7/dist-packages/sklearn/model_selection/_validation.py:372: FitFailedWarning: \n",
            "120 fits failed out of a total of 240.\n",
            "The score on these train-test partitions for these parameters will be set to nan.\n",
            "If these failures are not expected, you can try to debug them by setting error_score='raise'.\n",
            "\n",
            "Below are more details about the failures:\n",
            "--------------------------------------------------------------------------------\n",
            "20 fits failed with the following error:\n",
            "Traceback (most recent call last):\n",
            "  File \"/usr/local/lib/python3.7/dist-packages/sklearn/model_selection/_validation.py\", line 681, in _fit_and_score\n",
            "    estimator.fit(X_train, y_train, **fit_params)\n",
            "  File \"/usr/local/lib/python3.7/dist-packages/sklearn/linear_model/_logistic.py\", line 1461, in fit\n",
            "    solver = _check_solver(self.solver, self.penalty, self.dual)\n",
            "  File \"/usr/local/lib/python3.7/dist-packages/sklearn/linear_model/_logistic.py\", line 449, in _check_solver\n",
            "    % (solver, penalty)\n",
            "ValueError: Solver newton-cg supports only 'l2' or 'none' penalties, got l1 penalty.\n",
            "\n",
            "--------------------------------------------------------------------------------\n",
            "20 fits failed with the following error:\n",
            "Traceback (most recent call last):\n",
            "  File \"/usr/local/lib/python3.7/dist-packages/sklearn/model_selection/_validation.py\", line 681, in _fit_and_score\n",
            "    estimator.fit(X_train, y_train, **fit_params)\n",
            "  File \"/usr/local/lib/python3.7/dist-packages/sklearn/linear_model/_logistic.py\", line 1461, in fit\n",
            "    solver = _check_solver(self.solver, self.penalty, self.dual)\n",
            "  File \"/usr/local/lib/python3.7/dist-packages/sklearn/linear_model/_logistic.py\", line 449, in _check_solver\n",
            "    % (solver, penalty)\n",
            "ValueError: Solver lbfgs supports only 'l2' or 'none' penalties, got l1 penalty.\n",
            "\n",
            "--------------------------------------------------------------------------------\n",
            "20 fits failed with the following error:\n",
            "Traceback (most recent call last):\n",
            "  File \"/usr/local/lib/python3.7/dist-packages/sklearn/model_selection/_validation.py\", line 681, in _fit_and_score\n",
            "    estimator.fit(X_train, y_train, **fit_params)\n",
            "  File \"/usr/local/lib/python3.7/dist-packages/sklearn/linear_model/_logistic.py\", line 1461, in fit\n",
            "    solver = _check_solver(self.solver, self.penalty, self.dual)\n",
            "  File \"/usr/local/lib/python3.7/dist-packages/sklearn/linear_model/_logistic.py\", line 449, in _check_solver\n",
            "    % (solver, penalty)\n",
            "ValueError: Solver newton-cg supports only 'l2' or 'none' penalties, got elasticnet penalty.\n",
            "\n",
            "--------------------------------------------------------------------------------\n",
            "20 fits failed with the following error:\n",
            "Traceback (most recent call last):\n",
            "  File \"/usr/local/lib/python3.7/dist-packages/sklearn/model_selection/_validation.py\", line 681, in _fit_and_score\n",
            "    estimator.fit(X_train, y_train, **fit_params)\n",
            "  File \"/usr/local/lib/python3.7/dist-packages/sklearn/linear_model/_logistic.py\", line 1461, in fit\n",
            "    solver = _check_solver(self.solver, self.penalty, self.dual)\n",
            "  File \"/usr/local/lib/python3.7/dist-packages/sklearn/linear_model/_logistic.py\", line 449, in _check_solver\n",
            "    % (solver, penalty)\n",
            "ValueError: Solver lbfgs supports only 'l2' or 'none' penalties, got elasticnet penalty.\n",
            "\n",
            "--------------------------------------------------------------------------------\n",
            "20 fits failed with the following error:\n",
            "Traceback (most recent call last):\n",
            "  File \"/usr/local/lib/python3.7/dist-packages/sklearn/model_selection/_validation.py\", line 681, in _fit_and_score\n",
            "    estimator.fit(X_train, y_train, **fit_params)\n",
            "  File \"/usr/local/lib/python3.7/dist-packages/sklearn/linear_model/_logistic.py\", line 1461, in fit\n",
            "    solver = _check_solver(self.solver, self.penalty, self.dual)\n",
            "  File \"/usr/local/lib/python3.7/dist-packages/sklearn/linear_model/_logistic.py\", line 459, in _check_solver\n",
            "    solver\n",
            "ValueError: Only 'saga' solver supports elasticnet penalty, got solver=liblinear.\n",
            "\n",
            "--------------------------------------------------------------------------------\n",
            "20 fits failed with the following error:\n",
            "Traceback (most recent call last):\n",
            "  File \"/usr/local/lib/python3.7/dist-packages/sklearn/model_selection/_validation.py\", line 681, in _fit_and_score\n",
            "    estimator.fit(X_train, y_train, **fit_params)\n",
            "  File \"/usr/local/lib/python3.7/dist-packages/sklearn/linear_model/_logistic.py\", line 1461, in fit\n",
            "    solver = _check_solver(self.solver, self.penalty, self.dual)\n",
            "  File \"/usr/local/lib/python3.7/dist-packages/sklearn/linear_model/_logistic.py\", line 464, in _check_solver\n",
            "    raise ValueError(\"penalty='none' is not supported for the liblinear solver\")\n",
            "ValueError: penalty='none' is not supported for the liblinear solver\n",
            "\n",
            "  warnings.warn(some_fits_failed_message, FitFailedWarning)\n",
            "/usr/local/lib/python3.7/dist-packages/sklearn/model_selection/_search.py:972: UserWarning: One or more of the test scores are non-finite: [       nan        nan 0.81927353 0.80477655 0.790231   0.80060449\n",
            "        nan        nan        nan 0.76838839 0.79126727        nan\n",
            "        nan        nan 0.80579123 0.78295553 0.79540695 0.7902256\n",
            "        nan        nan        nan 0.76838839 0.79126727        nan\n",
            "        nan        nan 0.78922172 0.75493307 0.79332902 0.7767487\n",
            "        nan        nan        nan 0.76838839 0.79126727        nan\n",
            "        nan        nan 0.76221934 0.76428109 0.79646481 0.76118847\n",
            "        nan        nan        nan 0.76838839 0.79126727        nan]\n",
            "  category=UserWarning,\n",
            "/usr/local/lib/python3.7/dist-packages/sklearn/model_selection/_search.py:972: UserWarning: One or more of the train scores are non-finite: [       nan        nan 0.9192602  0.95015648 0.90368319 0.94574157\n",
            "        nan        nan        nan 0.99117388 0.90186669        nan\n",
            "        nan        nan 0.96365624 0.96780939 0.90186703 0.96884869\n",
            "        nan        nan        nan 0.99117388 0.90186669        nan\n",
            "        nan        nan 0.97092627 0.97819529 0.90134923 0.97508043\n",
            "        nan        nan        nan 0.99117388 0.90186669        nan\n",
            "        nan        nan 0.97585763 0.9870204  0.90290565 0.9787141\n",
            "        nan        nan        nan 0.99117388 0.90186669        nan]\n",
            "  category=UserWarning,\n"
          ]
        }
      ],
      "source": [
        "search_results = search_grid.fit(X_train.values, y_train.values)"
      ]
    },
    {
      "cell_type": "code",
      "execution_count": null,
      "metadata": {
        "id": "P0XaDYbcwo83",
        "colab": {
          "base_uri": "https://localhost:8080/"
        },
        "outputId": "c98bf546-5b08-4c50-e6e0-ca6c81a6e849"
      },
      "outputs": [
        {
          "output_type": "execute_result",
          "data": {
            "text/plain": [
              "{'C': 0.1, 'max_iter': 500, 'penalty': 'l1', 'solver': 'liblinear'}"
            ]
          },
          "metadata": {},
          "execution_count": 8
        }
      ],
      "source": [
        "#Grid search results\n",
        "search_results.best_params_"
      ]
    },
    {
      "cell_type": "code",
      "execution_count": null,
      "metadata": {
        "id": "e9O9Cc0-wo85",
        "colab": {
          "base_uri": "https://localhost:8080/"
        },
        "outputId": "4f1cc291-f5c2-4d01-cec9-02e5a4a88bce"
      },
      "outputs": [
        {
          "output_type": "stream",
          "name": "stderr",
          "text": [
            "/usr/local/lib/python3.7/dist-packages/sklearn/linear_model/_logistic.py:1526: UserWarning: 'n_jobs' > 1 does not have any effect when 'solver' is set to 'liblinear'. Got 'n_jobs' = 2.\n",
            "  \" = {}.\".format(effective_n_jobs(self.n_jobs))\n"
          ]
        },
        {
          "output_type": "stream",
          "name": "stdout",
          "text": [
            "[LibLinear]"
          ]
        },
        {
          "output_type": "stream",
          "name": "stderr",
          "text": [
            "/usr/local/lib/python3.7/dist-packages/sklearn/svm/_base.py:1208: ConvergenceWarning: Liblinear failed to converge, increase the number of iterations.\n",
            "  ConvergenceWarning,\n"
          ]
        },
        {
          "output_type": "execute_result",
          "data": {
            "text/plain": [
              "LogisticRegression(C=10, max_iter=500, n_jobs=-1, penalty='l1',\n",
              "                   solver='liblinear', verbose=3)"
            ]
          },
          "metadata": {},
          "execution_count": 9
        }
      ],
      "source": [
        "#Build the model with the best parameters\n",
        "lr = LogisticRegression(C = 10, penalty = 'l1', solver = 'liblinear', max_iter = 500, verbose = 3, n_jobs = -1)\n",
        "lr.fit(X_train.values, y_train.values)"
      ]
    },
    {
      "cell_type": "markdown",
      "metadata": {
        "id": "HksltQmHwo85"
      },
      "source": [
        "### Graphs"
      ]
    },
    {
      "cell_type": "code",
      "execution_count": null,
      "metadata": {
        "id": "9pc2GwRuwo86",
        "colab": {
          "base_uri": "https://localhost:8080/"
        },
        "outputId": "3ed23e6e-ead1-4fdb-9dff-2544f2b3a9d2"
      },
      "outputs": [
        {
          "output_type": "stream",
          "name": "stdout",
          "text": [
            "Accuracy: 78.15%\n"
          ]
        }
      ],
      "source": [
        "#Get the accuracy score for the performance\n",
        "lr_score = lr.score(X_test.values, y_test.values)\n",
        "print(f'Accuracy: {round(lr_score*100, 2)}%')"
      ]
    },
    {
      "cell_type": "code",
      "execution_count": null,
      "metadata": {
        "id": "lA51Q0Aswo87",
        "colab": {
          "base_uri": "https://localhost:8080/"
        },
        "outputId": "f3cca8ce-db02-4f40-c53a-a1493a720620"
      },
      "outputs": [
        {
          "output_type": "stream",
          "name": "stdout",
          "text": [
            "Expected output:  Retired \n",
            "Predicted output:  Retired \n",
            "Index:  [219]\n"
          ]
        }
      ],
      "source": [
        "#Predict with the test set\n",
        "index = np.random.randint(0, y_test.shape)\n",
        "y_output = y_test.values[index]\n",
        "prediction = lr.predict(X_test.values[index])\n",
        "print('Expected output: ', 'Non retired' if y_output == 0 else 'Retired',\n",
        "      '\\nPredicted output: ', 'Non retired' if prediction == 0 else 'Retired',\n",
        "      '\\nIndex: ', index)"
      ]
    },
    {
      "cell_type": "code",
      "execution_count": null,
      "metadata": {
        "id": "FIC8IdPuwo87",
        "colab": {
          "base_uri": "https://localhost:8080/",
          "height": 206
        },
        "outputId": "eb11d4dd-cac2-4806-f3bf-d55d5b2cabe6"
      },
      "outputs": [
        {
          "output_type": "execute_result",
          "data": {
            "text/html": [
              "<style  type=\"text/css\" >\n",
              "#T_d62b9730_6fc4_11ec_9685_0242ac1c0002row0_col0,#T_d62b9730_6fc4_11ec_9685_0242ac1c0002row0_col1,#T_d62b9730_6fc4_11ec_9685_0242ac1c0002row0_col2,#T_d62b9730_6fc4_11ec_9685_0242ac1c0002row2_col3{\n",
              "            background-color:  #0b0405;\n",
              "            color:  #f1f1f1;\n",
              "        }#T_d62b9730_6fc4_11ec_9685_0242ac1c0002row0_col3{\n",
              "            background-color:  #3e5095;\n",
              "            color:  #f1f1f1;\n",
              "        }#T_d62b9730_6fc4_11ec_9685_0242ac1c0002row1_col0,#T_d62b9730_6fc4_11ec_9685_0242ac1c0002row1_col1,#T_d62b9730_6fc4_11ec_9685_0242ac1c0002row1_col2,#T_d62b9730_6fc4_11ec_9685_0242ac1c0002row3_col3,#T_d62b9730_6fc4_11ec_9685_0242ac1c0002row4_col3{\n",
              "            background-color:  #def5e5;\n",
              "            color:  #000000;\n",
              "        }#T_d62b9730_6fc4_11ec_9685_0242ac1c0002row1_col3,#T_d62b9730_6fc4_11ec_9685_0242ac1c0002row2_col1,#T_d62b9730_6fc4_11ec_9685_0242ac1c0002row4_col0,#T_d62b9730_6fc4_11ec_9685_0242ac1c0002row4_col1,#T_d62b9730_6fc4_11ec_9685_0242ac1c0002row4_col2{\n",
              "            background-color:  #36a3ab;\n",
              "            color:  #000000;\n",
              "        }#T_d62b9730_6fc4_11ec_9685_0242ac1c0002row2_col0{\n",
              "            background-color:  #35a1ab;\n",
              "            color:  #000000;\n",
              "        }#T_d62b9730_6fc4_11ec_9685_0242ac1c0002row2_col2{\n",
              "            background-color:  #36a2ab;\n",
              "            color:  #000000;\n",
              "        }#T_d62b9730_6fc4_11ec_9685_0242ac1c0002row3_col0,#T_d62b9730_6fc4_11ec_9685_0242ac1c0002row3_col1,#T_d62b9730_6fc4_11ec_9685_0242ac1c0002row3_col2{\n",
              "            background-color:  #357ba3;\n",
              "            color:  #000000;\n",
              "        }</style><table id=\"T_d62b9730_6fc4_11ec_9685_0242ac1c0002\" class=\"dataframe\"><thead>    <tr>        <th class=\"blank level0\" ></th>        <th class=\"col_heading level0 col0\" >precision</th>        <th class=\"col_heading level0 col1\" >recall</th>        <th class=\"col_heading level0 col2\" >f1-score</th>        <th class=\"col_heading level0 col3\" >support</th>    </tr></thead><tbody>\n",
              "                <tr>\n",
              "                        <th id=\"T_d62b9730_6fc4_11ec_9685_0242ac1c0002level0_row0\" class=\"row_heading level0 row0\" >non retired</th>\n",
              "                        <td id=\"T_d62b9730_6fc4_11ec_9685_0242ac1c0002row0_col0\" class=\"data row0 col0\" >0.690909</td>\n",
              "                        <td id=\"T_d62b9730_6fc4_11ec_9685_0242ac1c0002row0_col1\" class=\"data row0 col1\" >0.703704</td>\n",
              "                        <td id=\"T_d62b9730_6fc4_11ec_9685_0242ac1c0002row0_col2\" class=\"data row0 col2\" >0.697248</td>\n",
              "                        <td id=\"T_d62b9730_6fc4_11ec_9685_0242ac1c0002row0_col3\" class=\"data row0 col3\" >108.000000</td>\n",
              "            </tr>\n",
              "            <tr>\n",
              "                        <th id=\"T_d62b9730_6fc4_11ec_9685_0242ac1c0002level0_row1\" class=\"row_heading level0 row1\" >retired</th>\n",
              "                        <td id=\"T_d62b9730_6fc4_11ec_9685_0242ac1c0002row1_col0\" class=\"data row1 col0\" >0.833333</td>\n",
              "                        <td id=\"T_d62b9730_6fc4_11ec_9685_0242ac1c0002row1_col1\" class=\"data row1 col1\" >0.824742</td>\n",
              "                        <td id=\"T_d62b9730_6fc4_11ec_9685_0242ac1c0002row1_col2\" class=\"data row1 col2\" >0.829016</td>\n",
              "                        <td id=\"T_d62b9730_6fc4_11ec_9685_0242ac1c0002row1_col3\" class=\"data row1 col3\" >194.000000</td>\n",
              "            </tr>\n",
              "            <tr>\n",
              "                        <th id=\"T_d62b9730_6fc4_11ec_9685_0242ac1c0002level0_row2\" class=\"row_heading level0 row2\" >accuracy</th>\n",
              "                        <td id=\"T_d62b9730_6fc4_11ec_9685_0242ac1c0002row2_col0\" class=\"data row2 col0\" >0.781457</td>\n",
              "                        <td id=\"T_d62b9730_6fc4_11ec_9685_0242ac1c0002row2_col1\" class=\"data row2 col1\" >0.781457</td>\n",
              "                        <td id=\"T_d62b9730_6fc4_11ec_9685_0242ac1c0002row2_col2\" class=\"data row2 col2\" >0.781457</td>\n",
              "                        <td id=\"T_d62b9730_6fc4_11ec_9685_0242ac1c0002row2_col3\" class=\"data row2 col3\" >0.781457</td>\n",
              "            </tr>\n",
              "            <tr>\n",
              "                        <th id=\"T_d62b9730_6fc4_11ec_9685_0242ac1c0002level0_row3\" class=\"row_heading level0 row3\" >macro avg</th>\n",
              "                        <td id=\"T_d62b9730_6fc4_11ec_9685_0242ac1c0002row3_col0\" class=\"data row3 col0\" >0.762121</td>\n",
              "                        <td id=\"T_d62b9730_6fc4_11ec_9685_0242ac1c0002row3_col1\" class=\"data row3 col1\" >0.764223</td>\n",
              "                        <td id=\"T_d62b9730_6fc4_11ec_9685_0242ac1c0002row3_col2\" class=\"data row3 col2\" >0.763132</td>\n",
              "                        <td id=\"T_d62b9730_6fc4_11ec_9685_0242ac1c0002row3_col3\" class=\"data row3 col3\" >302.000000</td>\n",
              "            </tr>\n",
              "            <tr>\n",
              "                        <th id=\"T_d62b9730_6fc4_11ec_9685_0242ac1c0002level0_row4\" class=\"row_heading level0 row4\" >weighted avg</th>\n",
              "                        <td id=\"T_d62b9730_6fc4_11ec_9685_0242ac1c0002row4_col0\" class=\"data row4 col0\" >0.782400</td>\n",
              "                        <td id=\"T_d62b9730_6fc4_11ec_9685_0242ac1c0002row4_col1\" class=\"data row4 col1\" >0.781457</td>\n",
              "                        <td id=\"T_d62b9730_6fc4_11ec_9685_0242ac1c0002row4_col2\" class=\"data row4 col2\" >0.781893</td>\n",
              "                        <td id=\"T_d62b9730_6fc4_11ec_9685_0242ac1c0002row4_col3\" class=\"data row4 col3\" >302.000000</td>\n",
              "            </tr>\n",
              "    </tbody></table>"
            ],
            "text/plain": [
              "<pandas.io.formats.style.Styler at 0x7f257ac5ef50>"
            ]
          },
          "metadata": {},
          "execution_count": 12
        }
      ],
      "source": [
        "labels = [0, 1]\n",
        "y_predict = lr.predict(X_test.values)\n",
        "report = classification_report(y_test.values, y_predict, zero_division = 0, output_dict = True, labels = labels)\n",
        "df_report = pd.DataFrame.from_dict(report, orient = 'columns').T\n",
        "df_report.rename(index = {'0': 'non retired', '1': 'retired'}, inplace = True)\n",
        "cmap = sn.color_palette('mako', as_cmap = True)\n",
        "df_image = df_report.style.background_gradient(cmap = cmap)\n",
        "df_image\n",
        "#dfi.export(df_image, RESULTS_PATH + 'classification_report.png')\n",
        "#df_report[['precision', 'recall', 'f1-score']].style.applymap(lambda v: 'background: green' if (v > 0.5) else '')"
      ]
    },
    {
      "cell_type": "code",
      "execution_count": null,
      "metadata": {
        "id": "e0h4ZF_9wo87",
        "colab": {
          "base_uri": "https://localhost:8080/",
          "height": 586
        },
        "outputId": "d6d08867-ce01-46fa-884a-03d835400b54"
      },
      "outputs": [
        {
          "output_type": "display_data",
          "data": {
            "image/png": "[encoded data removed]",
            "text/plain": [
              "<Figure size 576x576 with 4 Axes>"
            ]
          },
          "metadata": {
            "needs_background": "light"
          }
        }
      ],
      "source": [
        "# Confusion matrix plot\n",
        "#y_predict = np.zeros(y_predicted.shape[0])\n",
        "#for i in range(y_predicted.shape[0]):\n",
        "#    y_predict[i] = y_predicted[i,:].argmax() \n",
        "    \n",
        "y_expect = y_test.values\n",
        "labels = [0, 1]\n",
        "str_labels = ['Non retired', 'Retired']\n",
        "cm = confusion_matrix(y_expect, y_predict, labels = labels)\n",
        "df_cm = pd.DataFrame(cm, index = str_labels, columns = str_labels)\n",
        "\n",
        "fig = plt.figure(figsize = (8, 8))\n",
        "ax = fig.add_subplot(2, 1, 1)\n",
        "ax.set_title('Confusion Matrix (Percentage)')\n",
        "sn.set(font_scale = 0.8)\n",
        "percentage = df_cm/df_cm.sum()\n",
        "ax = sn.heatmap(percentage.replace(np.nan, 0), annot = True, fmt = '.2%', cmap = 'mako')\n",
        "ax.set_xlabel('Predicted label')\n",
        "ax.set_ylabel('Expected label')\n",
        "\n",
        "ax = fig.add_subplot(2, 1, 2)\n",
        "ax.set_title('Confusion Matrix (Number)')\n",
        "ax = sn.heatmap(df_cm, annot = True, fmt = 'd', cmap = 'crest')\n",
        "ax.set_xlabel('Predicted label')\n",
        "ax.set_ylabel('Expected label')\n",
        "fig.tight_layout()\n",
        "plt.show()\n",
        "\n",
        "#ax.figure.savefig(RESULTS_PATH + 'confusionMatrix1.png')\n",
        "#disp = ConfusionMatrixDisplay(confusion_matrix = cm, display_labels = labels)\n",
        "#disp.plot()"
      ]
    },
    {
      "cell_type": "markdown",
      "metadata": {
        "id": "KqEn5WDmwo89"
      },
      "source": [
        "### Results"
      ]
    },
    {
      "cell_type": "code",
      "source": [
        "print(list(df_lambda[df_lambda['LABEL'] == 1].columns))"
      ],
      "metadata": {
        "colab": {
          "base_uri": "https://localhost:8080/"
        },
        "id": "Y7XAQw3y9Ol-",
        "outputId": "a8c0b537-9571-4628-e84f-175b7addb0e9"
      },
      "execution_count": null,
      "outputs": [
        {
          "output_type": "stream",
          "name": "stdout",
          "text": [
            "['AC_TP', 'ADM_TP', 'AI_TP', 'AP_TP', 'CO_TP', 'CU_TP', 'HD_TP', 'IN_TP', 'NE_TP', 'OP_TP', 'PD_TP', 'PM_TP', 'PR_TP', 'SE_TP', 'SM_TP', 'SO_TP', 'TD_TP', 'ASIGNACIONES_FACTURADAS', 'ASIGNACIONES_NO_FACTURADAS', 'AC_HR', 'ADM_HR', 'AI_HR', 'AP_HR', 'CO_HR', 'CU_HR', 'HD_HR', 'IN_HR', 'NE_HR', 'OP_HR', 'PD_HR', 'PM_HR', 'PR_HR', 'SE_HR', 'SM_HR', 'SO_HR', 'TD_HR', '.NET', '.NET Core', 'ANGULAR', 'AWS', 'Activemq', 'Android / Java', 'Angular', 'Azure', 'Azure DevOps', 'BOOTSTRAP', 'BUSINESS OBJECTS', 'C#', 'C++', 'CLOUDERA', 'Cloudera', 'Cobol', 'DAX', 'Drupal', 'ECLIPSE', 'EXCEL', 'FLUTTER', 'FORMS', 'FORMS 3.0', 'GIT', 'Ionic / Angular', 'JBPM', 'JEE', 'Java', 'Java JSF', 'Java Spring  Boot', 'Javascript', 'Jboss Fuse-ESB', 'KOTLIN', 'MICROSOFT PROJECT', 'Microsoft Azure', 'MySQL', 'NODE JS', 'NO_APLICA', 'Next.Js', 'ODI', 'ODV', 'ORACLE', 'ORACLE 11', 'ORACLE 8I', 'ORACLE 9I', 'ORACLE DB', 'Oracle Forms', 'PL/SQL', 'Power Builder', 'PowerBI', 'Python', 'React', 'React Native', 'SAS', 'SPRING BOOT', 'SQL', 'SQL DEVELOPER', 'SQL SERVER', 'TABLEAU', 'WEBLOGIC', 'iOS / Objetive C', 'ACTCOM', 'ADMB', 'ADMBD', 'ADMON', 'ADMSER', 'ADMSO', 'ANAID', 'ANAJU', 'ANAPC', 'ANASPLA', 'ANCAPA', 'ANCON', 'ANCOP', 'ANDES', 'ANDIAG', 'ANDIS', 'ANDOC', 'ANEMPA', 'ANLDA', 'ANMER', 'ANNEG', 'ANPACC', 'ANPERM', 'ANPLA', 'ANPPRD', 'ANPRCL', 'ANPRD', 'ANPREN', 'ANREV', 'ANSEG', 'APACE', 'APAJU', 'APASU', 'APAVA', 'APCAD', 'APCAL', 'APCLI', 'APCOS', 'APDOC', 'APEJE', 'APGHU', 'APPCM', 'APPLA', 'APPMA', 'APREV', 'APSEG', 'APSTA', 'AQAJU', 'AQCAN', 'AQCON', 'AQDOC', 'AQESC', 'AQEST', 'AQEVA', 'AQOPC', 'AQREQ', 'AQREV', 'ARCH', 'AREAS', 'ASCLI', 'ASCRE', 'ASEJE', 'ASPIL', 'ASPLA', 'ASREV', 'ASSAN', 'ASSEG', 'ATEINC', 'ATESOL', 'AUAJU', 'AUCON', 'AUEJE', 'AUPLA', 'AUPRE', 'AUSENC', 'AUSENC2', 'AUTOEST', 'BACKUP', 'BAN', 'BDAADT', 'BDABKP', 'BDAESP', 'BDAFAP', 'BDAFBD', 'BDASG', 'BDINC', 'CADOC', 'CAPEX', 'CAPIN', 'CAPRO', 'CART', 'CERT', 'CFBD', 'CFCLT', 'CFMON', 'CFSER', 'CFSO', 'COACHING', 'COAEC', 'COAJU', 'COCOD', 'COCODM', 'COCON', 'CODOC', 'COINT', 'COMIG', 'COMPE', 'COMPRAS', 'COMPRES', 'CONTAB', 'COPRU', 'COREIN', 'COREV', 'COVAL', 'DELIM', 'DESCU', 'DFAM ', 'DIAGP', 'DIAJU', 'DIAPL', 'DIAPLM', 'DIARQ', 'DIBDD', 'DIPLA', 'DIREV', 'DISE', 'DOCTEC', 'EJECUR', 'EJEPLA', 'ELACON', 'ELADOC', 'ELAPRO', 'ELECT', 'EMPALME', 'ENTRE', 'ERAJU', 'ERCON', 'ERDOC', 'ERENT', 'ERFAC', 'ERFUN', 'ERMER', 'ERMVC', 'ERREQ', 'ERREV', 'ERVIS', 'ESEST', 'ESREV', 'ESSEG', 'ESTIMA', 'EXTRA', 'FACT', 'FLUJO', 'FTP', 'GARINS', 'GESARE', 'GESBCK', 'GESCAMB', 'GESCON', 'GESDISP', 'GESEST', 'GESEVT', 'GESFAC', 'GESFAPRO', 'GESPRO2', 'GESPROB', 'GESSEG', 'GESSLA', 'GHEXT', 'GPOTR', 'GPPLA', 'GPPRO', 'GPSEG', 'GPVER', 'HACOM', 'HACOT', 'HADIS', 'HADTE', 'HAINS', 'HAINV', 'HAMON', 'HAPCO', 'HAPIN', 'HAPUN', 'HARTE', 'HTML_y', 'IMPLEMENTAR', 'INCAP', 'INDUC', 'INFCUR', 'INFGER', 'INFO', 'INGLES', 'INSOAD', 'INSOCLT', 'INSOSA', 'INSOSER', 'INSOSO', 'INSSW', 'INTER', 'INTSOAD', 'LIBRE', 'LICIT', 'LICLAC', 'LICMAT', 'LICNRE', 'LICPAT', 'LICREM', 'LIQNOM', 'LLAMVAR', 'LOGCUR', 'MAANA', 'MADIS', 'MANTE', 'MAPLA', 'MAREC', 'MAREV', 'MEDIR', 'MENSAJ', 'MERANA', 'MERBUS', 'MERMAT', 'MERREU', 'MIGAS', 'MIGBD', 'MIGSER', 'MMAJU', 'MMDES', 'MMENS', 'MMEST', 'MMREV', 'MMSEL', 'MONPRO', 'MOVIL', 'PAGOS', 'PERM', 'PLAFUN', 'PLANEA', 'PLAOPE', 'PPROCLI', 'PRACE', 'PRAJU', 'PRANA', 'PRCON', 'PRDIS', 'PREPCUR', 'PRESCUR', 'PRESUP', 'PRESUPU', 'PREVLAB', 'PREVPRE', 'PRINS', 'PROGRA', 'PROPO', 'PROPUE', 'PRPLA', 'PRREG', 'PRREV', 'PRSIS', 'PVCLI', 'PVCON', 'QAUX', 'QUEST', 'QUIN', 'REDES', 'REGPRO', 'REREQ', 'REUCLI', 'REUVAR', 'REVCON', 'SEGCON', 'SEGCONT', 'SELPERS', 'SERCLI', 'SOCAP', 'SOCIN', 'SOEFU', 'SOPAR', 'SOPER', 'SOSIN', 'TECAP', 'TECON', 'TEINT', 'TEPLA', 'TEREV', 'TIMU', 'TRCAP', 'TRCON', 'TRIBUT', 'TRINS', 'TRINSM', 'TRINT', 'TRMIG', 'TRREV', 'VAC', 'VENPRO', 'VISCLI', '6', '7', '8', '9', '28', '31', '35', '41', '45', '56', '59', 'AC_PN', 'ADM_PN', 'AI_PN', 'AP_PN', 'CO_PN', 'HD_PN', 'IN_PN', 'NE_PN', 'OP_PN', 'PD_PN', 'PM_PN', 'SE_PN', 'SM_PN', 'SO_PN', 'TD_PN', 'ADM_RS', 'AP_RS', 'CO_RS', 'HD_RS', 'IN_RS', 'NE_RS', 'OP_RS', 'PD_RS', 'PM_RS', 'SE_RS', 'SM_RS', 'SO_RS', 'EDAD', 'GENERO', 'TIEMPO_EMP', 'LABEL']\n"
          ]
        }
      ]
    },
    {
      "cell_type": "code",
      "execution_count": null,
      "metadata": {
        "id": "WQTTGuQAwo8-",
        "colab": {
          "base_uri": "https://localhost:8080/"
        },
        "outputId": "a0bdeabb-8471-4a28-eb6e-20f93ff25776"
      },
      "outputs": [
        {
          "output_type": "execute_result",
          "data": {
            "text/plain": [
              "count    969.000000\n",
              "mean      23.287926\n",
              "std       27.074024\n",
              "min        1.000000\n",
              "25%        7.000000\n",
              "50%       15.000000\n",
              "75%       29.000000\n",
              "max      208.000000\n",
              "Name: TIEMPO_EMP, dtype: float64"
            ]
          },
          "metadata": {},
          "execution_count": 15
        }
      ],
      "source": [
        "#Testing the histograms for all the columns with label 1: Retired\n",
        "df_lambda[df_lambda['LABEL'] == 1]['TIEMPO_EMP'].describe()"
      ]
    },
    {
      "cell_type": "code",
      "execution_count": null,
      "metadata": {
        "id": "6LKQ7E-Iwo8-",
        "colab": {
          "base_uri": "https://localhost:8080/"
        },
        "outputId": "7f1ad588-3e62-443e-de61-6d271d884d6a"
      },
      "outputs": [
        {
          "output_type": "execute_result",
          "data": {
            "text/plain": [
              "count    537.000000\n",
              "mean      34.197393\n",
              "std       49.071511\n",
              "min        1.000000\n",
              "25%        4.000000\n",
              "50%       21.000000\n",
              "75%       39.000000\n",
              "max      364.000000\n",
              "Name: TIEMPO_EMP, dtype: float64"
            ]
          },
          "metadata": {},
          "execution_count": 16
        }
      ],
      "source": [
        "#Testing the histograms for all the columns with label 0: Non Retired\n",
        "df_lambda[df_lambda['LABEL'] == 0]['TIEMPO_EMP'].describe()"
      ]
    },
    {
      "cell_type": "markdown",
      "metadata": {
        "id": "wyOQMyoVwo8_"
      },
      "source": [
        "### Some conclusions debugging\n",
        "\n",
        "* Some departments of the company may have been created in recent years and for that reason the non zero values for this ones are concentrated in the years after their creation.   \n",
        "* Last fact can apply for technologies and some of the areas involved in the dataset too.\n",
        "* Because a large quantity of the rows per each feature are zero, making this a sparse dataset, a non zero value included here may have a lot of relevance in the kernel in which the specific vector take place with its direction.\n",
        "* The $\\lambda$ parameter retrieved from the MLE statistical process does not affect the models in such a way to doubt about it on the dataset.\n",
        "* Departments as CO_TP seem to have disappeared and thus the same issue as in item one happen but in the opposite way.\n",
        "* The standarization step doesn't affect the results of the metrics given by the models.\n"
      ]
    },
    {
      "cell_type": "code",
      "execution_count": null,
      "metadata": {
        "id": "9YoeL4npwo8_"
      },
      "outputs": [],
      "source": [
        ""
      ]
    },
    {
      "cell_type": "code",
      "execution_count": null,
      "metadata": {
        "id": "o7_1BTFPwo8_"
      },
      "outputs": [],
      "source": [
        ""
      ]
    },
    {
      "cell_type": "markdown",
      "metadata": {
        "id": "Dg27RwZ8wo9A"
      },
      "source": [
        "### End"
      ]
    }
  ],
  "metadata": {
    "colab": {
      "collapsed_sections": [],
      "name": "LogReg.ipynb",
      "provenance": [],
      "include_colab_link": true
    },
    "kernelspec": {
      "display_name": "Python 3",
      "name": "python3"
    },
    "language_info": {
      "name": "python"
    }
  },
  "nbformat": 4,
  "nbformat_minor": 0
}