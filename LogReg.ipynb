{
  "nbformat": 4,
  "nbformat_minor": 0,
  "metadata": {
    "colab": {
      "name": "LogReg.ipynb",
      "provenance": [],
      "collapsed_sections": [],
      "include_colab_link": true
    },
    "kernelspec": {
      "name": "python3",
      "display_name": "Python 3"
    },
    "language_info": {
      "name": "python"
    }
  },
  "cells": [
    {
      "cell_type": "markdown",
      "metadata": {
        "id": "view-in-github",
        "colab_type": "text"
      },
      "source": [
        "<a href=\"https://colab.research.google.com/github/SolemnShark871/Churn/blob/main/LogReg.ipynb\" target=\"_parent\"><img src=\"https://colab.research.google.com/assets/colab-badge.svg\" alt=\"Open In Colab\"/></a>"
      ]
    },
    {
      "cell_type": "code",
      "source": [
        "# !pip install pandas-profiling==2.7.1\n",
        "## General packages\n",
        "import pandas as pd\n",
        "import numpy as np\n",
        "import os\n",
        "import math\n",
        "import seaborn as sn\n",
        "from google.colab import drive\n",
        "from pandas_profiling import ProfileReport\n",
        "import matplotlib as mpl\n",
        "import matplotlib.pyplot as plt\n",
        "\n",
        "## Machine learning packages\n",
        "from sklearn.utils import shuffle\n",
        "from sklearn.preprocessing import StandardScaler, MinMaxScaler\n",
        "from sklearn import metrics\n",
        "from sklearn.metrics import f1_score, roc_auc_score, silhouette_score, confusion_matrix, recall_score, precision_score\n",
        "from sklearn.metrics import classification_report, accuracy_score, plot_confusion_matrix, ConfusionMatrixDisplay\n",
        "from sklearn.linear_model import LogisticRegression\n",
        "from sklearn.model_selection import GridSearchCV, train_test_split # Revisar esta librería.\n",
        "from sklearn.neural_network import MLPClassifier\n",
        "from sklearn.cluster import KMeans \n",
        "from sklearn.tree import DecisionTreeClassifier\n",
        "from sklearn import tree\n",
        "\n",
        "from IPython.display import Image  \n",
        "from sklearn.tree import export_graphviz\n",
        "import graphviz\n",
        "import pydotplus\n",
        "\n",
        "## Neural networks packages\n",
        "import tensorflow as tf\n",
        "from tensorflow.keras.initializers import HeNormal, HeUniform, GlorotNormal, GlorotUniform\n",
        "from tensorflow.keras.optimizers import SGD, Adam\n",
        "from keras import layers, models\n",
        "from keras.layers import Dense, Dropout\n",
        "from keras.models import Sequential\n",
        "from tensorflow.keras.utils import to_categorical\n",
        "from keras.utils.vis_utils import plot_model\n",
        "from keras.constraints import maxnorm\n",
        "from tensorflow.keras.wrappers.scikit_learn import KerasClassifier\n",
        "\n",
        "## Validación\n",
        "from sklearn.pipeline import Pipeline, FeatureUnion\n",
        "\n",
        "drive.mount('/content/drive', force_remount = True)\n",
        "os.chdir('/content/drive/MyDrive/Churn') #Thomas & Favio & Juan\n",
        "\n",
        "os.listdir(\"./\")"
      ],
      "metadata": {
        "colab": {
          "base_uri": "https://localhost:8080/"
        },
        "id": "9yS_XJhq1xwz",
        "outputId": "3dae9220-b52b-4945-be9e-cd3a3a72a71c"
      },
      "execution_count": 1,
      "outputs": [
        {
          "output_type": "stream",
          "name": "stdout",
          "text": [
            "Mounted at /content/drive\n"
          ]
        },
        {
          "output_type": "execute_result",
          "data": {
            "text/plain": [
              "['personas_retiradas.csv',\n",
              " 'non_retired_people.csv',\n",
              " 'retired_people.csv',\n",
              " 'Datasets_Churn.ipynb',\n",
              " 'ML models.ipynb',\n",
              " 'Images',\n",
              " 'Copy of Spotify challenge.ipynb',\n",
              " 'not_scaled_not_pca_merged.csv',\n",
              " 'LogReg.ipynb',\n",
              " 'pca_merged_scaled.csv',\n",
              " 'Data_exploration.ipynb',\n",
              " 'SVM_Model.ipynb',\n",
              " 'NN model.ipynb']"
            ]
          },
          "metadata": {},
          "execution_count": 1
        }
      ]
    },
    {
      "cell_type": "markdown",
      "source": [
        "# ML models"
      ],
      "metadata": {
        "id": "CVA_E6HFjpO8"
      }
    },
    {
      "cell_type": "markdown",
      "source": [
        "## Logistic regression"
      ],
      "metadata": {
        "id": "qlmtJbjlbSfh"
      }
    },
    {
      "cell_type": "markdown",
      "source": [
        "### Data inporting"
      ],
      "metadata": {
        "id": "MJtV-gwtbXYj"
      }
    },
    {
      "cell_type": "code",
      "source": [
        "#Inport the csv with the dataset\n",
        "df_lambda = pd.read_csv('not_scaled_not_pca_merged.csv', index_col = [0])\n",
        "df_lambda.head()"
      ],
      "metadata": {
        "id": "l2ZrzbeIj0Mu",
        "colab": {
          "base_uri": "https://localhost:8080/",
          "height": 317
        },
        "outputId": "851cc23a-b794-46bf-f953-01e67db8d745"
      },
      "execution_count": null,
      "outputs": [
        {
          "output_type": "execute_result",
          "data": {
            "text/html": [
              "\n",
              "  <div id=\"df-39bed8c9-e451-433b-86af-7133724ab647\">\n",
              "    <div class=\"colab-df-container\">\n",
              "      <div>\n",
              "<style scoped>\n",
              "    .dataframe tbody tr th:only-of-type {\n",
              "        vertical-align: middle;\n",
              "    }\n",
              "\n",
              "    .dataframe tbody tr th {\n",
              "        vertical-align: top;\n",
              "    }\n",
              "\n",
              "    .dataframe thead th {\n",
              "        text-align: right;\n",
              "    }\n",
              "</style>\n",
              "<table border=\"1\" class=\"dataframe\">\n",
              "  <thead>\n",
              "    <tr style=\"text-align: right;\">\n",
              "      <th></th>\n",
              "      <th>PERSONA</th>\n",
              "      <th>AC_TP</th>\n",
              "      <th>ADM_TP</th>\n",
              "      <th>AI_TP</th>\n",
              "      <th>AP_TP</th>\n",
              "      <th>CO_TP</th>\n",
              "      <th>CU_TP</th>\n",
              "      <th>HD_TP</th>\n",
              "      <th>IN_TP</th>\n",
              "      <th>NE_TP</th>\n",
              "      <th>OP_TP</th>\n",
              "      <th>PD_TP</th>\n",
              "      <th>PM_TP</th>\n",
              "      <th>PR_TP</th>\n",
              "      <th>SE_TP</th>\n",
              "      <th>SM_TP</th>\n",
              "      <th>SO_TP</th>\n",
              "      <th>TD_TP</th>\n",
              "      <th>ASIGNACIONES_FACTURADAS</th>\n",
              "      <th>ASIGNACIONES_NO_FACTURADAS</th>\n",
              "      <th>AC_HR</th>\n",
              "      <th>ADM_HR</th>\n",
              "      <th>AI_HR</th>\n",
              "      <th>AP_HR</th>\n",
              "      <th>CO_HR</th>\n",
              "      <th>CU_HR</th>\n",
              "      <th>HD_HR</th>\n",
              "      <th>IN_HR</th>\n",
              "      <th>NE_HR</th>\n",
              "      <th>OP_HR</th>\n",
              "      <th>PD_HR</th>\n",
              "      <th>PM_HR</th>\n",
              "      <th>PR_HR</th>\n",
              "      <th>SE_HR</th>\n",
              "      <th>SM_HR</th>\n",
              "      <th>SO_HR</th>\n",
              "      <th>TD_HR</th>\n",
              "      <th>.NET</th>\n",
              "      <th>.NET Core</th>\n",
              "      <th>ANGULAR</th>\n",
              "      <th>...</th>\n",
              "      <th>9</th>\n",
              "      <th>28</th>\n",
              "      <th>31</th>\n",
              "      <th>35</th>\n",
              "      <th>41</th>\n",
              "      <th>45</th>\n",
              "      <th>56</th>\n",
              "      <th>59</th>\n",
              "      <th>AC_PN</th>\n",
              "      <th>ADM_PN</th>\n",
              "      <th>AI_PN</th>\n",
              "      <th>AP_PN</th>\n",
              "      <th>CO_PN</th>\n",
              "      <th>HD_PN</th>\n",
              "      <th>IN_PN</th>\n",
              "      <th>NE_PN</th>\n",
              "      <th>OP_PN</th>\n",
              "      <th>PD_PN</th>\n",
              "      <th>PM_PN</th>\n",
              "      <th>SE_PN</th>\n",
              "      <th>SM_PN</th>\n",
              "      <th>SO_PN</th>\n",
              "      <th>TD_PN</th>\n",
              "      <th>ADM_RS</th>\n",
              "      <th>AP_RS</th>\n",
              "      <th>CO_RS</th>\n",
              "      <th>HD_RS</th>\n",
              "      <th>IN_RS</th>\n",
              "      <th>NE_RS</th>\n",
              "      <th>OP_RS</th>\n",
              "      <th>PD_RS</th>\n",
              "      <th>PM_RS</th>\n",
              "      <th>SE_RS</th>\n",
              "      <th>SM_RS</th>\n",
              "      <th>SO_RS</th>\n",
              "      <th>EDAD</th>\n",
              "      <th>GENERO</th>\n",
              "      <th>TIEMPO_EMP</th>\n",
              "      <th>LAMBDA</th>\n",
              "      <th>LABEL</th>\n",
              "    </tr>\n",
              "  </thead>\n",
              "  <tbody>\n",
              "    <tr>\n",
              "      <th>624</th>\n",
              "      <td>1481</td>\n",
              "      <td>0</td>\n",
              "      <td>10</td>\n",
              "      <td>0</td>\n",
              "      <td>8</td>\n",
              "      <td>0</td>\n",
              "      <td>0</td>\n",
              "      <td>0</td>\n",
              "      <td>0</td>\n",
              "      <td>0</td>\n",
              "      <td>0</td>\n",
              "      <td>0</td>\n",
              "      <td>0</td>\n",
              "      <td>0</td>\n",
              "      <td>0</td>\n",
              "      <td>0</td>\n",
              "      <td>0</td>\n",
              "      <td>0</td>\n",
              "      <td>4</td>\n",
              "      <td>7</td>\n",
              "      <td>0.0</td>\n",
              "      <td>121.89</td>\n",
              "      <td>0.0</td>\n",
              "      <td>874.1</td>\n",
              "      <td>0.0</td>\n",
              "      <td>0</td>\n",
              "      <td>0.0</td>\n",
              "      <td>0.0</td>\n",
              "      <td>0.0</td>\n",
              "      <td>0.00</td>\n",
              "      <td>0.0</td>\n",
              "      <td>249.0</td>\n",
              "      <td>0.0</td>\n",
              "      <td>0.0</td>\n",
              "      <td>0.00</td>\n",
              "      <td>0.0</td>\n",
              "      <td>0.0</td>\n",
              "      <td>0</td>\n",
              "      <td>0</td>\n",
              "      <td>0</td>\n",
              "      <td>...</td>\n",
              "      <td>0.0</td>\n",
              "      <td>0.0</td>\n",
              "      <td>0.0</td>\n",
              "      <td>0.0</td>\n",
              "      <td>0.0</td>\n",
              "      <td>0.0</td>\n",
              "      <td>0.0</td>\n",
              "      <td>0.0</td>\n",
              "      <td>0</td>\n",
              "      <td>0</td>\n",
              "      <td>0</td>\n",
              "      <td>138</td>\n",
              "      <td>0</td>\n",
              "      <td>0</td>\n",
              "      <td>0</td>\n",
              "      <td>0</td>\n",
              "      <td>0</td>\n",
              "      <td>0</td>\n",
              "      <td>0</td>\n",
              "      <td>0</td>\n",
              "      <td>0</td>\n",
              "      <td>0</td>\n",
              "      <td>0</td>\n",
              "      <td>0</td>\n",
              "      <td>34</td>\n",
              "      <td>0</td>\n",
              "      <td>0</td>\n",
              "      <td>0</td>\n",
              "      <td>0</td>\n",
              "      <td>0</td>\n",
              "      <td>0</td>\n",
              "      <td>0</td>\n",
              "      <td>0</td>\n",
              "      <td>0</td>\n",
              "      <td>0</td>\n",
              "      <td>29</td>\n",
              "      <td>0</td>\n",
              "      <td>7</td>\n",
              "      <td>23.737822</td>\n",
              "      <td>1</td>\n",
              "    </tr>\n",
              "    <tr>\n",
              "      <th>515</th>\n",
              "      <td>1316</td>\n",
              "      <td>0</td>\n",
              "      <td>5</td>\n",
              "      <td>0</td>\n",
              "      <td>4</td>\n",
              "      <td>0</td>\n",
              "      <td>0</td>\n",
              "      <td>0</td>\n",
              "      <td>0</td>\n",
              "      <td>0</td>\n",
              "      <td>0</td>\n",
              "      <td>0</td>\n",
              "      <td>0</td>\n",
              "      <td>0</td>\n",
              "      <td>0</td>\n",
              "      <td>0</td>\n",
              "      <td>0</td>\n",
              "      <td>0</td>\n",
              "      <td>1</td>\n",
              "      <td>6</td>\n",
              "      <td>0.0</td>\n",
              "      <td>1122.32</td>\n",
              "      <td>0.0</td>\n",
              "      <td>82.0</td>\n",
              "      <td>0.0</td>\n",
              "      <td>0</td>\n",
              "      <td>0.0</td>\n",
              "      <td>0.0</td>\n",
              "      <td>0.0</td>\n",
              "      <td>0.00</td>\n",
              "      <td>0.0</td>\n",
              "      <td>0.0</td>\n",
              "      <td>0.0</td>\n",
              "      <td>0.0</td>\n",
              "      <td>0.00</td>\n",
              "      <td>0.0</td>\n",
              "      <td>0.0</td>\n",
              "      <td>0</td>\n",
              "      <td>0</td>\n",
              "      <td>0</td>\n",
              "      <td>...</td>\n",
              "      <td>0.0</td>\n",
              "      <td>0.0</td>\n",
              "      <td>0.0</td>\n",
              "      <td>0.0</td>\n",
              "      <td>0.0</td>\n",
              "      <td>0.0</td>\n",
              "      <td>0.0</td>\n",
              "      <td>0.0</td>\n",
              "      <td>0</td>\n",
              "      <td>414</td>\n",
              "      <td>0</td>\n",
              "      <td>3</td>\n",
              "      <td>0</td>\n",
              "      <td>0</td>\n",
              "      <td>0</td>\n",
              "      <td>0</td>\n",
              "      <td>0</td>\n",
              "      <td>0</td>\n",
              "      <td>0</td>\n",
              "      <td>0</td>\n",
              "      <td>0</td>\n",
              "      <td>0</td>\n",
              "      <td>0</td>\n",
              "      <td>1</td>\n",
              "      <td>26</td>\n",
              "      <td>0</td>\n",
              "      <td>0</td>\n",
              "      <td>0</td>\n",
              "      <td>0</td>\n",
              "      <td>0</td>\n",
              "      <td>0</td>\n",
              "      <td>0</td>\n",
              "      <td>0</td>\n",
              "      <td>0</td>\n",
              "      <td>0</td>\n",
              "      <td>18</td>\n",
              "      <td>1</td>\n",
              "      <td>7</td>\n",
              "      <td>13.335903</td>\n",
              "      <td>1</td>\n",
              "    </tr>\n",
              "    <tr>\n",
              "      <th>1168</th>\n",
              "      <td>1692</td>\n",
              "      <td>0</td>\n",
              "      <td>18</td>\n",
              "      <td>0</td>\n",
              "      <td>0</td>\n",
              "      <td>0</td>\n",
              "      <td>0</td>\n",
              "      <td>0</td>\n",
              "      <td>0</td>\n",
              "      <td>0</td>\n",
              "      <td>0</td>\n",
              "      <td>0</td>\n",
              "      <td>1</td>\n",
              "      <td>0</td>\n",
              "      <td>0</td>\n",
              "      <td>0</td>\n",
              "      <td>0</td>\n",
              "      <td>0</td>\n",
              "      <td>0</td>\n",
              "      <td>3</td>\n",
              "      <td>0.0</td>\n",
              "      <td>84.50</td>\n",
              "      <td>0.0</td>\n",
              "      <td>0.0</td>\n",
              "      <td>0.0</td>\n",
              "      <td>0</td>\n",
              "      <td>0.0</td>\n",
              "      <td>0.0</td>\n",
              "      <td>0.0</td>\n",
              "      <td>2000.98</td>\n",
              "      <td>0.0</td>\n",
              "      <td>1.0</td>\n",
              "      <td>0.0</td>\n",
              "      <td>0.0</td>\n",
              "      <td>0.00</td>\n",
              "      <td>0.0</td>\n",
              "      <td>0.0</td>\n",
              "      <td>0</td>\n",
              "      <td>0</td>\n",
              "      <td>0</td>\n",
              "      <td>...</td>\n",
              "      <td>0.0</td>\n",
              "      <td>0.0</td>\n",
              "      <td>0.0</td>\n",
              "      <td>0.0</td>\n",
              "      <td>0.0</td>\n",
              "      <td>0.0</td>\n",
              "      <td>0.0</td>\n",
              "      <td>0.0</td>\n",
              "      <td>0</td>\n",
              "      <td>1952</td>\n",
              "      <td>0</td>\n",
              "      <td>0</td>\n",
              "      <td>0</td>\n",
              "      <td>0</td>\n",
              "      <td>0</td>\n",
              "      <td>0</td>\n",
              "      <td>0</td>\n",
              "      <td>0</td>\n",
              "      <td>0</td>\n",
              "      <td>0</td>\n",
              "      <td>0</td>\n",
              "      <td>0</td>\n",
              "      <td>0</td>\n",
              "      <td>0</td>\n",
              "      <td>0</td>\n",
              "      <td>0</td>\n",
              "      <td>0</td>\n",
              "      <td>0</td>\n",
              "      <td>0</td>\n",
              "      <td>0</td>\n",
              "      <td>0</td>\n",
              "      <td>0</td>\n",
              "      <td>0</td>\n",
              "      <td>0</td>\n",
              "      <td>0</td>\n",
              "      <td>35</td>\n",
              "      <td>0</td>\n",
              "      <td>31</td>\n",
              "      <td>28.338715</td>\n",
              "      <td>0</td>\n",
              "    </tr>\n",
              "    <tr>\n",
              "      <th>55</th>\n",
              "      <td>471</td>\n",
              "      <td>0</td>\n",
              "      <td>11</td>\n",
              "      <td>0</td>\n",
              "      <td>0</td>\n",
              "      <td>0</td>\n",
              "      <td>0</td>\n",
              "      <td>0</td>\n",
              "      <td>0</td>\n",
              "      <td>0</td>\n",
              "      <td>10</td>\n",
              "      <td>0</td>\n",
              "      <td>0</td>\n",
              "      <td>0</td>\n",
              "      <td>0</td>\n",
              "      <td>4</td>\n",
              "      <td>0</td>\n",
              "      <td>0</td>\n",
              "      <td>10</td>\n",
              "      <td>12</td>\n",
              "      <td>0.0</td>\n",
              "      <td>244.00</td>\n",
              "      <td>0.0</td>\n",
              "      <td>0.0</td>\n",
              "      <td>0.0</td>\n",
              "      <td>0</td>\n",
              "      <td>0.0</td>\n",
              "      <td>0.0</td>\n",
              "      <td>0.0</td>\n",
              "      <td>1276.68</td>\n",
              "      <td>0.0</td>\n",
              "      <td>0.0</td>\n",
              "      <td>0.0</td>\n",
              "      <td>0.0</td>\n",
              "      <td>647.15</td>\n",
              "      <td>0.0</td>\n",
              "      <td>0.0</td>\n",
              "      <td>0</td>\n",
              "      <td>0</td>\n",
              "      <td>0</td>\n",
              "      <td>...</td>\n",
              "      <td>0.0</td>\n",
              "      <td>0.0</td>\n",
              "      <td>0.0</td>\n",
              "      <td>0.0</td>\n",
              "      <td>0.0</td>\n",
              "      <td>0.0</td>\n",
              "      <td>0.0</td>\n",
              "      <td>0.0</td>\n",
              "      <td>0</td>\n",
              "      <td>144</td>\n",
              "      <td>0</td>\n",
              "      <td>0</td>\n",
              "      <td>0</td>\n",
              "      <td>0</td>\n",
              "      <td>0</td>\n",
              "      <td>0</td>\n",
              "      <td>0</td>\n",
              "      <td>0</td>\n",
              "      <td>0</td>\n",
              "      <td>0</td>\n",
              "      <td>0</td>\n",
              "      <td>0</td>\n",
              "      <td>0</td>\n",
              "      <td>1</td>\n",
              "      <td>0</td>\n",
              "      <td>0</td>\n",
              "      <td>0</td>\n",
              "      <td>0</td>\n",
              "      <td>0</td>\n",
              "      <td>0</td>\n",
              "      <td>0</td>\n",
              "      <td>0</td>\n",
              "      <td>0</td>\n",
              "      <td>0</td>\n",
              "      <td>0</td>\n",
              "      <td>32</td>\n",
              "      <td>0</td>\n",
              "      <td>47</td>\n",
              "      <td>23.737822</td>\n",
              "      <td>1</td>\n",
              "    </tr>\n",
              "    <tr>\n",
              "      <th>1329</th>\n",
              "      <td>2313</td>\n",
              "      <td>0</td>\n",
              "      <td>12</td>\n",
              "      <td>0</td>\n",
              "      <td>4</td>\n",
              "      <td>0</td>\n",
              "      <td>0</td>\n",
              "      <td>0</td>\n",
              "      <td>0</td>\n",
              "      <td>0</td>\n",
              "      <td>0</td>\n",
              "      <td>0</td>\n",
              "      <td>2</td>\n",
              "      <td>0</td>\n",
              "      <td>1</td>\n",
              "      <td>0</td>\n",
              "      <td>0</td>\n",
              "      <td>0</td>\n",
              "      <td>2</td>\n",
              "      <td>6</td>\n",
              "      <td>0.0</td>\n",
              "      <td>55.50</td>\n",
              "      <td>0.0</td>\n",
              "      <td>1238.5</td>\n",
              "      <td>0.0</td>\n",
              "      <td>0</td>\n",
              "      <td>0.0</td>\n",
              "      <td>0.0</td>\n",
              "      <td>0.0</td>\n",
              "      <td>0.00</td>\n",
              "      <td>0.0</td>\n",
              "      <td>112.0</td>\n",
              "      <td>0.0</td>\n",
              "      <td>0.0</td>\n",
              "      <td>0.00</td>\n",
              "      <td>0.0</td>\n",
              "      <td>0.0</td>\n",
              "      <td>0</td>\n",
              "      <td>0</td>\n",
              "      <td>0</td>\n",
              "      <td>...</td>\n",
              "      <td>0.0</td>\n",
              "      <td>0.0</td>\n",
              "      <td>0.0</td>\n",
              "      <td>0.0</td>\n",
              "      <td>0.0</td>\n",
              "      <td>0.0</td>\n",
              "      <td>0.0</td>\n",
              "      <td>0.0</td>\n",
              "      <td>0</td>\n",
              "      <td>1101</td>\n",
              "      <td>0</td>\n",
              "      <td>90</td>\n",
              "      <td>0</td>\n",
              "      <td>0</td>\n",
              "      <td>0</td>\n",
              "      <td>0</td>\n",
              "      <td>0</td>\n",
              "      <td>0</td>\n",
              "      <td>0</td>\n",
              "      <td>0</td>\n",
              "      <td>0</td>\n",
              "      <td>0</td>\n",
              "      <td>0</td>\n",
              "      <td>0</td>\n",
              "      <td>24</td>\n",
              "      <td>0</td>\n",
              "      <td>0</td>\n",
              "      <td>0</td>\n",
              "      <td>0</td>\n",
              "      <td>0</td>\n",
              "      <td>0</td>\n",
              "      <td>0</td>\n",
              "      <td>0</td>\n",
              "      <td>0</td>\n",
              "      <td>0</td>\n",
              "      <td>22</td>\n",
              "      <td>0</td>\n",
              "      <td>9</td>\n",
              "      <td>13.122964</td>\n",
              "      <td>0</td>\n",
              "    </tr>\n",
              "  </tbody>\n",
              "</table>\n",
              "<p>5 rows × 438 columns</p>\n",
              "</div>\n",
              "      <button class=\"colab-df-convert\" onclick=\"convertToInteractive('df-39bed8c9-e451-433b-86af-7133724ab647')\"\n",
              "              title=\"Convert this dataframe to an interactive table.\"\n",
              "              style=\"display:none;\">\n",
              "        \n",
              "  <svg xmlns=\"http://www.w3.org/2000/svg\" height=\"24px\"viewBox=\"0 0 24 24\"\n",
              "       width=\"24px\">\n",
              "    <path d=\"M0 0h24v24H0V0z\" fill=\"none\"/>\n",
              "    <path d=\"M18.56 5.44l.94 2.06.94-2.06 2.06-.94-2.06-.94-.94-2.06-.94 2.06-2.06.94zm-11 1L8.5 8.5l.94-2.06 2.06-.94-2.06-.94L8.5 2.5l-.94 2.06-2.06.94zm10 10l.94 2.06.94-2.06 2.06-.94-2.06-.94-.94-2.06-.94 2.06-2.06.94z\"/><path d=\"M17.41 7.96l-1.37-1.37c-.4-.4-.92-.59-1.43-.59-.52 0-1.04.2-1.43.59L10.3 9.45l-7.72 7.72c-.78.78-.78 2.05 0 2.83L4 21.41c.39.39.9.59 1.41.59.51 0 1.02-.2 1.41-.59l7.78-7.78 2.81-2.81c.8-.78.8-2.07 0-2.86zM5.41 20L4 18.59l7.72-7.72 1.47 1.35L5.41 20z\"/>\n",
              "  </svg>\n",
              "      </button>\n",
              "      \n",
              "  <style>\n",
              "    .colab-df-container {\n",
              "      display:flex;\n",
              "      flex-wrap:wrap;\n",
              "      gap: 12px;\n",
              "    }\n",
              "\n",
              "    .colab-df-convert {\n",
              "      background-color: #E8F0FE;\n",
              "      border: none;\n",
              "      border-radius: 50%;\n",
              "      cursor: pointer;\n",
              "      display: none;\n",
              "      fill: #1967D2;\n",
              "      height: 32px;\n",
              "      padding: 0 0 0 0;\n",
              "      width: 32px;\n",
              "    }\n",
              "\n",
              "    .colab-df-convert:hover {\n",
              "      background-color: #E2EBFA;\n",
              "      box-shadow: 0px 1px 2px rgba(60, 64, 67, 0.3), 0px 1px 3px 1px rgba(60, 64, 67, 0.15);\n",
              "      fill: #174EA6;\n",
              "    }\n",
              "\n",
              "    [theme=dark] .colab-df-convert {\n",
              "      background-color: #3B4455;\n",
              "      fill: #D2E3FC;\n",
              "    }\n",
              "\n",
              "    [theme=dark] .colab-df-convert:hover {\n",
              "      background-color: #434B5C;\n",
              "      box-shadow: 0px 1px 3px 1px rgba(0, 0, 0, 0.15);\n",
              "      filter: drop-shadow(0px 1px 2px rgba(0, 0, 0, 0.3));\n",
              "      fill: #FFFFFF;\n",
              "    }\n",
              "  </style>\n",
              "\n",
              "      <script>\n",
              "        const buttonEl =\n",
              "          document.querySelector('#df-39bed8c9-e451-433b-86af-7133724ab647 button.colab-df-convert');\n",
              "        buttonEl.style.display =\n",
              "          google.colab.kernel.accessAllowed ? 'block' : 'none';\n",
              "\n",
              "        async function convertToInteractive(key) {\n",
              "          const element = document.querySelector('#df-39bed8c9-e451-433b-86af-7133724ab647');\n",
              "          const dataTable =\n",
              "            await google.colab.kernel.invokeFunction('convertToInteractive',\n",
              "                                                     [key], {});\n",
              "          if (!dataTable) return;\n",
              "\n",
              "          const docLinkHtml = 'Like what you see? Visit the ' +\n",
              "            '<a target=\"_blank\" href=https://colab.research.google.com/notebooks/data_table.ipynb>data table notebook</a>'\n",
              "            + ' to learn more about interactive tables.';\n",
              "          element.innerHTML = '';\n",
              "          dataTable['output_type'] = 'display_data';\n",
              "          await google.colab.output.renderOutput(dataTable, element);\n",
              "          const docLink = document.createElement('div');\n",
              "          docLink.innerHTML = docLinkHtml;\n",
              "          element.appendChild(docLink);\n",
              "        }\n",
              "      </script>\n",
              "    </div>\n",
              "  </div>\n",
              "  "
            ],
            "text/plain": [
              "      PERSONA  AC_TP  ADM_TP  AI_TP  ...  GENERO  TIEMPO_EMP     LAMBDA  LABEL\n",
              "624      1481      0      10      0  ...       0           7  23.737822      1\n",
              "515      1316      0       5      0  ...       1           7  13.335903      1\n",
              "1168     1692      0      18      0  ...       0          31  28.338715      0\n",
              "55        471      0      11      0  ...       0          47  23.737822      1\n",
              "1329     2313      0      12      0  ...       0           9  13.122964      0\n",
              "\n",
              "[5 rows x 438 columns]"
            ]
          },
          "metadata": {},
          "execution_count": 83
        }
      ]
    },
    {
      "cell_type": "code",
      "source": [
        "#Creating the training, testing and validation subsets\n",
        "X = df_lambda.drop(['LABEL', 'PERSONA'], axis = 1)\n",
        "y = df_lambda['LABEL']\n",
        "\n",
        "#80% Train, 20% Test, 20% Validation\n",
        "X_train, X_test, y_train, y_test = train_test_split(X, y, test_size = 0.2, random_state = 1234, stratify = y)\n",
        "X_train, X_val, y_train, y_val = train_test_split(X_train, y_train, test_size = 0.2, random_state = 1234, stratify = y_train)"
      ],
      "metadata": {
        "id": "kv76T9rwbh2X"
      },
      "execution_count": null,
      "outputs": []
    },
    {
      "cell_type": "code",
      "source": [
        "X_train.value_counts()"
      ],
      "metadata": {
        "id": "cvrKq0K4bint",
        "colab": {
          "base_uri": "https://localhost:8080/"
        },
        "outputId": "6d48147b-738d-48c2-a384-426db4da36c0"
      },
      "execution_count": null,
      "outputs": [
        {
          "output_type": "execute_result",
          "data": {
            "text/plain": [
              "AC_TP  ADM_TP  AI_TP  AP_TP  CO_TP  CU_TP  HD_TP  IN_TP  NE_TP  OP_TP  PD_TP  PM_TP  PR_TP  SE_TP  SM_TP  SO_TP  TD_TP  ASIGNACIONES_FACTURADAS  ASIGNACIONES_NO_FACTURADAS  AC_HR  ADM_HR   AI_HR  AP_HR   CO_HR  CU_HR  HD_HR  IN_HR  NE_HR  OP_HR    PD_HR  PM_HR  PR_HR  SE_HR  SM_HR    SO_HR    TD_HR  .NET  .NET Core  ANGULAR  AWS  Activemq  Android / Java  Angular  Azure  Azure DevOps  BOOTSTRAP  BUSINESS OBJECTS  C#  C++  CLOUDERA  Cloudera  Cobol  DAX  Drupal  ECLIPSE  EXCEL  FLUTTER  FORMS  FORMS 3.0  GIT  Ionic / Angular  JBPM  JEE  Java  Java JSF  Java Spring  Boot  Javascript  Jboss Fuse-ESB  KOTLIN  MICROSOFT PROJECT  Microsoft Azure  MySQL  NODE JS  NO_APLICA  Next.Js  ODI  ODV  ORACLE  ORACLE 11  ORACLE 8I  ORACLE 9I  ORACLE DB  Oracle Forms  PL/SQL  Power Builder  PowerBI  Python  React  React Native  SAS  SPRING BOOT  SQL  SQL DEVELOPER  SQL SERVER  TABLEAU  WEBLOGIC  iOS / Objetive C  ACTCOM  ADMB  ADMBD  ADMON  ADMSER  ADMSO  ANAID  ANAJU  ANAPC  ANASPLA  ANCAPA  ANCON  ANCOP  ANDES  ANDIAG  ANDIS  ANDOC  ANEMPA  ANLDA  ANMER  ANNEG  ANPACC  ANPERM  ANPLA  ANPPRD  ANPRCL  ANPRD  ANPREN  ANREV  ANSEG  APACE  APAJU  APASU  APAVA  APCAD  APCAL  APCLI  APCOS  APDOC  APEJE   APGHU  APPCM  APPLA  APPMA  APREV  APSEG   APSTA  AQAJU  AQCAN  AQCON  AQDOC  AQESC  AQEST  AQEVA  AQOPC  AQREQ  AQREV  ARCH  AREAS  ASCLI  ASCRE  ASEJE   ASPIL  ASPLA  ASREV  ASSAN  ASSEG  ATEINC  ATESOL  AUAJU  AUCON  AUEJE  AUPLA  AUPRE  AUSENC  AUSENC2  AUTOEST  BACKUP  BAN  BDAADT  BDABKP  BDAESP  BDAFAP  BDAFBD  BDASG  BDINC  CADOC  CAPEX  CAPIN  CAPRO  CART  CERT  CFBD  CFCLT  CFMON  CFSER  CFSO  COACHING  COAEC  COAJU  COCOD    COCODM  COCON  CODOC  COINT  COMIG  COMPE  COMPRAS  COMPRES  CONTAB  COPRU   COREIN  COREV  COVAL  DELIM  DESCU  DFAM   DIAGP  DIAJU  DIAPL  DIAPLM  DIARQ  DIBDD  DIPLA  DIREV  DISE  DOCTEC  EJECUR  EJEPLA  ELACON  ELADOC  ELAPRO  ELECT  EMPALME  ENTRE  ERAJU  ERCON  ERDOC  ERENT   ERFAC  ERFUN  ERMER  ERMVC  ERREQ  ERREV  ERVIS  ESEST  ESREV  ESSEG  ESTIMA  EXTRA  FACT  FLUJO  FTP  GARINS  GESARE  GESBCK  GESCAMB  GESCON  GESDISP  GESEST  GESEVT  GESFAC  GESFAPRO  GESPRO2  GESPROB  GESSEG  GESSLA  GHEXT  GPOTR  GPPLA  GPPRO  GPSEG  GPVER  HACOM  HACOT  HADIS  HADTE  HAINS  HAINV  HAMON  HAPCO  HAPIN  HAPUN  HARTE  HTML_y  IMPLEMENTAR  INCAP  INDUC   INFCUR  INFGER  INFO  INGLES  INSOAD  INSOCLT  INSOSA  INSOSER  INSOSO  INSSW  INTER  INTSOAD  LIBRE  LICIT  LICLAC  LICMAT  LICNRE  LICPAT  LICREM  LIQNOM  LLAMVAR  LOGCUR  MAANA  MADIS  MANTE  MAPLA  MAREC  MAREV  MEDIR  MENSAJ  MERANA  MERBUS  MERMAT  MERREU  MIGAS  MIGBD  MIGSER  MMAJU  MMDES  MMENS  MMEST  MMREV  MMSEL  MONPRO  MOVIL  PAGOS  PERM   PLAFUN  PLANEA  PLAOPE  PPROCLI  PRACE  PRAJU  PRANA  PRCON  PRDIS  PREPCUR  PRESCUR  PRESUP  PRESUPU  PREVLAB  PREVPRE  PRINS  PROGRA  PROPO  PROPUE  PRPLA  PRREG  PRREV  PRSIS  PVCLI  PVCON  QAUX  QUEST  QUIN  REDES  REGPRO  REREQ  REUCLI  REUVAR  REVCON  SEGCON  SEGCONT  SELPERS  SERCLI  SOCAP  SOCIN  SOEFU  SOPAR  SOPER  SOSIN  TECAP  TECON  TEINT  TEPLA  TEREV  TIMU  TRCAP  TRCON  TRIBUT  TRINS  TRINSM  TRINT  TRMIG  TRREV  VAC    VENPRO  VISCLI  6    7    8    9    28   31   35   41   45   56   59          AC_PN  ADM_PN  AI_PN  AP_PN  CO_PN  HD_PN  IN_PN  NE_PN  OP_PN  PD_PN  PM_PN  SE_PN  SM_PN  SO_PN  TD_PN  ADM_RS  AP_RS  CO_RS  HD_RS  IN_RS  NE_RS  OP_RS  PD_RS  PM_RS  SE_RS  SM_RS  SO_RS  EDAD  GENERO  TIEMPO_EMP  LAMBDA   \n",
              "4      29      0      17     6      0      0      0      0      27     0      2      0      0      17     0      0      14                       84                          23.0   291.50   0.0    633.75  53.5   0      0.0    0.0    0.0    440.75   0.0    17.50  0.0    0.0    538.00   0.00     0.0    14    0          0        0    0         0               0        0      0             0          0                 0   0    0         0         0      0    0       0        0      0        1      14         0    0                0     10   0     0         0                  0           0               0       0                  0                0      0        6          0        0    0    0       0          0          0          0          0             5       0              0        0       0      0             0    0            0    0              0           0        0         0                 0.0     0.0   0.0    0.00   0.0     0.0    0.0    0.0    0.0    0.0      0       0      0.0    0.0    0.0     0.0    0.0    0.0     0.0    0.0    0.0    0       0       0.0    0       0.0     0.0    0.0     0.0    0.0    0.0    31.5   0.0    0.0    47.5   0.0    0.0    0.0    79.0   253.25  0.0    0.0    117.0  202.5  0.0    916.25  0.0    0.0    0.0    0.0    0.0    0.0    0.0    0.0    0.0    0.0    0.0    0.0   0.0    1.0    0.0    0.00    0.0    26.0   4.0    0      0.0    0.0     0.0     11.0   0.0    9.5    0.0    13.5   0       0        0.0      0.0     0.0  0.0     0.0     0.0     0.0     0.0     0.0    0.0    17.5   5.0    15.5   7.5    0.0   5.0   0.0   0.0    0.0    0.0    0.0   0.0       0.0    0.0    0.00     0.0     0.0    0.00   0.0    0.0    0.0    0.0      0.0      0.0     0.00    0.0     0.0    0.0    0.0    0.0    0      0.0    0.0    0.0    0.0     0.0    0.0    0.0    0.0    0.0   0.0     0.0     0       0.0     0.0     20.0    0.0    0.00     0.0    0.0    0.0    0.0    0.00    0.0    0.0    0.0    0.0    0.0    0.0    0.0    0.0    0.0    0.0    0.0     0.0    0.0   0.0    0.0  0       0       0.0     0.00     0.0     0.0      0       0.0     0.0     0.0       0.0      0.0      0.0     0       0.0    0.0    0.0    0      0.0    0.0    0.0    0.0    0      0.0    0.0    0.0    0.0    0.0    0.0    0.0    0.0    0.0     0.0          40.0   0.00    0.0     0.0     1.0   0.0     0.0     0        0       0.0      0       0.0    0.0    0.0      12.0   1.5    0.0     0.0     0       0       0.0     0       0.0      0.0     0.0    0.0    0.0    0.0    0.0    0.0    0      0.0     0.0     0.0     0.0     0.0     0.0    0.0    0.0     0      0.0    0      0.0    0.0    0      0.0     0.0    0.0    20.50  0.0     0.0     0.0     0.0      0.0    0.0    0.0    0.0    0.0    0.0      0.0      0.0     0.0      0.0      0.0      0.0    0.0     0.0    0.0     0.0    0.0    0.0    0.0    0.0    0.0    0.0   0.0    0.0   0.0    0.0     0.0    0.0     0.0     0.0     0       0.0      0.0      0.0     0.0    0.0    0.0    0.0    0.0    0.0    0.0    0.0    0.0    0      0.0    0.0   0.0    0.0    0.0     0.0    0.0     0      0.0    0.0    110.0  0.0     30.5    0.0  0.0  0.0  0.0  0.0  0.0  0.0  0.0  0.0  0.0  181.636364  0      946     0      420    0      0      0      0      4      0      0      0      73     0      0      0       322    1      0      0      0      0      0      0      0      22     0      34    0       125         23.737822    1\n",
              "0      6       0      0      2      0      0      0      0      0      0      0      0      0      10     0      0      0                        13                          0.0    104.00   0.0    0.00    88.0   0      0.0    0.0    0.0    0.00     0.0    0.00   0.0    0.0    1455.84  0.00     0.0    2     0          0        0    0         0               0        0      0             0          0                 0   0    0         0         0      0    0       0        0      0        0      0          0    0                0     6    0     0         0                  0           0               0       0                  0                0      0        2          0        0    0    0       0          6          0          0          0             0       0              0        0       0      0             0    0            0    0              0           0        0         0                 0.0     0.0   0.0    45.00  0.0     0.0    0.0    0.0    0.0    0.0      0       0      0.0    0.0    0.0     0.0    0.0    0.0     0.0    0.0    0.0    0       0       0.0    0       0.0     0.0    0.0     0.0    0.0    0.0    0.0    0.0    0.0    0.0    0.0    0.0    0.0    0.0    30.00   0.0    0.0    0.0    0.0    0.0    0.00    0.0    0.0    0.0    0.0    0.0    0.0    0.0    0.0    0.0    0.0    0.0    0.0   0.0    0.0    0.0    0.00    0.0    0.0    0.0    0      0.0    0.0     0.0     0.0    0.0    0.0    0.0    0.0    0       0        24.0     0.0     0.0  0.0     0.0     0.0     0.0     0.0     0.0    0.0    0.0    0.0    16.0   34.0   0.0   0.0   0.0   0.0    0.0    0.0    0.0   0.0       0.0    59.0   1067.00  0.0     52.0   57.00  0.0    0.0    0.0    0.0      0.0      0.0     40.84   0.0     0.0    0.0    0.0    0.0    0      0.0    0.0    0.0    0.0     0.0    0.0    0.0    0.0    0.0   0.0     0.0     0       0.0     0.0     0.0     0.0    87.50    0.0    24.0   0.0    0.0    8.50    0.0    0.0    0.0    0.0    0.0    0.0    0.0    0.0    0.0    0.0    0.0     0.0    0.0   0.0    0.0  0       0       0.0     0.00     0.0     0.0      0       0.0     0.0     0.0       0.0      0.0      0.0     0       0.0    0.0    0.0    0      0.0    0.0    0.0    0.0    0      0.0    0.0    0.0    0.0    0.0    0.0    0.0    0.0    0.0     0.0          8.0    0.00    0.0     0.0     0.0   0.0     0.0     0        0       0.0      0       0.0    0.0    0.0      0.0    0.0    0.0     17.0    0       0       10.0    0       0.0      0.0     0.0    0.0    0.0    0.0    0.0    0.0    0      0.0     0.0     0.0     0.0     0.0     0.0    0.0    0.0     0      0.0    0      0.0    0.0    0      0.0     0.0    0.0    0.00   0.0     0.0     0.0     0.0      0.0    33.0   0.0    0.0    0.0    0.0      0.0      0.0     0.0      0.0      0.0      0.0    0.0     0.0    0.0     0.0    0.0    0.0    0.0    0.0    0.0    0.0   0.0    0.0   0.0    0.0     0.0    0.0     0.0     0.0     0       0.0      0.0      0.0     0.0    0.0    0.0    0.0    0.0    0.0    0.0    24.0   0.0    0      0.0    11.0  0.0    0.0    0.0     0.0    0.0     0      0.0    0.0    0.0    0.0     0.0     0.0  0.0  0.0  0.0  0.0  0.0  0.0  0.0  0.0  0.0  0.000000    0      94      0      0      0      0      0      0      0      0      0      0      16     0      0      0       0      0      0      0      0      0      0      0      0      10     0      30    0       9           23.737822    1\n",
              "       9       0      0      1      0      0      0      0      0      0      0      0      0      23     0      0      12                       17                          0.0    174.50   0.0    0.00    2.5    0      0.0    0.0    0.0    0.00     0.0    0.00   0.0    0.0    1874.83  0.00     0.0    7     0          0        0    0         0               0        0      0             0          0                 0   0    0         0         0      0    0       0        0      0        0      0          0    0                0     7    0     0         0                  0           0               0       0                  0                0      0        0          0        0    0    0       0          0          0          0          0             7       0              0        0       0      0             0    0            0    0              0           0        0         0                 0.0     0.0   0.0    0.00   0.0     0.0    0.0    0.0    0.0    0.0      0       0      0.0    0.0    0.0     0.0    0.0    0.0     0.0    0.0    0.0    0       0       0.0    0       0.0     0.0    0.0     0.0    0.0    0.0    0.0    0.0    0.0    0.0    0.0    0.0    0.0    0.0    2.50    0.0    0.0    0.0    0.0    0.0    0.00    0.0    0.0    0.0    0.0    0.0    0.0    0.0    0.0    0.0    0.0    0.0    0.0   0.0    0.0    0.0    0.00    0.0    0.0    0.0    0      0.0    0.0     0.0     0.0    0.0    0.0    0.0    0.0    0       0        0.0      0.0     0.0  0.0     0.0     0.0     0.0     0.0     0.0    0.0    0.0    0.0    9.0    2.0    0.0   0.0   0.0   0.0    0.0    0.0    0.0   0.0       0.0    14.0   1093.83  0.0     0.0    9.00   0.0    0.0    0.0    0.0      0.0      0.0     26.00   0.0     0.0    0.0    0.0    0.0    0      0.0    0.0    0.0    0.0     0.0    0.0    0.0    0.0    0.0   0.0     0.0     0       0.0     0.0     0.0     0.0    34.00    0.0    0.0    0.0    0.0    455.00  0.0    0.0    0.0    0.0    0.0    0.0    0.0    0.0    0.0    0.0    0.0     0.0    0.0   0.0    0.0  0       0       0.0     0.00     0.0     0.0      0       0.0     0.0     0.0       0.0      0.0      0.0     0       0.0    0.0    0.0    0      0.0    0.0    0.0    0.0    0      0.0    0.0    0.0    0.0    0.0    0.0    0.0    0.0    0.0     0.0          24.0   0.00    0.0     0.0     30.5  0.0     0.0     0        0       0.0      0       0.0    0.0    0.0      14.5   0.0    0.0     0.0     0       0       0.0     0       0.0      0.0     0.0    0.0    0.0    0.0    0.0    0.0    0      0.0     0.0     0.0     0.0     0.0     0.0    0.0    0.0     0      0.0    0      0.0    0.0    0      0.0     0.0    0.0    24.00  0.0     0.0     0.0     0.0      0.0    82.0   0.0    0.0    0.0    0.0      0.0      0.0     0.0      0.0      0.0      0.0    0.0     0.0    0.0     0.0    0.0    0.0    0.0    0.0    48.0   0.0   0.0    0.0   0.0    0.0     0.0    0.0     0.0     0.0     0       0.0      0.0      0.0     0.0    0.0    0.0    0.0    0.0    0.0    29.0   0.0    0.0    0      12.0   18.0  0.0    0.0    0.0     12.5   0.0     0      0.0    0.0    112.0  0.0     0.0     0.0  0.0  0.0  0.0  0.0  0.0  0.0  0.0  0.0  0.0  0.000000    0      183     0      0      0      0      0      0      0      0      0      0      354    0      0      0       0      0      0      0      0      0      0      0      0      140    0      30    0       43          23.737822    1\n",
              "                             0      0      0      0      0      6      0      0      0      0      0      10     0      5                        6                           0.0    76.50    0.0    0.00    0.0    0      0.0    0.0    0.0    35.50    0.0    0.00   0.0    0.0    0.00     289.50   0.0    0     0          0        0    0         0               0        0      0             0          0                 0   0    0         0         0      0    0       0        0      0        3      0          0    0                0     0    0     0         0                  0           0               0       0                  0                0      0        2          0        0    0    7       0          0          0          0          0             0       0              0        0       0      0             0    0            0    0              0           0        0         0                 0.0     0.0   54.0   52.50  0.0     0.0    0.0    0.0    0.0    0.0      0       0      0.0    0.0    0.0     0.0    0.0    0.0     0.0    0.0    0.0    0       0       0.0    0       0.0     0.0    0.0     0.0    0.0    0.0    0.0    0.0    0.0    0.0    0.0    0.0    0.0    0.0    0.00    0.0    0.0    0.0    0.0    0.0    0.00    0.0    0.0    0.0    0.0    0.0    0.0    0.0    0.0    0.0    0.0    0.0    0.0   0.0    0.0    0.0    230.00  0.0    0.0    5.0    0      0.0    0.0     0.0     0.0    0.0    0.0    0.0    0.0    0       0        0.0      0.0     0.0  0.0     0.0     2.0     0.0     0.0     0.0    0.0    0.0    0.0    0.0    8.0    0.0   0.0   0.0   0.0    0.0    0.0    0.0   0.0       0.0    0.0    0.00     0.0     8.0    0.00   0.0    0.0    0.0    0.0      0.0      0.0     0.00    0.0     0.0    0.0    0.0    0.0    0      0.0    0.0    0.0    0.0     0.0    0.0    0.0    0.0    0.0   0.0     0.0     0       0.0     0.0     0.0     0.0    3.00     0.0    0.0    0.0    0.0    0.00    0.0    0.0    0.0    0.0    0.0    0.0    0.0    0.0    0.0    0.0    0.0     0.0    0.0   0.0    0.0  0       0       0.0     0.00     0.0     0.0      0       0.0     0.0     0.0       0.0      0.0      0.0     0       0.0    0.0    0.0    0      0.0    0.0    0.0    0.0    0      0.0    0.0    0.0    0.0    0.0    0.0    0.0    0.0    0.0     0.0          0.0    8.00    0.0     0.0     0.0   0.0     0.0     0        0       0.0      0       0.0    0.0    0.0      8.0    0.0    0.0     0.0     0       0       0.0     0       0.0      0.0     0.0    0.0    0.0    0.0    0.0    0.0    0      0.0     0.0     0.0     0.0     0.0     0.0    7.0    0.0     0      0.0    0      0.0    0.0    0      0.0     0.0    0.0    0.00   0.0     5.0     0.0     0.0      0.0    0.0    0.0    0.0    0.0    0.0      0.0      0.0     0.0      0.0      0.0      0.0    0.0     0.0    0.0     5.0    0.0    4.0    0.0    0.0    0.0    0.0   0.0    0.0   0.0    0.0     0.0    2.0     0.0     0.0     0       0.0      0.0      0.0     0.0    0.0    0.0    0.0    0.0    0.0    0.0    0.0    0.0    0      0.0    0.0   0.0    0.0    0.0     0.0    0.0     0      0.0    0.0    0.0    0.0     0.0     0.0  0.0  0.0  0.0  0.0  0.0  0.0  0.0  0.0  0.0  0.000000    0      260     0      0      0      0      0      0      108    0      0      0      0      43     0      0       0      0      0      0      0      4      0      0      0      0      20     43    0       2           34.636348    1\n",
              "                                                                4      0      0      0      0      0      0      0      4                        3                           0.0    81.50    0.0    0.00    0.0    0      0.0    0.0    0.0    1846.33  0.0    0.00   0.0    0.0    0.00     0.00     0.0    1     0          0        0    0         0               0        0      0             0          0                 0   0    0         0         0      0    0       0        0      0        0      0          0    0                0     0    3     0         0                  0           0               0       0                  0                0      0        0          0        0    0    0       0          0          0          0          0             4       0              0        0       0      0             0    0            0    0              0           0        0         0                 0.0     0.0   0.0    0.67   0.0     0.0    0.0    0.0    0.0    0.0      0       0      0.0    0.0    0.0     0.0    0.0    0.0     0.0    0.0    0.0    0       0       0.0    0       0.0     0.0    0.0     0.0    0.0    0.0    0.0    0.0    0.0    0.0    0.0    0.0    0.0    0.0    0.00    0.0    0.0    19.0   0.0    0.0    0.00    0.0    0.0    0.0    0.0    7.0    0.0    0.0    0.0    0.0    1.0    15.5   0.0   0.0    0.0    0.0    2.00    0.0    0.0    0.0    0      0.0    0.0     0.0     0.0    0.0    0.0    0.0    0.0    0       0        0.0      0.0     0.0  0.0     0.0     0.0     0.0     0.0     0.0    0.0    0.0    0.0    16.0   0.0    0.0   0.0   0.0   0.0    0.0    0.0    0.0   0.0       0.0    28.5   120.50   0.0     113.0  57.25  0.0    0.0    0.0    0.0      0.0      0.0     350.75  0.0     651.0  0.0    0.0    0.0    0      0.0    2.5    0.0    0.0     2.5    0.0    0.0    23.0   0.0   0.0     0.0     0       0.0     0.0     0.0     0.0    109.83   0.0    34.5   0.0    0.0    60.00   0.0    0.0    0.0    0.0    0.0    38.5   0.0    11.0   0.0    0.0    0.0     0.0    0.0   0.0    0.0  0       0       0.0     0.00     0.0     0.0      0       0.0     0.0     0.0       0.0      0.0      0.0     0       0.0    0.0    0.0    0      0.0    0.0    0.0    0.0    0      0.0    0.0    0.0    0.0    0.0    0.0    0.0    0.0    0.0     0.0          0.0    129.58  0.0     0.0     0.0   0.0     0.0     0        0       0.0      0       0.0    0.0    0.0      8.0    0.0    0.0     0.0     0       0       0.0     0       0.0      0.0     0.0    0.0    0.0    0.0    0.0    0.0    0      0.0     0.0     0.0     0.0     0.0     0.0    0.0    0.0     0      0.0    0      0.0    0.0    0      0.0     0.0    0.0    8.25   0.0     0.0     0.0     0.0      0.0    14.0   0.0    0.0    0.0    0.0      0.0      0.0     0.0      0.0      0.0      0.0    0.0     0.0    0.0     5.5    0.0    0.0    9.0    0.0    0.0    0.0   0.0    0.0   0.0    0.0     0.0    0.0     0.0     0.0     0       0.0      0.0      0.0     0.0    0.0    0.0    0.0    0.0    0.0    0.0    0.0    0.0    0      0.0    0.0   0.0    26.0   0.0     16.0   0.0     0      14.5   1.0    32.0   0.0     0.0     0.0  0.0  0.0  0.0  0.0  0.0  0.0  0.0  0.0  0.0  0.000000    0      387     0      0      0      0      0      0      74     0      0      0      0      0      0      0       0      0      0      0      0      2      0      0      0      0      0      34    0       11          23.737822    1\n",
              "                                                                                                                                                                                                                                                                                                                                                                                                                                                                                                                                                                                                                                                                                                                                                                                                                                                                                                                                                                                                                                                                                                                                                                                                                                                                                                                                                                                                                                                                                                                                                                                                                                                                                                                                                                                                                                                                                                                                                                                                                                                                                                                                                                                                                                                                                                                                                                                                                                                                                                                                                                                                                                                                                                                                                                                                                                                                                                                                                                                                                                                                                                                                                                                                                                                                                                                                                                                                                                                                                                                                           ..\n",
              "       21      0      0      0      0      0      0      0      3      0      0      0      0      0      0      0      3                        6                           0.0    251.16   0.0    0.00    0.0    0      0.0    0.0    0.0    1715.00  0.0    2.83   0.0    0.0    0.00     0.00     0.0    0     0          0        0    0         0               0        0      0             0          0                 0   0    0         0         0      0    0       0        0      0        0      0          0    0                0     0    1     0         0                  0           0               0       0                  0                0      0        0          0        0    0    0       0          0          0          0          0             1       0              0        0       0      0             0    0            0    0              0           0        0         0                 0.0     0.0   0.0    0.00   0.0     0.0    0.0    0.0    0.0    0.0      0       0      0.0    0.0    0.0     0.0    0.0    0.0     0.0    0.0    0.0    0       0       0.0    0       0.0     0.0    0.0     0.0    0.0    0.0    0.0    0.0    0.0    0.0    0.0    0.0    0.0    0.0    0.00    0.0    0.0    0.0    0.0    0.0    0.00    0.0    0.0    0.0    0.0    0.0    0.0    0.0    0.0    0.0    0.0    0.0    0.0   0.0    0.0    0.0    5.49    0.0    0.0    0.0    0      0.5    0.0     0.0     0.0    0.0    0.0    0.0    0.0    0       0        0.0      0.0     0.0  0.0     0.0     0.0     0.0     0.0     0.0    0.0    0.0    0.0    0.0    0.0    0.0   0.0   0.0   0.0    0.0    0.0    0.0   0.0       0.0    14.0   1355.33  0.0     0.0    11.00  0.0    3.0    0.0    0.0      0.0      0.0     116.67  0.0     0.0    0.0    0.0    0.0    16     0.0    0.0    0.0    0.0     0.0    0.0    0.0    0.0    0.0   0.0     0.0     0       0.0     0.0     0.0     0.0    0.00     0.0    0.0    0.0    0.0    171.00  0.0    0.0    0.0    0.0    0.0    8.0    0.0    22.0   0.0    0.0    0.0     0.0    0.0   0.0    0.0  0       0       0.0     0.00     0.0     0.0      0       0.0     0.0     0.0       0.0      0.0      0.0     0       0.0    0.0    0.0    0      0.0    0.0    0.0    0.0    0      0.0    0.0    0.0    0.0    0.0    0.0    0.0    0.0    0.0     0.0          160.0  0.00    0.0     0.0     0.0   0.0     0.0     0        0       0.0      0       0.0    0.0    0.0      0.0    0.0    0.0     0.0     0       0       0.0     0       0.0      0.0     0.0    0.0    0.0    0.0    0.0    0.0    0      0.0     0.0     0.0     0.0     0.0     0.0    0.0    0.0     0      0.0    0      0.0    0.0    0      0.0     0.0    0.0    11.00  0.0     0.0     0.0     0.0      3.0    0.0    0.0    0.0    0.0    0.0      0.0      0.0     0.0      0.0      0.0      0.0    0.0     0.0    0.0     0.0    0.0    0.0    0.0    0.0    0.0    0.0   0.0    0.0   0.0    0.0     0.0    0.0     0.0     0.0     0       0.0      0.0      0.0     0.0    0.0    0.0    0.0    0.0    0.0    0.0    0.0    0.0    0      0.0    0.0   0.0    0.0    0.0     0.0    0.0     0      0.0    0.0    72.0   0.0     0.0     0.0  0.0  0.0  0.0  0.0  0.0  0.0  0.0  0.0  0.0  0.000000    0      1244    0      0      0      0      0      0      15     0      0      0      0      0      0      0       0      0      0      0      0      1      0      0      0      0      0      34    0       50          28.338715    1\n",
              "                                                                1      0      3      0      0      3      0      0      4                        6                           0.0    140.33   0.0    0.00    0.0    0      0.0    0.0    0.0    187.00   0.0    1.50   0.0    0.0    1623.17  0.00     0.0    3     0          4        0    0         0               0        0      0             0          3                 3   3    0         0         0      0    0       0        0      0        0      0          0    0                0     3    0     0         0                  0           0               0       0                  0                0      0        1          0        0    0    3       0          0          0          0          0             0       0              0        0       0      0             0    0            0    0              3           0        0         0                 0.0     0.0   0.0    0.00   0.0     0.0    0.0    0.0    0.0    0.0      0       0      0.0    0.0    0.0     0.0    0.0    0.0     0.0    0.0    0.0    0       0       0.0    0       0.0     0.0    0.0     0.0    0.0    0.0    0.0    0.0    0.0    0.0    0.0    0.0    0.0    0.0    0.00    0.0    0.0    0.0    0.0    0.0    0.00    0.0    0.0    0.0    0.0    0.0    0.0    0.0    0.0    0.0    0.0    0.0    0.0   0.0    0.0    0.0    3.83    0.0    0.0    0.0    0      0.0    0.0     0.0     0.0    0.0    0.0    0.0    0.0    0       0        8.0      0.0     0.0  0.0     0.0     0.0     0.0     0.0     0.0    0.0    0.0    0.0    30.0   0.0    0.0   0.0   0.0   0.0    0.0    0.0    0.0   0.0       0.0    0.0    927.50   0.0     0.0    96.00  0.0    4.0    0.0    0.0      0.0      0.0     0.00    0.0     0.0    0.0    0.0    0.0    16     0.0    0.0    0.0    0.0     0.0    0.0    0.0    0.0    0.0   0.0     0.0     0       0.0     0.0     0.0     0.0    66.00    0.0    0.0    0.0    0.0    706.67  0.0    0.0    2.0    0.0    0.0    0.0    0.0    0.0    0.0    0.0    0.0     0.0    0.0   0.0    0.0  0       0       0.0     0.00     0.0     0.0      0       0.0     0.0     0.0       0.0      0.0      0.0     0       0.0    0.0    0.0    0      0.0    0.0    0.0    0.0    0      0.0    0.0    0.0    0.0    0.0    0.0    0.0    0.0    0.0     0.0          4.0    0.00    0.0     0.0     0.0   0.0     0.0     0        0       0.0      0       0.0    0.0    0.0      0.0    0.0    0.0     0.0     0       0       0.0     0       0.0      0.0     0.0    0.0    0.0    0.0    0.0    0.0    0      0.0     0.0     0.0     0.0     0.0     0.0    0.0    0.0     0      0.0    0      0.0    0.0    0      0.0     0.0    0.0    0.00   0.0     0.0     0.0     0.0      0.0    0.0    0.0    0.0    0.0    0.0      0.0      0.0     0.0      0.0      0.0      0.0    0.0     0.0    0.0     0.0    0.0    0.0    0.0    0.0    0.0    0.0   0.0    0.0   0.0    0.0     0.0    0.0     0.0     0.0     0       0.0      0.0      0.0     0.0    0.0    0.0    0.0    0.0    0.0    0.0    0.0    0.0    0      0.0    0.0   0.0    0.0    0.0     0.0    0.0     0      0.0    0.0    88.0   0.0     0.0     0.0  0.0  0.0  0.0  0.0  0.0  0.0  0.0  0.0  0.0  0.000000    0      1598    0      0      0      0      0      0      86     0      0      0      216    0      0      0       0      0      0      0      0      5      0      0      0      36     0      30    0       36          28.338715    1\n",
              "                                                                0      0      3      0      0      0      20     0      28                       7                           0.0    196.50   0.0    0.00    0.0    0      0.0    0.0    0.0    0.00     0.0    0.00   0.0    0.0    0.00     1831.96  0.0    0     0          0        0    0         0               0        0      0             0          0                 0   0    0         0         0      0    0       0        0      0        0      0          0    0                0     0    0     0         0                  0           0               0       0                  0                0      0        11         0        0    0    14      0          0          3          0          0             0       0              0        0       0      0             0    0            0    0              0           0        0         0                 0.0     0.0   0.0    3.00   0.0     0.0    0.0    0.0    0.0    0.0      0       0      0.0    0.0    0.0     0.0    0.0    0.0     0.0    0.0    0.0    0       0       0.0    0       0.0     0.0    0.0     0.0    0.0    0.0    0.0    0.0    0.0    0.0    0.0    0.0    0.0    0.0    0.00    0.0    0.0    0.0    0.0    0.0    0.00    0.0    0.0    0.0    0.0    0.0    0.0    0.0    0.0    0.0    0.0    0.0    0.0   0.0    0.0    0.0    4.50    0.0    0.0    0.0    0      0.0    0.0     0.0     0.0    0.0    0.0    0.0    0.0    0       0        0.0      0.0     0.0  0.0     0.0     0.0     0.0     0.0     0.0    0.0    0.0    0.0    0.0    0.0    0.0   0.0   0.0   0.0    0.0    0.0    0.0   0.0       0.0    0.0    0.00     0.0     0.0    0.00   0.0    0.0    0.0    0.0      0.0      0.0     0.00    0.0     0.0    0.0    0.0    0.0    0      0.0    0.0    0.0    0.0     0.0    0.0    0.0    0.0    0.0   31.5    0.0     2       0.0     0.0     0.0     0.0    0.00     0.0    0.0    0.0    0.0    0.00    0.0    0.0    0.0    0.0    0.0    0.0    0.0    0.0    0.0    0.0    0.0     0.0    0.0   0.0    0.0  0       0       0.0     6.96     0.0     0.0      0       0.0     0.0     0.0       0.0      0.0      0.0     0       0.0    0.0    0.0    0      0.0    0.0    0.0    0.0    0      0.0    0.0    0.0    0.0    0.0    0.0    0.0    0.0    0.0     0.0          48.0   0.00    0.0     0.0     0.0   0.0     0.0     0        0       0.0      0       0.0    0.0    0.0      11.0   0.0    0.0     0.0     0       0       0.0     0       0.0      0.0     0.0    0.0    0.0    0.0    0.0    0.0    0      0.0     0.0     0.0     0.0     0.0     0.0    0.0    0.0     0      0.0    0      0.0    0.0    0      0.0     0.0    0.0    48.00  0.0     0.0     0.0     0.0      0.0    0.0    0.0    0.0    0.0    0.0      0.0      0.0     0.0      0.0      0.0      0.0    0.0     0.0    0.0     0.0    0.0    0.0    0.0    0.0    0.0    0.0   0.0    0.0   0.0    0.0     0.0    126.5   0.0     0.0     0       1611.0   0.0      0.0     0.0    0.0    0.0    0.0    0.0    0.0    0.0    0.0    0.0    0      0.0    0.0   0.0    0.0    0.0     0.0    0.0     0      0.0    0.0    136.0  0.0     0.0     0.0  0.0  0.0  0.0  0.0  0.0  0.0  0.0  0.0  0.0  0.000000    0      1362    0      0      0      0      0      0      0      0      0      0      0      0      0      0       0      0      0      0      0      0      0      0      0      0      0      26    1       37          23.737822    1\n",
              "                                                                                                          0      0      0                        9                           0.0    1008.00  0.0    0.00    0.0    0      0.0    0.0    0.0    0.00     0.0    0.00   0.0    0.0    0.00     0.00     0.0    0     0          0        0    0         0               0        0      0             0          0                 0   0    0         0         0      0    0       0        0      0        0      0          0    0                0     0    0     0         0                  0           0               0       0                  0                0      0        0          0        0    0    0       0          0          0          0          0             0       0              0        0       0      0             0    0            0    0              0           0        0         0                 0.0     0.0   0.0    1.00   0.0     0.0    0.0    0.0    0.0    0.0      0       0      0.0    0.0    0.0     0.0    0.0    0.0     0.0    0.0    0.0    0       0       0.0    0       0.0     0.0    0.0     0.0    0.0    0.0    0.0    0.0    0.0    0.0    0.0    0.0    0.0    0.0    0.00    0.0    0.0    0.0    0.0    0.0    0.00    0.0    0.0    0.0    0.0    0.0    0.0    0.0    0.0    0.0    0.0    0.0    0.0   0.0    0.0    0.0    2.00    0.0    3.0    0.0    0      690.0  0.0     0.0     0.0    0.0    1.5    0.0    0.0    0       0        0.0      0.0     0.0  0.0     0.0     0.0     0.0     0.0     0.0    0.0    0.0    0.0    0.0    3.5    0.0   0.0   0.0   0.0    0.0    0.0    0.0   0.0       0.0    0.0    0.00     0.0     0.0    0.00   0.0    0.0    0.0    0.0      0.0      0.0     0.00    0.0     0.0    0.0    0.0    0.0    24     0.0    0.0    0.0    0.0     0.0    0.0    0.0    0.0    0.0   0.0     0.0     0       0.0     0.0     96.0    0.0    0.00     0.0    0.0    0.0    0.0    0.00    0.0    0.0    0.0    0.0    0.0    0.0    0.0    0.0    0.0    0.0    0.0     0.0    0.0   0.0    0.0  0       0       0.0     0.00     0.0     0.0      0       0.0     0.0     0.0       0.0      0.0      0.0     0       0.0    0.0    0.0    0      0.0    0.0    0.0    0.0    0      0.0    0.0    0.0    0.0    0.0    0.0    0.0    0.0    0.0     0.0          0.0    0.00    0.0     0.0     0.0   0.0     0.0     0        0       0.0      0       0.0    0.0    0.0      0.0    0.0    0.0     0.0     0       0       0.0     0       0.0      0.0     0.0    0.0    0.0    0.0    0.0    0.0    0      0.0     0.0     0.0     0.0     0.0     0.0    0.0    0.0     0      0.0    0      0.0    0.0    0      0.0     0.0    0.0    0.00   0.0     0.0     0.0     0.0      0.0    0.0    0.0    0.0    0.0    0.0      0.0      0.0     0.0      0.0      0.0      0.0    0.0     0.0    0.0     0.0    0.0    0.0    0.0    0.0    0.0    0.0   0.0    0.0   0.0    0.0     0.0    0.0     0.0     3.0     0       0.0      0.0      0.0     0.0    0.0    0.0    0.0    0.0    0.0    0.0    0.0    0.0    0      0.0    0.0   0.0    0.0    0.0     0.0    0.0     0      0.0    0.0    184.0  0.0     0.0     0.0  0.0  0.0  0.0  0.0  0.0  0.0  0.0  0.0  0.0  0.000000    0      1642    0      0      0      0      0      0      0      0      0      0      0      0      0      0       0      0      0      0      0      0      0      0      0      0      0      31    1       57          28.338715    1\n",
              "       0       0      0      0      0      0      0      0      0      0      0      0      0      0      0      0      0                        0                           0.0    0.00     0.0    0.00    0.0    0      0.0    0.0    0.0    0.00     0.0    0.00   0.0    0.0    0.00     0.00     0.0    0     0          0        0    0         0               0        0      0             0          0                 0   0    0         0         0      0    0       0        0      0        0      0          0    0                0     0    0     0         0                  0           0               0       0                  0                0      0        0          0        0    0    0       0          0          0          0          0             0       0              0        0       0      0             0    0            0    0              0           0        0         0                 0.0     0.0   0.0    0.00   0.0     0.0    0.0    0.0    0.0    0.0      0       0      0.0    0.0    0.0     0.0    0.0    0.0     0.0    0.0    0.0    0       0       0.0    0       0.0     0.0    0.0     0.0    0.0    0.0    0.0    0.0    0.0    0.0    0.0    0.0    0.0    0.0    0.00    0.0    0.0    0.0    0.0    0.0    0.00    0.0    0.0    0.0    0.0    0.0    0.0    0.0    0.0    0.0    0.0    0.0    0.0   0.0    0.0    0.0    0.00    0.0    0.0    0.0    0      0.0    0.0     0.0     0.0    0.0    0.0    0.0    0.0    0       0        0.0      0.0     0.0  0.0     0.0     0.0     0.0     0.0     0.0    0.0    0.0    0.0    0.0    0.0    0.0   0.0   0.0   0.0    0.0    0.0    0.0   0.0       0.0    0.0    0.00     0.0     0.0    0.00   0.0    0.0    0.0    0.0      0.0      0.0     0.00    0.0     0.0    0.0    0.0    0.0    0      0.0    0.0    0.0    0.0     0.0    0.0    0.0    0.0    0.0   0.0     0.0     0       0.0     0.0     0.0     0.0    0.00     0.0    0.0    0.0    0.0    0.00    0.0    0.0    0.0    0.0    0.0    0.0    0.0    0.0    0.0    0.0    0.0     0.0    0.0   0.0    0.0  0       0       0.0     0.00     0.0     0.0      0       0.0     0.0     0.0       0.0      0.0      0.0     0       0.0    0.0    0.0    0      0.0    0.0    0.0    0.0    0      0.0    0.0    0.0    0.0    0.0    0.0    0.0    0.0    0.0     0.0          0.0    0.00    0.0     0.0     0.0   0.0     0.0     0        0       0.0      0       0.0    0.0    0.0      0.0    0.0    0.0     0.0     0       0       0.0     0       0.0      0.0     0.0    0.0    0.0    0.0    0.0    0.0    0      0.0     0.0     0.0     0.0     0.0     0.0    0.0    0.0     0      0.0    0      0.0    0.0    0      0.0     0.0    0.0    0.00   0.0     0.0     0.0     0.0      0.0    0.0    0.0    0.0    0.0    0.0      0.0      0.0     0.0      0.0      0.0      0.0    0.0     0.0    0.0     0.0    0.0    0.0    0.0    0.0    0.0    0.0   0.0    0.0   0.0    0.0     0.0    0.0     0.0     0.0     0       0.0      0.0      0.0     0.0    0.0    0.0    0.0    0.0    0.0    0.0    0.0    0.0    0      0.0    0.0   0.0    0.0    0.0     0.0    0.0     0      0.0    0.0    0.0    0.0     0.0     0.0  0.0  0.0  0.0  0.0  0.0  0.0  0.0  0.0  0.0  0.000000    0      0       0      0      0      0      0      0      0      0      0      0      0      0      0      0       0      0      0      0      0      0      0      0      0      0      0      17    1       5           13.335903    1\n",
              "Length: 963, dtype: int64"
            ]
          },
          "metadata": {},
          "execution_count": 85
        }
      ]
    },
    {
      "cell_type": "code",
      "source": [
        "y_train.describe()"
      ],
      "metadata": {
        "id": "hzzNkPUtbi-P",
        "colab": {
          "base_uri": "https://localhost:8080/"
        },
        "outputId": "7e670b88-7f2d-46c1-e4f9-b796cbb50866"
      },
      "execution_count": null,
      "outputs": [
        {
          "output_type": "execute_result",
          "data": {
            "text/plain": [
              "count    963.000000\n",
              "mean       0.643821\n",
              "std        0.479118\n",
              "min        0.000000\n",
              "25%        0.000000\n",
              "50%        1.000000\n",
              "75%        1.000000\n",
              "max        1.000000\n",
              "Name: LABEL, dtype: float64"
            ]
          },
          "metadata": {},
          "execution_count": 86
        }
      ]
    },
    {
      "cell_type": "code",
      "source": [
        ""
      ],
      "metadata": {
        "id": "xgZve7HVbjP6"
      },
      "execution_count": null,
      "outputs": []
    },
    {
      "cell_type": "markdown",
      "source": [
        "### Model building"
      ],
      "metadata": {
        "id": "eeXHyLASbqaK"
      }
    },
    {
      "cell_type": "code",
      "source": [
        "#Logistic regression parameters to tune\n",
        "grid_param = {\"penalty\": [\"l1\", \"l2\", \"elasticnet\", \"none\"],\n",
        "              \"C\": [0.1, 1, 10, 100],\n",
        "              \"solver\": [\"newton-cg\", \"lbfgs\", \"liblinear\"], #\"saga\", \"sag\"],\n",
        "              \"max_iter\": [500]\n",
        "              }\n",
        "\n",
        "log_reg = LogisticRegression()\n",
        "search_grid = GridSearchCV(estimator = log_reg, param_grid = grid_param, n_jobs = -1, cv = 5, \n",
        "                           verbose = 3, return_train_score = True, scoring = \"accuracy\")"
      ],
      "metadata": {
        "id": "_JdI-SLPbwzQ"
      },
      "execution_count": null,
      "outputs": []
    },
    {
      "cell_type": "code",
      "source": [
        "search_results = search_grid.fit(X_train.values, y_train.values)"
      ],
      "metadata": {
        "id": "A7rXE9YPbxkR",
        "colab": {
          "base_uri": "https://localhost:8080/"
        },
        "outputId": "13f711df-16f4-45da-95d6-dbc91b10d613"
      },
      "execution_count": null,
      "outputs": [
        {
          "output_type": "stream",
          "name": "stdout",
          "text": [
            "Fitting 5 folds for each of 48 candidates, totalling 240 fits\n"
          ]
        },
        {
          "output_type": "stream",
          "name": "stderr",
          "text": [
            "/usr/local/lib/python3.7/dist-packages/sklearn/model_selection/_validation.py:372: FitFailedWarning: \n",
            "120 fits failed out of a total of 240.\n",
            "The score on these train-test partitions for these parameters will be set to nan.\n",
            "If these failures are not expected, you can try to debug them by setting error_score='raise'.\n",
            "\n",
            "Below are more details about the failures:\n",
            "--------------------------------------------------------------------------------\n",
            "20 fits failed with the following error:\n",
            "Traceback (most recent call last):\n",
            "  File \"/usr/local/lib/python3.7/dist-packages/sklearn/model_selection/_validation.py\", line 681, in _fit_and_score\n",
            "    estimator.fit(X_train, y_train, **fit_params)\n",
            "  File \"/usr/local/lib/python3.7/dist-packages/sklearn/linear_model/_logistic.py\", line 1461, in fit\n",
            "    solver = _check_solver(self.solver, self.penalty, self.dual)\n",
            "  File \"/usr/local/lib/python3.7/dist-packages/sklearn/linear_model/_logistic.py\", line 449, in _check_solver\n",
            "    % (solver, penalty)\n",
            "ValueError: Solver newton-cg supports only 'l2' or 'none' penalties, got l1 penalty.\n",
            "\n",
            "--------------------------------------------------------------------------------\n",
            "20 fits failed with the following error:\n",
            "Traceback (most recent call last):\n",
            "  File \"/usr/local/lib/python3.7/dist-packages/sklearn/model_selection/_validation.py\", line 681, in _fit_and_score\n",
            "    estimator.fit(X_train, y_train, **fit_params)\n",
            "  File \"/usr/local/lib/python3.7/dist-packages/sklearn/linear_model/_logistic.py\", line 1461, in fit\n",
            "    solver = _check_solver(self.solver, self.penalty, self.dual)\n",
            "  File \"/usr/local/lib/python3.7/dist-packages/sklearn/linear_model/_logistic.py\", line 449, in _check_solver\n",
            "    % (solver, penalty)\n",
            "ValueError: Solver lbfgs supports only 'l2' or 'none' penalties, got l1 penalty.\n",
            "\n",
            "--------------------------------------------------------------------------------\n",
            "20 fits failed with the following error:\n",
            "Traceback (most recent call last):\n",
            "  File \"/usr/local/lib/python3.7/dist-packages/sklearn/model_selection/_validation.py\", line 681, in _fit_and_score\n",
            "    estimator.fit(X_train, y_train, **fit_params)\n",
            "  File \"/usr/local/lib/python3.7/dist-packages/sklearn/linear_model/_logistic.py\", line 1461, in fit\n",
            "    solver = _check_solver(self.solver, self.penalty, self.dual)\n",
            "  File \"/usr/local/lib/python3.7/dist-packages/sklearn/linear_model/_logistic.py\", line 449, in _check_solver\n",
            "    % (solver, penalty)\n",
            "ValueError: Solver newton-cg supports only 'l2' or 'none' penalties, got elasticnet penalty.\n",
            "\n",
            "--------------------------------------------------------------------------------\n",
            "20 fits failed with the following error:\n",
            "Traceback (most recent call last):\n",
            "  File \"/usr/local/lib/python3.7/dist-packages/sklearn/model_selection/_validation.py\", line 681, in _fit_and_score\n",
            "    estimator.fit(X_train, y_train, **fit_params)\n",
            "  File \"/usr/local/lib/python3.7/dist-packages/sklearn/linear_model/_logistic.py\", line 1461, in fit\n",
            "    solver = _check_solver(self.solver, self.penalty, self.dual)\n",
            "  File \"/usr/local/lib/python3.7/dist-packages/sklearn/linear_model/_logistic.py\", line 449, in _check_solver\n",
            "    % (solver, penalty)\n",
            "ValueError: Solver lbfgs supports only 'l2' or 'none' penalties, got elasticnet penalty.\n",
            "\n",
            "--------------------------------------------------------------------------------\n",
            "20 fits failed with the following error:\n",
            "Traceback (most recent call last):\n",
            "  File \"/usr/local/lib/python3.7/dist-packages/sklearn/model_selection/_validation.py\", line 681, in _fit_and_score\n",
            "    estimator.fit(X_train, y_train, **fit_params)\n",
            "  File \"/usr/local/lib/python3.7/dist-packages/sklearn/linear_model/_logistic.py\", line 1461, in fit\n",
            "    solver = _check_solver(self.solver, self.penalty, self.dual)\n",
            "  File \"/usr/local/lib/python3.7/dist-packages/sklearn/linear_model/_logistic.py\", line 459, in _check_solver\n",
            "    solver\n",
            "ValueError: Only 'saga' solver supports elasticnet penalty, got solver=liblinear.\n",
            "\n",
            "--------------------------------------------------------------------------------\n",
            "20 fits failed with the following error:\n",
            "Traceback (most recent call last):\n",
            "  File \"/usr/local/lib/python3.7/dist-packages/sklearn/model_selection/_validation.py\", line 681, in _fit_and_score\n",
            "    estimator.fit(X_train, y_train, **fit_params)\n",
            "  File \"/usr/local/lib/python3.7/dist-packages/sklearn/linear_model/_logistic.py\", line 1461, in fit\n",
            "    solver = _check_solver(self.solver, self.penalty, self.dual)\n",
            "  File \"/usr/local/lib/python3.7/dist-packages/sklearn/linear_model/_logistic.py\", line 464, in _check_solver\n",
            "    raise ValueError(\"penalty='none' is not supported for the liblinear solver\")\n",
            "ValueError: penalty='none' is not supported for the liblinear solver\n",
            "\n",
            "  warnings.warn(some_fits_failed_message, FitFailedWarning)\n",
            "/usr/local/lib/python3.7/dist-packages/sklearn/model_selection/_search.py:972: UserWarning: One or more of the test scores are non-finite: [       nan        nan 0.83698187 0.805856   0.82456282 0.80792854\n",
            "        nan        nan        nan 0.73413752 0.82144862        nan\n",
            "        nan        nan 0.81726036 0.79236291 0.82145402 0.79859132\n",
            "        nan        nan        nan 0.73413752 0.82144862        nan\n",
            "        nan        nan 0.81003346 0.77053649 0.82249568 0.77677569\n",
            "        nan        nan        nan 0.73413752 0.82144862        nan\n",
            "        nan        nan 0.76326641 0.76011442 0.82353195 0.77677029\n",
            "        nan        nan        nan 0.73413752 0.82144862        nan]\n",
            "  category=UserWarning,\n",
            "/usr/local/lib/python3.7/dist-packages/sklearn/model_selection/_search.py:972: UserWarning: One or more of the train scores are non-finite: [       nan        nan 0.9439244  0.96287601 0.9330207  0.96391463\n",
            "        nan        nan        nan 0.99506696 0.93276231        nan\n",
            "        nan        nan 0.97455758 0.97767312 0.93224249 0.97741304\n",
            "        nan        nan        nan 0.99506696 0.93276231        nan\n",
            "        nan        nan 0.97871242 0.98753853 0.93068472 0.98675931\n",
            "        nan        nan        nan 0.99506696 0.93276231        nan\n",
            "        nan        nan 0.98364512 0.99247124 0.93328213 0.98727913\n",
            "        nan        nan        nan 0.99506696 0.93276231        nan]\n",
            "  category=UserWarning,\n"
          ]
        }
      ]
    },
    {
      "cell_type": "code",
      "source": [
        "#Grid search results\n",
        "search_results.best_params_"
      ],
      "metadata": {
        "id": "Av4cS2vlbx3m",
        "colab": {
          "base_uri": "https://localhost:8080/"
        },
        "outputId": "9d191406-05bc-473d-88e4-e576952bec02"
      },
      "execution_count": null,
      "outputs": [
        {
          "output_type": "execute_result",
          "data": {
            "text/plain": [
              "{'C': 0.1, 'max_iter': 500, 'penalty': 'l1', 'solver': 'liblinear'}"
            ]
          },
          "metadata": {},
          "execution_count": 90
        }
      ]
    },
    {
      "cell_type": "code",
      "source": [
        "#Build the model with the best parameters\n",
        "lr = LogisticRegression(C = 0.1, penalty = 'l1', solver = 'liblinear', max_iter = 500, verbose = 3, n_jobs = -1)\n",
        "lr.fit(X_train.values, y_train.values)"
      ],
      "metadata": {
        "id": "loPWjJpqby6S",
        "colab": {
          "base_uri": "https://localhost:8080/"
        },
        "outputId": "a9925186-9898-4112-8e8b-19816cce4ddb"
      },
      "execution_count": null,
      "outputs": [
        {
          "output_type": "stream",
          "name": "stdout",
          "text": [
            "[LibLinear]"
          ]
        },
        {
          "output_type": "stream",
          "name": "stderr",
          "text": [
            "/usr/local/lib/python3.7/dist-packages/sklearn/linear_model/_logistic.py:1526: UserWarning: 'n_jobs' > 1 does not have any effect when 'solver' is set to 'liblinear'. Got 'n_jobs' = 2.\n",
            "  \" = {}.\".format(effective_n_jobs(self.n_jobs))\n"
          ]
        },
        {
          "output_type": "execute_result",
          "data": {
            "text/plain": [
              "LogisticRegression(C=0.1, max_iter=500, n_jobs=-1, penalty='l1',\n",
              "                   solver='liblinear', verbose=3)"
            ]
          },
          "metadata": {},
          "execution_count": 141
        }
      ]
    },
    {
      "cell_type": "markdown",
      "source": [
        "### Graphs"
      ],
      "metadata": {
        "id": "r0TXwysZb0EC"
      }
    },
    {
      "cell_type": "code",
      "source": [
        "#Get the accuracy score for the performance\n",
        "lr_score = lr.score(X_test.values, y_test.values)\n",
        "print(f'Accuracy: {round(lr_score*100, 2)}%')"
      ],
      "metadata": {
        "id": "XO2sHYTsb3d9",
        "colab": {
          "base_uri": "https://localhost:8080/"
        },
        "outputId": "33983f03-4894-4c22-8db9-cc32c0825ecd"
      },
      "execution_count": null,
      "outputs": [
        {
          "output_type": "stream",
          "name": "stdout",
          "text": [
            "Accuracy: 86.09%\n"
          ]
        }
      ]
    },
    {
      "cell_type": "code",
      "source": [
        "#Predict with the test set\n",
        "index = np.random.randint(0, y_test.shape)\n",
        "y_output = y_test.values[index]\n",
        "prediction = lr.predict(X_test.values[index])\n",
        "print('Expected output: ', 'Non retired' if y_output == 0 else 'Retired',\n",
        "      '\\nPredicted output: ', 'Non retired' if prediction == 0 else 'Retired',\n",
        "      '\\nIndex: ', index)"
      ],
      "metadata": {
        "id": "0BVHRMz0b3-K",
        "colab": {
          "base_uri": "https://localhost:8080/"
        },
        "outputId": "7d8c5f29-110a-4f35-b403-53d32d00710a"
      },
      "execution_count": null,
      "outputs": [
        {
          "output_type": "stream",
          "name": "stdout",
          "text": [
            "Expected output:  Retired \n",
            "Predicted output:  Retired \n",
            "Index:  [181]\n"
          ]
        }
      ]
    },
    {
      "cell_type": "code",
      "source": [
        "labels = [0, 1]\n",
        "y_predict = lr.predict(X_test.values)\n",
        "report = classification_report(y_test.values, y_predict, zero_division = 0, output_dict = True, labels = labels)\n",
        "df_report = pd.DataFrame.from_dict(report, orient = 'columns').T\n",
        "df_report.rename(index = {'0': 'non retired', '1': 'retired'}, inplace = True)\n",
        "cmap = sn.color_palette('mako', as_cmap = True)\n",
        "df_image = df_report.style.background_gradient(cmap = cmap)\n",
        "df_image\n",
        "#dfi.export(df_image, RESULTS_PATH + 'classification_report.png')\n",
        "#df_report[['precision', 'recall', 'f1-score']].style.applymap(lambda v: 'background: green' if (v > 0.5) else '')"
      ],
      "metadata": {
        "id": "C_BBsvT3b5p0",
        "colab": {
          "base_uri": "https://localhost:8080/",
          "height": 206
        },
        "outputId": "ed389884-042d-4b8c-b256-513b236f30f4"
      },
      "execution_count": null,
      "outputs": [
        {
          "output_type": "execute_result",
          "data": {
            "text/html": [
              "<style  type=\"text/css\" >\n",
              "#T_3dec3450_6274_11ec_9507_0242ac1c0002row0_col0,#T_3dec3450_6274_11ec_9507_0242ac1c0002row0_col1,#T_3dec3450_6274_11ec_9507_0242ac1c0002row0_col2,#T_3dec3450_6274_11ec_9507_0242ac1c0002row2_col3{\n",
              "            background-color:  #0b0405;\n",
              "            color:  #f1f1f1;\n",
              "        }#T_3dec3450_6274_11ec_9507_0242ac1c0002row0_col3{\n",
              "            background-color:  #3e5095;\n",
              "            color:  #f1f1f1;\n",
              "        }#T_3dec3450_6274_11ec_9507_0242ac1c0002row1_col0,#T_3dec3450_6274_11ec_9507_0242ac1c0002row1_col1,#T_3dec3450_6274_11ec_9507_0242ac1c0002row1_col2,#T_3dec3450_6274_11ec_9507_0242ac1c0002row3_col3,#T_3dec3450_6274_11ec_9507_0242ac1c0002row4_col3{\n",
              "            background-color:  #def5e5;\n",
              "            color:  #000000;\n",
              "        }#T_3dec3450_6274_11ec_9507_0242ac1c0002row1_col3,#T_3dec3450_6274_11ec_9507_0242ac1c0002row2_col1,#T_3dec3450_6274_11ec_9507_0242ac1c0002row4_col0,#T_3dec3450_6274_11ec_9507_0242ac1c0002row4_col1,#T_3dec3450_6274_11ec_9507_0242ac1c0002row4_col2{\n",
              "            background-color:  #36a3ab;\n",
              "            color:  #000000;\n",
              "        }#T_3dec3450_6274_11ec_9507_0242ac1c0002row2_col0{\n",
              "            background-color:  #37a6ac;\n",
              "            color:  #000000;\n",
              "        }#T_3dec3450_6274_11ec_9507_0242ac1c0002row2_col2{\n",
              "            background-color:  #37a5ac;\n",
              "            color:  #000000;\n",
              "        }#T_3dec3450_6274_11ec_9507_0242ac1c0002row3_col0,#T_3dec3450_6274_11ec_9507_0242ac1c0002row3_col1,#T_3dec3450_6274_11ec_9507_0242ac1c0002row3_col2{\n",
              "            background-color:  #357ba3;\n",
              "            color:  #000000;\n",
              "        }</style><table id=\"T_3dec3450_6274_11ec_9507_0242ac1c0002\" class=\"dataframe\"><thead>    <tr>        <th class=\"blank level0\" ></th>        <th class=\"col_heading level0 col0\" >precision</th>        <th class=\"col_heading level0 col1\" >recall</th>        <th class=\"col_heading level0 col2\" >f1-score</th>        <th class=\"col_heading level0 col3\" >support</th>    </tr></thead><tbody>\n",
              "                <tr>\n",
              "                        <th id=\"T_3dec3450_6274_11ec_9507_0242ac1c0002level0_row0\" class=\"row_heading level0 row0\" >non retired</th>\n",
              "                        <td id=\"T_3dec3450_6274_11ec_9507_0242ac1c0002row0_col0\" class=\"data row0 col0\" >0.817308</td>\n",
              "                        <td id=\"T_3dec3450_6274_11ec_9507_0242ac1c0002row0_col1\" class=\"data row0 col1\" >0.787037</td>\n",
              "                        <td id=\"T_3dec3450_6274_11ec_9507_0242ac1c0002row0_col2\" class=\"data row0 col2\" >0.801887</td>\n",
              "                        <td id=\"T_3dec3450_6274_11ec_9507_0242ac1c0002row0_col3\" class=\"data row0 col3\" >108.000000</td>\n",
              "            </tr>\n",
              "            <tr>\n",
              "                        <th id=\"T_3dec3450_6274_11ec_9507_0242ac1c0002level0_row1\" class=\"row_heading level0 row1\" >retired</th>\n",
              "                        <td id=\"T_3dec3450_6274_11ec_9507_0242ac1c0002row1_col0\" class=\"data row1 col0\" >0.883838</td>\n",
              "                        <td id=\"T_3dec3450_6274_11ec_9507_0242ac1c0002row1_col1\" class=\"data row1 col1\" >0.902062</td>\n",
              "                        <td id=\"T_3dec3450_6274_11ec_9507_0242ac1c0002row1_col2\" class=\"data row1 col2\" >0.892857</td>\n",
              "                        <td id=\"T_3dec3450_6274_11ec_9507_0242ac1c0002row1_col3\" class=\"data row1 col3\" >194.000000</td>\n",
              "            </tr>\n",
              "            <tr>\n",
              "                        <th id=\"T_3dec3450_6274_11ec_9507_0242ac1c0002level0_row2\" class=\"row_heading level0 row2\" >accuracy</th>\n",
              "                        <td id=\"T_3dec3450_6274_11ec_9507_0242ac1c0002row2_col0\" class=\"data row2 col0\" >0.860927</td>\n",
              "                        <td id=\"T_3dec3450_6274_11ec_9507_0242ac1c0002row2_col1\" class=\"data row2 col1\" >0.860927</td>\n",
              "                        <td id=\"T_3dec3450_6274_11ec_9507_0242ac1c0002row2_col2\" class=\"data row2 col2\" >0.860927</td>\n",
              "                        <td id=\"T_3dec3450_6274_11ec_9507_0242ac1c0002row2_col3\" class=\"data row2 col3\" >0.860927</td>\n",
              "            </tr>\n",
              "            <tr>\n",
              "                        <th id=\"T_3dec3450_6274_11ec_9507_0242ac1c0002level0_row3\" class=\"row_heading level0 row3\" >macro avg</th>\n",
              "                        <td id=\"T_3dec3450_6274_11ec_9507_0242ac1c0002row3_col0\" class=\"data row3 col0\" >0.850573</td>\n",
              "                        <td id=\"T_3dec3450_6274_11ec_9507_0242ac1c0002row3_col1\" class=\"data row3 col1\" >0.844549</td>\n",
              "                        <td id=\"T_3dec3450_6274_11ec_9507_0242ac1c0002row3_col2\" class=\"data row3 col2\" >0.847372</td>\n",
              "                        <td id=\"T_3dec3450_6274_11ec_9507_0242ac1c0002row3_col3\" class=\"data row3 col3\" >302.000000</td>\n",
              "            </tr>\n",
              "            <tr>\n",
              "                        <th id=\"T_3dec3450_6274_11ec_9507_0242ac1c0002level0_row4\" class=\"row_heading level0 row4\" >weighted avg</th>\n",
              "                        <td id=\"T_3dec3450_6274_11ec_9507_0242ac1c0002row4_col0\" class=\"data row4 col0\" >0.860046</td>\n",
              "                        <td id=\"T_3dec3450_6274_11ec_9507_0242ac1c0002row4_col1\" class=\"data row4 col1\" >0.860927</td>\n",
              "                        <td id=\"T_3dec3450_6274_11ec_9507_0242ac1c0002row4_col2\" class=\"data row4 col2\" >0.860325</td>\n",
              "                        <td id=\"T_3dec3450_6274_11ec_9507_0242ac1c0002row4_col3\" class=\"data row4 col3\" >302.000000</td>\n",
              "            </tr>\n",
              "    </tbody></table>"
            ],
            "text/plain": [
              "<pandas.io.formats.style.Styler at 0x7f37b3d2bdd0>"
            ]
          },
          "metadata": {},
          "execution_count": 144
        }
      ]
    },
    {
      "cell_type": "code",
      "source": [
        "# Confusion matrix plot\n",
        "#y_predict = np.zeros(y_predicted.shape[0])\n",
        "#for i in range(y_predicted.shape[0]):\n",
        "#    y_predict[i] = y_predicted[i,:].argmax() \n",
        "    \n",
        "y_expect = y_test.values\n",
        "labels = [0, 1]\n",
        "str_labels = ['Non retired', 'Retired']\n",
        "cm = confusion_matrix(y_expect, y_predict, labels = labels)\n",
        "df_cm = pd.DataFrame(cm, index = str_labels, columns = str_labels)\n",
        "\n",
        "fig = plt.figure(figsize = (8, 8))\n",
        "ax = fig.add_subplot(2, 1, 1)\n",
        "ax.set_title('Confusion Matrix (Percentage)')\n",
        "sn.set(font_scale = 0.8)\n",
        "percentage = df_cm/df_cm.sum()\n",
        "ax = sn.heatmap(percentage.replace(np.nan, 0), annot = True, fmt = '.2%', cmap = 'mako')\n",
        "ax.set_xlabel('Predicted label')\n",
        "ax.set_ylabel('Expected label')\n",
        "\n",
        "ax = fig.add_subplot(2, 1, 2)\n",
        "ax.set_title('Confusion Matrix (Number)')\n",
        "ax = sn.heatmap(df_cm, annot = True, fmt = 'd', cmap = 'crest')\n",
        "ax.set_xlabel('Predicted label')\n",
        "ax.set_ylabel('Expected label')\n",
        "fig.tight_layout()\n",
        "plt.show()\n",
        "\n",
        "#ax.figure.savefig(RESULTS_PATH + 'confusionMatrix1.png')\n",
        "#disp = ConfusionMatrixDisplay(confusion_matrix = cm, display_labels = labels)\n",
        "#disp.plot()"
      ],
      "metadata": {
        "id": "ZngSh0vrb6Pz",
        "colab": {
          "base_uri": "https://localhost:8080/",
          "height": 586
        },
        "outputId": "7184a564-1c7e-4644-cfa8-23cdf39b921d"
      },
      "execution_count": null,
      "outputs": [
        {
          "output_type": "display_data",
          "data": {
            "image/png": "[encoded data removed]",
            "text/plain": [
              "<Figure size 576x576 with 4 Axes>"
            ]
          },
          "metadata": {}
        }
      ]
    },
    {
      "cell_type": "markdown",
      "source": [
        "### Results"
      ],
      "metadata": {
        "id": "PW9QbutGb7dy"
      }
    },
    {
      "cell_type": "code",
      "source": [
        ""
      ],
      "metadata": {
        "id": "jOo5vNqpb9WK"
      },
      "execution_count": null,
      "outputs": []
    },
    {
      "cell_type": "code",
      "source": [
        ""
      ],
      "metadata": {
        "id": "awayDgxCb-T2"
      },
      "execution_count": null,
      "outputs": []
    },
    {
      "cell_type": "markdown",
      "source": [
        "### Metrics"
      ],
      "metadata": {
        "id": "VRf7-YqFcK13"
      }
    },
    {
      "cell_type": "code",
      "source": [
        ""
      ],
      "metadata": {
        "id": "KvijFAdkcNlZ"
      },
      "execution_count": null,
      "outputs": []
    },
    {
      "cell_type": "code",
      "source": [
        ""
      ],
      "metadata": {
        "id": "7SvGr8KacPTu"
      },
      "execution_count": null,
      "outputs": []
    },
    {
      "cell_type": "markdown",
      "source": [
        "### End"
      ],
      "metadata": {
        "id": "Tfpowl8rcP8n"
      }
    },
    {
      "cell_type": "markdown",
      "source": [
        "## Logistic regression"
      ],
      "metadata": {
        "id": "Y1_34Pe9yGA0"
      }
    },
    {
      "cell_type": "markdown",
      "source": [
        "### Data inporting"
      ],
      "metadata": {
        "id": "3NPDgvcByGA3"
      }
    },
    {
      "cell_type": "code",
      "source": [
        "#Inport the csv with the dataset\n",
        "df_lambda = pd.read_csv('pca_merged_scaled.csv', index_col = [0])\n",
        "df_lambda.head()"
      ],
      "metadata": {
        "colab": {
          "base_uri": "https://localhost:8080/",
          "height": 300
        },
        "outputId": "32e91011-3916-457f-d51d-55c57d98722c",
        "id": "RjQvNMS1yGA4"
      },
      "execution_count": 9,
      "outputs": [
        {
          "output_type": "execute_result",
          "data": {
            "text/html": [
              "\n",
              "  <div id=\"df-3b9e4fc5-31a4-4452-996c-26681cb2f227\">\n",
              "    <div class=\"colab-df-container\">\n",
              "      <div>\n",
              "<style scoped>\n",
              "    .dataframe tbody tr th:only-of-type {\n",
              "        vertical-align: middle;\n",
              "    }\n",
              "\n",
              "    .dataframe tbody tr th {\n",
              "        vertical-align: top;\n",
              "    }\n",
              "\n",
              "    .dataframe thead th {\n",
              "        text-align: right;\n",
              "    }\n",
              "</style>\n",
              "<table border=\"1\" class=\"dataframe\">\n",
              "  <thead>\n",
              "    <tr style=\"text-align: right;\">\n",
              "      <th></th>\n",
              "      <th>0</th>\n",
              "      <th>1</th>\n",
              "      <th>2</th>\n",
              "      <th>3</th>\n",
              "      <th>4</th>\n",
              "      <th>5</th>\n",
              "      <th>6</th>\n",
              "      <th>7</th>\n",
              "      <th>8</th>\n",
              "      <th>9</th>\n",
              "      <th>10</th>\n",
              "      <th>11</th>\n",
              "      <th>12</th>\n",
              "      <th>13</th>\n",
              "      <th>14</th>\n",
              "      <th>15</th>\n",
              "      <th>16</th>\n",
              "      <th>17</th>\n",
              "      <th>18</th>\n",
              "      <th>19</th>\n",
              "      <th>20</th>\n",
              "      <th>21</th>\n",
              "      <th>22</th>\n",
              "      <th>23</th>\n",
              "      <th>24</th>\n",
              "      <th>25</th>\n",
              "      <th>26</th>\n",
              "      <th>27</th>\n",
              "      <th>28</th>\n",
              "      <th>29</th>\n",
              "      <th>30</th>\n",
              "      <th>31</th>\n",
              "      <th>32</th>\n",
              "      <th>33</th>\n",
              "      <th>34</th>\n",
              "      <th>35</th>\n",
              "      <th>36</th>\n",
              "      <th>37</th>\n",
              "      <th>38</th>\n",
              "      <th>39</th>\n",
              "      <th>...</th>\n",
              "      <th>212</th>\n",
              "      <th>213</th>\n",
              "      <th>214</th>\n",
              "      <th>215</th>\n",
              "      <th>216</th>\n",
              "      <th>217</th>\n",
              "      <th>218</th>\n",
              "      <th>219</th>\n",
              "      <th>220</th>\n",
              "      <th>221</th>\n",
              "      <th>222</th>\n",
              "      <th>223</th>\n",
              "      <th>224</th>\n",
              "      <th>225</th>\n",
              "      <th>226</th>\n",
              "      <th>227</th>\n",
              "      <th>228</th>\n",
              "      <th>229</th>\n",
              "      <th>230</th>\n",
              "      <th>231</th>\n",
              "      <th>232</th>\n",
              "      <th>233</th>\n",
              "      <th>234</th>\n",
              "      <th>235</th>\n",
              "      <th>236</th>\n",
              "      <th>237</th>\n",
              "      <th>238</th>\n",
              "      <th>239</th>\n",
              "      <th>240</th>\n",
              "      <th>241</th>\n",
              "      <th>242</th>\n",
              "      <th>243</th>\n",
              "      <th>244</th>\n",
              "      <th>245</th>\n",
              "      <th>246</th>\n",
              "      <th>247</th>\n",
              "      <th>248</th>\n",
              "      <th>249</th>\n",
              "      <th>LAMBDA</th>\n",
              "      <th>LABEL</th>\n",
              "    </tr>\n",
              "  </thead>\n",
              "  <tbody>\n",
              "    <tr>\n",
              "      <th>643</th>\n",
              "      <td>-0.012914</td>\n",
              "      <td>-0.000624</td>\n",
              "      <td>0.002716</td>\n",
              "      <td>-0.006315</td>\n",
              "      <td>0.003908</td>\n",
              "      <td>0.001826</td>\n",
              "      <td>0.004136</td>\n",
              "      <td>-0.002478</td>\n",
              "      <td>-0.004217</td>\n",
              "      <td>-0.001587</td>\n",
              "      <td>0.004379</td>\n",
              "      <td>-0.002271</td>\n",
              "      <td>0.001394</td>\n",
              "      <td>0.000686</td>\n",
              "      <td>0.001134</td>\n",
              "      <td>0.001527</td>\n",
              "      <td>-0.000562</td>\n",
              "      <td>-0.001267</td>\n",
              "      <td>0.000019</td>\n",
              "      <td>-0.007108</td>\n",
              "      <td>-0.001033</td>\n",
              "      <td>-0.002460</td>\n",
              "      <td>-0.004552</td>\n",
              "      <td>-0.002840</td>\n",
              "      <td>-0.000628</td>\n",
              "      <td>-0.002375</td>\n",
              "      <td>0.000086</td>\n",
              "      <td>-0.001501</td>\n",
              "      <td>-0.000645</td>\n",
              "      <td>-0.002191</td>\n",
              "      <td>0.007064</td>\n",
              "      <td>-0.001658</td>\n",
              "      <td>0.000774</td>\n",
              "      <td>0.004206</td>\n",
              "      <td>0.003016</td>\n",
              "      <td>0.004982</td>\n",
              "      <td>0.003472</td>\n",
              "      <td>-0.003934</td>\n",
              "      <td>0.006553</td>\n",
              "      <td>-0.001804</td>\n",
              "      <td>...</td>\n",
              "      <td>0.003248</td>\n",
              "      <td>-0.006797</td>\n",
              "      <td>0.014357</td>\n",
              "      <td>-0.003288</td>\n",
              "      <td>-0.003430</td>\n",
              "      <td>-0.008984</td>\n",
              "      <td>-0.009917</td>\n",
              "      <td>0.002426</td>\n",
              "      <td>0.000598</td>\n",
              "      <td>0.004289</td>\n",
              "      <td>-0.002648</td>\n",
              "      <td>-0.002146</td>\n",
              "      <td>-0.001157</td>\n",
              "      <td>-0.007084</td>\n",
              "      <td>0.003625</td>\n",
              "      <td>0.001947</td>\n",
              "      <td>-0.005483</td>\n",
              "      <td>-0.009724</td>\n",
              "      <td>-0.000504</td>\n",
              "      <td>0.014057</td>\n",
              "      <td>-0.012090</td>\n",
              "      <td>-0.001354</td>\n",
              "      <td>0.002911</td>\n",
              "      <td>0.006457</td>\n",
              "      <td>0.001989</td>\n",
              "      <td>0.004190</td>\n",
              "      <td>0.003194</td>\n",
              "      <td>0.001035</td>\n",
              "      <td>0.002304</td>\n",
              "      <td>-0.001881</td>\n",
              "      <td>0.002870</td>\n",
              "      <td>-0.011580</td>\n",
              "      <td>0.002363</td>\n",
              "      <td>-0.000029</td>\n",
              "      <td>0.009491</td>\n",
              "      <td>0.006421</td>\n",
              "      <td>0.012853</td>\n",
              "      <td>-0.003783</td>\n",
              "      <td>-0.248733</td>\n",
              "      <td>1</td>\n",
              "    </tr>\n",
              "    <tr>\n",
              "      <th>418</th>\n",
              "      <td>-0.012398</td>\n",
              "      <td>-0.001501</td>\n",
              "      <td>0.005389</td>\n",
              "      <td>-0.003728</td>\n",
              "      <td>0.005402</td>\n",
              "      <td>0.001744</td>\n",
              "      <td>0.000684</td>\n",
              "      <td>0.002610</td>\n",
              "      <td>-0.001762</td>\n",
              "      <td>0.001587</td>\n",
              "      <td>0.000338</td>\n",
              "      <td>0.000238</td>\n",
              "      <td>0.002997</td>\n",
              "      <td>-0.004371</td>\n",
              "      <td>0.000526</td>\n",
              "      <td>-0.002169</td>\n",
              "      <td>0.000179</td>\n",
              "      <td>-0.000465</td>\n",
              "      <td>0.001108</td>\n",
              "      <td>-0.005724</td>\n",
              "      <td>0.003085</td>\n",
              "      <td>-0.004225</td>\n",
              "      <td>-0.003379</td>\n",
              "      <td>-0.003061</td>\n",
              "      <td>-0.002822</td>\n",
              "      <td>0.001433</td>\n",
              "      <td>-0.001031</td>\n",
              "      <td>0.001527</td>\n",
              "      <td>-0.001183</td>\n",
              "      <td>0.001236</td>\n",
              "      <td>0.009431</td>\n",
              "      <td>-0.000615</td>\n",
              "      <td>-0.000725</td>\n",
              "      <td>0.005094</td>\n",
              "      <td>-0.001494</td>\n",
              "      <td>0.006415</td>\n",
              "      <td>0.002002</td>\n",
              "      <td>-0.002322</td>\n",
              "      <td>0.003132</td>\n",
              "      <td>-0.003038</td>\n",
              "      <td>...</td>\n",
              "      <td>-0.006379</td>\n",
              "      <td>0.003862</td>\n",
              "      <td>0.006754</td>\n",
              "      <td>-0.004087</td>\n",
              "      <td>-0.001477</td>\n",
              "      <td>-0.006619</td>\n",
              "      <td>0.006821</td>\n",
              "      <td>-0.003882</td>\n",
              "      <td>-0.001203</td>\n",
              "      <td>-0.008963</td>\n",
              "      <td>0.005917</td>\n",
              "      <td>-0.001766</td>\n",
              "      <td>-0.007953</td>\n",
              "      <td>0.001349</td>\n",
              "      <td>0.003938</td>\n",
              "      <td>-0.007753</td>\n",
              "      <td>0.005836</td>\n",
              "      <td>-0.002569</td>\n",
              "      <td>0.004906</td>\n",
              "      <td>0.006122</td>\n",
              "      <td>0.002875</td>\n",
              "      <td>-0.004580</td>\n",
              "      <td>-0.011406</td>\n",
              "      <td>0.007307</td>\n",
              "      <td>-0.009882</td>\n",
              "      <td>-0.001271</td>\n",
              "      <td>0.006460</td>\n",
              "      <td>-0.004177</td>\n",
              "      <td>-0.002913</td>\n",
              "      <td>0.006393</td>\n",
              "      <td>-0.003424</td>\n",
              "      <td>-0.003035</td>\n",
              "      <td>-0.008541</td>\n",
              "      <td>-0.008236</td>\n",
              "      <td>-0.014250</td>\n",
              "      <td>-0.004688</td>\n",
              "      <td>0.002098</td>\n",
              "      <td>-0.001181</td>\n",
              "      <td>-1.045758</td>\n",
              "      <td>1</td>\n",
              "    </tr>\n",
              "    <tr>\n",
              "      <th>558</th>\n",
              "      <td>0.000522</td>\n",
              "      <td>0.002168</td>\n",
              "      <td>-0.012190</td>\n",
              "      <td>0.006482</td>\n",
              "      <td>-0.001947</td>\n",
              "      <td>-0.007577</td>\n",
              "      <td>-0.006836</td>\n",
              "      <td>0.004002</td>\n",
              "      <td>0.004902</td>\n",
              "      <td>-0.001824</td>\n",
              "      <td>-0.005806</td>\n",
              "      <td>0.003951</td>\n",
              "      <td>-0.002156</td>\n",
              "      <td>-0.017562</td>\n",
              "      <td>-0.010136</td>\n",
              "      <td>-0.007828</td>\n",
              "      <td>-0.001924</td>\n",
              "      <td>-0.002034</td>\n",
              "      <td>-0.000218</td>\n",
              "      <td>0.009230</td>\n",
              "      <td>-0.008374</td>\n",
              "      <td>0.000777</td>\n",
              "      <td>0.007442</td>\n",
              "      <td>0.000185</td>\n",
              "      <td>0.010888</td>\n",
              "      <td>0.002410</td>\n",
              "      <td>0.001054</td>\n",
              "      <td>-0.012099</td>\n",
              "      <td>0.001806</td>\n",
              "      <td>0.004676</td>\n",
              "      <td>0.007440</td>\n",
              "      <td>-0.014774</td>\n",
              "      <td>-0.000441</td>\n",
              "      <td>0.010066</td>\n",
              "      <td>0.009160</td>\n",
              "      <td>0.005225</td>\n",
              "      <td>0.003762</td>\n",
              "      <td>-0.006703</td>\n",
              "      <td>-0.001976</td>\n",
              "      <td>-0.002395</td>\n",
              "      <td>...</td>\n",
              "      <td>0.004911</td>\n",
              "      <td>0.010966</td>\n",
              "      <td>-0.002093</td>\n",
              "      <td>0.005097</td>\n",
              "      <td>0.007466</td>\n",
              "      <td>0.007516</td>\n",
              "      <td>0.009846</td>\n",
              "      <td>0.007770</td>\n",
              "      <td>-0.013074</td>\n",
              "      <td>0.014815</td>\n",
              "      <td>-0.012023</td>\n",
              "      <td>-0.010737</td>\n",
              "      <td>-0.006359</td>\n",
              "      <td>0.006120</td>\n",
              "      <td>-0.004131</td>\n",
              "      <td>0.002188</td>\n",
              "      <td>-0.034588</td>\n",
              "      <td>-0.006156</td>\n",
              "      <td>0.023148</td>\n",
              "      <td>0.010127</td>\n",
              "      <td>0.013786</td>\n",
              "      <td>0.021372</td>\n",
              "      <td>-0.010541</td>\n",
              "      <td>0.004614</td>\n",
              "      <td>-0.010972</td>\n",
              "      <td>0.017556</td>\n",
              "      <td>-0.002368</td>\n",
              "      <td>0.029494</td>\n",
              "      <td>0.002037</td>\n",
              "      <td>0.007334</td>\n",
              "      <td>0.010962</td>\n",
              "      <td>-0.021081</td>\n",
              "      <td>0.012549</td>\n",
              "      <td>0.000022</td>\n",
              "      <td>-0.000204</td>\n",
              "      <td>0.002748</td>\n",
              "      <td>0.014298</td>\n",
              "      <td>0.013941</td>\n",
              "      <td>-1.045758</td>\n",
              "      <td>1</td>\n",
              "    </tr>\n",
              "    <tr>\n",
              "      <th>1474</th>\n",
              "      <td>-0.011249</td>\n",
              "      <td>-0.001203</td>\n",
              "      <td>0.005202</td>\n",
              "      <td>-0.003744</td>\n",
              "      <td>0.004520</td>\n",
              "      <td>0.002133</td>\n",
              "      <td>-0.000460</td>\n",
              "      <td>0.002521</td>\n",
              "      <td>-0.001005</td>\n",
              "      <td>0.001370</td>\n",
              "      <td>0.000191</td>\n",
              "      <td>0.000215</td>\n",
              "      <td>0.004279</td>\n",
              "      <td>-0.005123</td>\n",
              "      <td>0.000269</td>\n",
              "      <td>-0.003415</td>\n",
              "      <td>-0.000090</td>\n",
              "      <td>-0.000179</td>\n",
              "      <td>0.000823</td>\n",
              "      <td>-0.005553</td>\n",
              "      <td>0.001505</td>\n",
              "      <td>-0.002039</td>\n",
              "      <td>-0.004324</td>\n",
              "      <td>-0.002919</td>\n",
              "      <td>-0.004622</td>\n",
              "      <td>0.003473</td>\n",
              "      <td>0.000771</td>\n",
              "      <td>0.002423</td>\n",
              "      <td>-0.000045</td>\n",
              "      <td>-0.000760</td>\n",
              "      <td>0.003919</td>\n",
              "      <td>0.001139</td>\n",
              "      <td>-0.000353</td>\n",
              "      <td>0.001806</td>\n",
              "      <td>-0.003548</td>\n",
              "      <td>0.002523</td>\n",
              "      <td>0.000443</td>\n",
              "      <td>-0.000956</td>\n",
              "      <td>-0.002013</td>\n",
              "      <td>-0.000483</td>\n",
              "      <td>...</td>\n",
              "      <td>-0.006244</td>\n",
              "      <td>-0.000160</td>\n",
              "      <td>0.012871</td>\n",
              "      <td>-0.011404</td>\n",
              "      <td>0.001219</td>\n",
              "      <td>-0.003675</td>\n",
              "      <td>0.006551</td>\n",
              "      <td>-0.003054</td>\n",
              "      <td>0.000071</td>\n",
              "      <td>-0.000815</td>\n",
              "      <td>0.004242</td>\n",
              "      <td>-0.000765</td>\n",
              "      <td>-0.009351</td>\n",
              "      <td>-0.002717</td>\n",
              "      <td>-0.005084</td>\n",
              "      <td>0.002978</td>\n",
              "      <td>-0.002674</td>\n",
              "      <td>-0.005537</td>\n",
              "      <td>0.002365</td>\n",
              "      <td>-0.007604</td>\n",
              "      <td>0.002374</td>\n",
              "      <td>0.001341</td>\n",
              "      <td>0.000647</td>\n",
              "      <td>0.003472</td>\n",
              "      <td>0.003140</td>\n",
              "      <td>0.000835</td>\n",
              "      <td>0.004554</td>\n",
              "      <td>0.001033</td>\n",
              "      <td>-0.000508</td>\n",
              "      <td>-0.006476</td>\n",
              "      <td>0.006536</td>\n",
              "      <td>-0.001346</td>\n",
              "      <td>0.002155</td>\n",
              "      <td>0.000604</td>\n",
              "      <td>-0.014189</td>\n",
              "      <td>0.001082</td>\n",
              "      <td>0.001091</td>\n",
              "      <td>0.005026</td>\n",
              "      <td>1.510269</td>\n",
              "      <td>0</td>\n",
              "    </tr>\n",
              "    <tr>\n",
              "      <th>1500</th>\n",
              "      <td>-0.012188</td>\n",
              "      <td>-0.001384</td>\n",
              "      <td>0.005175</td>\n",
              "      <td>-0.003988</td>\n",
              "      <td>0.004806</td>\n",
              "      <td>0.002418</td>\n",
              "      <td>0.000967</td>\n",
              "      <td>0.001882</td>\n",
              "      <td>-0.001834</td>\n",
              "      <td>0.001155</td>\n",
              "      <td>0.001061</td>\n",
              "      <td>-0.000543</td>\n",
              "      <td>0.003253</td>\n",
              "      <td>-0.003671</td>\n",
              "      <td>0.000890</td>\n",
              "      <td>-0.002113</td>\n",
              "      <td>-0.000040</td>\n",
              "      <td>0.000688</td>\n",
              "      <td>0.000600</td>\n",
              "      <td>-0.006530</td>\n",
              "      <td>0.002113</td>\n",
              "      <td>-0.003278</td>\n",
              "      <td>-0.003574</td>\n",
              "      <td>-0.002766</td>\n",
              "      <td>-0.003822</td>\n",
              "      <td>0.002057</td>\n",
              "      <td>-0.000192</td>\n",
              "      <td>0.002435</td>\n",
              "      <td>-0.001308</td>\n",
              "      <td>-0.000120</td>\n",
              "      <td>0.007460</td>\n",
              "      <td>0.000412</td>\n",
              "      <td>-0.000505</td>\n",
              "      <td>0.003227</td>\n",
              "      <td>-0.002694</td>\n",
              "      <td>0.005882</td>\n",
              "      <td>0.000964</td>\n",
              "      <td>-0.001846</td>\n",
              "      <td>0.000681</td>\n",
              "      <td>-0.002467</td>\n",
              "      <td>...</td>\n",
              "      <td>-0.006356</td>\n",
              "      <td>0.001627</td>\n",
              "      <td>0.005671</td>\n",
              "      <td>-0.005602</td>\n",
              "      <td>0.000499</td>\n",
              "      <td>-0.007508</td>\n",
              "      <td>0.006254</td>\n",
              "      <td>-0.000881</td>\n",
              "      <td>-0.002049</td>\n",
              "      <td>-0.003921</td>\n",
              "      <td>0.005398</td>\n",
              "      <td>-0.002810</td>\n",
              "      <td>-0.006753</td>\n",
              "      <td>-0.001362</td>\n",
              "      <td>-0.000121</td>\n",
              "      <td>0.001445</td>\n",
              "      <td>0.002145</td>\n",
              "      <td>-0.002686</td>\n",
              "      <td>0.004007</td>\n",
              "      <td>0.001653</td>\n",
              "      <td>0.006323</td>\n",
              "      <td>0.003697</td>\n",
              "      <td>-0.008420</td>\n",
              "      <td>0.001700</td>\n",
              "      <td>-0.003271</td>\n",
              "      <td>-0.001784</td>\n",
              "      <td>0.006808</td>\n",
              "      <td>-0.003920</td>\n",
              "      <td>-0.004043</td>\n",
              "      <td>0.001939</td>\n",
              "      <td>0.003788</td>\n",
              "      <td>0.001760</td>\n",
              "      <td>-0.005478</td>\n",
              "      <td>-0.003192</td>\n",
              "      <td>-0.012308</td>\n",
              "      <td>-0.007379</td>\n",
              "      <td>-0.001690</td>\n",
              "      <td>-0.000907</td>\n",
              "      <td>0.103800</td>\n",
              "      <td>0</td>\n",
              "    </tr>\n",
              "  </tbody>\n",
              "</table>\n",
              "<p>5 rows × 252 columns</p>\n",
              "</div>\n",
              "      <button class=\"colab-df-convert\" onclick=\"convertToInteractive('df-3b9e4fc5-31a4-4452-996c-26681cb2f227')\"\n",
              "              title=\"Convert this dataframe to an interactive table.\"\n",
              "              style=\"display:none;\">\n",
              "        \n",
              "  <svg xmlns=\"http://www.w3.org/2000/svg\" height=\"24px\"viewBox=\"0 0 24 24\"\n",
              "       width=\"24px\">\n",
              "    <path d=\"M0 0h24v24H0V0z\" fill=\"none\"/>\n",
              "    <path d=\"M18.56 5.44l.94 2.06.94-2.06 2.06-.94-2.06-.94-.94-2.06-.94 2.06-2.06.94zm-11 1L8.5 8.5l.94-2.06 2.06-.94-2.06-.94L8.5 2.5l-.94 2.06-2.06.94zm10 10l.94 2.06.94-2.06 2.06-.94-2.06-.94-.94-2.06-.94 2.06-2.06.94z\"/><path d=\"M17.41 7.96l-1.37-1.37c-.4-.4-.92-.59-1.43-.59-.52 0-1.04.2-1.43.59L10.3 9.45l-7.72 7.72c-.78.78-.78 2.05 0 2.83L4 21.41c.39.39.9.59 1.41.59.51 0 1.02-.2 1.41-.59l7.78-7.78 2.81-2.81c.8-.78.8-2.07 0-2.86zM5.41 20L4 18.59l7.72-7.72 1.47 1.35L5.41 20z\"/>\n",
              "  </svg>\n",
              "      </button>\n",
              "      \n",
              "  <style>\n",
              "    .colab-df-container {\n",
              "      display:flex;\n",
              "      flex-wrap:wrap;\n",
              "      gap: 12px;\n",
              "    }\n",
              "\n",
              "    .colab-df-convert {\n",
              "      background-color: #E8F0FE;\n",
              "      border: none;\n",
              "      border-radius: 50%;\n",
              "      cursor: pointer;\n",
              "      display: none;\n",
              "      fill: #1967D2;\n",
              "      height: 32px;\n",
              "      padding: 0 0 0 0;\n",
              "      width: 32px;\n",
              "    }\n",
              "\n",
              "    .colab-df-convert:hover {\n",
              "      background-color: #E2EBFA;\n",
              "      box-shadow: 0px 1px 2px rgba(60, 64, 67, 0.3), 0px 1px 3px 1px rgba(60, 64, 67, 0.15);\n",
              "      fill: #174EA6;\n",
              "    }\n",
              "\n",
              "    [theme=dark] .colab-df-convert {\n",
              "      background-color: #3B4455;\n",
              "      fill: #D2E3FC;\n",
              "    }\n",
              "\n",
              "    [theme=dark] .colab-df-convert:hover {\n",
              "      background-color: #434B5C;\n",
              "      box-shadow: 0px 1px 3px 1px rgba(0, 0, 0, 0.15);\n",
              "      filter: drop-shadow(0px 1px 2px rgba(0, 0, 0, 0.3));\n",
              "      fill: #FFFFFF;\n",
              "    }\n",
              "  </style>\n",
              "\n",
              "      <script>\n",
              "        const buttonEl =\n",
              "          document.querySelector('#df-3b9e4fc5-31a4-4452-996c-26681cb2f227 button.colab-df-convert');\n",
              "        buttonEl.style.display =\n",
              "          google.colab.kernel.accessAllowed ? 'block' : 'none';\n",
              "\n",
              "        async function convertToInteractive(key) {\n",
              "          const element = document.querySelector('#df-3b9e4fc5-31a4-4452-996c-26681cb2f227');\n",
              "          const dataTable =\n",
              "            await google.colab.kernel.invokeFunction('convertToInteractive',\n",
              "                                                     [key], {});\n",
              "          if (!dataTable) return;\n",
              "\n",
              "          const docLinkHtml = 'Like what you see? Visit the ' +\n",
              "            '<a target=\"_blank\" href=https://colab.research.google.com/notebooks/data_table.ipynb>data table notebook</a>'\n",
              "            + ' to learn more about interactive tables.';\n",
              "          element.innerHTML = '';\n",
              "          dataTable['output_type'] = 'display_data';\n",
              "          await google.colab.output.renderOutput(dataTable, element);\n",
              "          const docLink = document.createElement('div');\n",
              "          docLink.innerHTML = docLinkHtml;\n",
              "          element.appendChild(docLink);\n",
              "        }\n",
              "      </script>\n",
              "    </div>\n",
              "  </div>\n",
              "  "
            ],
            "text/plain": [
              "             0         1         2  ...       249    LAMBDA  LABEL\n",
              "643  -0.012914 -0.000624  0.002716  ... -0.003783 -0.248733      1\n",
              "418  -0.012398 -0.001501  0.005389  ... -0.001181 -1.045758      1\n",
              "558   0.000522  0.002168 -0.012190  ...  0.013941 -1.045758      1\n",
              "1474 -0.011249 -0.001203  0.005202  ...  0.005026  1.510269      0\n",
              "1500 -0.012188 -0.001384  0.005175  ... -0.000907  0.103800      0\n",
              "\n",
              "[5 rows x 252 columns]"
            ]
          },
          "metadata": {},
          "execution_count": 9
        }
      ]
    },
    {
      "cell_type": "code",
      "source": [
        "#Creating the training, testing and validation subsets\n",
        "X = df_lambda.drop(['LABEL'], axis = 1)\n",
        "y = df_lambda['LABEL']\n",
        "\n",
        "#80% Train, 20% Test, 20% Validation\n",
        "X_train, X_test, y_train, y_test = train_test_split(X, y, test_size = 0.2, random_state = 1234, stratify = y)\n",
        "X_train, X_val, y_train, y_val = train_test_split(X_train, y_train, test_size = 0.2, random_state = 1234, stratify = y_train)"
      ],
      "metadata": {
        "id": "jPu_AK8-yGA5"
      },
      "execution_count": 10,
      "outputs": []
    },
    {
      "cell_type": "code",
      "source": [
        "X_train.value_counts()"
      ],
      "metadata": {
        "colab": {
          "base_uri": "https://localhost:8080/"
        },
        "outputId": "40aaa8dd-37c4-48f0-e7ee-8e51ec9a5ef7",
        "id": "yqllSAMXyGA7"
      },
      "execution_count": 11,
      "outputs": [
        {
          "output_type": "execute_result",
          "data": {
            "text/plain": [
              "0          1          2          3          4          5          6          7          8          9          10         11         12         13         14         15         16         17         18         19         20         21         22         23         24         25         26         27         28         29         30         31         32         33         34         35         36         37         38         39         40         41         42         43         44         45         46         47         48         49         50         51         52         53         54         55         56         57         58         59         60         61         62         63         64         65         66         67         68         69         70         71         72         73         74         75         76         77         78         79         80         81         82         83         84         85         86         87         88         89         90         91         92         93         94         95         96         97         98         99         100        101        102        103        104        105        106        107        108        109        110        111        112        113        114        115        116        117        118        119        120        121        122        123        124        125        126        127        128        129        130        131        132        133        134        135        136        137        138        139        140        141        142        143        144        145        146        147        148        149        150        151        152        153        154        155        156        157        158        159        160        161        162        163        164        165        166        167        168        169        170        171        172        173        174        175        176        177        178        179        180        181        182        183        184        185        186        187        188        189        190        191        192        193        194        195        196        197        198        199        200        201        202        203        204        205        206        207        208        209        210        211        212        213        214        215        216        217        218        219        220        221        222        223        224        225        226        227        228        229        230        231        232        233        234        235        236        237        238        239        240        241        242        243        244        245        246        247        248        249        LAMBDA   \n",
              "-0.012528  -0.001767   0.004672  -0.004449   0.007208   0.000817  -0.000362   0.003628   0.000157   0.003092  -0.002225   0.001380   0.003186  -0.007721  -0.001218  -0.004735  -0.000669  -0.002051   0.002490  -0.006563   0.003161  -0.004594  -0.003754  -0.003328  -0.002676   0.001132  -0.002103   0.002940  -0.002563   0.000510   0.015997  -0.007761  -0.002097   0.011799  -0.005390   0.011102   0.003607  -0.006028  -0.001440  -0.005964  -0.000996   0.001379  -0.006581   0.008323   0.001472  -0.006611  -0.004348  -0.006374   0.001343   0.006678   0.002291   0.005354  -0.001282   0.005613  -0.009102  -0.007985  -0.000435   0.003667  -0.001386   0.007032   0.001778  -0.003850  -0.001201   0.004331   0.000590   0.005036   0.002858  -0.002347   0.002033   0.001694  -0.003787   0.003682  -0.001755   0.000095  -0.002096   0.009712   0.004536  -0.001004  -0.007452  -0.002436  -0.008198  -0.010545  -0.005067   0.010626   0.006121   0.005306  -0.012355  -0.003166  -0.000065  -0.001294   0.001265  -0.007952   0.004199   0.004732   0.013168  -0.000346   0.000591  -0.004065  -0.002746   0.000325  -0.003119   0.009918   0.003324   0.004001   0.006697   0.003089   0.003679   0.005933  -0.000677   0.003424  -0.006853  -0.003570  -0.005886  -0.001890  -0.008259   0.010850   0.005872  -0.002827   0.008325  -0.000883   0.001157   0.004925  -0.000318  -0.009910   0.015194   0.012019   0.000521   0.009497   0.006959   0.008336   0.002667  -0.010289  -0.008520  -0.015124   0.005509  -0.008259  -0.004129  -0.005746  -0.008889  -0.000882  -0.003567  -0.004631  -0.001740   0.003533   0.000648   0.006913   0.004414   0.003002   0.008825  -0.007843  -0.015028  -0.009110  -0.000330  -0.012866   0.002619   0.002035   0.001608  -0.004484  -0.021176  -0.008122   0.005175  -0.005432   0.002946   0.013827   0.005907   0.004476   0.008462   0.002269   0.003261   0.000645   0.003089   0.015987   0.004020   0.016372   0.005312  -0.002494   0.010157  -0.002482   0.010693   0.011115  -0.011711  -0.000543   0.007151  -0.012792  -0.001650  -0.008643   0.011287  -0.004897  -0.030234   0.011188   0.002337  -0.000942  -0.004440   0.000069   0.009724   0.008616  -0.000681   0.007345   0.003416  -0.006227   0.001709  -0.001051   0.010203  -0.019583   0.007133  -0.008091   0.010974   0.012423   0.008882  -0.003227   0.002542   0.004267  -0.014724   0.012911   0.004450  -0.000324  -0.011179   0.014115   0.002102  -0.006496   0.006601  -0.003428  -0.000596  -0.005923  -0.014714  -0.005653  -0.009077  -0.000399  -0.001176   0.006145  -0.012621   0.006222  -0.001950   0.004399   0.001530  -0.014312   0.000106  -0.000693  -0.011830  -0.009752  -0.000931  -0.007416  -0.003074   0.015096   0.006064  -0.014005  -0.000378  -0.015587   0.008574   0.002972  -1.062074    2\n",
              " 0.155209   0.097450  -0.124787   0.240004  -0.074535   0.118896   0.065681   0.033515  -0.046443  -0.121474   0.140998   0.016795   0.111000  -0.035817  -0.025739  -0.006345  -0.021230   0.042938  -0.016548   0.065471  -0.082408  -0.035869   0.043987   0.007851   0.099723   0.012924   0.024039  -0.236647   0.000706   0.123529   0.119033  -0.064857   0.074439   0.029554   0.165725   0.099459  -0.042934  -0.105335  -0.002466  -0.034423  -0.013441  -0.015400  -0.005386   0.033509  -0.021701   0.047439  -0.002135  -0.007129   0.115906  -0.007166   0.052970   0.006684   0.022153   0.036641   0.023837   0.016241   0.025789   0.025315   0.007004  -0.049703  -0.005576  -0.016662  -0.018763  -0.043632  -0.022888  -0.006090  -0.042951   0.082500   0.002496  -0.007138   0.038620   0.021818   0.031281  -0.032405  -0.010604  -0.049159   0.012844   0.002015  -0.001188   0.053171  -0.006308  -0.007850  -0.012711  -0.008048  -0.016599   0.044698  -0.047957   0.001219  -0.047947  -0.050332   0.033101  -0.002646  -0.018580   0.058944   0.015525  -0.009830   0.013789  -0.047908   0.017527  -0.023751   0.025781  -0.025663   0.008114   0.020290   0.008342   0.007254   0.018477   0.063066   0.045668   0.017075  -0.001771  -0.014144  -0.043014  -0.008963   0.019329   0.013229   0.008711  -0.022086  -0.022571  -0.019763  -0.012937  -0.013096   0.024580   0.010703   0.017720  -0.038314   0.023737   0.026877   0.017914  -0.003108   0.045103  -0.032513   0.021398   0.015052   0.001750   0.020529  -0.047390  -0.001147  -0.013715   0.053230   0.015395   0.023128   0.013821   0.009738   0.007953   0.030407   0.018652   0.003472  -0.004013  -0.004693  -0.015130   0.030213   0.022037  -0.035487   0.031677  -0.026538  -0.032903   0.011652   0.004029  -0.043548  -0.033553   0.008270   0.014836  -0.067631  -0.011848   0.053356   0.010817  -0.010327   0.009560   0.001119   0.019287  -0.007900  -0.024814  -0.048647  -0.021685   0.006905  -0.013836   0.043438   0.048787  -0.016487  -0.030820   0.040041   0.073877  -0.016102   0.010405   0.051544   0.030129   0.003212  -0.030299  -0.042066  -0.012595  -0.014825   0.025912   0.008526  -0.041860  -0.015491  -0.035812   0.005133  -0.015952  -0.032548   0.029251   0.022194   0.005081   0.032763  -0.044171   0.036327   0.020011   0.012395   0.038863   0.029226  -0.007938   0.022632  -0.004573   0.016107  -0.023441   0.044294  -0.058770   0.027693   0.023690   0.005789  -0.001695   0.022912   0.069680   0.032584   0.014725   0.051202   0.002517   0.087745   0.005879   0.044519   0.030565  -0.046211  -0.001229  -0.010022  -0.008724  -0.007177   0.011906  -0.036646   0.037782  -0.001470   0.032124   0.011988   0.030566   0.058742  -0.040886   0.011661   0.014531   0.006657   0.054847  -0.011343   0.586343    1\n",
              "-0.011311  -0.000650   0.002718  -0.003883   0.005472   0.002686   0.001984   0.000672  -0.003041   0.000643   0.003004  -0.001307   0.003649  -0.002864  -0.000018  -0.003023  -0.000432  -0.000963   0.004833  -0.008180   0.001685  -0.004550  -0.006692  -0.003588  -0.004981   0.000893  -0.000576   0.006062  -0.002203  -0.002104   0.004270  -0.002857  -0.000336   0.005967  -0.002705   0.005727   0.002601  -0.002830  -0.000587  -0.003085   0.002086  -0.003918  -0.003574   0.003511   0.001280   0.003432   0.000208  -0.004710   0.000857  -0.000755   0.002385   0.002876   0.000550   0.003445  -0.001498  -0.003626   0.001308  -0.001296  -0.000411  -0.005414  -0.002566  -0.000849  -0.004044  -0.000083   0.001296   0.004650   0.000064   0.000068  -0.000424  -0.002168   0.005426  -0.001857   0.004326  -0.003542   0.008395   0.000628   0.003463   0.003768  -0.002480  -0.002663   0.005277   0.001835   0.000838  -0.002373   0.002053   0.006880   0.004553   0.000694  -0.005854   0.000081  -0.004611  -0.006143  -0.010555  -0.002672  -0.005046   0.000594  -0.006718  -0.001149   0.000311  -0.004583  -0.004338   0.000779  -0.001612   0.003049  -0.001861  -0.000573  -0.001263  -0.004935   0.005956  -0.001691  -0.003622  -0.005301  -0.008755  -0.003398  -0.000612   0.002005  -0.003519  -0.001169   0.002158  -0.004215   0.002607   0.004162  -0.003863  -0.006440  -0.009408   0.003260   0.003780  -0.001320  -0.002110  -0.001671   0.003531   0.001945   0.001077  -0.007386  -0.004283   0.003879   0.000204  -0.001904  -0.002997  -0.004822  -0.005703  -0.006329  -0.004298  -0.009082  -0.003101  -0.002377  -0.000863   0.006448   0.002064   0.010091  -0.002158   0.000008  -0.007364   0.003493   0.012869  -0.004637   0.001308  -0.000231  -0.001066   0.003610   0.002750  -0.005746  -0.003908  -0.002832   0.005340  -0.005972  -0.006197  -0.001388   0.008954   0.004517   0.003261  -0.009038  -0.010513  -0.004639  -0.009492   0.008355  -0.002148   0.006645  -0.007338  -0.004594  -0.001739  -0.000488  -0.001931   0.000274   0.004038   0.000343  -0.013222   0.008773   0.004131   0.009051   0.001682   0.006403   0.007783   0.004316   0.004549  -0.010695   0.003607  -0.001441  -0.006871   0.000859   0.003270  -0.006625   0.004151   0.002839  -0.004781  -0.010468   0.008204  -0.004383  -0.003723  -0.006741  -0.001219   0.002996  -0.001717  -0.004596   0.000053  -0.001089  -0.003342  -0.003553   0.002217   0.001987  -0.002769   0.007280  -0.003009   0.003194  -0.006232  -0.015572   0.009654  -0.002797  -0.008487   0.004848   0.010663   0.015174   0.004912  -0.002130   0.008460   0.003769   0.008809   0.002260   0.002938  -0.010517   0.005323  -0.008459   0.007050  -0.005660   0.008398   0.001469   0.010534   0.000046   0.010141  -0.007507  -0.248733    1\n",
              "-0.011025  -0.003363  -0.006298  -0.016875  -0.008936  -0.015116  -0.012931   0.003359   0.009433   0.017605  -0.021439   0.013950   0.003755  -0.026114  -0.000508  -0.024416  -0.001689  -0.002541  -0.028811   0.005357   0.007714  -0.011493   0.008301  -0.017924  -0.003537   0.018231   0.000286  -0.007443  -0.025683   0.014680   0.032459  -0.020287  -0.006030  -0.007043   0.003739  -0.004551   0.051796  -0.007494  -0.019397   0.054505  -0.052906  -0.000441   0.057908  -0.015888   0.084790   0.042215  -0.033229  -0.022267   0.058121  -0.017510  -0.027357  -0.043279  -0.010130  -0.035859  -0.037928   0.002754   0.007991  -0.042798  -0.002622  -0.018911  -0.009044   0.012872   0.006595   0.004587  -0.013347   0.025230  -0.009781   0.009255  -0.020685  -0.003388  -0.002917  -0.019647  -0.003190  -0.015118  -0.009491   0.002081  -0.031796   0.005223   0.008897   0.002227  -0.010765  -0.006442  -0.019008  -0.016827  -0.020354  -0.013647   0.032110   0.011737   0.009994   0.033090  -0.023834   0.007470   0.008116  -0.003567   0.008515   0.002720  -0.000122   0.043582   0.003004   0.014860  -0.042788   0.027240   0.017837   0.005238   0.034495   0.019610  -0.007572  -0.067800  -0.023417  -0.000090   0.007896   0.016065   0.008335  -0.034641   0.001265   0.024151   0.000262  -0.030364  -0.013759  -0.025842   0.004767   0.043205   0.006760  -0.006967   0.036482  -0.013557  -0.007447  -0.023308   0.024960   0.009640   0.016735  -0.048635   0.012613   0.054162  -0.022173  -0.002096  -0.002164   0.003188  -0.007697  -0.010677  -0.001364   0.027775  -0.028959   0.006557   0.032830   0.002217  -0.012138  -0.003728  -0.019459   0.009267  -0.000671  -0.007154   0.001544   0.004434  -0.014498  -0.049393  -0.040047   0.027265   0.007063   0.002705  -0.001144  -0.000805   0.012191   0.027260   0.103933   0.027125  -0.064844   0.005730  -0.024902   0.006714  -0.008540  -0.027605   0.022846   0.083857  -0.044773  -0.013696   0.015339   0.048862   0.127337   0.060956   0.033742  -0.027449   0.045003   0.013395  -0.023495   0.042806   0.048528  -0.013514  -0.047471  -0.030020  -0.024039   0.057728  -0.007650  -0.012622   0.058397  -0.002331  -0.040069  -0.078980   0.023151   0.027191  -0.012985  -0.041885   0.090074  -0.005246   0.004808  -0.043759  -0.000773  -0.017597   0.038971  -0.031379  -0.013300   0.014516  -0.045276  -0.037329  -0.002290   0.015532   0.111700  -0.036501  -0.097271   0.104580   0.110128  -0.025103   0.018549  -0.036068   0.064308   0.029052  -0.072548   0.043634  -0.030734  -0.034155  -0.036361  -0.050975   0.126495  -0.059450  -0.068420   0.005038  -0.017713   0.041843  -0.036110   0.005059   0.044965   0.095926   0.042945  -0.029786   0.029892  -0.002014   0.036417   0.047459  -0.021348   0.000223  -0.248733    1\n",
              "-0.011066  -0.001408   0.004776  -0.002889   0.003931   0.002390   0.000280   0.002753  -0.002268   0.000434  -0.001191   0.000398   0.003458  -0.006610   0.001777  -0.004294   0.000810  -0.000457   0.000175  -0.005059   0.001122  -0.002065  -0.004673  -0.003278  -0.003502   0.003273   0.000760   0.001127  -0.000317  -0.000148   0.002657   0.002989   0.001487   0.001299  -0.002281   0.003330  -0.001032  -0.001364  -0.001867  -0.001349   0.000968  -0.000137  -0.002011   0.004436   0.002632   0.000487  -0.001410  -0.001677   0.003107   0.002052   0.004215  -0.000174  -0.000917   0.001848  -0.002063  -0.003073   0.006036   0.003657  -0.002458   0.003973  -0.002290  -0.002396  -0.001977  -0.000698  -0.000354   0.003527  -0.001519   0.003097  -0.001863  -0.003036   0.002125   0.001907   0.001313  -0.003281   0.001093   0.002088  -0.000404   0.000277  -0.002801   0.001252   0.000290  -0.004140  -0.003035   0.003983  -0.002768   0.000895  -0.002314   0.003030  -0.008283  -0.000680  -0.005885  -0.004262  -0.002909   0.001443  -0.002567   0.002095  -0.007587   0.003064  -0.003044   0.004469  -0.000960   0.008366   0.002287   0.005550   0.000601  -0.001378  -0.001206   0.000111   0.004767   0.004432  -0.000960  -0.000613  -0.004544  -0.003815   0.000651   0.002350   0.002358  -0.001467  -0.000080  -0.001572   0.001748  -0.002266  -0.000864   0.000845  -0.004506  -0.000377   0.003560  -0.003974  -0.000522  -0.005330  -0.000910  -0.000814   0.000552   0.002904  -0.000959   0.003701  -0.001759  -0.004273  -0.003210   0.001351  -0.001064  -0.002235  -0.002314  -0.005273  -0.000443  -0.001472  -0.004222   0.000997  -0.000678   0.000709   0.001388  -0.001377   0.000462  -0.000363   0.004591  -0.000280  -0.005881  -0.001012   0.002421  -0.002350  -0.002871   0.000517   0.001549  -0.000388  -0.004089   0.003158   0.000005  -0.001038   0.002375   0.006304  -0.001594  -0.003828  -0.001733  -0.002176  -0.002526   0.001457  -0.005307   0.000186  -0.005481  -0.004156   0.003997   0.000494   0.006466   0.002263   0.010440  -0.005893  -0.005974   0.001801   0.006240  -0.007848  -0.002806   0.004057   0.001292  -0.005224  -0.002730   0.000052  -0.002599   0.002081  -0.000293   0.003902  -0.001346   0.002112  -0.001950   0.002977   0.001330  -0.002150  -0.000074   0.004591   0.004183   0.003054   0.002847  -0.002591  -0.008832   0.001622   0.007647  -0.005488  -0.001908   0.000783   0.003495  -0.004918  -0.002367  -0.002031   0.004360  -0.002294  -0.006827  -0.003660  -0.006603   0.003839  -0.000396  -0.000793  -0.005647  -0.005321   0.003330   0.001704  -0.001945   0.005594   0.007539  -0.004987  -0.000925  -0.004634  -0.006911  -0.001669   0.004993   0.004563   0.002487  -0.002091  -0.002003  -0.001193   0.002153   0.003696   1.510269    1\n",
              "                                                                                                                                                                                                                                                                                                                                                                                                                                                                                                                                                                                                                                                                                                                                                                                                                                                                                                                                                                                                                                                                                                                                                                                                                                                                                                                                                                                                                                                                                                                                                                                                                                                                                                                                                                                                                                                                                                                                                                                                                                                                                                                                                                                                                                                                                                                                                                                                                                                                                                                                                                                                                                                                                                                                                                                                                                                                          ..\n",
              " 0.001280  -0.002694  -0.000438  -0.004828  -0.012993  -0.011156  -0.009535   0.001284   0.005471   0.009587  -0.012344   0.004025   0.001412   0.001266   0.005360  -0.004159   0.003649   0.003915  -0.010054   0.007840   0.001039   0.002704   0.004927  -0.002810   0.004745   0.007066  -0.000712  -0.010593   0.004017   0.004196  -0.009863   0.012373   0.000898  -0.006638  -0.006423  -0.009128  -0.006740   0.015330   0.000071   0.007845  -0.000162  -0.000677   0.007185  -0.007683  -0.005645   0.009945   0.001227   0.007320   0.001177  -0.007102  -0.003539  -0.010774  -0.002438   0.006681   0.000519  -0.001670  -0.000805  -0.001055  -0.002515   0.005731  -0.021156   0.003818  -0.011242   0.005091  -0.005581  -0.008232  -0.007897   0.005972  -0.005571   0.000605   0.007241  -0.007062   0.002342  -0.006649   0.009365   0.004216  -0.010632  -0.011034  -0.003406  -0.003015  -0.001049   0.004823  -0.004138  -0.008066   0.009624  -0.012046   0.000499   0.007489  -0.001218  -0.017730   0.011646   0.003832   0.002247  -0.022193  -0.005486  -0.001943   0.009711  -0.006343  -0.005231  -0.011914  -0.013041   0.009666  -0.001399   0.003688  -0.008448   0.009277  -0.000919   0.001196  -0.017749   0.014771   0.000320   0.004139   0.000730   0.000552  -0.004214   0.000567  -0.008596   0.009755  -0.002494  -0.001747   0.000434   0.013418  -0.012159   0.012422   0.015384  -0.002719   0.010652   0.000110   0.006765   0.000190   0.004823   0.001447  -0.015152  -0.000513   0.001775  -0.004641   0.008572   0.008784   0.004645  -0.018729  -0.010468   0.005651   0.009067  -0.001944  -0.010632   0.004463  -0.001455   0.000185   0.012564   0.012050  -0.003644  -0.004949   0.005235  -0.005732   0.008435  -0.007488   0.005323   0.001621  -0.016522  -0.001261   0.005618   0.000266  -0.004788  -0.021811   0.004422   0.015386  -0.010684   0.004650   0.013613  -0.004291  -0.002846   0.008468   0.005694  -0.001235  -0.006497  -0.024460   0.013482   0.003957   0.004603   0.003864  -0.010896   0.023317  -0.008740   0.009149  -0.017887   0.008023   0.015968  -0.020652  -0.011518   0.009512  -0.017323  -0.033539  -0.007766   0.012413   0.009195  -0.013783   0.005595  -0.028920  -0.004149  -0.006034  -0.006522   0.000988   0.010797   0.005638  -0.006273  -0.002250  -0.009040   0.014169   0.001527   0.011198  -0.019129   0.027884   0.006608   0.014959  -0.017938   0.004787  -0.008819  -0.008618  -0.005586   0.017095  -0.006142  -0.017513   0.019309   0.017793   0.009725  -0.014373  -0.012865  -0.000946   0.021128   0.016947   0.004072  -0.000502  -0.024610   0.016676  -0.012621   0.051641   0.001597  -0.038094   0.004230  -0.009758   0.004410   0.023598  -0.023151  -0.001713   0.012690  -0.001770  -0.029903   0.014199  -0.007061  -0.020624  -0.248733    1\n",
              " 0.001259  -0.001917  -0.007961  -0.000753  -0.008538  -0.008444  -0.010452  -0.004054   0.006835   0.000140  -0.009736   0.003944   0.007357   0.001924   0.008162   0.004547   0.002979   0.000453   0.003989  -0.002196  -0.001557   0.010357  -0.005317   0.010983   0.002147  -0.020383  -0.022055   0.064640  -0.047580  -0.003634   0.012283   0.061109   0.031513  -0.001374   0.054676   0.017862   0.015326  -0.047489   0.001693   0.051768  -0.020748  -0.005907  -0.060366   0.018019  -0.017323  -0.005818  -0.031394  -0.011604  -0.016204  -0.004268  -0.022694  -0.036030  -0.030078   0.060388  -0.011950   0.012904   0.005525   0.029074   0.013650  -0.022655  -0.024983   0.012842  -0.009297   0.005094  -0.001047  -0.001759  -0.000930  -0.007704  -0.012701  -0.005963  -0.001673  -0.001099   0.009351  -0.010499   0.034957   0.001165   0.006942  -0.011468  -0.001962  -0.022922   0.009221  -0.012583  -0.003338   0.004281  -0.009982   0.001462   0.017483  -0.011730   0.005007   0.029581  -0.018213  -0.001047   0.015624   0.010632  -0.032168  -0.013770  -0.023121  -0.009492   0.012770   0.007011  -0.020373  -0.028495   0.027938   0.009492  -0.023885  -0.020366  -0.010564   0.001102   0.007657   0.007650   0.004543  -0.043550   0.000067  -0.005802  -0.004571   0.006198  -0.001835  -0.005613   0.035260   0.008325   0.019684   0.001902   0.015006  -0.010877   0.016165   0.047531  -0.037666   0.019179   0.011359  -0.007588   0.023923   0.004095   0.020574   0.001273   0.020513  -0.027884   0.000595   0.044771  -0.024197   0.013086  -0.008178  -0.008330  -0.020774   0.000843   0.006560  -0.012465  -0.006806   0.011838   0.008970  -0.006784   0.005288   0.025483   0.003643  -0.029980  -0.007940   0.017478   0.017796   0.003512  -0.014143  -0.006697   0.036705  -0.013909  -0.003066   0.000839  -0.018178   0.008800  -0.044835  -0.031941   0.005414  -0.038170  -0.005832  -0.003628  -0.002372   0.032471   0.007398  -0.019967  -0.024710   0.071902  -0.035301   0.000901  -0.044981   0.002064   0.063001  -0.040385  -0.033825   0.045266  -0.044644   0.013572   0.097576  -0.043771   0.048821  -0.019666  -0.043120  -0.015523  -0.015077   0.059086   0.105649  -0.041612  -0.042959   0.021379   0.009252   0.007816   0.019405   0.002933  -0.000249  -0.037473   0.005908   0.018501  -0.067772   0.009842  -0.036786   0.015970   0.103346   0.055963   0.090851   0.023088  -0.023298   0.050192   0.218552  -0.001378   0.098468   0.077847   0.030270  -0.126898   0.198178   0.048026   0.038488   0.016266  -0.131975  -0.040345  -0.074485   0.013681  -0.069260   0.099174  -0.085401  -0.044595  -0.121636  -0.052088  -0.036778  -0.050255   0.010837   0.042838  -0.090188  -0.007825   0.083846   0.045303  -0.040710   0.073218  -0.056598  -0.008602  -0.248733    1\n",
              " 0.001221   0.001755  -0.015162   0.001975  -0.025294  -0.012670  -0.009178  -0.004795   0.013267   0.001092  -0.016196  -0.000171  -0.006290   0.004862   0.007522  -0.000996   0.001084   0.001304  -0.007711   0.006291   0.006542  -0.005484   0.003601  -0.007956   0.006486   0.011314   0.007154  -0.024091   0.009548  -0.004953   0.018161  -0.019807   0.000136   0.008598   0.001074  -0.009708   0.032533  -0.007463  -0.028986   0.003701  -0.007039   0.029296   0.001168  -0.026066  -0.021457  -0.011077   0.012176  -0.002052  -0.022001   0.012274  -0.026427  -0.004573  -0.020544  -0.008353  -0.000732   0.009369   0.000486  -0.000319   0.008743  -0.001073   0.001113  -0.000380   0.008825  -0.001589  -0.011888   0.004148  -0.007442  -0.001158   0.009883   0.016914   0.009376  -0.000932   0.015416   0.004023  -0.009132  -0.003874   0.023041  -0.026562  -0.020793   0.019869  -0.006046   0.003396   0.007032   0.019006   0.001444  -0.002982  -0.008712   0.018309   0.004882   0.011658   0.019755  -0.005553   0.007420   0.012107   0.016922   0.013289  -0.004807  -0.016302   0.007928   0.003961  -0.002293   0.001956   0.024904  -0.019444  -0.038082  -0.009583  -0.005875   0.009681   0.012090  -0.010828   0.009357  -0.008978   0.032405  -0.009828  -0.001629  -0.019149  -0.008375   0.000084  -0.006883  -0.030925   0.004686  -0.021223  -0.013142   0.006098   0.006310  -0.000891  -0.018923  -0.016147   0.014545  -0.024114   0.000990  -0.001559  -0.007234   0.022628  -0.005698   0.011612   0.024379  -0.010523   0.024223  -0.009336   0.015562  -0.013690  -0.003254  -0.007428   0.003487  -0.001178  -0.022794  -0.009097  -0.011208  -0.004597   0.022762  -0.001090  -0.018759   0.008024  -0.011862  -0.000416   0.008461   0.006582   0.023949   0.011952  -0.019845  -0.001472  -0.013002  -0.005530  -0.005295  -0.006580  -0.014115  -0.023481   0.030615   0.005812  -0.009665  -0.007231  -0.018049   0.001499  -0.015003  -0.013084   0.001663   0.014608  -0.022533  -0.003378   0.014872   0.013894  -0.003147   0.014816   0.012406   0.001896   0.001164  -0.002734   0.005279  -0.011370   0.008305   0.027128   0.016995   0.000095  -0.002978  -0.007055  -0.002885  -0.012668   0.020375   0.016171   0.024894  -0.015703  -0.003686   0.026860   0.018506  -0.019180  -0.018471  -0.024607   0.013830   0.001285  -0.005935   0.003647  -0.019724   0.004816  -0.022278  -0.001250   0.020656  -0.000168   0.017892   0.001392   0.028590   0.005331  -0.010875   0.023606   0.022727   0.018964  -0.009638  -0.002486   0.026539   0.044827   0.001732  -0.000205   0.020051   0.014608   0.001985  -0.022928  -0.003398   0.005281  -0.002751  -0.001923  -0.014353  -0.026776  -0.022395   0.011339  -0.010354  -0.002357   0.035377   0.011966  -0.019435  -0.002023  -0.248733    1\n",
              " 0.001150   0.000373  -0.007039   0.000988   0.008578  -0.016430  -0.013527   0.005210   0.004896   0.005596  -0.013813   0.005503  -0.008480  -0.023794  -0.013777  -0.008976  -0.000664  -0.004078  -0.002400   0.023841  -0.011438   0.006412   0.001966   0.005183   0.007018  -0.005745  -0.001926  -0.002836   0.014605  -0.001839  -0.019951  -0.003073  -0.019696   0.006146  -0.011721   0.004096  -0.023567   0.008160   0.004783  -0.018813  -0.005491  -0.010612  -0.010471   0.013315  -0.012527  -0.009271  -0.000405  -0.001378  -0.015614  -0.005058  -0.013979   0.001893  -0.000174   0.002545  -0.007056   0.012231  -0.016870  -0.008869  -0.002658   0.005225   0.010333  -0.002911   0.013841   0.026326  -0.006053  -0.024396   0.013462  -0.014119  -0.031584  -0.003383  -0.024785  -0.025662  -0.017590   0.018518  -0.008968   0.051376  -0.024745   0.024714   0.031823  -0.046857   0.015341  -0.034783   0.012723  -0.010247  -0.002062   0.009654   0.005773  -0.015672  -0.006356   0.005446   0.021558  -0.018374   0.010137   0.006036  -0.005642  -0.008902   0.011456  -0.012226   0.026015  -0.022541  -0.002876  -0.013339  -0.020532  -0.007789   0.022847  -0.014609   0.005596  -0.018206   0.032415  -0.004984  -0.008648   0.041938   0.020444  -0.008924  -0.025469  -0.005371  -0.021057  -0.009099   0.008154  -0.012194   0.005847  -0.024689  -0.012453  -0.002000   0.021811  -0.023855  -0.003724   0.019977  -0.019628   0.001035   0.001890  -0.007335  -0.008029   0.001545   0.016622   0.011106  -0.005616   0.013510  -0.012187   0.008597  -0.007604  -0.002250   0.002504  -0.000795   0.014729  -0.002732   0.016039   0.015405  -0.006090   0.007394  -0.001994  -0.012591   0.022546   0.001814   0.015734  -0.006077   0.005521   0.009570  -0.003949   0.011316   0.023839   0.001271   0.015064  -0.021688  -0.002326  -0.036966   0.007084  -0.022632  -0.025601   0.015506   0.012950  -0.030212  -0.000895  -0.040598  -0.037041   0.009887   0.005001  -0.006105   0.005289   0.003551  -0.002135  -0.013351  -0.051886  -0.000259  -0.001831   0.015561  -0.014364  -0.026863   0.045861   0.028846   0.008542   0.010851  -0.003364  -0.014299   0.004586   0.013760   0.008930   0.021016  -0.037615  -0.070179  -0.012279   0.011089   0.023849  -0.023486   0.016202  -0.014093   0.021157   0.006255   0.001171   0.010152  -0.013722   0.034857  -0.013800  -0.039791  -0.043234   0.016338   0.007220  -0.043911  -0.003062  -0.019396  -0.054913   0.022170  -0.034427   0.018131   0.095995   0.011298   0.037111   0.024687  -0.015606  -0.001039   0.016878   0.010518   0.054894  -0.034986   0.037945  -0.062383  -0.040097   0.000712   0.008602  -0.003050   0.017270  -0.001144   0.075236  -0.011929  -0.034470  -0.026227   0.032744   0.029659  -0.008390   0.009958  -0.248733    1\n",
              "-0.221902  -0.361026   0.241607   0.505413  -0.051925  -0.154416   0.185273  -0.278844   0.006520   0.074123  -0.219035   0.006983   0.229315   0.166806  -0.392576   0.036879  -0.177986  -0.005283  -0.026695   0.022427   0.007448  -0.022578   0.003803  -0.021252  -0.002672   0.009393   0.008416   0.034541   0.051424   0.021563   0.012909   0.003634   0.017421   0.011475  -0.004221  -0.010369  -0.015558   0.002541   0.019046   0.024151   0.012461  -0.011542   0.002845  -0.023869   0.005576  -0.002708   0.017782   0.009585   0.009708   0.006189   0.000563  -0.009981  -0.010749   0.006290   0.018574  -0.004379  -0.028633  -0.031424  -0.013771  -0.031319  -0.009148   0.009485  -0.018555   0.003633  -0.017375  -0.022923  -0.013372  -0.007021   0.008304  -0.032366   0.017760   0.007729   0.000936   0.003273  -0.028358  -0.013700  -0.007431   0.010382  -0.010562  -0.004361   0.012692   0.002315   0.015611  -0.007893   0.003823   0.000587   0.023174  -0.023162   0.030880  -0.026719  -0.034374  -0.056428   0.023286  -0.014480  -0.010814   0.012557   0.026709   0.001139   0.028423   0.013083  -0.015439   0.022596  -0.009301   0.003521   0.012146  -0.005219  -0.007987   0.004984   0.024617  -0.003145  -0.004913  -0.003755  -0.002765  -0.022851   0.013512  -0.012870   0.004267  -0.004531  -0.003286   0.012067  -0.018952  -0.002810   0.004236   0.008902   0.004774   0.001202   0.010943  -0.000987   0.003595  -0.008952   0.000202   0.010408   0.014610   0.004551  -0.002197   0.014298   0.000524  -0.005483   0.008002  -0.008417   0.006357  -0.005534   0.001629  -0.000334  -0.003012   0.000488  -0.008378   0.001616   0.002814   0.000006  -0.007267  -0.001190  -0.007029  -0.000773   0.005846   0.001542  -0.009469  -0.002996   0.000969  -0.008448   0.001079  -0.005758   0.004331   0.000050  -0.005124   0.006430  -0.007046  -0.015457   0.004170  -0.006158  -0.002461  -0.000070  -0.001284   0.007810   0.014783  -0.003262  -0.012791   0.000076  -0.004558   0.003060   0.012186   0.011722  -0.001293  -0.017885   0.017143  -0.001444  -0.022215  -0.008396  -0.009116   0.007663  -0.004017  -0.001522   0.007816   0.012606  -0.017518  -0.009439  -0.002326  -0.000749   0.004827   0.007847   0.007988  -0.004283  -0.007876   0.003422   0.004469  -0.002535  -0.013367  -0.005960   0.012667   0.000217  -0.004379   0.001373  -0.006544  -0.005137  -0.013711   0.003571   0.001441   0.002087  -0.004356   0.000378  -0.001761   0.010795   0.001071  -0.010146   0.001897   0.005409   0.001073   0.008535   0.002101   0.001933  -0.002247  -0.000561   0.007737   0.010100  -0.004414  -0.001901   0.000647   0.004609  -0.000978  -0.003478  -0.003910  -0.010730  -0.002866   0.006764   0.003244   0.004367   0.001333   0.009494  -0.004867   0.004258  -0.248733    1\n",
              "Length: 962, dtype: int64"
            ]
          },
          "metadata": {},
          "execution_count": 11
        }
      ]
    },
    {
      "cell_type": "code",
      "source": [
        "y_train.describe()"
      ],
      "metadata": {
        "colab": {
          "base_uri": "https://localhost:8080/"
        },
        "outputId": "6a81450e-00b8-4e54-8bd1-c05e83b52fd0",
        "id": "63qpuITyyGA8"
      },
      "execution_count": 5,
      "outputs": [
        {
          "output_type": "execute_result",
          "data": {
            "text/plain": [
              "count    963.000000\n",
              "mean       0.643821\n",
              "std        0.479118\n",
              "min        0.000000\n",
              "25%        0.000000\n",
              "50%        1.000000\n",
              "75%        1.000000\n",
              "max        1.000000\n",
              "Name: LABEL, dtype: float64"
            ]
          },
          "metadata": {},
          "execution_count": 5
        }
      ]
    },
    {
      "cell_type": "code",
      "source": [
        ""
      ],
      "metadata": {
        "id": "O7OvN0ehyGA9"
      },
      "execution_count": null,
      "outputs": []
    },
    {
      "cell_type": "markdown",
      "source": [
        "### Model building"
      ],
      "metadata": {
        "id": "CN_9PWgVyGA-"
      }
    },
    {
      "cell_type": "code",
      "source": [
        "#Logistic regression parameters to tune\n",
        "grid_param = {\"penalty\": [\"l1\", \"l2\", \"elasticnet\", \"none\"],\n",
        "              \"C\": [0.1, 1, 10, 100],\n",
        "              \"solver\": [\"newton-cg\", \"lbfgs\", \"liblinear\"], #\"saga\", \"sag\"],\n",
        "              \"max_iter\": [500]\n",
        "              }\n",
        "\n",
        "log_reg = LogisticRegression()\n",
        "search_grid = GridSearchCV(estimator = log_reg, param_grid = grid_param, n_jobs = -1, cv = 5, \n",
        "                           verbose = 3, return_train_score = True, scoring = \"accuracy\")"
      ],
      "metadata": {
        "id": "iZd59nHAyGA_"
      },
      "execution_count": 12,
      "outputs": []
    },
    {
      "cell_type": "code",
      "source": [
        "search_results = search_grid.fit(X_train.values, y_train.values)"
      ],
      "metadata": {
        "colab": {
          "base_uri": "https://localhost:8080/"
        },
        "outputId": "c656538a-c530-47b9-895e-70b7063dc9da",
        "id": "RATKm2VwyGBA"
      },
      "execution_count": 13,
      "outputs": [
        {
          "output_type": "stream",
          "name": "stdout",
          "text": [
            "Fitting 5 folds for each of 48 candidates, totalling 240 fits\n"
          ]
        },
        {
          "output_type": "stream",
          "name": "stderr",
          "text": [
            "/usr/local/lib/python3.7/dist-packages/sklearn/model_selection/_validation.py:372: FitFailedWarning: \n",
            "120 fits failed out of a total of 240.\n",
            "The score on these train-test partitions for these parameters will be set to nan.\n",
            "If these failures are not expected, you can try to debug them by setting error_score='raise'.\n",
            "\n",
            "Below are more details about the failures:\n",
            "--------------------------------------------------------------------------------\n",
            "20 fits failed with the following error:\n",
            "Traceback (most recent call last):\n",
            "  File \"/usr/local/lib/python3.7/dist-packages/sklearn/model_selection/_validation.py\", line 681, in _fit_and_score\n",
            "    estimator.fit(X_train, y_train, **fit_params)\n",
            "  File \"/usr/local/lib/python3.7/dist-packages/sklearn/linear_model/_logistic.py\", line 1461, in fit\n",
            "    solver = _check_solver(self.solver, self.penalty, self.dual)\n",
            "  File \"/usr/local/lib/python3.7/dist-packages/sklearn/linear_model/_logistic.py\", line 449, in _check_solver\n",
            "    % (solver, penalty)\n",
            "ValueError: Solver newton-cg supports only 'l2' or 'none' penalties, got l1 penalty.\n",
            "\n",
            "--------------------------------------------------------------------------------\n",
            "20 fits failed with the following error:\n",
            "Traceback (most recent call last):\n",
            "  File \"/usr/local/lib/python3.7/dist-packages/sklearn/model_selection/_validation.py\", line 681, in _fit_and_score\n",
            "    estimator.fit(X_train, y_train, **fit_params)\n",
            "  File \"/usr/local/lib/python3.7/dist-packages/sklearn/linear_model/_logistic.py\", line 1461, in fit\n",
            "    solver = _check_solver(self.solver, self.penalty, self.dual)\n",
            "  File \"/usr/local/lib/python3.7/dist-packages/sklearn/linear_model/_logistic.py\", line 449, in _check_solver\n",
            "    % (solver, penalty)\n",
            "ValueError: Solver lbfgs supports only 'l2' or 'none' penalties, got l1 penalty.\n",
            "\n",
            "--------------------------------------------------------------------------------\n",
            "20 fits failed with the following error:\n",
            "Traceback (most recent call last):\n",
            "  File \"/usr/local/lib/python3.7/dist-packages/sklearn/model_selection/_validation.py\", line 681, in _fit_and_score\n",
            "    estimator.fit(X_train, y_train, **fit_params)\n",
            "  File \"/usr/local/lib/python3.7/dist-packages/sklearn/linear_model/_logistic.py\", line 1461, in fit\n",
            "    solver = _check_solver(self.solver, self.penalty, self.dual)\n",
            "  File \"/usr/local/lib/python3.7/dist-packages/sklearn/linear_model/_logistic.py\", line 449, in _check_solver\n",
            "    % (solver, penalty)\n",
            "ValueError: Solver newton-cg supports only 'l2' or 'none' penalties, got elasticnet penalty.\n",
            "\n",
            "--------------------------------------------------------------------------------\n",
            "20 fits failed with the following error:\n",
            "Traceback (most recent call last):\n",
            "  File \"/usr/local/lib/python3.7/dist-packages/sklearn/model_selection/_validation.py\", line 681, in _fit_and_score\n",
            "    estimator.fit(X_train, y_train, **fit_params)\n",
            "  File \"/usr/local/lib/python3.7/dist-packages/sklearn/linear_model/_logistic.py\", line 1461, in fit\n",
            "    solver = _check_solver(self.solver, self.penalty, self.dual)\n",
            "  File \"/usr/local/lib/python3.7/dist-packages/sklearn/linear_model/_logistic.py\", line 449, in _check_solver\n",
            "    % (solver, penalty)\n",
            "ValueError: Solver lbfgs supports only 'l2' or 'none' penalties, got elasticnet penalty.\n",
            "\n",
            "--------------------------------------------------------------------------------\n",
            "20 fits failed with the following error:\n",
            "Traceback (most recent call last):\n",
            "  File \"/usr/local/lib/python3.7/dist-packages/sklearn/model_selection/_validation.py\", line 681, in _fit_and_score\n",
            "    estimator.fit(X_train, y_train, **fit_params)\n",
            "  File \"/usr/local/lib/python3.7/dist-packages/sklearn/linear_model/_logistic.py\", line 1461, in fit\n",
            "    solver = _check_solver(self.solver, self.penalty, self.dual)\n",
            "  File \"/usr/local/lib/python3.7/dist-packages/sklearn/linear_model/_logistic.py\", line 459, in _check_solver\n",
            "    solver\n",
            "ValueError: Only 'saga' solver supports elasticnet penalty, got solver=liblinear.\n",
            "\n",
            "--------------------------------------------------------------------------------\n",
            "20 fits failed with the following error:\n",
            "Traceback (most recent call last):\n",
            "  File \"/usr/local/lib/python3.7/dist-packages/sklearn/model_selection/_validation.py\", line 681, in _fit_and_score\n",
            "    estimator.fit(X_train, y_train, **fit_params)\n",
            "  File \"/usr/local/lib/python3.7/dist-packages/sklearn/linear_model/_logistic.py\", line 1461, in fit\n",
            "    solver = _check_solver(self.solver, self.penalty, self.dual)\n",
            "  File \"/usr/local/lib/python3.7/dist-packages/sklearn/linear_model/_logistic.py\", line 464, in _check_solver\n",
            "    raise ValueError(\"penalty='none' is not supported for the liblinear solver\")\n",
            "ValueError: penalty='none' is not supported for the liblinear solver\n",
            "\n",
            "  warnings.warn(some_fits_failed_message, FitFailedWarning)\n",
            "/usr/local/lib/python3.7/dist-packages/sklearn/model_selection/_search.py:972: UserWarning: One or more of the test scores are non-finite: [       nan        nan 0.76014141 0.76014141 0.76014141 0.76014141\n",
            "        nan        nan        nan 0.72487047 0.75905117        nan\n",
            "        nan        nan 0.75908355 0.75598554 0.75598554 0.7570218\n",
            "        nan        nan        nan 0.72487047 0.75905117        nan\n",
            "        nan        nan 0.82759067 0.8037133  0.8037133  0.8037133\n",
            "        nan        nan        nan 0.72487047 0.75905117        nan\n",
            "        nan        nan 0.81825885 0.80892703 0.80892703 0.80892703\n",
            "        nan        nan        nan 0.72487047 0.75905117        nan]\n",
            "  category=UserWarning,\n",
            "/usr/local/lib/python3.7/dist-packages/sklearn/model_selection/_search.py:972: UserWarning: One or more of the train scores are non-finite: [       nan        nan 0.76012566 0.76012566 0.76012566 0.76012566\n",
            "        nan        nan        nan 0.99870197 0.97326057        nan\n",
            "        nan        nan 0.76427746 0.76479829 0.76479829 0.76479829\n",
            "        nan        nan        nan 0.99870197 0.97326057        nan\n",
            "        nan        nan 0.90861758 0.86241009 0.86241009 0.86241009\n",
            "        nan        nan        nan 0.99870197 0.97326057        nan\n",
            "        nan        nan 0.95379285 0.91121397 0.91121397 0.91121397\n",
            "        nan        nan        nan 0.99870197 0.97326057        nan]\n",
            "  category=UserWarning,\n"
          ]
        }
      ]
    },
    {
      "cell_type": "code",
      "source": [
        "#Grid search results\n",
        "search_results.best_params_"
      ],
      "metadata": {
        "colab": {
          "base_uri": "https://localhost:8080/"
        },
        "outputId": "94a9cf8b-7c75-49db-b6e5-41cb3854e3f0",
        "id": "Ea8tKN6eyGBA"
      },
      "execution_count": 14,
      "outputs": [
        {
          "output_type": "execute_result",
          "data": {
            "text/plain": [
              "{'C': 10, 'max_iter': 500, 'penalty': 'l1', 'solver': 'liblinear'}"
            ]
          },
          "metadata": {},
          "execution_count": 14
        }
      ]
    },
    {
      "cell_type": "code",
      "source": [
        "#Build the model with the best parameters\n",
        "lr = LogisticRegression(C = 10, penalty = 'l1', solver = 'liblinear', max_iter = 500, verbose = 3, n_jobs = -1)\n",
        "lr.fit(X_train.values, y_train.values)"
      ],
      "metadata": {
        "colab": {
          "base_uri": "https://localhost:8080/"
        },
        "outputId": "e2193b7c-2685-4f64-8b3e-66abd98984cf",
        "id": "Tozx8XGyyGBB"
      },
      "execution_count": 15,
      "outputs": [
        {
          "output_type": "stream",
          "name": "stdout",
          "text": [
            "[LibLinear]"
          ]
        },
        {
          "output_type": "stream",
          "name": "stderr",
          "text": [
            "/usr/local/lib/python3.7/dist-packages/sklearn/linear_model/_logistic.py:1526: UserWarning: 'n_jobs' > 1 does not have any effect when 'solver' is set to 'liblinear'. Got 'n_jobs' = 2.\n",
            "  \" = {}.\".format(effective_n_jobs(self.n_jobs))\n"
          ]
        },
        {
          "output_type": "execute_result",
          "data": {
            "text/plain": [
              "LogisticRegression(C=10, max_iter=500, n_jobs=-1, penalty='l1',\n",
              "                   solver='liblinear', verbose=3)"
            ]
          },
          "metadata": {},
          "execution_count": 15
        }
      ]
    },
    {
      "cell_type": "markdown",
      "source": [
        "### Graphs"
      ],
      "metadata": {
        "id": "r8Kb6EEdyGBD"
      }
    },
    {
      "cell_type": "code",
      "source": [
        "#Get the accuracy score for the performance\n",
        "lr_score = lr.score(X_test.values, y_test.values)\n",
        "print(f'Accuracy: {round(lr_score*100, 2)}%')"
      ],
      "metadata": {
        "colab": {
          "base_uri": "https://localhost:8080/"
        },
        "outputId": "5bcdbe60-c7d1-4307-fb76-7be8061d9efa",
        "id": "Z5Z3SzNuyGBD"
      },
      "execution_count": 16,
      "outputs": [
        {
          "output_type": "stream",
          "name": "stdout",
          "text": [
            "Accuracy: 87.75%\n"
          ]
        }
      ]
    },
    {
      "cell_type": "code",
      "source": [
        "#Predict with the test set\n",
        "index = np.random.randint(0, y_test.shape)\n",
        "y_output = y_test.values[index]\n",
        "prediction = lr.predict(X_test.values[index])\n",
        "print('Expected output: ', 'Non retired' if y_output == 0 else 'Retired',\n",
        "      '\\nPredicted output: ', 'Non retired' if prediction == 0 else 'Retired',\n",
        "      '\\nIndex: ', index)"
      ],
      "metadata": {
        "colab": {
          "base_uri": "https://localhost:8080/"
        },
        "outputId": "f42441ae-17d5-4cbe-c28c-bc70a9c10b33",
        "id": "zqPP02n5yGBE"
      },
      "execution_count": 17,
      "outputs": [
        {
          "output_type": "stream",
          "name": "stdout",
          "text": [
            "Expected output:  Retired \n",
            "Predicted output:  Retired \n",
            "Index:  [172]\n"
          ]
        }
      ]
    },
    {
      "cell_type": "code",
      "source": [
        "labels = [0, 1]\n",
        "y_predict = lr.predict(X_test.values)\n",
        "report = classification_report(y_test.values, y_predict, zero_division = 0, output_dict = True, labels = labels)\n",
        "df_report = pd.DataFrame.from_dict(report, orient = 'columns').T\n",
        "df_report.rename(index = {'0': 'non retired', '1': 'retired'}, inplace = True)\n",
        "cmap = sn.color_palette('mako', as_cmap = True)\n",
        "df_image = df_report.style.background_gradient(cmap = cmap)\n",
        "df_image\n",
        "#dfi.export(df_image, RESULTS_PATH + 'classification_report.png')\n",
        "#df_report[['precision', 'recall', 'f1-score']].style.applymap(lambda v: 'background: green' if (v > 0.5) else '')"
      ],
      "metadata": {
        "colab": {
          "base_uri": "https://localhost:8080/",
          "height": 206
        },
        "outputId": "6dbd9632-0233-4bf8-fac3-c559e60730d7",
        "id": "kznUX0_eyGBE"
      },
      "execution_count": 18,
      "outputs": [
        {
          "output_type": "execute_result",
          "data": {
            "text/html": [
              "<style  type=\"text/css\" >\n",
              "#T_cb3ed8e8_633d_11ec_ab04_0242ac1c0002row0_col0,#T_cb3ed8e8_633d_11ec_ab04_0242ac1c0002row1_col1,#T_cb3ed8e8_633d_11ec_ab04_0242ac1c0002row1_col2,#T_cb3ed8e8_633d_11ec_ab04_0242ac1c0002row3_col3,#T_cb3ed8e8_633d_11ec_ab04_0242ac1c0002row4_col3{\n",
              "            background-color:  #def5e5;\n",
              "            color:  #000000;\n",
              "        }#T_cb3ed8e8_633d_11ec_ab04_0242ac1c0002row0_col1,#T_cb3ed8e8_633d_11ec_ab04_0242ac1c0002row0_col2,#T_cb3ed8e8_633d_11ec_ab04_0242ac1c0002row1_col0,#T_cb3ed8e8_633d_11ec_ab04_0242ac1c0002row2_col3{\n",
              "            background-color:  #0b0405;\n",
              "            color:  #f1f1f1;\n",
              "        }#T_cb3ed8e8_633d_11ec_ab04_0242ac1c0002row0_col3,#T_cb3ed8e8_633d_11ec_ab04_0242ac1c0002row4_col0{\n",
              "            background-color:  #3e5095;\n",
              "            color:  #f1f1f1;\n",
              "        }#T_cb3ed8e8_633d_11ec_ab04_0242ac1c0002row1_col3,#T_cb3ed8e8_633d_11ec_ab04_0242ac1c0002row2_col1,#T_cb3ed8e8_633d_11ec_ab04_0242ac1c0002row4_col1,#T_cb3ed8e8_633d_11ec_ab04_0242ac1c0002row4_col2{\n",
              "            background-color:  #36a3ab;\n",
              "            color:  #000000;\n",
              "        }#T_cb3ed8e8_633d_11ec_ab04_0242ac1c0002row2_col0{\n",
              "            background-color:  #403c79;\n",
              "            color:  #f1f1f1;\n",
              "        }#T_cb3ed8e8_633d_11ec_ab04_0242ac1c0002row2_col2{\n",
              "            background-color:  #3aaead;\n",
              "            color:  #000000;\n",
              "        }#T_cb3ed8e8_633d_11ec_ab04_0242ac1c0002row3_col0,#T_cb3ed8e8_633d_11ec_ab04_0242ac1c0002row3_col1,#T_cb3ed8e8_633d_11ec_ab04_0242ac1c0002row3_col2{\n",
              "            background-color:  #357ba3;\n",
              "            color:  #000000;\n",
              "        }</style><table id=\"T_cb3ed8e8_633d_11ec_ab04_0242ac1c0002\" class=\"dataframe\"><thead>    <tr>        <th class=\"blank level0\" ></th>        <th class=\"col_heading level0 col0\" >precision</th>        <th class=\"col_heading level0 col1\" >recall</th>        <th class=\"col_heading level0 col2\" >f1-score</th>        <th class=\"col_heading level0 col3\" >support</th>    </tr></thead><tbody>\n",
              "                <tr>\n",
              "                        <th id=\"T_cb3ed8e8_633d_11ec_ab04_0242ac1c0002level0_row0\" class=\"row_heading level0 row0\" >non retired</th>\n",
              "                        <td id=\"T_cb3ed8e8_633d_11ec_ab04_0242ac1c0002row0_col0\" class=\"data row0 col0\" >0.917647</td>\n",
              "                        <td id=\"T_cb3ed8e8_633d_11ec_ab04_0242ac1c0002row0_col1\" class=\"data row0 col1\" >0.722222</td>\n",
              "                        <td id=\"T_cb3ed8e8_633d_11ec_ab04_0242ac1c0002row0_col2\" class=\"data row0 col2\" >0.808290</td>\n",
              "                        <td id=\"T_cb3ed8e8_633d_11ec_ab04_0242ac1c0002row0_col3\" class=\"data row0 col3\" >108.000000</td>\n",
              "            </tr>\n",
              "            <tr>\n",
              "                        <th id=\"T_cb3ed8e8_633d_11ec_ab04_0242ac1c0002level0_row1\" class=\"row_heading level0 row1\" >retired</th>\n",
              "                        <td id=\"T_cb3ed8e8_633d_11ec_ab04_0242ac1c0002row1_col0\" class=\"data row1 col0\" >0.861751</td>\n",
              "                        <td id=\"T_cb3ed8e8_633d_11ec_ab04_0242ac1c0002row1_col1\" class=\"data row1 col1\" >0.963918</td>\n",
              "                        <td id=\"T_cb3ed8e8_633d_11ec_ab04_0242ac1c0002row1_col2\" class=\"data row1 col2\" >0.909976</td>\n",
              "                        <td id=\"T_cb3ed8e8_633d_11ec_ab04_0242ac1c0002row1_col3\" class=\"data row1 col3\" >194.000000</td>\n",
              "            </tr>\n",
              "            <tr>\n",
              "                        <th id=\"T_cb3ed8e8_633d_11ec_ab04_0242ac1c0002level0_row2\" class=\"row_heading level0 row2\" >accuracy</th>\n",
              "                        <td id=\"T_cb3ed8e8_633d_11ec_ab04_0242ac1c0002row2_col0\" class=\"data row2 col0\" >0.877483</td>\n",
              "                        <td id=\"T_cb3ed8e8_633d_11ec_ab04_0242ac1c0002row2_col1\" class=\"data row2 col1\" >0.877483</td>\n",
              "                        <td id=\"T_cb3ed8e8_633d_11ec_ab04_0242ac1c0002row2_col2\" class=\"data row2 col2\" >0.877483</td>\n",
              "                        <td id=\"T_cb3ed8e8_633d_11ec_ab04_0242ac1c0002row2_col3\" class=\"data row2 col3\" >0.877483</td>\n",
              "            </tr>\n",
              "            <tr>\n",
              "                        <th id=\"T_cb3ed8e8_633d_11ec_ab04_0242ac1c0002level0_row3\" class=\"row_heading level0 row3\" >macro avg</th>\n",
              "                        <td id=\"T_cb3ed8e8_633d_11ec_ab04_0242ac1c0002row3_col0\" class=\"data row3 col0\" >0.889699</td>\n",
              "                        <td id=\"T_cb3ed8e8_633d_11ec_ab04_0242ac1c0002row3_col1\" class=\"data row3 col1\" >0.843070</td>\n",
              "                        <td id=\"T_cb3ed8e8_633d_11ec_ab04_0242ac1c0002row3_col2\" class=\"data row3 col2\" >0.859133</td>\n",
              "                        <td id=\"T_cb3ed8e8_633d_11ec_ab04_0242ac1c0002row3_col3\" class=\"data row3 col3\" >302.000000</td>\n",
              "            </tr>\n",
              "            <tr>\n",
              "                        <th id=\"T_cb3ed8e8_633d_11ec_ab04_0242ac1c0002level0_row4\" class=\"row_heading level0 row4\" >weighted avg</th>\n",
              "                        <td id=\"T_cb3ed8e8_633d_11ec_ab04_0242ac1c0002row4_col0\" class=\"data row4 col0\" >0.881740</td>\n",
              "                        <td id=\"T_cb3ed8e8_633d_11ec_ab04_0242ac1c0002row4_col1\" class=\"data row4 col1\" >0.877483</td>\n",
              "                        <td id=\"T_cb3ed8e8_633d_11ec_ab04_0242ac1c0002row4_col2\" class=\"data row4 col2\" >0.873611</td>\n",
              "                        <td id=\"T_cb3ed8e8_633d_11ec_ab04_0242ac1c0002row4_col3\" class=\"data row4 col3\" >302.000000</td>\n",
              "            </tr>\n",
              "    </tbody></table>"
            ],
            "text/plain": [
              "<pandas.io.formats.style.Styler at 0x7ff0f9400dd0>"
            ]
          },
          "metadata": {},
          "execution_count": 18
        }
      ]
    },
    {
      "cell_type": "code",
      "source": [
        "# Confusion matrix plot\n",
        "#y_predict = np.zeros(y_predicted.shape[0])\n",
        "#for i in range(y_predicted.shape[0]):\n",
        "#    y_predict[i] = y_predicted[i,:].argmax() \n",
        "    \n",
        "y_expect = y_test.values\n",
        "labels = [0, 1]\n",
        "str_labels = ['Non retired', 'Retired']\n",
        "cm = confusion_matrix(y_expect, y_predict, labels = labels)\n",
        "df_cm = pd.DataFrame(cm, index = str_labels, columns = str_labels)\n",
        "\n",
        "fig = plt.figure(figsize = (8, 8))\n",
        "ax = fig.add_subplot(2, 1, 1)\n",
        "ax.set_title('Confusion Matrix (Percentage)')\n",
        "sn.set(font_scale = 0.8)\n",
        "percentage = df_cm/df_cm.sum()\n",
        "ax = sn.heatmap(percentage.replace(np.nan, 0), annot = True, fmt = '.2%', cmap = 'mako')\n",
        "ax.set_xlabel('Predicted label')\n",
        "ax.set_ylabel('Expected label')\n",
        "\n",
        "ax = fig.add_subplot(2, 1, 2)\n",
        "ax.set_title('Confusion Matrix (Number)')\n",
        "ax = sn.heatmap(df_cm, annot = True, fmt = 'd', cmap = 'crest')\n",
        "ax.set_xlabel('Predicted label')\n",
        "ax.set_ylabel('Expected label')\n",
        "fig.tight_layout()\n",
        "plt.show()\n",
        "\n",
        "#ax.figure.savefig(RESULTS_PATH + 'confusionMatrix1.png')\n",
        "#disp = ConfusionMatrixDisplay(confusion_matrix = cm, display_labels = labels)\n",
        "#disp.plot()"
      ],
      "metadata": {
        "colab": {
          "base_uri": "https://localhost:8080/",
          "height": 586
        },
        "outputId": "d3cd7203-de55-4477-d05a-48c4210c4c98",
        "id": "oUTPsMF0yGBF"
      },
      "execution_count": 19,
      "outputs": [
        {
          "output_type": "display_data",
          "data": {
            "image/png": "[encoded data removed]",
            "text/plain": [
              "<Figure size 576x576 with 4 Axes>"
            ]
          },
          "metadata": {
            "needs_background": "light"
          }
        }
      ]
    },
    {
      "cell_type": "markdown",
      "source": [
        "### Results"
      ],
      "metadata": {
        "id": "pmJJuJpFyGBG"
      }
    },
    {
      "cell_type": "code",
      "source": [
        ""
      ],
      "metadata": {
        "id": "nlQJH0U5yGBG"
      },
      "execution_count": null,
      "outputs": []
    },
    {
      "cell_type": "code",
      "source": [
        ""
      ],
      "metadata": {
        "id": "l9gBruhcyGBG"
      },
      "execution_count": null,
      "outputs": []
    },
    {
      "cell_type": "code",
      "source": [
        ""
      ],
      "metadata": {
        "id": "XoLHXaRuyGBG"
      },
      "execution_count": null,
      "outputs": []
    },
    {
      "cell_type": "code",
      "source": [
        ""
      ],
      "metadata": {
        "id": "i9FtFsXkyGBH"
      },
      "execution_count": null,
      "outputs": []
    },
    {
      "cell_type": "markdown",
      "source": [
        "### Metrics"
      ],
      "metadata": {
        "id": "fQg4BT8oyGBH"
      }
    },
    {
      "cell_type": "code",
      "source": [
        ""
      ],
      "metadata": {
        "id": "Xc74fj4QyGBH"
      },
      "execution_count": null,
      "outputs": []
    },
    {
      "cell_type": "code",
      "source": [
        ""
      ],
      "metadata": {
        "id": "1hv7YwERyGBI"
      },
      "execution_count": null,
      "outputs": []
    },
    {
      "cell_type": "markdown",
      "source": [
        "### End"
      ],
      "metadata": {
        "id": "zY91hJWTyGBI"
      }
    }
  ]
}