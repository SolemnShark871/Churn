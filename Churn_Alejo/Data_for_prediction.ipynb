{
 "cells": [
  {
   "cell_type": "code",
   "execution_count": 6,
   "metadata": {
    "collapsed": true
   },
   "outputs": [],
   "source": [
    "import os\n",
    "import pandas as pd\n",
    "import datetime\n",
    "from datetime import date\n",
    "import cx_Oracle\n",
    "import configuration as config"
   ]
  },
  {
   "cell_type": "code",
   "execution_count": 7,
   "outputs": [
    {
     "name": "stdout",
     "output_type": "stream",
     "text": [
      "12.1.0.2.0\n"
     ]
    }
   ],
   "source": [
    "'''Conexión a la base de datos'''\n",
    "#cx_Oracle.init_oracle_client(lib_dir=config.lib_dir)\n",
    "connection = None\n",
    "try:\n",
    "    connection = cx_Oracle.connect(\n",
    "        config.username,\n",
    "        config.password,\n",
    "        config.dsn,\n",
    "        encoding=config.encoding)\n",
    "    # show the version of the Oracle Database\n",
    "    print(connection.version)\n",
    "except cx_Oracle.Error as error:\n",
    "    print(\"error:\", error)"
   ],
   "metadata": {
    "collapsed": false,
    "pycharm": {
     "name": "#%%\n"
    }
   }
  },
  {
   "cell_type": "markdown",
   "source": [
    "### Consultas personas HOY"
   ],
   "metadata": {
    "collapsed": false
   }
  },
  {
   "cell_type": "code",
   "execution_count": 8,
   "outputs": [
    {
     "name": "stdout",
     "output_type": "stream",
     "text": [
      "Duración de Consulta (seg): 0:00:00.677621\n"
     ]
    },
    {
     "data": {
      "text/plain": "   PERSONA  ASIGNACIONES_FACTURADAS\n0        6                        0\n1        8                        0",
      "text/html": "<div>\n<style scoped>\n    .dataframe tbody tr th:only-of-type {\n        vertical-align: middle;\n    }\n\n    .dataframe tbody tr th {\n        vertical-align: top;\n    }\n\n    .dataframe thead th {\n        text-align: right;\n    }\n</style>\n<table border=\"1\" class=\"dataframe\">\n  <thead>\n    <tr style=\"text-align: right;\">\n      <th></th>\n      <th>PERSONA</th>\n      <th>ASIGNACIONES_FACTURADAS</th>\n    </tr>\n  </thead>\n  <tbody>\n    <tr>\n      <th>0</th>\n      <td>6</td>\n      <td>0</td>\n    </tr>\n    <tr>\n      <th>1</th>\n      <td>8</td>\n      <td>0</td>\n    </tr>\n  </tbody>\n</table>\n</div>"
     },
     "execution_count": 8,
     "metadata": {},
     "output_type": "execute_result"
    }
   ],
   "source": [
    "# numero de asignaciones facturadas x persona\n",
    "time_start = datetime.datetime.now()\n",
    "\n",
    "cur = connection.cursor()\n",
    "cur.execute(\"\\\n",
    "SELECT P.CONSECUTIVO AS PERSONA, CASE WHEN  H.ASIGNACIONES_FACTURADAS IS NULL THEN 0 ELSE H.ASIGNACIONES_FACTURADAS END AS ASIGNACIONES_FACTURADAS \\\n",
    "FROM PERSONAS P \\\n",
    "LEFT JOIN ( \\\n",
    "SELECT P.CONSECUTIVO AS PERSONA, COUNT(A.TARIFA_HORA) AS ASIGNACIONES_FACTURADAS \\\n",
    "FROM ASIGNACIONES A \\\n",
    "INNER JOIN ASIGNACIONES_HISTORICOS AH ON A.CONSECUTIVO = AH.CON_ASIG \\\n",
    "INNER JOIN PERSONAS P                 ON P.CONSECUTIVO = A.CON_PERSONA \\\n",
    "WHERE AH.FECHA_FIN > ADD_MONTHS(CAST(CURRENT_TIMESTAMP AS DATE), -12) \\\n",
    "AND   AH.FECHA_FIN < CAST(CURRENT_TIMESTAMP AS DATE) \\\n",
    "AND   A.TARIFA_HORA > 0 \\\n",
    "GROUP BY P.CONSECUTIVO) H ON P.CONSECUTIVO = H.PERSONA \\\n",
    "WHERE P.FECHA_RETIRO IS NULL \\\n",
    "AND   P.FECHA_INGRESO <= ADD_MONTHS(CAST(CURRENT_TIMESTAMP AS DATE),-3) \\\n",
    "AND  P.GERENCIA_RESPONSABLE  <> 'INTELIGENCIA ARTIFICIAL'  \\\n",
    "ORDER BY P.CONSECUTIVO\")\n",
    "res = cur.fetchall()\n",
    "\n",
    "query_time = datetime.datetime.now() - time_start\n",
    "print(f\"Duración de Consulta (seg): {query_time}\")\n",
    "\n",
    "df_facturas_persona = pd.DataFrame(res , columns=['PERSONA', 'ASIGNACIONES_FACTURADAS'])\n",
    "df_facturas_persona.head(2)"
   ],
   "metadata": {
    "collapsed": false,
    "pycharm": {
     "name": "#%%\n"
    }
   }
  },
  {
   "cell_type": "code",
   "execution_count": 9,
   "outputs": [
    {
     "name": "stdout",
     "output_type": "stream",
     "text": [
      "Duración de Consulta (seg): 0:00:00.640302\n"
     ]
    },
    {
     "data": {
      "text/plain": "   PERSONA  ASIGNACIONES_NO_FACTURADAS\n0        6                          14\n1        8                          17",
      "text/html": "<div>\n<style scoped>\n    .dataframe tbody tr th:only-of-type {\n        vertical-align: middle;\n    }\n\n    .dataframe tbody tr th {\n        vertical-align: top;\n    }\n\n    .dataframe thead th {\n        text-align: right;\n    }\n</style>\n<table border=\"1\" class=\"dataframe\">\n  <thead>\n    <tr style=\"text-align: right;\">\n      <th></th>\n      <th>PERSONA</th>\n      <th>ASIGNACIONES_NO_FACTURADAS</th>\n    </tr>\n  </thead>\n  <tbody>\n    <tr>\n      <th>0</th>\n      <td>6</td>\n      <td>14</td>\n    </tr>\n    <tr>\n      <th>1</th>\n      <td>8</td>\n      <td>17</td>\n    </tr>\n  </tbody>\n</table>\n</div>"
     },
     "execution_count": 9,
     "metadata": {},
     "output_type": "execute_result"
    }
   ],
   "source": [
    "# numero de asignaciones no facturadas x persona\n",
    "time_start = datetime.datetime.now()\n",
    "\n",
    "cur.execute(\"\\\n",
    "SELECT P.CONSECUTIVO AS PERSONA, CASE WHEN  H.ASIGNACIONES_NO_FACTURADAS IS NULL THEN 0 ELSE H.ASIGNACIONES_NO_FACTURADAS END AS ASIGNACIONES_NO_FACTURADAS \\\n",
    "FROM PERSONAS P \\\n",
    "LEFT JOIN ( \\\n",
    "SELECT P.CONSECUTIVO AS PERSONA, COUNT(A.TARIFA_HORA) AS ASIGNACIONES_NO_FACTURADAS \\\n",
    "FROM ASIGNACIONES A \\\n",
    "INNER JOIN ASIGNACIONES_HISTORICOS AH ON A.CONSECUTIVO = AH.CON_ASIG \\\n",
    "INNER JOIN PERSONAS P                 ON P.CONSECUTIVO = A.CON_PERSONA \\\n",
    "WHERE AH.FECHA_FIN > ADD_MONTHS(CAST(CURRENT_TIMESTAMP AS DATE), -12) \\\n",
    "AND   AH.FECHA_FIN < CAST(CURRENT_TIMESTAMP AS DATE) \\\n",
    "AND   A.TARIFA_HORA = 0 \\\n",
    "GROUP BY P.CONSECUTIVO) H ON P.CONSECUTIVO = H.PERSONA \\\n",
    "WHERE P.FECHA_RETIRO IS NULL \\\n",
    "AND   P.FECHA_INGRESO <= ADD_MONTHS(CAST(CURRENT_TIMESTAMP AS DATE),-3) \\\n",
    "AND   P.GERENCIA_RESPONSABLE  <> 'INTELIGENCIA ARTIFICIAL'  \\\n",
    "ORDER BY P.CONSECUTIVO\")\n",
    "res = cur.fetchall()\n",
    "\n",
    "query_time = datetime.datetime.now() - time_start\n",
    "print(f\"Duración de Consulta (seg): {query_time}\")\n",
    "\n",
    "df_nofacturas_persona = pd.DataFrame(res , columns=['PERSONA', 'ASIGNACIONES_NO_FACTURADAS'])\n",
    "df_nofacturas_persona.head(2)"
   ],
   "metadata": {
    "collapsed": false,
    "pycharm": {
     "name": "#%%\n"
    }
   }
  },
  {
   "cell_type": "code",
   "execution_count": 10,
   "outputs": [
    {
     "name": "stdout",
     "output_type": "stream",
     "text": [
      "Duración de Consulta (seg): 0:00:07.778646\n"
     ]
    },
    {
     "data": {
      "text/plain": "         AC_TP  ADM_TP  AI_TP  AP_TP  CO_TP  CU_TP  GC_TP  HD_TP  IN_TP  \\\nPERSONA                                                                   \n6            0      13      0      0      0      0      0      0      0   \n8            1      14      0      0      0      0      0      0      0   \n\n         LI_TP  NE_TP  OP_TP  PD_TP  PM_TP  PR_TP  RE_TP  SE_TP  SM_TP  SO_TP  \\\nPERSONA                                                                         \n6            0      0      0      0      1      0      0      0      0      0   \n8            0      0      0      0      2      0      0      0      0      0   \n\n         TD_TP  \nPERSONA         \n6            0  \n8            0  ",
      "text/html": "<div>\n<style scoped>\n    .dataframe tbody tr th:only-of-type {\n        vertical-align: middle;\n    }\n\n    .dataframe tbody tr th {\n        vertical-align: top;\n    }\n\n    .dataframe thead th {\n        text-align: right;\n    }\n</style>\n<table border=\"1\" class=\"dataframe\">\n  <thead>\n    <tr style=\"text-align: right;\">\n      <th></th>\n      <th>AC_TP</th>\n      <th>ADM_TP</th>\n      <th>AI_TP</th>\n      <th>AP_TP</th>\n      <th>CO_TP</th>\n      <th>CU_TP</th>\n      <th>GC_TP</th>\n      <th>HD_TP</th>\n      <th>IN_TP</th>\n      <th>LI_TP</th>\n      <th>NE_TP</th>\n      <th>OP_TP</th>\n      <th>PD_TP</th>\n      <th>PM_TP</th>\n      <th>PR_TP</th>\n      <th>RE_TP</th>\n      <th>SE_TP</th>\n      <th>SM_TP</th>\n      <th>SO_TP</th>\n      <th>TD_TP</th>\n    </tr>\n    <tr>\n      <th>PERSONA</th>\n      <th></th>\n      <th></th>\n      <th></th>\n      <th></th>\n      <th></th>\n      <th></th>\n      <th></th>\n      <th></th>\n      <th></th>\n      <th></th>\n      <th></th>\n      <th></th>\n      <th></th>\n      <th></th>\n      <th></th>\n      <th></th>\n      <th></th>\n      <th></th>\n      <th></th>\n      <th></th>\n    </tr>\n  </thead>\n  <tbody>\n    <tr>\n      <th>6</th>\n      <td>0</td>\n      <td>13</td>\n      <td>0</td>\n      <td>0</td>\n      <td>0</td>\n      <td>0</td>\n      <td>0</td>\n      <td>0</td>\n      <td>0</td>\n      <td>0</td>\n      <td>0</td>\n      <td>0</td>\n      <td>0</td>\n      <td>1</td>\n      <td>0</td>\n      <td>0</td>\n      <td>0</td>\n      <td>0</td>\n      <td>0</td>\n      <td>0</td>\n    </tr>\n    <tr>\n      <th>8</th>\n      <td>1</td>\n      <td>14</td>\n      <td>0</td>\n      <td>0</td>\n      <td>0</td>\n      <td>0</td>\n      <td>0</td>\n      <td>0</td>\n      <td>0</td>\n      <td>0</td>\n      <td>0</td>\n      <td>0</td>\n      <td>0</td>\n      <td>2</td>\n      <td>0</td>\n      <td>0</td>\n      <td>0</td>\n      <td>0</td>\n      <td>0</td>\n      <td>0</td>\n    </tr>\n  </tbody>\n</table>\n</div>"
     },
     "execution_count": 10,
     "metadata": {},
     "output_type": "execute_result"
    }
   ],
   "source": [
    "#Asignaciones de personas por tipos de servicio\n",
    "time_start = datetime.datetime.now()\n",
    "\n",
    "cur.execute(\"\\\n",
    "SELECT A.PERSONA, A.TIPO_SERVICIO, CASE WHEN B.CANTIDAD_TIPOS_SERVICIO IS NULL THEN 0 ELSE B.CANTIDAD_TIPOS_SERVICIO END \\\n",
    "FROM ( \\\n",
    "\tSELECT P.CONSECUTIVO AS PERSONA, C.RV_LOW_VALUE AS TIPO_SERVICIO \\\n",
    "\tFROM CG_REF_CODES C \\\n",
    "\tCROSS JOIN PERSONAS P \\\n",
    "\tWHERE P.ESTADO = 1 \\\n",
    "\tAND C.RV_DOMAIN = 'TIPO_PROYECTO' \\\n",
    "\tAND P.FECHA_RETIRO IS NULL \\\n",
    "    AND P.FECHA_INGRESO <= ADD_MONTHS(CAST(CURRENT_TIMESTAMP AS DATE),-3) \\\n",
    "    AND  P.GERENCIA_RESPONSABLE  <> 'INTELIGENCIA ARTIFICIAL'  \\\n",
    "\tGROUP BY P.CONSECUTIVO,C.RV_LOW_VALUE ) A \\\n",
    "LEFT JOIN ( \\\n",
    "\tSELECT P.CONSECUTIVO AS PERSONA, S.TIPO AS TIPO_SERVICIO, COUNT(S.TIPO) AS CANTIDAD_TIPOS_SERVICIO \\\n",
    "\tFROM ASIGNACIONES A \\\n",
    "\tINNER JOIN ASIGNACIONES_HISTORICOS AH ON A.CONSECUTIVO  = AH.CON_ASIG \\\n",
    "\tINNER JOIN PERSONAS P                 ON A.CON_PERSONA  = P.CONSECUTIVO \\\n",
    "\tINNER JOIN SERVICIOS S                ON A.COD_SERVICIO = S.CODIGO_SERVICIO \\\n",
    "\tWHERE P.ESTADO = 1 \\\n",
    "\tAND AH.FECHA_FIN > ADD_MONTHS(CAST(CURRENT_TIMESTAMP AS DATE),-12) \\\n",
    "\tAND   AH.FECHA_FIN < CAST(CURRENT_TIMESTAMP AS DATE) \\\n",
    "\tAND   P.FECHA_RETIRO IS NULL \\\n",
    "\tGROUP BY P.CONSECUTIVO, S.TIPO ) B ON A.PERSONA = B.PERSONA AND A.TIPO_SERVICIO = B.TIPO_SERVICIO \\\n",
    "ORDER BY A.PERSONA,A.TIPO_SERVICIO\")\n",
    "res = cur.fetchall()\n",
    "\n",
    "query_time = datetime.datetime.now() - time_start\n",
    "print(f\"Duración de Consulta (seg): {query_time}\")\n",
    "\n",
    "df_tiposervicio_persona = pd.DataFrame(res , columns=['PERSONA', 'TIPO_SERVICIO','CANTIDAD_TIPOS_SERVICIO'])\n",
    "pv_tiposervicio_persona = pd.pivot_table(df_tiposervicio_persona, values='CANTIDAD_TIPOS_SERVICIO', index=['PERSONA'], columns='TIPO_SERVICIO', fill_value=0)\n",
    "pv_tiposervicio_persona.columns = [str(col) + '_TP' for col in pv_tiposervicio_persona.columns]\n",
    "pv_tiposervicio_persona.head(2)"
   ],
   "metadata": {
    "collapsed": false,
    "pycharm": {
     "name": "#%%\n"
    }
   }
  },
  {
   "cell_type": "code",
   "execution_count": 11,
   "outputs": [
    {
     "name": "stdout",
     "output_type": "stream",
     "text": [
      "Duración de Consulta (seg): 0:00:12.046504\n"
     ]
    },
    {
     "data": {
      "text/plain": "         AC_HR  ADM_HR  AI_HR  AP_HR  CO_HR  CU_HR  GC_HR  HD_HR  IN_HR  \\\nPERSONA                                                                   \n6          0.0  292.00      0    0.0      0      0      0    0.0    0.0   \n8          0.0  522.83      0    0.0      0      0      0    0.0    0.0   \n\n         LI_HR  NE_HR  OP_HR  PD_HR  PM_HR  PR_HR  RE_HR  SE_HR  SM_HR  SO_HR  \\\nPERSONA                                                                         \n6            0    0.0    0.0    0.0    0.0      0      0    0.0    0.0    0.0   \n8            0    0.0    0.0    0.0    0.0      0      0    0.0    0.0    0.0   \n\n         TD_HR  \nPERSONA         \n6          0.0  \n8          0.0  ",
      "text/html": "<div>\n<style scoped>\n    .dataframe tbody tr th:only-of-type {\n        vertical-align: middle;\n    }\n\n    .dataframe tbody tr th {\n        vertical-align: top;\n    }\n\n    .dataframe thead th {\n        text-align: right;\n    }\n</style>\n<table border=\"1\" class=\"dataframe\">\n  <thead>\n    <tr style=\"text-align: right;\">\n      <th></th>\n      <th>AC_HR</th>\n      <th>ADM_HR</th>\n      <th>AI_HR</th>\n      <th>AP_HR</th>\n      <th>CO_HR</th>\n      <th>CU_HR</th>\n      <th>GC_HR</th>\n      <th>HD_HR</th>\n      <th>IN_HR</th>\n      <th>LI_HR</th>\n      <th>NE_HR</th>\n      <th>OP_HR</th>\n      <th>PD_HR</th>\n      <th>PM_HR</th>\n      <th>PR_HR</th>\n      <th>RE_HR</th>\n      <th>SE_HR</th>\n      <th>SM_HR</th>\n      <th>SO_HR</th>\n      <th>TD_HR</th>\n    </tr>\n    <tr>\n      <th>PERSONA</th>\n      <th></th>\n      <th></th>\n      <th></th>\n      <th></th>\n      <th></th>\n      <th></th>\n      <th></th>\n      <th></th>\n      <th></th>\n      <th></th>\n      <th></th>\n      <th></th>\n      <th></th>\n      <th></th>\n      <th></th>\n      <th></th>\n      <th></th>\n      <th></th>\n      <th></th>\n      <th></th>\n    </tr>\n  </thead>\n  <tbody>\n    <tr>\n      <th>6</th>\n      <td>0.0</td>\n      <td>292.00</td>\n      <td>0</td>\n      <td>0.0</td>\n      <td>0</td>\n      <td>0</td>\n      <td>0</td>\n      <td>0.0</td>\n      <td>0.0</td>\n      <td>0</td>\n      <td>0.0</td>\n      <td>0.0</td>\n      <td>0.0</td>\n      <td>0.0</td>\n      <td>0</td>\n      <td>0</td>\n      <td>0.0</td>\n      <td>0.0</td>\n      <td>0.0</td>\n      <td>0.0</td>\n    </tr>\n    <tr>\n      <th>8</th>\n      <td>0.0</td>\n      <td>522.83</td>\n      <td>0</td>\n      <td>0.0</td>\n      <td>0</td>\n      <td>0</td>\n      <td>0</td>\n      <td>0.0</td>\n      <td>0.0</td>\n      <td>0</td>\n      <td>0.0</td>\n      <td>0.0</td>\n      <td>0.0</td>\n      <td>0.0</td>\n      <td>0</td>\n      <td>0</td>\n      <td>0.0</td>\n      <td>0.0</td>\n      <td>0.0</td>\n      <td>0.0</td>\n    </tr>\n  </tbody>\n</table>\n</div>"
     },
     "execution_count": 11,
     "metadata": {},
     "output_type": "execute_result"
    }
   ],
   "source": [
    "#Horas de personas por tipos de servicio\n",
    "time_start = datetime.datetime.now()\n",
    "\n",
    "cur.execute(\"\\\n",
    "SELECT A.PERSONA, A.TIPO_SERVICIO, CASE WHEN B.HORAS_TIPO_SERVICIO IS NULL THEN 0 ELSE B.HORAS_TIPO_SERVICIO END \\\n",
    "FROM ( \\\n",
    "\tSELECT P.CONSECUTIVO AS PERSONA, C.RV_LOW_VALUE AS TIPO_SERVICIO \\\n",
    "\tFROM CG_REF_CODES C \\\n",
    "\tCROSS JOIN PERSONAS P \\\n",
    "\tWHERE P.ESTADO = 1 \\\n",
    "\tAND C.RV_DOMAIN = 'TIPO_PROYECTO' \\\n",
    "\tAND P.FECHA_RETIRO IS NULL \\\n",
    "    AND P.FECHA_INGRESO <= ADD_MONTHS(CAST(CURRENT_TIMESTAMP AS DATE),-3) \\\n",
    "    AND  P.GERENCIA_RESPONSABLE  <> 'INTELIGENCIA ARTIFICIAL'  \\\n",
    "\tGROUP BY P.CONSECUTIVO,C.RV_LOW_VALUE ) A \\\n",
    "LEFT JOIN ( \\\n",
    "\tSELECT \\\n",
    "\tP.CONSECUTIVO          AS PERSONA, \\\n",
    "\tS.TIPO                 AS TIPO_SERVICIO, \\\n",
    "\tSUM(EA.DURACION_HORAS) AS HORAS_TIPO_SERVICIO \\\n",
    "\tFROM EJECUCION_ACTIVIDADES EA \\\n",
    "\tINNER JOIN ENTREGABLES_SERVICIO ES ON EA.CON_ENTREGABLE_SERV = ES.CONSECUTIVO \\\n",
    "\tINNER JOIN SERVICIOS S             ON ES.COD_SERVICIO        = S.CODIGO_SERVICIO \\\n",
    "\tINNER JOIN PERSONAS  P             ON EA.CONSECUTIVO_PERSONA = P.CONSECUTIVO \\\n",
    "\tWHERE P.ESTADO = 1 \\\n",
    "\tAND EA.HORA_FINALIZACION > ADD_MONTHS(CAST(CURRENT_TIMESTAMP AS DATE), -12) \\\n",
    "\tAND   EA.HORA_FINALIZACION < CAST(CURRENT_TIMESTAMP AS DATE) \\\n",
    "\tGROUP BY P.CONSECUTIVO, S.TIPO ) B ON A.PERSONA = B.PERSONA AND A.TIPO_SERVICIO = B.TIPO_SERVICIO \\\n",
    "ORDER BY A.PERSONA,A.TIPO_SERVICIO\")\n",
    "res = cur.fetchall()\n",
    "\n",
    "query_time = datetime.datetime.now() - time_start\n",
    "print(f\"Duración de Consulta (seg): {query_time}\")\n",
    "\n",
    "df_horas_tiposervicio_persona = pd.DataFrame(res , columns=['PERSONA', 'TIPO_SERVICIO','HORAS_TIPO_SERVICIO'])\n",
    "pv_horas_tiposervicio_persona = pd.pivot_table(df_horas_tiposervicio_persona, values='HORAS_TIPO_SERVICIO', index=['PERSONA'], columns='TIPO_SERVICIO', fill_value=0)\n",
    "pv_horas_tiposervicio_persona.columns = [str(col) + '_HR' for col in pv_horas_tiposervicio_persona.columns]\n",
    "pv_horas_tiposervicio_persona.head(2)"
   ],
   "metadata": {
    "collapsed": false,
    "pycharm": {
     "name": "#%%\n"
    }
   }
  },
  {
   "cell_type": "code",
   "execution_count": 12,
   "outputs": [
    {
     "name": "stdout",
     "output_type": "stream",
     "text": [
      "Duración de Consulta (seg): 0:01:06.341634\n"
     ]
    },
    {
     "data": {
      "text/plain": "HERRAMIENTA  .NET  .NET Core  ANGULAR  AWS  Activemq  Alibaba  Android / Java  \\\nPERSONA                                                                         \n6               0          0        0    0         0        0               0   \n8               0          0        0    0         0        0               0   \n\nHERRAMIENTA  Android / Kotlin  Angular  Apache Airflow  ...  Travis CI  \\\nPERSONA                                                 ...              \n6                           0        0               0  ...          0   \n8                           0        0               0  ...          0   \n\nHERRAMIENTA  TypeScript  Vue  WEBLOGIC  Websphere  Websphere Message Broker  \\\nPERSONA                                                                       \n6                     0    0         0          0                         0   \n8                     0    0         0          0                         0   \n\nHERRAMIENTA  Wordpress  Xamarin  iOS / Objetive C  iOS / Swift  \nPERSONA                                                         \n6                    0        0                 0            0  \n8                    0        0                 0            0  \n\n[2 rows x 185 columns]",
      "text/html": "<div>\n<style scoped>\n    .dataframe tbody tr th:only-of-type {\n        vertical-align: middle;\n    }\n\n    .dataframe tbody tr th {\n        vertical-align: top;\n    }\n\n    .dataframe thead th {\n        text-align: right;\n    }\n</style>\n<table border=\"1\" class=\"dataframe\">\n  <thead>\n    <tr style=\"text-align: right;\">\n      <th>HERRAMIENTA</th>\n      <th>.NET</th>\n      <th>.NET Core</th>\n      <th>ANGULAR</th>\n      <th>AWS</th>\n      <th>Activemq</th>\n      <th>Alibaba</th>\n      <th>Android / Java</th>\n      <th>Android / Kotlin</th>\n      <th>Angular</th>\n      <th>Apache Airflow</th>\n      <th>...</th>\n      <th>Travis CI</th>\n      <th>TypeScript</th>\n      <th>Vue</th>\n      <th>WEBLOGIC</th>\n      <th>Websphere</th>\n      <th>Websphere Message Broker</th>\n      <th>Wordpress</th>\n      <th>Xamarin</th>\n      <th>iOS / Objetive C</th>\n      <th>iOS / Swift</th>\n    </tr>\n    <tr>\n      <th>PERSONA</th>\n      <th></th>\n      <th></th>\n      <th></th>\n      <th></th>\n      <th></th>\n      <th></th>\n      <th></th>\n      <th></th>\n      <th></th>\n      <th></th>\n      <th></th>\n      <th></th>\n      <th></th>\n      <th></th>\n      <th></th>\n      <th></th>\n      <th></th>\n      <th></th>\n      <th></th>\n      <th></th>\n      <th></th>\n    </tr>\n  </thead>\n  <tbody>\n    <tr>\n      <th>6</th>\n      <td>0</td>\n      <td>0</td>\n      <td>0</td>\n      <td>0</td>\n      <td>0</td>\n      <td>0</td>\n      <td>0</td>\n      <td>0</td>\n      <td>0</td>\n      <td>0</td>\n      <td>...</td>\n      <td>0</td>\n      <td>0</td>\n      <td>0</td>\n      <td>0</td>\n      <td>0</td>\n      <td>0</td>\n      <td>0</td>\n      <td>0</td>\n      <td>0</td>\n      <td>0</td>\n    </tr>\n    <tr>\n      <th>8</th>\n      <td>0</td>\n      <td>0</td>\n      <td>0</td>\n      <td>0</td>\n      <td>0</td>\n      <td>0</td>\n      <td>0</td>\n      <td>0</td>\n      <td>0</td>\n      <td>0</td>\n      <td>...</td>\n      <td>0</td>\n      <td>0</td>\n      <td>0</td>\n      <td>0</td>\n      <td>0</td>\n      <td>0</td>\n      <td>0</td>\n      <td>0</td>\n      <td>0</td>\n      <td>0</td>\n    </tr>\n  </tbody>\n</table>\n<p>2 rows × 185 columns</p>\n</div>"
     },
     "execution_count": 12,
     "metadata": {},
     "output_type": "execute_result"
    }
   ],
   "source": [
    "#Tecnologias usada en asignaciones por persona\n",
    "time_start = datetime.datetime.now()\n",
    "\n",
    "cur.execute(\"\\\n",
    "SELECT A.PERSONA, A.HERRAMIENTA, CASE WHEN B.VECES_HERRAMIENTA_ASIGNADA IS NULL THEN 0 ELSE B.VECES_HERRAMIENTA_ASIGNADA END \\\n",
    "FROM ( \\\n",
    "\tSELECT P.CONSECUTIVO AS PERSONA,H.NOMBRE AS HERRAMIENTA \\\n",
    "\tFROM HERRAMIENTAS H\t \\\n",
    "\tCROSS JOIN PERSONAS P \\\n",
    "\tWHERE P.ESTADO = 1 \\\n",
    "\tAND   P.FECHA_RETIRO IS NULL \\\n",
    "    AND   P.FECHA_INGRESO <= ADD_MONTHS(CAST(CURRENT_TIMESTAMP AS DATE),-3) \\\n",
    "    AND  P.GERENCIA_RESPONSABLE  <> 'INTELIGENCIA ARTIFICIAL'  \\\n",
    "\tGROUP BY P.CONSECUTIVO,H.NOMBRE) A \\\n",
    "LEFT JOIN ( \\\n",
    "\tSELECT P.CONSECUTIVO  AS PERSONA,H.NOMBRE  AS HERRAMIENTA,COUNT(AH.CONSECUTIVO) AS VECES_HERRAMIENTA_ASIGNADA \\\n",
    "\tFROM HERRAMIENTAS_UTILIZADAS HU \\\n",
    "\tINNER JOIN HERRAMIENTAS H             ON HU.CON_HERRAMIENTAS = H.CONSECUTIVO \\\n",
    "\tINNER JOIN SERVICIOS S                ON HU.COD_SERVICIO     = S.CODIGO_SERVICIO \\\n",
    "\tINNER JOIN ASIGNACIONES A             ON S.CODIGO_SERVICIO   = A.COD_SERVICIO \\\n",
    "\tINNER JOIN ASIGNACIONES_HISTORICOS AH ON A.CONSECUTIVO       = AH.CON_ASIG \\\n",
    "\tINNER JOIN PERSONAS P                 ON P.CONSECUTIVO       = A.CON_PERSONA \\\n",
    "\tWHERE P.ESTADO = 1 \\\n",
    "\tAND   AH.FECHA_FIN > ADD_MONTHS(CAST(CURRENT_TIMESTAMP AS DATE), -12) \\\n",
    "\tAND   AH.FECHA_FIN < CAST(CURRENT_TIMESTAMP AS DATE) \\\n",
    "\tAND   P.FECHA_RETIRO IS NULL \\\n",
    "\tGROUP BY P.CONSECUTIVO, H.NOMBRE) B ON A.PERSONA = B.PERSONA AND  A.HERRAMIENTA = B.HERRAMIENTA \\\n",
    "ORDER BY A.PERSONA, A.HERRAMIENTA\")\n",
    "res = cur.fetchall()\n",
    "\n",
    "query_time = datetime.datetime.now() - time_start\n",
    "print(f\"Duración de Consulta (seg): {query_time}\")\n",
    "\n",
    "df_tecno_asig_persona = pd.DataFrame(res , columns=['PERSONA', 'HERRAMIENTA','VECES_HERRAMIENTA_ASIGNADA'])\n",
    "pv_tecno_asig_persona = pd.pivot_table(df_tecno_asig_persona, values='VECES_HERRAMIENTA_ASIGNADA', index=['PERSONA'], columns='HERRAMIENTA', fill_value=0)\n",
    "pv_tecno_asig_persona.head(2)"
   ],
   "metadata": {
    "collapsed": false,
    "pycharm": {
     "name": "#%%\n"
    }
   }
  },
  {
   "cell_type": "code",
   "execution_count": 13,
   "outputs": [
    {
     "name": "stdout",
     "output_type": "stream",
     "text": [
      "Duración de Consulta (seg): 0:02:15.480397\n"
     ]
    },
    {
     "data": {
      "text/plain": "ETAPA    ACTCOM  ADMB  ADMBD  ADMCAP  ADMON  ADMSEG  ADMSER  ADMSO  ALEMAN  \\\nPERSONA                                                                      \n6             0     0    0.0       0    0.0       0     0.0      0       0   \n8             0     0    0.0       0    0.0       0     0.0      0       0   \n\nETAPA    ANAID  ...  TRIBUT  TRINS  TRINSM  TRINT  TRMIG  TRREV    VAC  VAR  \\\nPERSONA         ...                                                           \n6            0  ...       0    0.0       0      0    0.0    0.0    0.0    0   \n8            0  ...       0    0.0       0      0    0.0    0.0  120.0    0   \n\nETAPA    VENPRO  VISCLI  \nPERSONA                  \n6           0.0     0.0  \n8           0.0     0.0  \n\n[2 rows x 374 columns]",
      "text/html": "<div>\n<style scoped>\n    .dataframe tbody tr th:only-of-type {\n        vertical-align: middle;\n    }\n\n    .dataframe tbody tr th {\n        vertical-align: top;\n    }\n\n    .dataframe thead th {\n        text-align: right;\n    }\n</style>\n<table border=\"1\" class=\"dataframe\">\n  <thead>\n    <tr style=\"text-align: right;\">\n      <th>ETAPA</th>\n      <th>ACTCOM</th>\n      <th>ADMB</th>\n      <th>ADMBD</th>\n      <th>ADMCAP</th>\n      <th>ADMON</th>\n      <th>ADMSEG</th>\n      <th>ADMSER</th>\n      <th>ADMSO</th>\n      <th>ALEMAN</th>\n      <th>ANAID</th>\n      <th>...</th>\n      <th>TRIBUT</th>\n      <th>TRINS</th>\n      <th>TRINSM</th>\n      <th>TRINT</th>\n      <th>TRMIG</th>\n      <th>TRREV</th>\n      <th>VAC</th>\n      <th>VAR</th>\n      <th>VENPRO</th>\n      <th>VISCLI</th>\n    </tr>\n    <tr>\n      <th>PERSONA</th>\n      <th></th>\n      <th></th>\n      <th></th>\n      <th></th>\n      <th></th>\n      <th></th>\n      <th></th>\n      <th></th>\n      <th></th>\n      <th></th>\n      <th></th>\n      <th></th>\n      <th></th>\n      <th></th>\n      <th></th>\n      <th></th>\n      <th></th>\n      <th></th>\n      <th></th>\n      <th></th>\n      <th></th>\n    </tr>\n  </thead>\n  <tbody>\n    <tr>\n      <th>6</th>\n      <td>0</td>\n      <td>0</td>\n      <td>0.0</td>\n      <td>0</td>\n      <td>0.0</td>\n      <td>0</td>\n      <td>0.0</td>\n      <td>0</td>\n      <td>0</td>\n      <td>0</td>\n      <td>...</td>\n      <td>0</td>\n      <td>0.0</td>\n      <td>0</td>\n      <td>0</td>\n      <td>0.0</td>\n      <td>0.0</td>\n      <td>0.0</td>\n      <td>0</td>\n      <td>0.0</td>\n      <td>0.0</td>\n    </tr>\n    <tr>\n      <th>8</th>\n      <td>0</td>\n      <td>0</td>\n      <td>0.0</td>\n      <td>0</td>\n      <td>0.0</td>\n      <td>0</td>\n      <td>0.0</td>\n      <td>0</td>\n      <td>0</td>\n      <td>0</td>\n      <td>...</td>\n      <td>0</td>\n      <td>0.0</td>\n      <td>0</td>\n      <td>0</td>\n      <td>0.0</td>\n      <td>0.0</td>\n      <td>120.0</td>\n      <td>0</td>\n      <td>0.0</td>\n      <td>0.0</td>\n    </tr>\n  </tbody>\n</table>\n<p>2 rows × 374 columns</p>\n</div>"
     },
     "execution_count": 13,
     "metadata": {},
     "output_type": "execute_result"
    }
   ],
   "source": [
    "#Horas por etapa por persona\n",
    "time_start = datetime.datetime.now()\n",
    "\n",
    "cur.execute(\"\\\n",
    "SELECT A.PERSONA, A.ETAPA, CASE WHEN B.HORAS_ETAPA IS NULL THEN 0 ELSE B.HORAS_ETAPA END \\\n",
    "FROM ( \\\n",
    "\tSELECT P.CONSECUTIVO AS PERSONA, E.CODIGO_ETAPA  AS ETAPA \\\n",
    "\tFROM ETAPAS  E \\\n",
    "\tCROSS JOIN PERSONAS P \\\n",
    "\tWHERE P.ESTADO = 1 \\\n",
    "    AND   P.FECHA_RETIRO IS NULL \\\n",
    "    AND   P.FECHA_INGRESO <= ADD_MONTHS(CAST(CURRENT_TIMESTAMP AS DATE),-3) \\\n",
    "    AND  P.GERENCIA_RESPONSABLE  <> 'INTELIGENCIA ARTIFICIAL'  \\\n",
    "\tGROUP BY P.CONSECUTIVO, E.CODIGO_ETAPA) A \\\n",
    "LEFT JOIN ( \\\n",
    "\tSELECT \\\n",
    "\tP.CONSECUTIVO          AS PERSONA, \\\n",
    "\tEA.CODIGO_ETAPA        AS ETAPA, \\\n",
    "\tSUM(EA.DURACION_HORAS) AS HORAS_ETAPA \\\n",
    "\tFROM EJECUCION_ACTIVIDADES EA \\\n",
    "\tINNER JOIN PERSONAS P ON EA.CONSECUTIVO_PERSONA = P.CONSECUTIVO \\\n",
    "\tWHERE P.ESTADO = 1 \\\n",
    "\tAND   EA.HORA_FINALIZACION > ADD_MONTHS(CAST(CURRENT_TIMESTAMP AS DATE), -12) \\\n",
    "\tAND   EA.HORA_FINALIZACION < CAST(CURRENT_TIMESTAMP AS DATE) \\\n",
    "\tGROUP BY P.CONSECUTIVO, EA.CODIGO_ETAPA ) B ON A.PERSONA = B.PERSONA AND A.ETAPA = B.ETAPA \\\n",
    "ORDER BY A.PERSONA, A.ETAPA\")\n",
    "res = cur.fetchall()\n",
    "\n",
    "query_time = datetime.datetime.now() - time_start\n",
    "print(f\"Duración de Consulta (seg): {query_time}\")\n",
    "\n",
    "df_horas_etapa_persona = pd.DataFrame(res , columns=['PERSONA', 'ETAPA','HORAS_ETAPA'])\n",
    "df_horas_etapa_persona['ETAPA'] = df_horas_etapa_persona['ETAPA'] .fillna('SIN_ETAPA')\n",
    "pv_horas_etapa_persona = pd.pivot_table(df_horas_etapa_persona, values='HORAS_ETAPA', index=['PERSONA'], columns='ETAPA', fill_value=0)\n",
    "pv_horas_etapa_persona.head(2)"
   ],
   "metadata": {
    "collapsed": false,
    "pycharm": {
     "name": "#%%\n"
    }
   }
  },
  {
   "cell_type": "code",
   "execution_count": 14,
   "outputs": [
    {
     "name": "stdout",
     "output_type": "stream",
     "text": [
      "Duración de Consulta (seg): 0:00:20.639766\n"
     ]
    },
    {
     "data": {
      "text/plain": "AREA     1   2   3   4   5          6   7         8   9   24  ...  53  54  55  \\\nPERSONA                                                       ...               \n6         0   0   0   0   0  97.333333   0    0.0000   0   0  ...   0   0   0   \n8         0   0   0   0   0   0.000000   0  130.7075   0   0  ...   0   0   0   \n\nAREA     56  58  59  60  61  62  63  \nPERSONA                              \n6         0   0   0   0   0   0   0  \n8         0   0   0   0   0   0   0  \n\n[2 rows x 44 columns]",
      "text/html": "<div>\n<style scoped>\n    .dataframe tbody tr th:only-of-type {\n        vertical-align: middle;\n    }\n\n    .dataframe tbody tr th {\n        vertical-align: top;\n    }\n\n    .dataframe thead th {\n        text-align: right;\n    }\n</style>\n<table border=\"1\" class=\"dataframe\">\n  <thead>\n    <tr style=\"text-align: right;\">\n      <th>AREA</th>\n      <th>1</th>\n      <th>2</th>\n      <th>3</th>\n      <th>4</th>\n      <th>5</th>\n      <th>6</th>\n      <th>7</th>\n      <th>8</th>\n      <th>9</th>\n      <th>24</th>\n      <th>...</th>\n      <th>53</th>\n      <th>54</th>\n      <th>55</th>\n      <th>56</th>\n      <th>58</th>\n      <th>59</th>\n      <th>60</th>\n      <th>61</th>\n      <th>62</th>\n      <th>63</th>\n    </tr>\n    <tr>\n      <th>PERSONA</th>\n      <th></th>\n      <th></th>\n      <th></th>\n      <th></th>\n      <th></th>\n      <th></th>\n      <th></th>\n      <th></th>\n      <th></th>\n      <th></th>\n      <th></th>\n      <th></th>\n      <th></th>\n      <th></th>\n      <th></th>\n      <th></th>\n      <th></th>\n      <th></th>\n      <th></th>\n      <th></th>\n      <th></th>\n    </tr>\n  </thead>\n  <tbody>\n    <tr>\n      <th>6</th>\n      <td>0</td>\n      <td>0</td>\n      <td>0</td>\n      <td>0</td>\n      <td>0</td>\n      <td>97.333333</td>\n      <td>0</td>\n      <td>0.0000</td>\n      <td>0</td>\n      <td>0</td>\n      <td>...</td>\n      <td>0</td>\n      <td>0</td>\n      <td>0</td>\n      <td>0</td>\n      <td>0</td>\n      <td>0</td>\n      <td>0</td>\n      <td>0</td>\n      <td>0</td>\n      <td>0</td>\n    </tr>\n    <tr>\n      <th>8</th>\n      <td>0</td>\n      <td>0</td>\n      <td>0</td>\n      <td>0</td>\n      <td>0</td>\n      <td>0.000000</td>\n      <td>0</td>\n      <td>130.7075</td>\n      <td>0</td>\n      <td>0</td>\n      <td>...</td>\n      <td>0</td>\n      <td>0</td>\n      <td>0</td>\n      <td>0</td>\n      <td>0</td>\n      <td>0</td>\n      <td>0</td>\n      <td>0</td>\n      <td>0</td>\n      <td>0</td>\n    </tr>\n  </tbody>\n</table>\n<p>2 rows × 44 columns</p>\n</div>"
     },
     "execution_count": 14,
     "metadata": {},
     "output_type": "execute_result"
    }
   ],
   "source": [
    "#Horas en area por persona\n",
    "time_start = datetime.datetime.now()\n",
    "\n",
    "cur.execute(\"\\\n",
    "SELECT B.PERSONA, B.AREA, CASE WHEN C.HORAS_AREA IS NULL THEN 0 ELSE C.HORAS_AREA END \\\n",
    "FROM ( \\\n",
    "\tSELECT P.CONSECUTIVO AS PERSONA, A.CONSECUTIVO  AS AREA \\\n",
    "\tFROM AREAS  A \\\n",
    "\tCROSS JOIN PERSONAS P \\\n",
    "\tWHERE P.ESTADO = 1 \\\n",
    "    AND   P.FECHA_RETIRO IS NULL \\\n",
    "    AND   P.FECHA_INGRESO <= ADD_MONTHS(CAST(CURRENT_TIMESTAMP AS DATE),-3) \\\n",
    "    AND   P.GERENCIA_RESPONSABLE  <> 'INTELIGENCIA ARTIFICIAL'  \\\n",
    "\tGROUP BY P.CONSECUTIVO,A.CONSECUTIVO  ) B \\\n",
    "LEFT JOIN ( \\\n",
    "\tSELECT P.CONSECUTIVO AS PERSONA, S.CON_AREA  AS AREA, SUM(EA.DURACION_HORAS) AS HORAS_AREA \\\n",
    "\tFROM EJECUCION_ACTIVIDADES EA \\\n",
    "\tINNER JOIN ENTREGABLES_SERVICIO ES ON EA.CON_ENTREGABLE_SERV = ES.CONSECUTIVO \\\n",
    "\tINNER JOIN PERSONAS P              ON EA.CONSECUTIVO_PERSONA = P.CONSECUTIVO \\\n",
    "\tINNER JOIN SERVICIOS S             ON ES.COD_SERVICIO  = S.CODIGO_SERVICIO \\\n",
    "\tWHERE P.ESTADO = 1 \\\n",
    "\tAND   EA.HORA_FINALIZACION > ADD_MONTHS(CAST(CURRENT_TIMESTAMP AS DATE), -12) \\\n",
    "\tAND   EA.HORA_FINALIZACION < CAST(CURRENT_TIMESTAMP AS DATE) \\\n",
    "\tGROUP BY P.CONSECUTIVO, S.CON_AREA ) C ON B.PERSONA = C.PERSONA AND C.PERSONA =  B.AREA \\\n",
    "ORDER BY B.PERSONA, B.AREA\")\n",
    "res = cur.fetchall()\n",
    "\n",
    "query_time = datetime.datetime.now() - time_start\n",
    "print(f\"Duración de Consulta (seg): {query_time}\")\n",
    "\n",
    "df_horas_area_persona = pd.DataFrame(res , columns=['PERSONA', 'AREA','HORAS_AREA'])\n",
    "pv_horas_area_persona = pd.pivot_table(df_horas_area_persona, values='HORAS_AREA', index=['PERSONA'], columns='AREA', fill_value=0)\n",
    "pv_horas_area_persona.head(2)"
   ],
   "metadata": {
    "collapsed": false,
    "pycharm": {
     "name": "#%%\n"
    }
   }
  },
  {
   "cell_type": "code",
   "execution_count": 15,
   "outputs": [
    {
     "name": "stdout",
     "output_type": "stream",
     "text": [
      "Duración de Consulta (seg): 0:00:15.227542\n"
     ]
    },
    {
     "data": {
      "text/plain": "         AC_PN  ADM_PN  AI_PN  AP_PN  CO_PN  CU_PN  GC_PN  HD_PN  IN_PN  \\\nPERSONA                                                                   \n6            0    1628      0      0      0      0      0      0      0   \n8            0     891      0      0      0      0      0      0      0   \n\n         LI_PN  NE_PN  OP_PN  PD_PN  PM_PN  PR_PN  RE_PN  SE_PN  SM_PN  SO_PN  \\\nPERSONA                                                                         \n6            0      0      0      0      0      0      0      0      0      0   \n8            0      0      0      0      0      0      0      0      0      0   \n\n         TD_PN  \nPERSONA         \n6            0  \n8            0  ",
      "text/html": "<div>\n<style scoped>\n    .dataframe tbody tr th:only-of-type {\n        vertical-align: middle;\n    }\n\n    .dataframe tbody tr th {\n        vertical-align: top;\n    }\n\n    .dataframe thead th {\n        text-align: right;\n    }\n</style>\n<table border=\"1\" class=\"dataframe\">\n  <thead>\n    <tr style=\"text-align: right;\">\n      <th></th>\n      <th>AC_PN</th>\n      <th>ADM_PN</th>\n      <th>AI_PN</th>\n      <th>AP_PN</th>\n      <th>CO_PN</th>\n      <th>CU_PN</th>\n      <th>GC_PN</th>\n      <th>HD_PN</th>\n      <th>IN_PN</th>\n      <th>LI_PN</th>\n      <th>NE_PN</th>\n      <th>OP_PN</th>\n      <th>PD_PN</th>\n      <th>PM_PN</th>\n      <th>PR_PN</th>\n      <th>RE_PN</th>\n      <th>SE_PN</th>\n      <th>SM_PN</th>\n      <th>SO_PN</th>\n      <th>TD_PN</th>\n    </tr>\n    <tr>\n      <th>PERSONA</th>\n      <th></th>\n      <th></th>\n      <th></th>\n      <th></th>\n      <th></th>\n      <th></th>\n      <th></th>\n      <th></th>\n      <th></th>\n      <th></th>\n      <th></th>\n      <th></th>\n      <th></th>\n      <th></th>\n      <th></th>\n      <th></th>\n      <th></th>\n      <th></th>\n      <th></th>\n      <th></th>\n    </tr>\n  </thead>\n  <tbody>\n    <tr>\n      <th>6</th>\n      <td>0</td>\n      <td>1628</td>\n      <td>0</td>\n      <td>0</td>\n      <td>0</td>\n      <td>0</td>\n      <td>0</td>\n      <td>0</td>\n      <td>0</td>\n      <td>0</td>\n      <td>0</td>\n      <td>0</td>\n      <td>0</td>\n      <td>0</td>\n      <td>0</td>\n      <td>0</td>\n      <td>0</td>\n      <td>0</td>\n      <td>0</td>\n      <td>0</td>\n    </tr>\n    <tr>\n      <th>8</th>\n      <td>0</td>\n      <td>891</td>\n      <td>0</td>\n      <td>0</td>\n      <td>0</td>\n      <td>0</td>\n      <td>0</td>\n      <td>0</td>\n      <td>0</td>\n      <td>0</td>\n      <td>0</td>\n      <td>0</td>\n      <td>0</td>\n      <td>0</td>\n      <td>0</td>\n      <td>0</td>\n      <td>0</td>\n      <td>0</td>\n      <td>0</td>\n      <td>0</td>\n    </tr>\n  </tbody>\n</table>\n</div>"
     },
     "execution_count": 15,
     "metadata": {},
     "output_type": "execute_result"
    }
   ],
   "source": [
    "#Cantidad de pendientes en tipo de servicio por persona\n",
    "time_start = datetime.datetime.now()\n",
    "\n",
    "cur.execute(\"\\\n",
    "SELECT A.PERSONA, A.TIPO_SERVICIO, CASE WHEN B.CANTIDAD_PENDIENTES IS NULL THEN 0 ELSE B.CANTIDAD_PENDIENTES END \\\n",
    "FROM ( \\\n",
    "\tSELECT P.CONSECUTIVO AS PERSONA, C.RV_LOW_VALUE AS TIPO_SERVICIO \\\n",
    "\tFROM CG_REF_CODES C \\\n",
    "\tCROSS JOIN PERSONAS P \\\n",
    "\tWHERE P.ESTADO = 1 \\\n",
    "\tAND   C.RV_DOMAIN = 'TIPO_PROYECTO' \\\n",
    "\tAND   P.FECHA_RETIRO IS NULL \\\n",
    "    AND   P.FECHA_INGRESO <= ADD_MONTHS(CAST(CURRENT_TIMESTAMP AS DATE),-3) \\\n",
    "    AND   P.GERENCIA_RESPONSABLE  <> 'INTELIGENCIA ARTIFICIAL'  \\\n",
    "\tGROUP BY P.CONSECUTIVO,C.RV_LOW_VALUE ) A \\\n",
    "LEFT JOIN ( \\\n",
    "\tSELECT P.CONSECUTIVO AS PERSONA, S.TIPO AS TIPO_SERVICIO, COUNT(PE.CODIGO_PENDIENTE) AS CANTIDAD_PENDIENTES \\\n",
    "\tFROM ASIGNACIONES_HISTORICOS AH \\\n",
    "\tINNER JOIN ASIGNACIONES A  ON A.CONSECUTIVO = AH.CON_ASIG \\\n",
    "\tINNER JOIN PERSONAS     P  ON A.CON_PERSONA = P.CONSECUTIVO \\\n",
    "\tINNER JOIN PENDIENTES   PE ON A.COD_SERVICIO = PE.CODIGO_SERVICIO \\\n",
    "\tINNER JOIN SERVICIOS    S  ON PE.CODIGO_SERVICIO = S.CODIGO_SERVICIO \\\n",
    "\tWHERE P.ESTADO = 1 \\\n",
    "\tAND   AH.FECHA_FIN > ADD_MONTHS(CAST(CURRENT_TIMESTAMP AS DATE), -12) \\\n",
    "\tAND   AH.FECHA_FIN < CAST(CURRENT_TIMESTAMP AS DATE) \\\n",
    "\tAND   AH.FECHA_FIN >= AH.FECHA_INICIO \\\n",
    "\tAND   PE.FECHA_DETECCION > ADD_MONTHS(CAST(CURRENT_TIMESTAMP AS DATE), -12) \\\n",
    "\tAND   PE.FECHA_DETECCION < CAST(CURRENT_TIMESTAMP AS DATE) \\\n",
    "\tGROUP BY P.CONSECUTIVO, S.TIPO) B ON A.PERSONA = B.PERSONA AND A.TIPO_SERVICIO = B.TIPO_SERVICIO \\\n",
    "ORDER BY A.PERSONA,A.TIPO_SERVICIO\")\n",
    "res = cur.fetchall()\n",
    "\n",
    "query_time = datetime.datetime.now() - time_start\n",
    "print(f\"Duración de Consulta (seg): {query_time}\")\n",
    "\n",
    "df_pend_tiposerv_persona = pd.DataFrame(res , columns=['PERSONA', 'TIPO_SERVICIO','CANTIDAD_PENDIENTES'])\n",
    "pv_pend_tiposerv_persona = pd.pivot_table(df_pend_tiposerv_persona, values='CANTIDAD_PENDIENTES', index=['PERSONA'], columns='TIPO_SERVICIO', fill_value=0)\n",
    "pv_pend_tiposerv_persona.columns = [str(col) + '_PN' for col in pv_pend_tiposerv_persona.columns]\n",
    "pv_pend_tiposerv_persona.head(2)"
   ],
   "metadata": {
    "collapsed": false,
    "pycharm": {
     "name": "#%%\n"
    }
   }
  },
  {
   "cell_type": "code",
   "execution_count": 16,
   "outputs": [
    {
     "name": "stdout",
     "output_type": "stream",
     "text": [
      "Duración de Consulta (seg): 0:00:08.881846\n"
     ]
    },
    {
     "data": {
      "text/plain": "         AC_RS  ADM_RS  AI_RS  AP_RS  CO_RS  CU_RS  GC_RS  HD_RS  IN_RS  \\\nPERSONA                                                                   \n6            0       0      0      0      0      0      0      0      0   \n8            0       4      0      0      0      0      0      0      0   \n\n         LI_RS  NE_RS  OP_RS  PD_RS  PM_RS  PR_RS  RE_RS  SE_RS  SM_RS  SO_RS  \\\nPERSONA                                                                         \n6            0      0      0      0      0      0      0      0      0      0   \n8            0      0      0      0      0      0      0      0      0      0   \n\n         TD_RS  \nPERSONA         \n6            0  \n8            0  ",
      "text/html": "<div>\n<style scoped>\n    .dataframe tbody tr th:only-of-type {\n        vertical-align: middle;\n    }\n\n    .dataframe tbody tr th {\n        vertical-align: top;\n    }\n\n    .dataframe thead th {\n        text-align: right;\n    }\n</style>\n<table border=\"1\" class=\"dataframe\">\n  <thead>\n    <tr style=\"text-align: right;\">\n      <th></th>\n      <th>AC_RS</th>\n      <th>ADM_RS</th>\n      <th>AI_RS</th>\n      <th>AP_RS</th>\n      <th>CO_RS</th>\n      <th>CU_RS</th>\n      <th>GC_RS</th>\n      <th>HD_RS</th>\n      <th>IN_RS</th>\n      <th>LI_RS</th>\n      <th>NE_RS</th>\n      <th>OP_RS</th>\n      <th>PD_RS</th>\n      <th>PM_RS</th>\n      <th>PR_RS</th>\n      <th>RE_RS</th>\n      <th>SE_RS</th>\n      <th>SM_RS</th>\n      <th>SO_RS</th>\n      <th>TD_RS</th>\n    </tr>\n    <tr>\n      <th>PERSONA</th>\n      <th></th>\n      <th></th>\n      <th></th>\n      <th></th>\n      <th></th>\n      <th></th>\n      <th></th>\n      <th></th>\n      <th></th>\n      <th></th>\n      <th></th>\n      <th></th>\n      <th></th>\n      <th></th>\n      <th></th>\n      <th></th>\n      <th></th>\n      <th></th>\n      <th></th>\n      <th></th>\n    </tr>\n  </thead>\n  <tbody>\n    <tr>\n      <th>6</th>\n      <td>0</td>\n      <td>0</td>\n      <td>0</td>\n      <td>0</td>\n      <td>0</td>\n      <td>0</td>\n      <td>0</td>\n      <td>0</td>\n      <td>0</td>\n      <td>0</td>\n      <td>0</td>\n      <td>0</td>\n      <td>0</td>\n      <td>0</td>\n      <td>0</td>\n      <td>0</td>\n      <td>0</td>\n      <td>0</td>\n      <td>0</td>\n      <td>0</td>\n    </tr>\n    <tr>\n      <th>8</th>\n      <td>0</td>\n      <td>4</td>\n      <td>0</td>\n      <td>0</td>\n      <td>0</td>\n      <td>0</td>\n      <td>0</td>\n      <td>0</td>\n      <td>0</td>\n      <td>0</td>\n      <td>0</td>\n      <td>0</td>\n      <td>0</td>\n      <td>0</td>\n      <td>0</td>\n      <td>0</td>\n      <td>0</td>\n      <td>0</td>\n      <td>0</td>\n      <td>0</td>\n    </tr>\n  </tbody>\n</table>\n</div>"
     },
     "execution_count": 16,
     "metadata": {},
     "output_type": "execute_result"
    }
   ],
   "source": [
    "#Cantidad de riesgos en tipo de servicio por persona\n",
    "time_start = datetime.datetime.now()\n",
    "\n",
    "cur.execute(\"\\\n",
    "SELECT A.PERSONA, A.TIPO_SERVICIO, CASE WHEN B.CANTIDAD_RIESGOS IS NULL THEN 0 ELSE B.CANTIDAD_RIESGOS END \\\n",
    "FROM ( \\\n",
    "\tSELECT P.CONSECUTIVO AS PERSONA, C.RV_LOW_VALUE AS TIPO_SERVICIO \\\n",
    "\tFROM CG_REF_CODES C \\\n",
    "\tCROSS JOIN PERSONAS P \\\n",
    "\tWHERE P.ESTADO = 1 \\\n",
    "\tAND   C.RV_DOMAIN = 'TIPO_PROYECTO' \\\n",
    "\tAND   P.FECHA_RETIRO IS NULL \\\n",
    "    AND   P.FECHA_INGRESO <= ADD_MONTHS(CAST(CURRENT_TIMESTAMP AS DATE),-3) \\\n",
    "    AND   P.GERENCIA_RESPONSABLE  <> 'INTELIGENCIA ARTIFICIAL'  \\\n",
    "\tGROUP BY P.CONSECUTIVO,C.RV_LOW_VALUE ) A \\\n",
    "LEFT JOIN ( \\\n",
    "\tSELECT P.CONSECUTIVO AS PERSONA, S.TIPO AS TIPO_SERVICIO, COUNT(RS.CONSECUTIVO) AS CANTIDAD_RIESGOS \\\n",
    "\tFROM ASIGNACIONES_HISTORICOS AH \\\n",
    "\tINNER JOIN ASIGNACIONES A      ON A.CONSECUTIVO = AH.CON_ASIG \\\n",
    "\tINNER JOIN PERSONAS     P      ON A.CON_PERSONA = P.CONSECUTIVO \\\n",
    "\tINNER JOIN RIESGOS_SERVICIO RS ON A.COD_SERVICIO = RS.CODIGO_SERVICIO \\\n",
    "\tINNER JOIN SERVICIOS    S      ON RS.CODIGO_SERVICIO = S.CODIGO_SERVICIO \\\n",
    "\tWHERE P.ESTADO = 1 \\\n",
    "\tAND   AH.FECHA_FIN BETWEEN ADD_MONTHS(CAST(CURRENT_TIMESTAMP AS DATE), -12) AND CAST(CURRENT_TIMESTAMP AS DATE) \\\n",
    "\tAND   AH.FECHA_FIN > AH.FECHA_INICIO \\\n",
    "\tAND   RS.FECHA_REGISTRO BETWEEN ADD_MONTHS(CAST(CURRENT_TIMESTAMP AS DATE), -12)  AND CAST(CURRENT_TIMESTAMP AS DATE)\\\n",
    "\tGROUP BY P.CONSECUTIVO, S.TIPO ) B ON A.PERSONA = B.PERSONA AND A.TIPO_SERVICIO = B.TIPO_SERVICIO \\\n",
    "ORDER BY A.PERSONA, A.TIPO_SERVICIO\")\n",
    "res = cur.fetchall()\n",
    "\n",
    "query_time = datetime.datetime.now() - time_start\n",
    "print(f\"Duración de Consulta (seg): {query_time}\")\n",
    "\n",
    "df_ries_tiposerv_persona = pd.DataFrame(res , columns=['PERSONA', 'TIPO_SERVICIO','CANTIDAD_RIESGOS'])\n",
    "pv_ries_tiposerv_persona = pd.pivot_table(df_ries_tiposerv_persona, values='CANTIDAD_RIESGOS', index=['PERSONA'], columns='TIPO_SERVICIO', fill_value=0)\n",
    "pv_ries_tiposerv_persona.columns = [str(col) + '_RS' for col in pv_ries_tiposerv_persona.columns]\n",
    "pv_ries_tiposerv_persona.head(2)"
   ],
   "metadata": {
    "collapsed": false,
    "pycharm": {
     "name": "#%%\n"
    }
   }
  },
  {
   "cell_type": "code",
   "execution_count": 17,
   "outputs": [
    {
     "name": "stdout",
     "output_type": "stream",
     "text": [
      "Duración de Consulta (seg): 0:00:00.555317\n"
     ]
    },
    {
     "data": {
      "text/plain": "   PERSONA  EDAD\n0      559    52\n1      565    51",
      "text/html": "<div>\n<style scoped>\n    .dataframe tbody tr th:only-of-type {\n        vertical-align: middle;\n    }\n\n    .dataframe tbody tr th {\n        vertical-align: top;\n    }\n\n    .dataframe thead th {\n        text-align: right;\n    }\n</style>\n<table border=\"1\" class=\"dataframe\">\n  <thead>\n    <tr style=\"text-align: right;\">\n      <th></th>\n      <th>PERSONA</th>\n      <th>EDAD</th>\n    </tr>\n  </thead>\n  <tbody>\n    <tr>\n      <th>0</th>\n      <td>559</td>\n      <td>52</td>\n    </tr>\n    <tr>\n      <th>1</th>\n      <td>565</td>\n      <td>51</td>\n    </tr>\n  </tbody>\n</table>\n</div>"
     },
     "execution_count": 17,
     "metadata": {},
     "output_type": "execute_result"
    }
   ],
   "source": [
    "#Edad personas desde su fecha de nacimiento hasta hoy\n",
    "time_start = datetime.datetime.now()\n",
    "\n",
    "cur.execute(\"SELECT CONSECUTIVO AS PERSONA, FECHA_NACIMIENTO FROM PERSONAS\\\n",
    "            WHERE FECHA_RETIRO IS NULL AND FECHA_NACIMIENTO IS NOT NULL\")\n",
    "res = cur.fetchall()\n",
    "\n",
    "query_time = datetime.datetime.now() - time_start\n",
    "print(f\"Duración de Consulta (seg): {query_time}\")\n",
    "\n",
    "df_edad_persona = pd.DataFrame(res , columns=['PERSONA', 'FECHA_NACIMIENTO'])\n",
    "\n",
    "#Function to calculate people's age\n",
    "def age(birth_date):\n",
    "    current_date = date.today() #Y-M-D\n",
    "    age = current_date.year - birth_date.year - ((current_date.month, current_date.day) < (birth_date.month, birth_date.day))\n",
    "    return age\n",
    "\n",
    "df_edad_persona['EDAD'] = df_edad_persona['FECHA_NACIMIENTO'].apply(age)\n",
    "df_edad_persona.drop(columns = ['FECHA_NACIMIENTO'], inplace = True)\n",
    "df_edad_persona.head(2)"
   ],
   "metadata": {
    "collapsed": false,
    "pycharm": {
     "name": "#%%\n"
    }
   }
  },
  {
   "cell_type": "code",
   "execution_count": 18,
   "outputs": [
    {
     "name": "stdout",
     "output_type": "stream",
     "text": [
      "Duración de Consulta (seg): 0:00:00.595162\n"
     ]
    },
    {
     "data": {
      "text/plain": "   PERSONA  GENERO\n0      559       0\n1      565       1",
      "text/html": "<div>\n<style scoped>\n    .dataframe tbody tr th:only-of-type {\n        vertical-align: middle;\n    }\n\n    .dataframe tbody tr th {\n        vertical-align: top;\n    }\n\n    .dataframe thead th {\n        text-align: right;\n    }\n</style>\n<table border=\"1\" class=\"dataframe\">\n  <thead>\n    <tr style=\"text-align: right;\">\n      <th></th>\n      <th>PERSONA</th>\n      <th>GENERO</th>\n    </tr>\n  </thead>\n  <tbody>\n    <tr>\n      <th>0</th>\n      <td>559</td>\n      <td>0</td>\n    </tr>\n    <tr>\n      <th>1</th>\n      <td>565</td>\n      <td>1</td>\n    </tr>\n  </tbody>\n</table>\n</div>"
     },
     "execution_count": 18,
     "metadata": {},
     "output_type": "execute_result"
    }
   ],
   "source": [
    "#Género de la persona: 0 para M y 1 para F\n",
    "time_start = datetime.datetime.now()\n",
    "\n",
    "cur.execute(\"SELECT CONSECUTIVO AS PERSONA, GENERO FROM PERSONAS\\\n",
    "            WHERE FECHA_RETIRO IS NULL AND FECHA_NACIMIENTO IS NOT NULL\")\n",
    "res = cur.fetchall()\n",
    "\n",
    "query_time = datetime.datetime.now() - time_start\n",
    "print(f\"Duración de Consulta (seg): {query_time}\")\n",
    "\n",
    "df_genero_persona = pd.DataFrame(res , columns=['PERSONA', 'GENERO'])\n",
    "df_genero_persona.replace(to_replace = ['M', 'F'], value = [0, 1], inplace = True)\n",
    "df_genero_persona.head(2)"
   ],
   "metadata": {
    "collapsed": false,
    "pycharm": {
     "name": "#%%\n"
    }
   }
  },
  {
   "cell_type": "code",
   "execution_count": 19,
   "outputs": [
    {
     "name": "stdout",
     "output_type": "stream",
     "text": [
      "Duración de Consulta (seg): 0:00:00.563695\n"
     ]
    },
    {
     "data": {
      "text/plain": "   PERSONA  TIEMPO_EMP\n0      559         119\n1      565         119",
      "text/html": "<div>\n<style scoped>\n    .dataframe tbody tr th:only-of-type {\n        vertical-align: middle;\n    }\n\n    .dataframe tbody tr th {\n        vertical-align: top;\n    }\n\n    .dataframe thead th {\n        text-align: right;\n    }\n</style>\n<table border=\"1\" class=\"dataframe\">\n  <thead>\n    <tr style=\"text-align: right;\">\n      <th></th>\n      <th>PERSONA</th>\n      <th>TIEMPO_EMP</th>\n    </tr>\n  </thead>\n  <tbody>\n    <tr>\n      <th>0</th>\n      <td>559</td>\n      <td>119</td>\n    </tr>\n    <tr>\n      <th>1</th>\n      <td>565</td>\n      <td>119</td>\n    </tr>\n  </tbody>\n</table>\n</div>"
     },
     "execution_count": 19,
     "metadata": {},
     "output_type": "execute_result"
    }
   ],
   "source": [
    "#Tiempo que la persona ha estado en la compañía\n",
    "time_start = datetime.datetime.now()\n",
    "\n",
    "cur.execute(\"SELECT CONSECUTIVO AS PERSONA, FECHA_INGRESO FROM PERSONAS\\\n",
    "            WHERE FECHA_RETIRO IS NULL AND FECHA_INGRESO IS NOT NULL\")\n",
    "res = cur.fetchall()\n",
    "\n",
    "query_time = datetime.datetime.now() - time_start\n",
    "print(f\"Duración de Consulta (seg): {query_time}\")\n",
    "\n",
    "df_tiempo_emp_persona = pd.DataFrame(res , columns=['PERSONA', 'FECHA_INGRESO'])\n",
    "\n",
    "#Function to calculate people time in the company\n",
    "def time(date):\n",
    "    enter_date = date\n",
    "    current_date = date.today() #Y-M-D\n",
    "    months = (current_date.year - enter_date.year)*12 + (current_date.month - enter_date.month)\n",
    "    return months\n",
    "\n",
    "df_tiempo_emp_persona['TIEMPO_EMP'] = df_tiempo_emp_persona['FECHA_INGRESO'].apply(time)\n",
    "df_tiempo_emp_persona.drop(columns = ['FECHA_INGRESO'], inplace = True)\n",
    "df_tiempo_emp_persona.head(2)"
   ],
   "metadata": {
    "collapsed": false,
    "pycharm": {
     "name": "#%%\n"
    }
   }
  },
  {
   "cell_type": "code",
   "execution_count": 20,
   "outputs": [
    {
     "name": "stdout",
     "output_type": "stream",
     "text": [
      "asignaciones facturadas x persona: (504, 2)\n",
      "asignaciones no facturadas x persona: (504, 2)\n",
      "numero tipos servicio x persona: (502, 20)\n",
      "horas tipo servicio x persona: (502, 20)\n",
      "tecnologias usadas x persona: (502, 185)\n",
      "horas en etapa x persona: (502, 374)\n",
      "horas en area x persona: (502, 44)\n",
      "pendientes en tipos de servicio x persona: (502, 20)\n",
      "riesgos en tipos de servicio x persona: (502, 20)\n",
      "edad en años x persona al momento de retirarse: (606, 2)\n",
      "genero x persona: (606, 2)\n",
      "tiempo en meses en la compañía x persona: (606, 2)\n",
      "Duración de Consulta (seg): 0:00:00.000496\n"
     ]
    }
   ],
   "source": [
    "time_start = datetime.datetime.now()\n",
    "\n",
    "print('asignaciones facturadas x persona:',df_facturas_persona.shape)\n",
    "print('asignaciones no facturadas x persona:',df_nofacturas_persona.shape)\n",
    "print('numero tipos servicio x persona:',pv_tiposervicio_persona.shape)\n",
    "print('horas tipo servicio x persona:',pv_horas_tiposervicio_persona.shape)\n",
    "print('tecnologias usadas x persona:',pv_tecno_asig_persona.shape)\n",
    "print('horas en etapa x persona:',pv_horas_etapa_persona.shape)\n",
    "print('horas en area x persona:',pv_horas_area_persona.shape)\n",
    "print('pendientes en tipos de servicio x persona:',pv_pend_tiposerv_persona.shape)\n",
    "print('riesgos en tipos de servicio x persona:',pv_ries_tiposerv_persona.shape)\n",
    "print('edad en años x persona al momento de retirarse:',df_edad_persona.shape)\n",
    "print('genero x persona:',df_genero_persona.shape)\n",
    "print('tiempo en meses en la compañía x persona:',df_tiempo_emp_persona.shape)\n",
    "\n",
    "query_time = datetime.datetime.now() - time_start\n",
    "print(f\"Duración de Consulta (seg): {query_time}\")"
   ],
   "metadata": {
    "collapsed": false,
    "pycharm": {
     "name": "#%%\n"
    }
   }
  },
  {
   "cell_type": "code",
   "execution_count": 21,
   "outputs": [
    {
     "name": "stdout",
     "output_type": "stream",
     "text": [
      "Duración de Consulta (seg): 0:00:00.140146\n",
      "502\n"
     ]
    },
    {
     "data": {
      "text/plain": "   PERSONA  AC_TP  ADM_TP  AI_TP  AP_TP  CO_TP  CU_TP  GC_TP  HD_TP  IN_TP  \\\n0        6      0      13      0      0      0      0      0      0      0   \n1        8      1      14      0      0      0      0      0      0      0   \n2       21      3      25      1     11      0      0      0      0      0   \n3       31      0      18      0      4      0      0      0      0      0   \n4       35      0      15      0      0      0      0      0      0      2   \n\n   ...  PM_RS  PR_RS  RE_RS  SE_RS  SM_RS  SO_RS  TD_RS  EDAD  GENERO  \\\n0  ...      0      0      0      0      0      0      0    60       0   \n1  ...      0      0      0      0      0      0      0    42       1   \n2  ...      0      0      0      0    245      0      0    41       0   \n3  ...      0      0      0      0    169      0      0    46       0   \n4  ...      0      0      0      0     26      9      0    58       0   \n\n   TIEMPO_EMP  \n0         367  \n1         185  \n2         195  \n3         150  \n4         367  \n\n[5 rows x 689 columns]",
      "text/html": "<div>\n<style scoped>\n    .dataframe tbody tr th:only-of-type {\n        vertical-align: middle;\n    }\n\n    .dataframe tbody tr th {\n        vertical-align: top;\n    }\n\n    .dataframe thead th {\n        text-align: right;\n    }\n</style>\n<table border=\"1\" class=\"dataframe\">\n  <thead>\n    <tr style=\"text-align: right;\">\n      <th></th>\n      <th>PERSONA</th>\n      <th>AC_TP</th>\n      <th>ADM_TP</th>\n      <th>AI_TP</th>\n      <th>AP_TP</th>\n      <th>CO_TP</th>\n      <th>CU_TP</th>\n      <th>GC_TP</th>\n      <th>HD_TP</th>\n      <th>IN_TP</th>\n      <th>...</th>\n      <th>PM_RS</th>\n      <th>PR_RS</th>\n      <th>RE_RS</th>\n      <th>SE_RS</th>\n      <th>SM_RS</th>\n      <th>SO_RS</th>\n      <th>TD_RS</th>\n      <th>EDAD</th>\n      <th>GENERO</th>\n      <th>TIEMPO_EMP</th>\n    </tr>\n  </thead>\n  <tbody>\n    <tr>\n      <th>0</th>\n      <td>6</td>\n      <td>0</td>\n      <td>13</td>\n      <td>0</td>\n      <td>0</td>\n      <td>0</td>\n      <td>0</td>\n      <td>0</td>\n      <td>0</td>\n      <td>0</td>\n      <td>...</td>\n      <td>0</td>\n      <td>0</td>\n      <td>0</td>\n      <td>0</td>\n      <td>0</td>\n      <td>0</td>\n      <td>0</td>\n      <td>60</td>\n      <td>0</td>\n      <td>367</td>\n    </tr>\n    <tr>\n      <th>1</th>\n      <td>8</td>\n      <td>1</td>\n      <td>14</td>\n      <td>0</td>\n      <td>0</td>\n      <td>0</td>\n      <td>0</td>\n      <td>0</td>\n      <td>0</td>\n      <td>0</td>\n      <td>...</td>\n      <td>0</td>\n      <td>0</td>\n      <td>0</td>\n      <td>0</td>\n      <td>0</td>\n      <td>0</td>\n      <td>0</td>\n      <td>42</td>\n      <td>1</td>\n      <td>185</td>\n    </tr>\n    <tr>\n      <th>2</th>\n      <td>21</td>\n      <td>3</td>\n      <td>25</td>\n      <td>1</td>\n      <td>11</td>\n      <td>0</td>\n      <td>0</td>\n      <td>0</td>\n      <td>0</td>\n      <td>0</td>\n      <td>...</td>\n      <td>0</td>\n      <td>0</td>\n      <td>0</td>\n      <td>0</td>\n      <td>245</td>\n      <td>0</td>\n      <td>0</td>\n      <td>41</td>\n      <td>0</td>\n      <td>195</td>\n    </tr>\n    <tr>\n      <th>3</th>\n      <td>31</td>\n      <td>0</td>\n      <td>18</td>\n      <td>0</td>\n      <td>4</td>\n      <td>0</td>\n      <td>0</td>\n      <td>0</td>\n      <td>0</td>\n      <td>0</td>\n      <td>...</td>\n      <td>0</td>\n      <td>0</td>\n      <td>0</td>\n      <td>0</td>\n      <td>169</td>\n      <td>0</td>\n      <td>0</td>\n      <td>46</td>\n      <td>0</td>\n      <td>150</td>\n    </tr>\n    <tr>\n      <th>4</th>\n      <td>35</td>\n      <td>0</td>\n      <td>15</td>\n      <td>0</td>\n      <td>0</td>\n      <td>0</td>\n      <td>0</td>\n      <td>0</td>\n      <td>0</td>\n      <td>2</td>\n      <td>...</td>\n      <td>0</td>\n      <td>0</td>\n      <td>0</td>\n      <td>0</td>\n      <td>26</td>\n      <td>9</td>\n      <td>0</td>\n      <td>58</td>\n      <td>0</td>\n      <td>367</td>\n    </tr>\n  </tbody>\n</table>\n<p>5 rows × 689 columns</p>\n</div>"
     },
     "execution_count": 21,
     "metadata": {},
     "output_type": "execute_result"
    }
   ],
   "source": [
    "time_start = datetime.datetime.now()\n",
    "\n",
    "temp_dataset_1 = pd.merge(pv_tiposervicio_persona,\n",
    "                          pd.merge(df_facturas_persona,df_nofacturas_persona, left_on='PERSONA', right_on='PERSONA'),left_on='PERSONA', right_on='PERSONA')\n",
    "temp_dataset_2 = pd.merge(temp_dataset_1,pv_horas_tiposervicio_persona, left_on='PERSONA', right_on='PERSONA')\n",
    "temp_dataset_1 = pd.merge(temp_dataset_2,pv_tecno_asig_persona, left_on='PERSONA', right_on='PERSONA')\n",
    "temp_dataset_2 = pd.merge(temp_dataset_1,pv_horas_etapa_persona, left_on='PERSONA', right_on='PERSONA')\n",
    "temp_dataset_1 = pd.merge(temp_dataset_2,pv_horas_area_persona, left_on='PERSONA', right_on='PERSONA')\n",
    "temp_dataset_2 = pd.merge(temp_dataset_1,pv_pend_tiposerv_persona, left_on='PERSONA', right_on='PERSONA')\n",
    "temp_dataset_1 = pd.merge(temp_dataset_2,pv_ries_tiposerv_persona, left_on='PERSONA', right_on='PERSONA')\n",
    "temp_dataset_2 = pd.merge(temp_dataset_1,df_edad_persona, left_on='PERSONA', right_on='PERSONA')\n",
    "temp_dataset_1 = pd.merge(temp_dataset_2,df_genero_persona, left_on='PERSONA', right_on='PERSONA')\n",
    "df_dataset_vigentes = pd.merge(temp_dataset_1,df_tiempo_emp_persona, left_on='PERSONA', right_on='PERSONA')\n",
    "vc_dataset_vigentes = df_dataset_vigentes.values.tolist()\n",
    "\n",
    "query_time = datetime.datetime.now() - time_start\n",
    "print(f\"Duración de Consulta (seg): {query_time}\")\n",
    "\n",
    "print(len(df_dataset_vigentes))\n",
    "df_dataset_vigentes.head()"
   ],
   "metadata": {
    "collapsed": false,
    "pycharm": {
     "name": "#%%\n"
    }
   }
  },
  {
   "cell_type": "code",
   "execution_count": 22,
   "outputs": [],
   "source": [
    "#Exporting the dataset to csv\n",
    "df_dataset_vigentes.to_csv('data_to_predict_' + str(datetime.datetime.now()) + '.csv', index = False)"
   ],
   "metadata": {
    "collapsed": false,
    "pycharm": {
     "name": "#%%\n"
    }
   }
  }
 ],
 "metadata": {
  "kernelspec": {
   "display_name": "Python 3",
   "language": "python",
   "name": "python3"
  },
  "language_info": {
   "codemirror_mode": {
    "name": "ipython",
    "version": 2
   },
   "file_extension": ".py",
   "mimetype": "text/x-python",
   "name": "python",
   "nbconvert_exporter": "python",
   "pygments_lexer": "ipython2",
   "version": "2.7.6"
  }
 },
 "nbformat": 4,
 "nbformat_minor": 0
}